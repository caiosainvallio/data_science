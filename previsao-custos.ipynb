{
 "cells": [
  {
   "cell_type": "markdown",
   "metadata": {},
   "source": [
    "# Data Science Aplicada à Área de Saúde"
   ]
  },
  {
   "cell_type": "markdown",
   "metadata": {},
   "source": [
    "Projeto de análise de dados da formação FIAMED da [DSA](https://www.datascienceacademy.com.br/)"
   ]
  },
  {
   "cell_type": "markdown",
   "metadata": {},
   "source": [
    "## Análise Exploratória Para Dados de Previsão de Custos Médicos"
   ]
  },
  {
   "cell_type": "markdown",
   "metadata": {},
   "source": [
    "Modelagem preditiva de custos relacionados à despesas médicas para uma amostra da população de pacientes de um hospital, considerando o hábito de fumar, idade, sexo, IMC e região."
   ]
  },
  {
   "cell_type": "markdown",
   "metadata": {},
   "source": [
    "__Dicionário de Dados:__\n",
    "    \n",
    "- __idade:__ idade do paciente\n",
    "\n",
    "- __sexo:__ sexo do paciente (feminino, masculino)\n",
    "\n",
    "- __IMC:__ índice de massa corporal, usando a razão entre altura e peso (idealmente 18,5 a 24,9)\n",
    "\n",
    "- __filhos:__ número de filhos do paciente\n",
    "\n",
    "- __fumante:__ se fuma ou não\n",
    "\n",
    "- __região:__ a área residencial do paciente.\n",
    "\n",
    "- __custo_medico_anual:__ custo médico anual do paciente em uma clínica medica (__variável alvo__)"
   ]
  },
  {
   "cell_type": "code",
   "execution_count": 1,
   "metadata": {
    "colab": {
     "base_uri": "https://localhost:8080/",
     "height": 204
    },
    "colab_type": "code",
    "id": "cxldK1uNr5aN",
    "outputId": "9a538b34-44e2-4dab-d355-bf032cdfd243"
   },
   "outputs": [],
   "source": [
    "# Importar pacotes\n",
    "import warnings\n",
    "warnings.simplefilter(action='ignore', category=FutureWarning)\n",
    "warnings.filterwarnings(\"ignore\", category=FutureWarning)\n",
    "import numpy as np\n",
    "import pandas as pd\n",
    "import seaborn as sns\n",
    "import matplotlib.pyplot as plt\n",
    "%matplotlib inline"
   ]
  },
  {
   "cell_type": "code",
   "execution_count": 2,
   "metadata": {},
   "outputs": [],
   "source": [
    "# Carregando o dataset\n",
    "dataset = pd.read_csv('dados/custos_seguro.csv')"
   ]
  },
  {
   "cell_type": "code",
   "execution_count": 3,
   "metadata": {},
   "outputs": [
    {
     "data": {
      "text/html": [
       "<div>\n",
       "<style scoped>\n",
       "    .dataframe tbody tr th:only-of-type {\n",
       "        vertical-align: middle;\n",
       "    }\n",
       "\n",
       "    .dataframe tbody tr th {\n",
       "        vertical-align: top;\n",
       "    }\n",
       "\n",
       "    .dataframe thead th {\n",
       "        text-align: right;\n",
       "    }\n",
       "</style>\n",
       "<table border=\"1\" class=\"dataframe\">\n",
       "  <thead>\n",
       "    <tr style=\"text-align: right;\">\n",
       "      <th></th>\n",
       "      <th>idade</th>\n",
       "      <th>sexo</th>\n",
       "      <th>imc</th>\n",
       "      <th>filhos</th>\n",
       "      <th>fumante</th>\n",
       "      <th>regiao</th>\n",
       "      <th>custo_medico_anual</th>\n",
       "    </tr>\n",
       "  </thead>\n",
       "  <tbody>\n",
       "    <tr>\n",
       "      <th>0</th>\n",
       "      <td>19</td>\n",
       "      <td>feminino</td>\n",
       "      <td>27.90</td>\n",
       "      <td>0</td>\n",
       "      <td>yes</td>\n",
       "      <td>sudeste</td>\n",
       "      <td>16884.92400</td>\n",
       "    </tr>\n",
       "    <tr>\n",
       "      <th>1</th>\n",
       "      <td>18</td>\n",
       "      <td>masculino</td>\n",
       "      <td>33.77</td>\n",
       "      <td>1</td>\n",
       "      <td>no</td>\n",
       "      <td>sul</td>\n",
       "      <td>1725.55230</td>\n",
       "    </tr>\n",
       "    <tr>\n",
       "      <th>2</th>\n",
       "      <td>28</td>\n",
       "      <td>masculino</td>\n",
       "      <td>33.00</td>\n",
       "      <td>3</td>\n",
       "      <td>no</td>\n",
       "      <td>sul</td>\n",
       "      <td>4449.46200</td>\n",
       "    </tr>\n",
       "    <tr>\n",
       "      <th>3</th>\n",
       "      <td>33</td>\n",
       "      <td>masculino</td>\n",
       "      <td>NaN</td>\n",
       "      <td>0</td>\n",
       "      <td>no</td>\n",
       "      <td>nordeste</td>\n",
       "      <td>21984.47061</td>\n",
       "    </tr>\n",
       "    <tr>\n",
       "      <th>4</th>\n",
       "      <td>32</td>\n",
       "      <td>masculino</td>\n",
       "      <td>28.88</td>\n",
       "      <td>0</td>\n",
       "      <td>no</td>\n",
       "      <td>nordeste</td>\n",
       "      <td>3866.85520</td>\n",
       "    </tr>\n",
       "  </tbody>\n",
       "</table>\n",
       "</div>"
      ],
      "text/plain": [
       "   idade       sexo    imc  filhos fumante    regiao  custo_medico_anual\n",
       "0     19   feminino  27.90       0     yes   sudeste         16884.92400\n",
       "1     18  masculino  33.77       1      no       sul          1725.55230\n",
       "2     28  masculino  33.00       3      no       sul          4449.46200\n",
       "3     33  masculino    NaN       0      no  nordeste         21984.47061\n",
       "4     32  masculino  28.88       0      no  nordeste          3866.85520"
      ]
     },
     "execution_count": 3,
     "metadata": {},
     "output_type": "execute_result"
    }
   ],
   "source": [
    "# Visualizando alguns registros\n",
    "dataset.head() "
   ]
  },
  {
   "cell_type": "code",
   "execution_count": 4,
   "metadata": {},
   "outputs": [
    {
     "data": {
      "text/plain": [
       "idade                   int64\n",
       "sexo                   object\n",
       "imc                   float64\n",
       "filhos                  int64\n",
       "fumante                object\n",
       "regiao                 object\n",
       "custo_medico_anual    float64\n",
       "dtype: object"
      ]
     },
     "execution_count": 4,
     "metadata": {},
     "output_type": "execute_result"
    }
   ],
   "source": [
    "# Visualizando os tipos de dados\n",
    "dataset.dtypes"
   ]
  },
  {
   "cell_type": "code",
   "execution_count": 5,
   "metadata": {},
   "outputs": [
    {
     "name": "stdout",
     "output_type": "stream",
     "text": [
      "Número de features:\t7\n",
      "Número de observações:\t1338\n"
     ]
    }
   ],
   "source": [
    "# Visualizando o total de linhas por coluna\n",
    "print(f'Número de features:\\t{dataset.shape[1]}')\n",
    "print(f'Número de observações:\\t{dataset.shape[0]}')"
   ]
  },
  {
   "cell_type": "code",
   "execution_count": 6,
   "metadata": {
    "colab": {
     "base_uri": "https://localhost:8080/",
     "height": 34
    },
    "colab_type": "code",
    "id": "ia5e5zBoTAiL",
    "outputId": "4a62b668-034f-47d0-c891-e72ea113fb19"
   },
   "outputs": [
    {
     "data": {
      "text/plain": [
       "idade                 0.0\n",
       "sexo                  0.0\n",
       "imc                   1.0\n",
       "filhos                0.0\n",
       "fumante               0.0\n",
       "regiao                0.0\n",
       "custo_medico_anual    0.0\n",
       "dtype: float64"
      ]
     },
     "execution_count": 6,
     "metadata": {},
     "output_type": "execute_result"
    }
   ],
   "source": [
    "# Verifique se há valores ausentes\n",
    "(dataset.isnull().mean() * 100).round(1)"
   ]
  },
  {
   "cell_type": "code",
   "execution_count": 7,
   "metadata": {},
   "outputs": [
    {
     "data": {
      "image/png": "[encoded data removed]",
      "text/plain": [
       "<Figure size 432x288 with 1 Axes>"
      ]
     },
     "metadata": {
      "needs_background": "light"
     },
     "output_type": "display_data"
    }
   ],
   "source": [
    "# Visualizar a distribuição da variável IMC \n",
    "dataset.imc.plot(kind='density');"
   ]
  },
  {
   "cell_type": "code",
   "execution_count": 8,
   "metadata": {},
   "outputs": [],
   "source": [
    "# Imputar mediana na variável IMC\n",
    "dataset.imc = dataset.imc.fillna(dataset.imc.median())"
   ]
  },
  {
   "cell_type": "code",
   "execution_count": 9,
   "metadata": {},
   "outputs": [
    {
     "name": "stdout",
     "output_type": "stream",
     "text": [
      "Idade máxima:\t64\n",
      "Idade mínima:\t18\n"
     ]
    },
    {
     "data": {
      "image/png": "[encoded data removed]",
      "text/plain": [
       "<Figure size 432x288 with 1 Axes>"
      ]
     },
     "metadata": {
      "needs_background": "light"
     },
     "output_type": "display_data"
    }
   ],
   "source": [
    "# Verifique se há valores outliers na variável idade\n",
    "print(f'Idade máxima:\\t{dataset.idade.max()}')\n",
    "print(f'Idade mínima:\\t{dataset.idade.min()}')\n",
    "dataset.idade.plot(kind='box');"
   ]
  },
  {
   "cell_type": "code",
   "execution_count": 10,
   "metadata": {},
   "outputs": [
    {
     "name": "stdout",
     "output_type": "stream",
     "text": [
      "IMC máximo:\t53.13\n",
      "IMC mínimo:\t15.96\n"
     ]
    },
    {
     "data": {
      "image/png": "[encoded data removed]",
      "text/plain": [
       "<Figure size 432x288 with 1 Axes>"
      ]
     },
     "metadata": {
      "needs_background": "light"
     },
     "output_type": "display_data"
    }
   ],
   "source": [
    "# Verifique se há valores outliers na variável imc\n",
    "print(f'IMC máximo:\\t{dataset.imc.max()}')\n",
    "print(f'IMC mínimo:\\t{dataset.imc.min()}')\n",
    "dataset.imc.plot(kind='box');"
   ]
  },
  {
   "cell_type": "code",
   "execution_count": 11,
   "metadata": {},
   "outputs": [
    {
     "name": "stdout",
     "output_type": "stream",
     "text": [
      "Número máximo de filhos:\t5\n",
      "Número mínimo de filhos:\t0\n"
     ]
    }
   ],
   "source": [
    "# Verifique se há valores outliers na variável filhos\n",
    "print(f'Número máximo de filhos:\\t{dataset.filhos.max()}')\n",
    "print(f'Número mínimo de filhos:\\t{dataset.filhos.min()}')"
   ]
  },
  {
   "cell_type": "markdown",
   "metadata": {},
   "source": [
    "Convertendo as variáveis para o tipo numérico inteiro a fim de calcular as correlações"
   ]
  },
  {
   "cell_type": "code",
   "execution_count": 12,
   "metadata": {},
   "outputs": [
    {
     "data": {
      "text/plain": [
       "masculino    676\n",
       "feminino     662\n",
       "Name: sexo, dtype: int64"
      ]
     },
     "execution_count": 12,
     "metadata": {},
     "output_type": "execute_result"
    }
   ],
   "source": [
    "# Visualizar a variável sexo\n",
    "dataset['sexo'].value_counts()"
   ]
  },
  {
   "cell_type": "code",
   "execution_count": 13,
   "metadata": {},
   "outputs": [],
   "source": [
    "# Dados sexo dummie\n",
    "dataset['sexo'] = dataset.sexo.replace('feminino', 1)\n",
    "dataset['sexo'] = dataset.sexo.replace('masculino', 0)"
   ]
  },
  {
   "cell_type": "code",
   "execution_count": 14,
   "metadata": {},
   "outputs": [
    {
     "data": {
      "text/plain": [
       "no     1064\n",
       "yes     274\n",
       "Name: fumante, dtype: int64"
      ]
     },
     "execution_count": 14,
     "metadata": {},
     "output_type": "execute_result"
    }
   ],
   "source": [
    "# Visualizar a variável fumante\n",
    "dataset['fumante'].value_counts()"
   ]
  },
  {
   "cell_type": "code",
   "execution_count": 15,
   "metadata": {},
   "outputs": [],
   "source": [
    "# Dados fumante dummie\n",
    "dataset['fumante'] = dataset.fumante.replace('yes', 1)\n",
    "dataset['fumante'] = dataset.fumante.replace('no', 0)"
   ]
  },
  {
   "cell_type": "code",
   "execution_count": 16,
   "metadata": {},
   "outputs": [
    {
     "data": {
      "text/plain": [
       "sul         364\n",
       "sudeste     325\n",
       "nordeste    325\n",
       "norte       324\n",
       "Name: regiao, dtype: int64"
      ]
     },
     "execution_count": 16,
     "metadata": {},
     "output_type": "execute_result"
    }
   ],
   "source": [
    "# Visualizar a variável regiao\n",
    "dataset['regiao'].value_counts()"
   ]
  },
  {
   "cell_type": "code",
   "execution_count": 17,
   "metadata": {},
   "outputs": [],
   "source": [
    "# Dados região dummie\n",
    "dataset = dataset.join(pd.get_dummies(dataset.regiao, prefix='regiao'))\n",
    "dataset = dataset.drop(columns='regiao')"
   ]
  },
  {
   "cell_type": "code",
   "execution_count": 18,
   "metadata": {},
   "outputs": [
    {
     "data": {
      "text/html": [
       "<div>\n",
       "<style scoped>\n",
       "    .dataframe tbody tr th:only-of-type {\n",
       "        vertical-align: middle;\n",
       "    }\n",
       "\n",
       "    .dataframe tbody tr th {\n",
       "        vertical-align: top;\n",
       "    }\n",
       "\n",
       "    .dataframe thead th {\n",
       "        text-align: right;\n",
       "    }\n",
       "</style>\n",
       "<table border=\"1\" class=\"dataframe\">\n",
       "  <thead>\n",
       "    <tr style=\"text-align: right;\">\n",
       "      <th></th>\n",
       "      <th>idade</th>\n",
       "      <th>sexo</th>\n",
       "      <th>imc</th>\n",
       "      <th>filhos</th>\n",
       "      <th>fumante</th>\n",
       "      <th>custo_medico_anual</th>\n",
       "      <th>regiao_nordeste</th>\n",
       "      <th>regiao_norte</th>\n",
       "      <th>regiao_sudeste</th>\n",
       "      <th>regiao_sul</th>\n",
       "    </tr>\n",
       "  </thead>\n",
       "  <tbody>\n",
       "    <tr>\n",
       "      <th>0</th>\n",
       "      <td>19</td>\n",
       "      <td>1</td>\n",
       "      <td>27.90</td>\n",
       "      <td>0</td>\n",
       "      <td>1</td>\n",
       "      <td>16884.92400</td>\n",
       "      <td>0</td>\n",
       "      <td>0</td>\n",
       "      <td>1</td>\n",
       "      <td>0</td>\n",
       "    </tr>\n",
       "    <tr>\n",
       "      <th>1</th>\n",
       "      <td>18</td>\n",
       "      <td>0</td>\n",
       "      <td>33.77</td>\n",
       "      <td>1</td>\n",
       "      <td>0</td>\n",
       "      <td>1725.55230</td>\n",
       "      <td>0</td>\n",
       "      <td>0</td>\n",
       "      <td>0</td>\n",
       "      <td>1</td>\n",
       "    </tr>\n",
       "    <tr>\n",
       "      <th>2</th>\n",
       "      <td>28</td>\n",
       "      <td>0</td>\n",
       "      <td>33.00</td>\n",
       "      <td>3</td>\n",
       "      <td>0</td>\n",
       "      <td>4449.46200</td>\n",
       "      <td>0</td>\n",
       "      <td>0</td>\n",
       "      <td>0</td>\n",
       "      <td>1</td>\n",
       "    </tr>\n",
       "    <tr>\n",
       "      <th>3</th>\n",
       "      <td>33</td>\n",
       "      <td>0</td>\n",
       "      <td>30.40</td>\n",
       "      <td>0</td>\n",
       "      <td>0</td>\n",
       "      <td>21984.47061</td>\n",
       "      <td>1</td>\n",
       "      <td>0</td>\n",
       "      <td>0</td>\n",
       "      <td>0</td>\n",
       "    </tr>\n",
       "    <tr>\n",
       "      <th>4</th>\n",
       "      <td>32</td>\n",
       "      <td>0</td>\n",
       "      <td>28.88</td>\n",
       "      <td>0</td>\n",
       "      <td>0</td>\n",
       "      <td>3866.85520</td>\n",
       "      <td>1</td>\n",
       "      <td>0</td>\n",
       "      <td>0</td>\n",
       "      <td>0</td>\n",
       "    </tr>\n",
       "  </tbody>\n",
       "</table>\n",
       "</div>"
      ],
      "text/plain": [
       "   idade  sexo    imc  filhos  fumante  custo_medico_anual  regiao_nordeste  \\\n",
       "0     19     1  27.90       0        1         16884.92400                0   \n",
       "1     18     0  33.77       1        0          1725.55230                0   \n",
       "2     28     0  33.00       3        0          4449.46200                0   \n",
       "3     33     0  30.40       0        0         21984.47061                1   \n",
       "4     32     0  28.88       0        0          3866.85520                1   \n",
       "\n",
       "   regiao_norte  regiao_sudeste  regiao_sul  \n",
       "0             0               1           0  \n",
       "1             0               0           1  \n",
       "2             0               0           1  \n",
       "3             0               0           0  \n",
       "4             0               0           0  "
      ]
     },
     "execution_count": 18,
     "metadata": {},
     "output_type": "execute_result"
    }
   ],
   "source": [
    "dataset.head()"
   ]
  },
  {
   "cell_type": "code",
   "execution_count": 19,
   "metadata": {},
   "outputs": [
    {
     "data": {
      "text/plain": [
       "idade                   int64\n",
       "sexo                    int64\n",
       "imc                   float64\n",
       "filhos                  int64\n",
       "fumante                 int64\n",
       "custo_medico_anual    float64\n",
       "regiao_nordeste         uint8\n",
       "regiao_norte            uint8\n",
       "regiao_sudeste          uint8\n",
       "regiao_sul              uint8\n",
       "dtype: object"
      ]
     },
     "execution_count": 19,
     "metadata": {},
     "output_type": "execute_result"
    }
   ],
   "source": [
    "# Visualizando os tipos de dados\n",
    "dataset.dtypes"
   ]
  },
  {
   "cell_type": "code",
   "execution_count": 20,
   "metadata": {},
   "outputs": [
    {
     "data": {
      "text/html": [
       "<div>\n",
       "<style scoped>\n",
       "    .dataframe tbody tr th:only-of-type {\n",
       "        vertical-align: middle;\n",
       "    }\n",
       "\n",
       "    .dataframe tbody tr th {\n",
       "        vertical-align: top;\n",
       "    }\n",
       "\n",
       "    .dataframe thead th {\n",
       "        text-align: right;\n",
       "    }\n",
       "</style>\n",
       "<table border=\"1\" class=\"dataframe\">\n",
       "  <thead>\n",
       "    <tr style=\"text-align: right;\">\n",
       "      <th></th>\n",
       "      <th>idade</th>\n",
       "      <th>sexo</th>\n",
       "      <th>imc</th>\n",
       "      <th>filhos</th>\n",
       "      <th>fumante</th>\n",
       "      <th>custo_medico_anual</th>\n",
       "      <th>regiao_nordeste</th>\n",
       "      <th>regiao_norte</th>\n",
       "      <th>regiao_sudeste</th>\n",
       "      <th>regiao_sul</th>\n",
       "    </tr>\n",
       "  </thead>\n",
       "  <tbody>\n",
       "    <tr>\n",
       "      <th>count</th>\n",
       "      <td>1338.000000</td>\n",
       "      <td>1338.000000</td>\n",
       "      <td>1338.000000</td>\n",
       "      <td>1338.000000</td>\n",
       "      <td>1338.000000</td>\n",
       "      <td>1338.000000</td>\n",
       "      <td>1338.000000</td>\n",
       "      <td>1338.000000</td>\n",
       "      <td>1338.000000</td>\n",
       "      <td>1338.000000</td>\n",
       "    </tr>\n",
       "    <tr>\n",
       "      <th>mean</th>\n",
       "      <td>39.207025</td>\n",
       "      <td>0.494768</td>\n",
       "      <td>30.690172</td>\n",
       "      <td>1.094918</td>\n",
       "      <td>0.204783</td>\n",
       "      <td>13270.422265</td>\n",
       "      <td>0.242900</td>\n",
       "      <td>0.242152</td>\n",
       "      <td>0.242900</td>\n",
       "      <td>0.272048</td>\n",
       "    </tr>\n",
       "    <tr>\n",
       "      <th>std</th>\n",
       "      <td>14.049960</td>\n",
       "      <td>0.500160</td>\n",
       "      <td>6.076117</td>\n",
       "      <td>1.205493</td>\n",
       "      <td>0.403694</td>\n",
       "      <td>12110.011237</td>\n",
       "      <td>0.428995</td>\n",
       "      <td>0.428546</td>\n",
       "      <td>0.428995</td>\n",
       "      <td>0.445181</td>\n",
       "    </tr>\n",
       "    <tr>\n",
       "      <th>min</th>\n",
       "      <td>18.000000</td>\n",
       "      <td>0.000000</td>\n",
       "      <td>15.960000</td>\n",
       "      <td>0.000000</td>\n",
       "      <td>0.000000</td>\n",
       "      <td>1121.873900</td>\n",
       "      <td>0.000000</td>\n",
       "      <td>0.000000</td>\n",
       "      <td>0.000000</td>\n",
       "      <td>0.000000</td>\n",
       "    </tr>\n",
       "    <tr>\n",
       "      <th>25%</th>\n",
       "      <td>27.000000</td>\n",
       "      <td>0.000000</td>\n",
       "      <td>26.336250</td>\n",
       "      <td>0.000000</td>\n",
       "      <td>0.000000</td>\n",
       "      <td>4740.287150</td>\n",
       "      <td>0.000000</td>\n",
       "      <td>0.000000</td>\n",
       "      <td>0.000000</td>\n",
       "      <td>0.000000</td>\n",
       "    </tr>\n",
       "    <tr>\n",
       "      <th>50%</th>\n",
       "      <td>39.000000</td>\n",
       "      <td>0.000000</td>\n",
       "      <td>30.400000</td>\n",
       "      <td>1.000000</td>\n",
       "      <td>0.000000</td>\n",
       "      <td>9382.033000</td>\n",
       "      <td>0.000000</td>\n",
       "      <td>0.000000</td>\n",
       "      <td>0.000000</td>\n",
       "      <td>0.000000</td>\n",
       "    </tr>\n",
       "    <tr>\n",
       "      <th>75%</th>\n",
       "      <td>51.000000</td>\n",
       "      <td>1.000000</td>\n",
       "      <td>34.656250</td>\n",
       "      <td>2.000000</td>\n",
       "      <td>0.000000</td>\n",
       "      <td>16639.912515</td>\n",
       "      <td>0.000000</td>\n",
       "      <td>0.000000</td>\n",
       "      <td>0.000000</td>\n",
       "      <td>1.000000</td>\n",
       "    </tr>\n",
       "    <tr>\n",
       "      <th>max</th>\n",
       "      <td>64.000000</td>\n",
       "      <td>1.000000</td>\n",
       "      <td>53.130000</td>\n",
       "      <td>5.000000</td>\n",
       "      <td>1.000000</td>\n",
       "      <td>63770.428010</td>\n",
       "      <td>1.000000</td>\n",
       "      <td>1.000000</td>\n",
       "      <td>1.000000</td>\n",
       "      <td>1.000000</td>\n",
       "    </tr>\n",
       "  </tbody>\n",
       "</table>\n",
       "</div>"
      ],
      "text/plain": [
       "             idade         sexo          imc       filhos      fumante  \\\n",
       "count  1338.000000  1338.000000  1338.000000  1338.000000  1338.000000   \n",
       "mean     39.207025     0.494768    30.690172     1.094918     0.204783   \n",
       "std      14.049960     0.500160     6.076117     1.205493     0.403694   \n",
       "min      18.000000     0.000000    15.960000     0.000000     0.000000   \n",
       "25%      27.000000     0.000000    26.336250     0.000000     0.000000   \n",
       "50%      39.000000     0.000000    30.400000     1.000000     0.000000   \n",
       "75%      51.000000     1.000000    34.656250     2.000000     0.000000   \n",
       "max      64.000000     1.000000    53.130000     5.000000     1.000000   \n",
       "\n",
       "       custo_medico_anual  regiao_nordeste  regiao_norte  regiao_sudeste  \\\n",
       "count         1338.000000      1338.000000   1338.000000     1338.000000   \n",
       "mean         13270.422265         0.242900      0.242152        0.242900   \n",
       "std          12110.011237         0.428995      0.428546        0.428995   \n",
       "min           1121.873900         0.000000      0.000000        0.000000   \n",
       "25%           4740.287150         0.000000      0.000000        0.000000   \n",
       "50%           9382.033000         0.000000      0.000000        0.000000   \n",
       "75%          16639.912515         0.000000      0.000000        0.000000   \n",
       "max          63770.428010         1.000000      1.000000        1.000000   \n",
       "\n",
       "        regiao_sul  \n",
       "count  1338.000000  \n",
       "mean      0.272048  \n",
       "std       0.445181  \n",
       "min       0.000000  \n",
       "25%       0.000000  \n",
       "50%       0.000000  \n",
       "75%       1.000000  \n",
       "max       1.000000  "
      ]
     },
     "execution_count": 20,
     "metadata": {},
     "output_type": "execute_result"
    }
   ],
   "source": [
    "dataset.describe()"
   ]
  },
  {
   "cell_type": "markdown",
   "metadata": {},
   "source": [
    "## Quais variáveis tem maior correlação com o custo_medico_anual?"
   ]
  },
  {
   "cell_type": "code",
   "execution_count": 21,
   "metadata": {
    "colab": {
     "base_uri": "https://localhost:8080/",
     "height": 695
    },
    "colab_type": "code",
    "id": "jbJDFiJ2T9h5",
    "outputId": "ad24afe0-f3cc-46b2-fb64-bbd832300d68",
    "scrolled": false
   },
   "outputs": [
    {
     "data": {
      "image/png": "[encoded data removed]",
      "text/plain": [
       "<Figure size 576x576 with 2 Axes>"
      ]
     },
     "metadata": {
      "needs_background": "light"
     },
     "output_type": "display_data"
    }
   ],
   "source": [
    "from seaborn import heatmap\n",
    "\n",
    "fig, ax = plt.subplots(figsize=(8,8))\n",
    "ax = heatmap(dataset[['idade', 'imc', 'custo_medico_anual']].corr(), fmt='.2f', annot=True, ax=ax)\n",
    "plt.tight_layout()"
   ]
  },
  {
   "cell_type": "markdown",
   "metadata": {},
   "source": [
    "Tanto a idade, quanto o IMC tem uma correlação positiva baixa."
   ]
  },
  {
   "cell_type": "markdown",
   "metadata": {},
   "source": [
    "## Entre fumantes e não fumantes, qual grupo tem maior custo_medico_anual?"
   ]
  },
  {
   "cell_type": "code",
   "execution_count": 22,
   "metadata": {},
   "outputs": [
    {
     "data": {
      "image/png": "[encoded data removed]",
      "text/plain": [
       "<Figure size 432x288 with 1 Axes>"
      ]
     },
     "metadata": {
      "needs_background": "light"
     },
     "output_type": "display_data"
    }
   ],
   "source": [
    "grupo_fumante = dataset.groupby(dataset.fumante)\n",
    "grupo_fumante['custo_medico_anual'].plot(kind='density')\n",
    "plt.legend(['Não fumante', 'Fumante'])\n",
    "plt.tight_layout()"
   ]
  },
  {
   "cell_type": "code",
   "execution_count": 23,
   "metadata": {},
   "outputs": [
    {
     "data": {
      "image/png": "[encoded data removed]",
      "text/plain": [
       "<Figure size 432x288 with 1 Axes>"
      ]
     },
     "metadata": {
      "needs_background": "light"
     },
     "output_type": "display_data"
    }
   ],
   "source": [
    "sns.boxplot(x='fumante', y='custo_medico_anual', data=dataset)\n",
    "plt.tight_layout()"
   ]
  },
  {
   "cell_type": "code",
   "execution_count": 24,
   "metadata": {},
   "outputs": [
    {
     "data": {
      "image/png": "[encoded data removed]",
      "text/plain": [
       "<Figure size 720x360 with 2 Axes>"
      ]
     },
     "metadata": {
      "needs_background": "light"
     },
     "output_type": "display_data"
    }
   ],
   "source": [
    "grafico = sns.FacetGrid(dataset, col = \"fumante\", height = 5, sharey = True, sharex = True)\n",
    "grafico.map(sns.distplot, \"custo_medico_anual\", color = 'b')\n",
    "grafico.set_axis_labels(\"custo_medico_anual\", \"proporção\")\n",
    "plt.tight_layout()"
   ]
  },
  {
   "cell_type": "markdown",
   "metadata": {},
   "source": [
    "## Qual faixa etária apresenta maior custo_medico_anual?"
   ]
  },
  {
   "cell_type": "code",
   "execution_count": 25,
   "metadata": {},
   "outputs": [
    {
     "data": {
      "image/png": "[encoded data removed]",
      "text/plain": [
       "<Figure size 432x288 with 1 Axes>"
      ]
     },
     "metadata": {
      "needs_background": "light"
     },
     "output_type": "display_data"
    }
   ],
   "source": [
    "plt.title(\"Distribuição da Idade\")\n",
    "ax = sns.distplot(dataset[\"idade\"])\n",
    "plt.tight_layout()"
   ]
  },
  {
   "cell_type": "code",
   "execution_count": 26,
   "metadata": {},
   "outputs": [],
   "source": [
    "range_total = dataset.idade.max() - dataset.idade.min()"
   ]
  },
  {
   "cell_type": "code",
   "execution_count": 27,
   "metadata": {},
   "outputs": [],
   "source": [
    "dataset['idade_cat'] = np.where(dataset.idade < dataset.idade.min() + range_total/3, 'jovem', \n",
    "         np.where(dataset.idade < dataset.idade.min() + 2*range_total/3, 'Adulto', 'Senior'))"
   ]
  },
  {
   "cell_type": "code",
   "execution_count": 28,
   "metadata": {
    "scrolled": true
   },
   "outputs": [
    {
     "data": {
      "image/png": "[encoded data removed]",
      "text/plain": [
       "<Figure size 432x288 with 1 Axes>"
      ]
     },
     "metadata": {
      "needs_background": "light"
     },
     "output_type": "display_data"
    }
   ],
   "source": [
    "sns.boxplot(x='idade_cat', y='custo_medico_anual', data=dataset)\n",
    "plt.tight_layout()"
   ]
  },
  {
   "cell_type": "code",
   "execution_count": 29,
   "metadata": {},
   "outputs": [
    {
     "data": {
      "text/plain": [
       "idade_cat\n",
       "Senior    17549.57\n",
       "Adulto    13679.49\n",
       "jovem      9576.86\n",
       "Name: custo_medico_anual, dtype: float64"
      ]
     },
     "execution_count": 29,
     "metadata": {},
     "output_type": "execute_result"
    }
   ],
   "source": [
    "grupo_idade = dataset.groupby(dataset.idade_cat)\n",
    "grupo_idade['custo_medico_anual'].mean().sort_values(ascending=False).round(2)"
   ]
  },
  {
   "cell_type": "markdown",
   "metadata": {},
   "source": [
    "O assegurados na faixa etária sênior tem um gasto hospitalar maior (média de $17549.57)."
   ]
  },
  {
   "cell_type": "markdown",
   "metadata": {},
   "source": [
    "## A proporção de fumantes por sexo é semelhante ou precisamos balancear esses dados?"
   ]
  },
  {
   "cell_type": "code",
   "execution_count": 37,
   "metadata": {},
   "outputs": [
    {
     "data": {
      "image/png": "[encoded data removed]",
      "text/plain": [
       "<Figure size 402.375x360 with 1 Axes>"
      ]
     },
     "metadata": {
      "needs_background": "light"
     },
     "output_type": "display_data"
    }
   ],
   "source": [
    "sns.catplot(x='fumante', kind='count', hue='sexo', data=dataset)\n",
    "plt.tight_layout()"
   ]
  },
  {
   "cell_type": "markdown",
   "metadata": {},
   "source": [
    "Entre o sexo, a variável fumante é equilibrada."
   ]
  },
  {
   "cell_type": "markdown",
   "metadata": {},
   "source": [
    "## À medida que a idade do paciente aumenta o que acontece com o custo_medico_anual? Há diferença entre fumantes e não fumantes?"
   ]
  },
  {
   "cell_type": "code",
   "execution_count": 38,
   "metadata": {
    "colab": {
     "base_uri": "https://localhost:8080/",
     "height": 543
    },
    "colab_type": "code",
    "id": "qzu7PZrYfbMU",
    "outputId": "67258c7e-882f-489b-9a99-583d34a38d7d"
   },
   "outputs": [
    {
     "data": {
      "image/png": "[encoded data removed]",
      "text/plain": [
       "<Figure size 410.125x360 with 1 Axes>"
      ]
     },
     "metadata": {
      "needs_background": "light"
     },
     "output_type": "display_data"
    }
   ],
   "source": [
    "sns.lmplot(x=\"idade\", y=\"custo_medico_anual\", hue=\"fumante\", data=dataset)\n",
    "plt.tight_layout()"
   ]
  },
  {
   "cell_type": "markdown",
   "metadata": {
    "colab_type": "text",
    "id": "zvnbl_2KzN2C"
   },
   "source": [
    "## Construção do Modelo Preditivo"
   ]
  },
  {
   "cell_type": "markdown",
   "metadata": {},
   "source": [
    "### Preparação dos dados"
   ]
  },
  {
   "cell_type": "markdown",
   "metadata": {},
   "source": [
    "Como a variável target é umvalor numérico, o modelo usado será Regressão Linear."
   ]
  },
  {
   "cell_type": "code",
   "execution_count": 41,
   "metadata": {},
   "outputs": [
    {
     "data": {
      "text/html": [
       "<div>\n",
       "<style scoped>\n",
       "    .dataframe tbody tr th:only-of-type {\n",
       "        vertical-align: middle;\n",
       "    }\n",
       "\n",
       "    .dataframe tbody tr th {\n",
       "        vertical-align: top;\n",
       "    }\n",
       "\n",
       "    .dataframe thead th {\n",
       "        text-align: right;\n",
       "    }\n",
       "</style>\n",
       "<table border=\"1\" class=\"dataframe\">\n",
       "  <thead>\n",
       "    <tr style=\"text-align: right;\">\n",
       "      <th></th>\n",
       "      <th>idade</th>\n",
       "      <th>sexo</th>\n",
       "      <th>imc</th>\n",
       "      <th>filhos</th>\n",
       "      <th>fumante</th>\n",
       "      <th>custo_medico_anual</th>\n",
       "      <th>regiao_nordeste</th>\n",
       "      <th>regiao_norte</th>\n",
       "      <th>regiao_sudeste</th>\n",
       "      <th>regiao_sul</th>\n",
       "    </tr>\n",
       "  </thead>\n",
       "  <tbody>\n",
       "    <tr>\n",
       "      <th>0</th>\n",
       "      <td>19</td>\n",
       "      <td>1</td>\n",
       "      <td>27.90</td>\n",
       "      <td>0</td>\n",
       "      <td>1</td>\n",
       "      <td>16884.92400</td>\n",
       "      <td>0</td>\n",
       "      <td>0</td>\n",
       "      <td>1</td>\n",
       "      <td>0</td>\n",
       "    </tr>\n",
       "    <tr>\n",
       "      <th>1</th>\n",
       "      <td>18</td>\n",
       "      <td>0</td>\n",
       "      <td>33.77</td>\n",
       "      <td>1</td>\n",
       "      <td>0</td>\n",
       "      <td>1725.55230</td>\n",
       "      <td>0</td>\n",
       "      <td>0</td>\n",
       "      <td>0</td>\n",
       "      <td>1</td>\n",
       "    </tr>\n",
       "    <tr>\n",
       "      <th>2</th>\n",
       "      <td>28</td>\n",
       "      <td>0</td>\n",
       "      <td>33.00</td>\n",
       "      <td>3</td>\n",
       "      <td>0</td>\n",
       "      <td>4449.46200</td>\n",
       "      <td>0</td>\n",
       "      <td>0</td>\n",
       "      <td>0</td>\n",
       "      <td>1</td>\n",
       "    </tr>\n",
       "    <tr>\n",
       "      <th>3</th>\n",
       "      <td>33</td>\n",
       "      <td>0</td>\n",
       "      <td>30.40</td>\n",
       "      <td>0</td>\n",
       "      <td>0</td>\n",
       "      <td>21984.47061</td>\n",
       "      <td>1</td>\n",
       "      <td>0</td>\n",
       "      <td>0</td>\n",
       "      <td>0</td>\n",
       "    </tr>\n",
       "    <tr>\n",
       "      <th>4</th>\n",
       "      <td>32</td>\n",
       "      <td>0</td>\n",
       "      <td>28.88</td>\n",
       "      <td>0</td>\n",
       "      <td>0</td>\n",
       "      <td>3866.85520</td>\n",
       "      <td>1</td>\n",
       "      <td>0</td>\n",
       "      <td>0</td>\n",
       "      <td>0</td>\n",
       "    </tr>\n",
       "  </tbody>\n",
       "</table>\n",
       "</div>"
      ],
      "text/plain": [
       "   idade  sexo    imc  filhos  fumante  custo_medico_anual  regiao_nordeste  \\\n",
       "0     19     1  27.90       0        1         16884.92400                0   \n",
       "1     18     0  33.77       1        0          1725.55230                0   \n",
       "2     28     0  33.00       3        0          4449.46200                0   \n",
       "3     33     0  30.40       0        0         21984.47061                1   \n",
       "4     32     0  28.88       0        0          3866.85520                1   \n",
       "\n",
       "   regiao_norte  regiao_sudeste  regiao_sul  \n",
       "0             0               1           0  \n",
       "1             0               0           1  \n",
       "2             0               0           1  \n",
       "3             0               0           0  \n",
       "4             0               0           0  "
      ]
     },
     "execution_count": 41,
     "metadata": {},
     "output_type": "execute_result"
    }
   ],
   "source": [
    "# Visualizar o dataset\n",
    "dataset = dataset.drop(columns='idade_cat')\n",
    "dataset.head()"
   ]
  },
  {
   "cell_type": "code",
   "execution_count": 43,
   "metadata": {},
   "outputs": [],
   "source": [
    "# Divide os dados em X e y\n",
    "X = dataset.drop(columns='custo_medico_anual')\n",
    "y = dataset['custo_medico_anual']"
   ]
  },
  {
   "cell_type": "code",
   "execution_count": 48,
   "metadata": {},
   "outputs": [],
   "source": [
    "# Divide os dados em treino e teste\n",
    "## Importa a função\n",
    "from sklearn.model_selection import train_test_split\n",
    "\n",
    "## Aplica a função com 10% dos dados para teste\n",
    "X_train, X_test, y_train, y_test = train_test_split(X, y, test_size=0.1, random_state=42)"
   ]
  },
  {
   "cell_type": "code",
   "execution_count": 70,
   "metadata": {},
   "outputs": [
    {
     "name": "stdout",
     "output_type": "stream",
     "text": [
      "MSE (Mean Squared Error)\n",
      "\n",
      "MSE nos dados de treino:\t36918440.505\n",
      "MSE nos dados de teste:\t\t32585366.280\n",
      "\n",
      " ------------------------------------------------------------ \n",
      "\n",
      "RMSE (Root Mean Squared Error)\n",
      "\n",
      "RMSE nos dados de treino:\t6076.055\n",
      "RMSE nos dados de teste:\t5708.359\n",
      "\n",
      " ------------------------------------------------------------ \n",
      "\n",
      "Coeficiente R2\n",
      "\n",
      "R2 nos dados de treino:\t\t0.750\n",
      "R2 nos dados de teste:\t\t0.764\n",
      "\n",
      " ------------------------------------------------------------ \n",
      "\n"
     ]
    }
   ],
   "source": [
    "# Cria a primeira versão do modelo de regressão linear\n",
    "## Imports\n",
    "from sklearn.linear_model import LinearRegression\n",
    "from sklearn.metrics import r2_score, mean_squared_error\n",
    "\n",
    "## Cria o modelo e treina com os dados de teste\n",
    "lr = LinearRegression().fit(X_train, y_train)\n",
    "\n",
    "## Previsões  nos dados de treino\n",
    "lr_train_pred = lr.predict(X_train)\n",
    "\n",
    "## Previsões  nos dados de teste\n",
    "lr_test_pred = lr.predict(X_test)\n",
    "\n",
    "## Calcula as métricas\n",
    "lr_train_mse = mean_squared_error(y_train, lr_train_pred)\n",
    "lr_test_mse = mean_squared_error(y_test, lr_test_pred)\n",
    "\n",
    "## Imprime o MSE (Mean Squared Error)\n",
    "print('MSE (Mean Squared Error)\\n')\n",
    "print(f'MSE nos dados de treino:\\t{lr_train_mse:.3f}')\n",
    "print(f'MSE nos dados de teste:\\t\\t{lr_test_mse:.3f}')\n",
    "print('\\n', '---'*20, '\\n')\n",
    "\n",
    "# Imprime o RMSE (Root Mean Squared Error)\n",
    "print('RMSE (Root Mean Squared Error)\\n')\n",
    "print(f'RMSE nos dados de treino:\\t{lr_train_mse**(1/2):.3f}')\n",
    "print(f'RMSE nos dados de teste:\\t{lr_test_mse**(1/2):.3f}')\n",
    "print('\\n', '---'*20, '\\n')\n",
    "\n",
    "## Coeficiente R2\n",
    "print('Coeficiente R2\\n')\n",
    "print(f'R2 nos dados de treino:\\t\\t{r2_score(y_train, lr_train_pred):.3f}')\n",
    "print(f'R2 nos dados de teste:\\t\\t{r2_score(y_test, lr_test_pred):.3f}')\n",
    "print('\\n', '---'*20, '\\n')"
   ]
  },
  {
   "cell_type": "code",
   "execution_count": 69,
   "metadata": {},
   "outputs": [
    {
     "name": "stdout",
     "output_type": "stream",
     "text": [
      "MSE (Mean Squared Error)\n",
      "\n",
      "MSE nos dados de treino:\t3585888.965\n",
      "MSE nos dados de teste:\t\t26578122.550\n",
      "\n",
      " ------------------------------------------------------------ \n",
      "\n",
      "RMSE (Root Mean Squared Error)\n",
      "\n",
      "RMSE nos dados de treino:\t1893.644\n",
      "RMSE nos dados de teste:\t5155.397\n",
      "\n",
      " ------------------------------------------------------------ \n",
      "\n",
      "Coeficiente R2\n",
      "\n",
      "R2 nos dados de treino:\t\t0.976\n",
      "R2 nos dados de teste:\t\t0.807\n",
      "\n",
      " ------------------------------------------------------------ \n",
      "\n"
     ]
    }
   ],
   "source": [
    "# Testando outro modelo (Método Ensemble)\n",
    "## Imports\n",
    "from sklearn.ensemble import RandomForestRegressor\n",
    "\n",
    "## Cria o modelo e treina com os dados de teste\n",
    "rfr = RandomForestRegressor(n_estimators=50).fit(X_train, y_train)\n",
    "\n",
    "## Previsões  nos dados de treino\n",
    "rfr_train_pred = rfr.predict(X_train)\n",
    "\n",
    "## Previsões  nos dados de teste\n",
    "rfr_test_pred = rfr.predict(X_test)\n",
    "\n",
    "## Calcula as métricas\n",
    "rfr_train_mse = mean_squared_error(y_train, rfr_train_pred)\n",
    "rfr_test_mse = mean_squared_error(y_test, rfr_test_pred)\n",
    "\n",
    "## Imprime o MSE (Mean Squared Error)\n",
    "print('MSE (Mean Squared Error)\\n')\n",
    "print(f'MSE nos dados de treino:\\t{rfr_train_mse:.3f}')\n",
    "print(f'MSE nos dados de teste:\\t\\t{rfr_test_mse:.3f}')\n",
    "print('\\n', '---'*20, '\\n')\n",
    "\n",
    "# Imprime o RMSE (Root Mean Squared Error)\n",
    "print('RMSE (Root Mean Squared Error)\\n')\n",
    "print(f'RMSE nos dados de treino:\\t{rfr_train_mse**(1/2):.3f}')\n",
    "print(f'RMSE nos dados de teste:\\t{rfr_test_mse**(1/2):.3f}')\n",
    "print('\\n', '---'*20, '\\n')\n",
    "\n",
    "## Coeficiente R2\n",
    "print('Coeficiente R2\\n')\n",
    "print(f'R2 nos dados de treino:\\t\\t{r2_score(y_train, rfr_train_pred):.3f}')\n",
    "print(f'R2 nos dados de teste:\\t\\t{r2_score(y_test, rfr_test_pred):.3f}')\n",
    "print('\\n', '---'*20, '\\n')"
   ]
  },
  {
   "cell_type": "markdown",
   "metadata": {},
   "source": [
    "---"
   ]
  }
 ],
 "metadata": {
  "colab": {
   "collapsed_sections": [],
   "include_colab_link": true,
   "name": "HealthCare.ipynb",
   "provenance": [],
   "version": "0.3.2"
  },
  "kernelspec": {
   "display_name": "Python 3",
   "language": "python",
   "name": "python3"
  },
  "language_info": {
   "codemirror_mode": {
    "name": "ipython",
    "version": 3
   },
   "file_extension": ".py",
   "mimetype": "text/x-python",
   "name": "python",
   "nbconvert_exporter": "python",
   "pygments_lexer": "ipython3",
   "version": "3.7.6"
  }
 },
 "nbformat": 4,
 "nbformat_minor": 1
}
