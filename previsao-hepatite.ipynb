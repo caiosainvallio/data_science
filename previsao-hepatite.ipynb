{
 "cells": [
  {
   "cell_type": "markdown",
   "metadata": {},
   "source": [
    "# Data Science Aplicada à Área de Saúde"
   ]
  },
  {
   "cell_type": "markdown",
   "metadata": {},
   "source": [
    "Projeto de análise de dados da formação FIAMED da [DSA](https://www.datascienceacademy.com.br/)"
   ]
  },
  {
   "cell_type": "markdown",
   "metadata": {},
   "source": [
    "## Previsão de Ocorrência de Óbitos Relacionados à  Hepatite"
   ]
  },
  {
   "cell_type": "markdown",
   "metadata": {},
   "source": [
    "A hepatite é a inflamação do fígado. Pode ser causada por vírus ou pelo uso de alguns remédios, álcool e outras drogas, assim como por doenças autoimunes, metabólicas e genéticas. Em alguns casos, são doenças silenciosas que nem sempre apresentam sintomas.\n",
    "\n",
    "As hepatites virais são inflamações causadas por vírus que são classificados por letras do alfabeto em A, B, C, D (Delta) e E. No Brasil, mais de 70% (23.070) dos óbitos por hepatites virais são decorrentes da Hepatite C, seguido da Hepatite B (21,8%) e A (1,7%). O país registrou 40.198 casos novos de hepatites virais em 2017.  "
   ]
  },
  {
   "cell_type": "markdown",
   "metadata": {},
   "source": [
    "__Dataset__"
   ]
  },
  {
   "cell_type": "markdown",
   "metadata": {},
   "source": [
    "https://archive.ics.uci.edu/ml/datasets/hepatitis"
   ]
  },
  {
   "cell_type": "markdown",
   "metadata": {},
   "source": [
    "## Carregando os Dados"
   ]
  },
  {
   "cell_type": "code",
   "execution_count": 1,
   "metadata": {},
   "outputs": [],
   "source": [
    "import pandas as pd\n",
    "import numpy as np\n",
    "import seaborn as sns\n",
    "from matplotlib import pyplot as plt\n",
    "from sklearn.model_selection import train_test_split\n",
    "from sklearn.linear_model import LogisticRegression\n",
    "from sklearn import metrics\n",
    "from sklearn.metrics import roc_curve, auc\n",
    "import warnings\n",
    "warnings.filterwarnings('ignore')\n",
    "%matplotlib inline"
   ]
  },
  {
   "cell_type": "code",
   "execution_count": 2,
   "metadata": {},
   "outputs": [],
   "source": [
    "# Título das colunas\n",
    "nome_colunas = ['Class', 'Age','Gender', 'Steroid', 'Antivirals','Fatigue','Malaise','Anorexia','LiverBig',\n",
    "                'LiverFirm','SpleenPalpable','Spiders','Ascites','Varices','Bilirubin','AlkPhosphate','SGOT',\n",
    "                'Albumin','Protime','Histology']"
   ]
  },
  {
   "cell_type": "code",
   "execution_count": 3,
   "metadata": {},
   "outputs": [],
   "source": [
    "# Carrega os dados\n",
    "dados_hepatite = pd.read_csv('dados/dataset-data-munging-02-hepatite.data', \n",
    "                             names = nome_colunas, \n",
    "                             sep = ',', \n",
    "                             encoding = 'latin-1')"
   ]
  },
  {
   "cell_type": "code",
   "execution_count": 4,
   "metadata": {},
   "outputs": [
    {
     "data": {
      "text/html": [
       "<div>\n",
       "<style scoped>\n",
       "    .dataframe tbody tr th:only-of-type {\n",
       "        vertical-align: middle;\n",
       "    }\n",
       "\n",
       "    .dataframe tbody tr th {\n",
       "        vertical-align: top;\n",
       "    }\n",
       "\n",
       "    .dataframe thead th {\n",
       "        text-align: right;\n",
       "    }\n",
       "</style>\n",
       "<table border=\"1\" class=\"dataframe\">\n",
       "  <thead>\n",
       "    <tr style=\"text-align: right;\">\n",
       "      <th></th>\n",
       "      <th>Class</th>\n",
       "      <th>Age</th>\n",
       "      <th>Gender</th>\n",
       "      <th>Steroid</th>\n",
       "      <th>Antivirals</th>\n",
       "      <th>Fatigue</th>\n",
       "      <th>Malaise</th>\n",
       "      <th>Anorexia</th>\n",
       "      <th>LiverBig</th>\n",
       "      <th>LiverFirm</th>\n",
       "      <th>SpleenPalpable</th>\n",
       "      <th>Spiders</th>\n",
       "      <th>Ascites</th>\n",
       "      <th>Varices</th>\n",
       "      <th>Bilirubin</th>\n",
       "      <th>AlkPhosphate</th>\n",
       "      <th>SGOT</th>\n",
       "      <th>Albumin</th>\n",
       "      <th>Protime</th>\n",
       "      <th>Histology</th>\n",
       "    </tr>\n",
       "  </thead>\n",
       "  <tbody>\n",
       "    <tr>\n",
       "      <th>0</th>\n",
       "      <td>2</td>\n",
       "      <td>30</td>\n",
       "      <td>2</td>\n",
       "      <td>1</td>\n",
       "      <td>2</td>\n",
       "      <td>2</td>\n",
       "      <td>2</td>\n",
       "      <td>2</td>\n",
       "      <td>1</td>\n",
       "      <td>2</td>\n",
       "      <td>2</td>\n",
       "      <td>2</td>\n",
       "      <td>2</td>\n",
       "      <td>2</td>\n",
       "      <td>1.00</td>\n",
       "      <td>85</td>\n",
       "      <td>18</td>\n",
       "      <td>4.0</td>\n",
       "      <td>?</td>\n",
       "      <td>1</td>\n",
       "    </tr>\n",
       "    <tr>\n",
       "      <th>1</th>\n",
       "      <td>2</td>\n",
       "      <td>50</td>\n",
       "      <td>1</td>\n",
       "      <td>1</td>\n",
       "      <td>2</td>\n",
       "      <td>1</td>\n",
       "      <td>2</td>\n",
       "      <td>2</td>\n",
       "      <td>1</td>\n",
       "      <td>2</td>\n",
       "      <td>2</td>\n",
       "      <td>2</td>\n",
       "      <td>2</td>\n",
       "      <td>2</td>\n",
       "      <td>0.90</td>\n",
       "      <td>135</td>\n",
       "      <td>42</td>\n",
       "      <td>3.5</td>\n",
       "      <td>?</td>\n",
       "      <td>1</td>\n",
       "    </tr>\n",
       "    <tr>\n",
       "      <th>2</th>\n",
       "      <td>2</td>\n",
       "      <td>78</td>\n",
       "      <td>1</td>\n",
       "      <td>2</td>\n",
       "      <td>2</td>\n",
       "      <td>1</td>\n",
       "      <td>2</td>\n",
       "      <td>2</td>\n",
       "      <td>2</td>\n",
       "      <td>2</td>\n",
       "      <td>2</td>\n",
       "      <td>2</td>\n",
       "      <td>2</td>\n",
       "      <td>2</td>\n",
       "      <td>0.70</td>\n",
       "      <td>96</td>\n",
       "      <td>32</td>\n",
       "      <td>4.0</td>\n",
       "      <td>?</td>\n",
       "      <td>1</td>\n",
       "    </tr>\n",
       "    <tr>\n",
       "      <th>3</th>\n",
       "      <td>2</td>\n",
       "      <td>31</td>\n",
       "      <td>1</td>\n",
       "      <td>?</td>\n",
       "      <td>1</td>\n",
       "      <td>2</td>\n",
       "      <td>2</td>\n",
       "      <td>2</td>\n",
       "      <td>2</td>\n",
       "      <td>2</td>\n",
       "      <td>2</td>\n",
       "      <td>2</td>\n",
       "      <td>2</td>\n",
       "      <td>2</td>\n",
       "      <td>0.70</td>\n",
       "      <td>46</td>\n",
       "      <td>52</td>\n",
       "      <td>4.0</td>\n",
       "      <td>80</td>\n",
       "      <td>1</td>\n",
       "    </tr>\n",
       "    <tr>\n",
       "      <th>4</th>\n",
       "      <td>2</td>\n",
       "      <td>34</td>\n",
       "      <td>1</td>\n",
       "      <td>2</td>\n",
       "      <td>2</td>\n",
       "      <td>2</td>\n",
       "      <td>2</td>\n",
       "      <td>2</td>\n",
       "      <td>2</td>\n",
       "      <td>2</td>\n",
       "      <td>2</td>\n",
       "      <td>2</td>\n",
       "      <td>2</td>\n",
       "      <td>2</td>\n",
       "      <td>1.00</td>\n",
       "      <td>?</td>\n",
       "      <td>200</td>\n",
       "      <td>4.0</td>\n",
       "      <td>?</td>\n",
       "      <td>1</td>\n",
       "    </tr>\n",
       "    <tr>\n",
       "      <th>5</th>\n",
       "      <td>2</td>\n",
       "      <td>34</td>\n",
       "      <td>1</td>\n",
       "      <td>2</td>\n",
       "      <td>2</td>\n",
       "      <td>2</td>\n",
       "      <td>2</td>\n",
       "      <td>2</td>\n",
       "      <td>2</td>\n",
       "      <td>2</td>\n",
       "      <td>2</td>\n",
       "      <td>2</td>\n",
       "      <td>2</td>\n",
       "      <td>2</td>\n",
       "      <td>0.90</td>\n",
       "      <td>95</td>\n",
       "      <td>28</td>\n",
       "      <td>4.0</td>\n",
       "      <td>75</td>\n",
       "      <td>1</td>\n",
       "    </tr>\n",
       "    <tr>\n",
       "      <th>6</th>\n",
       "      <td>1</td>\n",
       "      <td>51</td>\n",
       "      <td>1</td>\n",
       "      <td>1</td>\n",
       "      <td>2</td>\n",
       "      <td>1</td>\n",
       "      <td>2</td>\n",
       "      <td>1</td>\n",
       "      <td>2</td>\n",
       "      <td>2</td>\n",
       "      <td>1</td>\n",
       "      <td>1</td>\n",
       "      <td>2</td>\n",
       "      <td>2</td>\n",
       "      <td>?</td>\n",
       "      <td>?</td>\n",
       "      <td>?</td>\n",
       "      <td>?</td>\n",
       "      <td>?</td>\n",
       "      <td>1</td>\n",
       "    </tr>\n",
       "    <tr>\n",
       "      <th>7</th>\n",
       "      <td>2</td>\n",
       "      <td>23</td>\n",
       "      <td>1</td>\n",
       "      <td>2</td>\n",
       "      <td>2</td>\n",
       "      <td>2</td>\n",
       "      <td>2</td>\n",
       "      <td>2</td>\n",
       "      <td>2</td>\n",
       "      <td>2</td>\n",
       "      <td>2</td>\n",
       "      <td>2</td>\n",
       "      <td>2</td>\n",
       "      <td>2</td>\n",
       "      <td>1.00</td>\n",
       "      <td>?</td>\n",
       "      <td>?</td>\n",
       "      <td>?</td>\n",
       "      <td>?</td>\n",
       "      <td>1</td>\n",
       "    </tr>\n",
       "    <tr>\n",
       "      <th>8</th>\n",
       "      <td>2</td>\n",
       "      <td>39</td>\n",
       "      <td>1</td>\n",
       "      <td>2</td>\n",
       "      <td>2</td>\n",
       "      <td>1</td>\n",
       "      <td>2</td>\n",
       "      <td>2</td>\n",
       "      <td>2</td>\n",
       "      <td>1</td>\n",
       "      <td>2</td>\n",
       "      <td>2</td>\n",
       "      <td>2</td>\n",
       "      <td>2</td>\n",
       "      <td>0.70</td>\n",
       "      <td>?</td>\n",
       "      <td>48</td>\n",
       "      <td>4.4</td>\n",
       "      <td>?</td>\n",
       "      <td>1</td>\n",
       "    </tr>\n",
       "    <tr>\n",
       "      <th>9</th>\n",
       "      <td>2</td>\n",
       "      <td>30</td>\n",
       "      <td>1</td>\n",
       "      <td>2</td>\n",
       "      <td>2</td>\n",
       "      <td>2</td>\n",
       "      <td>2</td>\n",
       "      <td>2</td>\n",
       "      <td>2</td>\n",
       "      <td>2</td>\n",
       "      <td>2</td>\n",
       "      <td>2</td>\n",
       "      <td>2</td>\n",
       "      <td>2</td>\n",
       "      <td>1.00</td>\n",
       "      <td>?</td>\n",
       "      <td>120</td>\n",
       "      <td>3.9</td>\n",
       "      <td>?</td>\n",
       "      <td>1</td>\n",
       "    </tr>\n",
       "  </tbody>\n",
       "</table>\n",
       "</div>"
      ],
      "text/plain": [
       "   Class  Age  Gender Steroid  Antivirals Fatigue Malaise Anorexia LiverBig  \\\n",
       "0      2   30       2       1           2       2       2        2        1   \n",
       "1      2   50       1       1           2       1       2        2        1   \n",
       "2      2   78       1       2           2       1       2        2        2   \n",
       "3      2   31       1       ?           1       2       2        2        2   \n",
       "4      2   34       1       2           2       2       2        2        2   \n",
       "5      2   34       1       2           2       2       2        2        2   \n",
       "6      1   51       1       1           2       1       2        1        2   \n",
       "7      2   23       1       2           2       2       2        2        2   \n",
       "8      2   39       1       2           2       1       2        2        2   \n",
       "9      2   30       1       2           2       2       2        2        2   \n",
       "\n",
       "  LiverFirm SpleenPalpable Spiders Ascites Varices Bilirubin AlkPhosphate  \\\n",
       "0         2              2       2       2       2      1.00           85   \n",
       "1         2              2       2       2       2      0.90          135   \n",
       "2         2              2       2       2       2      0.70           96   \n",
       "3         2              2       2       2       2      0.70           46   \n",
       "4         2              2       2       2       2      1.00            ?   \n",
       "5         2              2       2       2       2      0.90           95   \n",
       "6         2              1       1       2       2         ?            ?   \n",
       "7         2              2       2       2       2      1.00            ?   \n",
       "8         1              2       2       2       2      0.70            ?   \n",
       "9         2              2       2       2       2      1.00            ?   \n",
       "\n",
       "  SGOT Albumin Protime  Histology  \n",
       "0   18     4.0       ?          1  \n",
       "1   42     3.5       ?          1  \n",
       "2   32     4.0       ?          1  \n",
       "3   52     4.0      80          1  \n",
       "4  200     4.0       ?          1  \n",
       "5   28     4.0      75          1  \n",
       "6    ?       ?       ?          1  \n",
       "7    ?       ?       ?          1  \n",
       "8   48     4.4       ?          1  \n",
       "9  120     3.9       ?          1  "
      ]
     },
     "execution_count": 4,
     "metadata": {},
     "output_type": "execute_result"
    }
   ],
   "source": [
    "dados_hepatite.head(10)"
   ]
  },
  {
   "cell_type": "code",
   "execution_count": 5,
   "metadata": {},
   "outputs": [
    {
     "name": "stdout",
     "output_type": "stream",
     "text": [
      "<class 'pandas.core.frame.DataFrame'>\n",
      "RangeIndex: 155 entries, 0 to 154\n",
      "Data columns (total 20 columns):\n",
      " #   Column          Non-Null Count  Dtype \n",
      "---  ------          --------------  ----- \n",
      " 0   Class           155 non-null    int64 \n",
      " 1   Age             155 non-null    int64 \n",
      " 2   Gender          155 non-null    int64 \n",
      " 3   Steroid         155 non-null    object\n",
      " 4   Antivirals      155 non-null    int64 \n",
      " 5   Fatigue         155 non-null    object\n",
      " 6   Malaise         155 non-null    object\n",
      " 7   Anorexia        155 non-null    object\n",
      " 8   LiverBig        155 non-null    object\n",
      " 9   LiverFirm       155 non-null    object\n",
      " 10  SpleenPalpable  155 non-null    object\n",
      " 11  Spiders         155 non-null    object\n",
      " 12  Ascites         155 non-null    object\n",
      " 13  Varices         155 non-null    object\n",
      " 14  Bilirubin       155 non-null    object\n",
      " 15  AlkPhosphate    155 non-null    object\n",
      " 16  SGOT            155 non-null    object\n",
      " 17  Albumin         155 non-null    object\n",
      " 18  Protime         155 non-null    object\n",
      " 19  Histology       155 non-null    int64 \n",
      "dtypes: int64(5), object(15)\n",
      "memory usage: 24.3+ KB\n"
     ]
    }
   ],
   "source": [
    "dados_hepatite.info()"
   ]
  },
  {
   "cell_type": "markdown",
   "metadata": {},
   "source": [
    "## Inspecionando a variável target"
   ]
  },
  {
   "cell_type": "markdown",
   "metadata": {},
   "source": [
    "Transformando \n",
    "\n",
    "* DIE: 1 = 0\n",
    "* LIVE: 2 = 1"
   ]
  },
  {
   "cell_type": "code",
   "execution_count": 6,
   "metadata": {},
   "outputs": [],
   "source": [
    "dados_hepatite['Class'] = dados_hepatite['Class'].replace(1, 0)\n",
    "dados_hepatite['Class'] = dados_hepatite['Class'].replace(2, 1)"
   ]
  },
  {
   "cell_type": "code",
   "execution_count": 7,
   "metadata": {},
   "outputs": [
    {
     "name": "stdout",
     "output_type": "stream",
     "text": [
      "Sobreviventes = 1\n",
      "Freq: 123\tProp: 0.79\n",
      "\n",
      "Não Sobreviventes = 0\n",
      "Freq: 32\tProp: 0.21\n"
     ]
    }
   ],
   "source": [
    "print('Sobreviventes = 1')\n",
    "print(f'Freq: {dados_hepatite.Class.sum()}\\tProp: {dados_hepatite.Class.mean():.2f}')\n",
    "print('\\nNão Sobreviventes = 0')\n",
    "print(f'Freq: {dados_hepatite.shape[0] - dados_hepatite.Class.sum()}\\tProp: {(1-dados_hepatite.Class.mean()):.2f}')"
   ]
  },
  {
   "cell_type": "code",
   "execution_count": 8,
   "metadata": {},
   "outputs": [
    {
     "data": {
      "image/png": "[encoded data removed]",
      "text/plain": [
       "<Figure size 432x288 with 1 Axes>"
      ]
     },
     "metadata": {
      "needs_background": "light"
     },
     "output_type": "display_data"
    }
   ],
   "source": [
    "# Visualizar balanceamento\n",
    "dados_hepatite['Class'].value_counts().plot(kind='bar');"
   ]
  },
  {
   "cell_type": "markdown",
   "metadata": {},
   "source": [
    "## Limpeza e análise exploratória de dados"
   ]
  },
  {
   "cell_type": "code",
   "execution_count": 9,
   "metadata": {},
   "outputs": [],
   "source": [
    "# Replace '?' com valores NA\n",
    "dados_hepatite = dados_hepatite.replace('?', np.nan)"
   ]
  },
  {
   "cell_type": "code",
   "execution_count": 10,
   "metadata": {},
   "outputs": [
    {
     "data": {
      "text/html": [
       "<div>\n",
       "<style scoped>\n",
       "    .dataframe tbody tr th:only-of-type {\n",
       "        vertical-align: middle;\n",
       "    }\n",
       "\n",
       "    .dataframe tbody tr th {\n",
       "        vertical-align: top;\n",
       "    }\n",
       "\n",
       "    .dataframe thead th {\n",
       "        text-align: right;\n",
       "    }\n",
       "</style>\n",
       "<table border=\"1\" class=\"dataframe\">\n",
       "  <thead>\n",
       "    <tr style=\"text-align: right;\">\n",
       "      <th></th>\n",
       "      <th>Class</th>\n",
       "      <th>Age</th>\n",
       "      <th>Gender</th>\n",
       "      <th>Steroid</th>\n",
       "      <th>Antivirals</th>\n",
       "      <th>Fatigue</th>\n",
       "      <th>Malaise</th>\n",
       "      <th>Anorexia</th>\n",
       "      <th>LiverBig</th>\n",
       "      <th>LiverFirm</th>\n",
       "      <th>SpleenPalpable</th>\n",
       "      <th>Spiders</th>\n",
       "      <th>Ascites</th>\n",
       "      <th>Varices</th>\n",
       "      <th>Bilirubin</th>\n",
       "      <th>AlkPhosphate</th>\n",
       "      <th>SGOT</th>\n",
       "      <th>Albumin</th>\n",
       "      <th>Protime</th>\n",
       "      <th>Histology</th>\n",
       "    </tr>\n",
       "  </thead>\n",
       "  <tbody>\n",
       "    <tr>\n",
       "      <th>0</th>\n",
       "      <td>1</td>\n",
       "      <td>30</td>\n",
       "      <td>2</td>\n",
       "      <td>1</td>\n",
       "      <td>2</td>\n",
       "      <td>2</td>\n",
       "      <td>2</td>\n",
       "      <td>2</td>\n",
       "      <td>1</td>\n",
       "      <td>2</td>\n",
       "      <td>2</td>\n",
       "      <td>2</td>\n",
       "      <td>2</td>\n",
       "      <td>2</td>\n",
       "      <td>1.00</td>\n",
       "      <td>85</td>\n",
       "      <td>18</td>\n",
       "      <td>4.0</td>\n",
       "      <td>NaN</td>\n",
       "      <td>1</td>\n",
       "    </tr>\n",
       "    <tr>\n",
       "      <th>1</th>\n",
       "      <td>1</td>\n",
       "      <td>50</td>\n",
       "      <td>1</td>\n",
       "      <td>1</td>\n",
       "      <td>2</td>\n",
       "      <td>1</td>\n",
       "      <td>2</td>\n",
       "      <td>2</td>\n",
       "      <td>1</td>\n",
       "      <td>2</td>\n",
       "      <td>2</td>\n",
       "      <td>2</td>\n",
       "      <td>2</td>\n",
       "      <td>2</td>\n",
       "      <td>0.90</td>\n",
       "      <td>135</td>\n",
       "      <td>42</td>\n",
       "      <td>3.5</td>\n",
       "      <td>NaN</td>\n",
       "      <td>1</td>\n",
       "    </tr>\n",
       "    <tr>\n",
       "      <th>2</th>\n",
       "      <td>1</td>\n",
       "      <td>78</td>\n",
       "      <td>1</td>\n",
       "      <td>2</td>\n",
       "      <td>2</td>\n",
       "      <td>1</td>\n",
       "      <td>2</td>\n",
       "      <td>2</td>\n",
       "      <td>2</td>\n",
       "      <td>2</td>\n",
       "      <td>2</td>\n",
       "      <td>2</td>\n",
       "      <td>2</td>\n",
       "      <td>2</td>\n",
       "      <td>0.70</td>\n",
       "      <td>96</td>\n",
       "      <td>32</td>\n",
       "      <td>4.0</td>\n",
       "      <td>NaN</td>\n",
       "      <td>1</td>\n",
       "    </tr>\n",
       "    <tr>\n",
       "      <th>3</th>\n",
       "      <td>1</td>\n",
       "      <td>31</td>\n",
       "      <td>1</td>\n",
       "      <td>NaN</td>\n",
       "      <td>1</td>\n",
       "      <td>2</td>\n",
       "      <td>2</td>\n",
       "      <td>2</td>\n",
       "      <td>2</td>\n",
       "      <td>2</td>\n",
       "      <td>2</td>\n",
       "      <td>2</td>\n",
       "      <td>2</td>\n",
       "      <td>2</td>\n",
       "      <td>0.70</td>\n",
       "      <td>46</td>\n",
       "      <td>52</td>\n",
       "      <td>4.0</td>\n",
       "      <td>80</td>\n",
       "      <td>1</td>\n",
       "    </tr>\n",
       "    <tr>\n",
       "      <th>4</th>\n",
       "      <td>1</td>\n",
       "      <td>34</td>\n",
       "      <td>1</td>\n",
       "      <td>2</td>\n",
       "      <td>2</td>\n",
       "      <td>2</td>\n",
       "      <td>2</td>\n",
       "      <td>2</td>\n",
       "      <td>2</td>\n",
       "      <td>2</td>\n",
       "      <td>2</td>\n",
       "      <td>2</td>\n",
       "      <td>2</td>\n",
       "      <td>2</td>\n",
       "      <td>1.00</td>\n",
       "      <td>NaN</td>\n",
       "      <td>200</td>\n",
       "      <td>4.0</td>\n",
       "      <td>NaN</td>\n",
       "      <td>1</td>\n",
       "    </tr>\n",
       "  </tbody>\n",
       "</table>\n",
       "</div>"
      ],
      "text/plain": [
       "   Class  Age  Gender Steroid  Antivirals Fatigue Malaise Anorexia LiverBig  \\\n",
       "0      1   30       2       1           2       2       2        2        1   \n",
       "1      1   50       1       1           2       1       2        2        1   \n",
       "2      1   78       1       2           2       1       2        2        2   \n",
       "3      1   31       1     NaN           1       2       2        2        2   \n",
       "4      1   34       1       2           2       2       2        2        2   \n",
       "\n",
       "  LiverFirm SpleenPalpable Spiders Ascites Varices Bilirubin AlkPhosphate  \\\n",
       "0         2              2       2       2       2      1.00           85   \n",
       "1         2              2       2       2       2      0.90          135   \n",
       "2         2              2       2       2       2      0.70           96   \n",
       "3         2              2       2       2       2      0.70           46   \n",
       "4         2              2       2       2       2      1.00          NaN   \n",
       "\n",
       "  SGOT Albumin Protime  Histology  \n",
       "0   18     4.0     NaN          1  \n",
       "1   42     3.5     NaN          1  \n",
       "2   32     4.0     NaN          1  \n",
       "3   52     4.0      80          1  \n",
       "4  200     4.0     NaN          1  "
      ]
     },
     "execution_count": 10,
     "metadata": {},
     "output_type": "execute_result"
    }
   ],
   "source": [
    "# Visualizar as primeiras linhas\n",
    "dados_hepatite.head()"
   ]
  },
  {
   "cell_type": "code",
   "execution_count": 11,
   "metadata": {},
   "outputs": [
    {
     "data": {
      "text/plain": [
       "Class             0.00\n",
       "Age               0.00\n",
       "Gender            0.00\n",
       "Steroid           0.01\n",
       "Antivirals        0.00\n",
       "Fatigue           0.01\n",
       "Malaise           0.01\n",
       "Anorexia          0.01\n",
       "LiverBig          0.06\n",
       "LiverFirm         0.07\n",
       "SpleenPalpable    0.03\n",
       "Spiders           0.03\n",
       "Ascites           0.03\n",
       "Varices           0.03\n",
       "Bilirubin         0.04\n",
       "AlkPhosphate      0.19\n",
       "SGOT              0.03\n",
       "Albumin           0.10\n",
       "Protime           0.43\n",
       "Histology         0.00\n",
       "dtype: float64"
      ]
     },
     "execution_count": 11,
     "metadata": {},
     "output_type": "execute_result"
    }
   ],
   "source": [
    "# Porcentagem de valores missing\n",
    "1-(dados_hepatite.count() / dados_hepatite.shape[0]).round(2)"
   ]
  },
  {
   "cell_type": "markdown",
   "metadata": {},
   "source": [
    "Criar uma função para imputar a mediana"
   ]
  },
  {
   "cell_type": "markdown",
   "metadata": {},
   "source": [
    "### Imputação de mediana para valores numéricos "
   ]
  },
  {
   "cell_type": "code",
   "execution_count": 12,
   "metadata": {},
   "outputs": [],
   "source": [
    "# Função para o Replace das linhas vazias\n",
    "def impute_median(series):\n",
    "    return series.fillna(series.median())\n",
    "\n",
    "# Agrupar por classes\n",
    "by_class = dados_hepatite.groupby(['Class'])"
   ]
  },
  {
   "cell_type": "markdown",
   "metadata": {},
   "source": [
    "Bilirubin"
   ]
  },
  {
   "cell_type": "code",
   "execution_count": 13,
   "metadata": {},
   "outputs": [],
   "source": [
    "# Transformação para variável numérica contínua\n",
    "dados_hepatite['Bilirubin'] = dados_hepatite['Bilirubin'].astype('float32')"
   ]
  },
  {
   "cell_type": "code",
   "execution_count": 14,
   "metadata": {},
   "outputs": [
    {
     "data": {
      "text/plain": [
       "count    149.000000\n",
       "mean       1.427516\n",
       "std        1.212149\n",
       "min        0.300000\n",
       "25%        0.700000\n",
       "50%        1.000000\n",
       "75%        1.500000\n",
       "max        8.000000\n",
       "Name: Bilirubin, dtype: float64"
      ]
     },
     "execution_count": 14,
     "metadata": {},
     "output_type": "execute_result"
    }
   ],
   "source": [
    "# Estatísticas da feature\n",
    "dados_hepatite['Bilirubin'].describe()"
   ]
  },
  {
   "cell_type": "code",
   "execution_count": 15,
   "metadata": {},
   "outputs": [
    {
     "data": {
      "image/png": "[encoded data removed]",
      "text/plain": [
       "<Figure size 432x288 with 1 Axes>"
      ]
     },
     "metadata": {
      "needs_background": "light"
     },
     "output_type": "display_data"
    }
   ],
   "source": [
    "# Visualização da distribuição em relação ao target\n",
    "by_class['Bilirubin'].plot(kind='density');"
   ]
  },
  {
   "cell_type": "code",
   "execution_count": 16,
   "metadata": {},
   "outputs": [
    {
     "data": {
      "text/plain": [
       "Class\n",
       "0    1.95\n",
       "1    1.00\n",
       "Name: Bilirubin, dtype: float32"
      ]
     },
     "execution_count": 16,
     "metadata": {},
     "output_type": "execute_result"
    }
   ],
   "source": [
    "# Mediana em relação ao target\n",
    "by_class['Bilirubin'].median()"
   ]
  },
  {
   "cell_type": "code",
   "execution_count": 17,
   "metadata": {},
   "outputs": [],
   "source": [
    "# Imputação da mediana em relação ao target\n",
    "dados_hepatite.Bilirubin = dados_hepatite['Bilirubin'].transform(impute_median)"
   ]
  },
  {
   "cell_type": "markdown",
   "metadata": {},
   "source": [
    "AlkPhosphate"
   ]
  },
  {
   "cell_type": "code",
   "execution_count": 18,
   "metadata": {},
   "outputs": [],
   "source": [
    "# Transformação para variável numérica contínua\n",
    "dados_hepatite['AlkPhosphate'] = dados_hepatite['AlkPhosphate'].astype('float32')"
   ]
  },
  {
   "cell_type": "code",
   "execution_count": 19,
   "metadata": {},
   "outputs": [
    {
     "data": {
      "text/plain": [
       "count    126.000000\n",
       "mean     105.325394\n",
       "std       51.508114\n",
       "min       26.000000\n",
       "25%       74.250000\n",
       "50%       85.000000\n",
       "75%      132.250000\n",
       "max      295.000000\n",
       "Name: AlkPhosphate, dtype: float64"
      ]
     },
     "execution_count": 19,
     "metadata": {},
     "output_type": "execute_result"
    }
   ],
   "source": [
    "# Estatísticas da feature\n",
    "dados_hepatite['AlkPhosphate'].describe()"
   ]
  },
  {
   "cell_type": "code",
   "execution_count": 20,
   "metadata": {},
   "outputs": [
    {
     "data": {
      "image/png": "[encoded data removed]",
      "text/plain": [
       "<Figure size 432x288 with 1 Axes>"
      ]
     },
     "metadata": {
      "needs_background": "light"
     },
     "output_type": "display_data"
    }
   ],
   "source": [
    "# Visualização da distribuição em relação ao target\n",
    "by_class['AlkPhosphate'].plot(kind='density');"
   ]
  },
  {
   "cell_type": "code",
   "execution_count": 21,
   "metadata": {},
   "outputs": [
    {
     "data": {
      "text/plain": [
       "Class\n",
       "0    113.5\n",
       "1     85.0\n",
       "Name: AlkPhosphate, dtype: float32"
      ]
     },
     "execution_count": 21,
     "metadata": {},
     "output_type": "execute_result"
    }
   ],
   "source": [
    "# Mediana em relação ao target\n",
    "by_class['AlkPhosphate'].median()"
   ]
  },
  {
   "cell_type": "code",
   "execution_count": 22,
   "metadata": {},
   "outputs": [],
   "source": [
    "# Imputação da mediana em relação ao target\n",
    "dados_hepatite.AlkPhosphate = by_class['AlkPhosphate'].transform(impute_median)"
   ]
  },
  {
   "cell_type": "markdown",
   "metadata": {},
   "source": [
    "SGOT"
   ]
  },
  {
   "cell_type": "code",
   "execution_count": 23,
   "metadata": {},
   "outputs": [],
   "source": [
    "# Transformação para variável numérica contínua\n",
    "dados_hepatite['SGOT'] = dados_hepatite['SGOT'].astype('float32')"
   ]
  },
  {
   "cell_type": "code",
   "execution_count": 24,
   "metadata": {},
   "outputs": [
    {
     "data": {
      "text/plain": [
       "count    151.000000\n",
       "mean      85.894043\n",
       "std       89.650887\n",
       "min       14.000000\n",
       "25%       31.500000\n",
       "50%       58.000000\n",
       "75%      100.500000\n",
       "max      648.000000\n",
       "Name: SGOT, dtype: float64"
      ]
     },
     "execution_count": 24,
     "metadata": {},
     "output_type": "execute_result"
    }
   ],
   "source": [
    "# Estatísticas da feature\n",
    "dados_hepatite['SGOT'].describe()"
   ]
  },
  {
   "cell_type": "code",
   "execution_count": 25,
   "metadata": {},
   "outputs": [
    {
     "data": {
      "image/png": "[encoded data removed]",
      "text/plain": [
       "<Figure size 432x288 with 1 Axes>"
      ]
     },
     "metadata": {
      "needs_background": "light"
     },
     "output_type": "display_data"
    }
   ],
   "source": [
    "# Visualização da distribuição em relação ao target\n",
    "by_class['SGOT'].plot(kind='density');"
   ]
  },
  {
   "cell_type": "code",
   "execution_count": 26,
   "metadata": {},
   "outputs": [
    {
     "data": {
      "text/plain": [
       "Class\n",
       "0    66.0\n",
       "1    55.0\n",
       "Name: SGOT, dtype: float32"
      ]
     },
     "execution_count": 26,
     "metadata": {},
     "output_type": "execute_result"
    }
   ],
   "source": [
    "# Mediana em relação ao target\n",
    "by_class['SGOT'].median()"
   ]
  },
  {
   "cell_type": "code",
   "execution_count": 27,
   "metadata": {},
   "outputs": [],
   "source": [
    "# Imputação da mediana em relação ao target\n",
    "dados_hepatite.SGOT = dados_hepatite['SGOT'].transform(impute_median)"
   ]
  },
  {
   "cell_type": "markdown",
   "metadata": {},
   "source": [
    "Albumin"
   ]
  },
  {
   "cell_type": "code",
   "execution_count": 28,
   "metadata": {},
   "outputs": [],
   "source": [
    "# Transformação para variável numérica contínua\n",
    "dados_hepatite['Albumin'] = dados_hepatite['Albumin'].astype('float32')"
   ]
  },
  {
   "cell_type": "code",
   "execution_count": 29,
   "metadata": {},
   "outputs": [
    {
     "data": {
      "text/plain": [
       "count    139.000000\n",
       "mean       3.817265\n",
       "std        0.651523\n",
       "min        2.100000\n",
       "25%        3.400000\n",
       "50%        4.000000\n",
       "75%        4.200000\n",
       "max        6.400000\n",
       "Name: Albumin, dtype: float64"
      ]
     },
     "execution_count": 29,
     "metadata": {},
     "output_type": "execute_result"
    }
   ],
   "source": [
    "# Estatísticas da feature\n",
    "dados_hepatite['Albumin'].describe()"
   ]
  },
  {
   "cell_type": "code",
   "execution_count": 30,
   "metadata": {},
   "outputs": [
    {
     "data": {
      "image/png": "[encoded data removed]",
      "text/plain": [
       "<Figure size 432x288 with 1 Axes>"
      ]
     },
     "metadata": {
      "needs_background": "light"
     },
     "output_type": "display_data"
    }
   ],
   "source": [
    "# Visualização da distribuição em relação ao target\n",
    "by_class['Albumin'].plot(kind='density');"
   ]
  },
  {
   "cell_type": "code",
   "execution_count": 31,
   "metadata": {},
   "outputs": [
    {
     "data": {
      "text/plain": [
       "Class\n",
       "0    3.3\n",
       "1    4.0\n",
       "Name: Albumin, dtype: float32"
      ]
     },
     "execution_count": 31,
     "metadata": {},
     "output_type": "execute_result"
    }
   ],
   "source": [
    "# Mediana em relação ao target\n",
    "by_class['Albumin'].median()"
   ]
  },
  {
   "cell_type": "code",
   "execution_count": 32,
   "metadata": {},
   "outputs": [],
   "source": [
    "# Imputação da mediana em relação ao target\n",
    "dados_hepatite.Albumin = by_class['Albumin'].transform(impute_median)"
   ]
  },
  {
   "cell_type": "markdown",
   "metadata": {},
   "source": [
    "Protime"
   ]
  },
  {
   "cell_type": "code",
   "execution_count": 33,
   "metadata": {},
   "outputs": [],
   "source": [
    "# Transformação para variável numérica contínua\n",
    "dados_hepatite['Protime'] = dados_hepatite['Protime'].astype('float32')"
   ]
  },
  {
   "cell_type": "code",
   "execution_count": 34,
   "metadata": {},
   "outputs": [
    {
     "data": {
      "text/plain": [
       "count     88.000000\n",
       "mean      61.852272\n",
       "std       22.875242\n",
       "min        0.000000\n",
       "25%       46.000000\n",
       "50%       61.000000\n",
       "75%       76.250000\n",
       "max      100.000000\n",
       "Name: Protime, dtype: float64"
      ]
     },
     "execution_count": 34,
     "metadata": {},
     "output_type": "execute_result"
    }
   ],
   "source": [
    "# Estatísticas da feature\n",
    "dados_hepatite['Protime'].describe()"
   ]
  },
  {
   "cell_type": "code",
   "execution_count": 35,
   "metadata": {},
   "outputs": [
    {
     "data": {
      "image/png": "[encoded data removed]",
      "text/plain": [
       "<Figure size 432x288 with 1 Axes>"
      ]
     },
     "metadata": {
      "needs_background": "light"
     },
     "output_type": "display_data"
    }
   ],
   "source": [
    "# Visualização da distribuição em relação ao target\n",
    "by_class['Protime'].plot(kind='density');"
   ]
  },
  {
   "cell_type": "code",
   "execution_count": 36,
   "metadata": {},
   "outputs": [
    {
     "data": {
      "text/plain": [
       "Class\n",
       "0    39.0\n",
       "1    66.0\n",
       "Name: Protime, dtype: float32"
      ]
     },
     "execution_count": 36,
     "metadata": {},
     "output_type": "execute_result"
    }
   ],
   "source": [
    "# Mediana em relação ao target\n",
    "by_class['Protime'].median()"
   ]
  },
  {
   "cell_type": "code",
   "execution_count": 37,
   "metadata": {},
   "outputs": [],
   "source": [
    "# Imputação da mediana em relação ao target\n",
    "dados_hepatite.Protime = by_class['Protime'].transform(impute_median)"
   ]
  },
  {
   "cell_type": "markdown",
   "metadata": {},
   "source": [
    "### Imputação de mediana para valores dicotômicos"
   ]
  },
  {
   "cell_type": "markdown",
   "metadata": {},
   "source": [
    "__Gender__\n",
    "\n",
    "Transformando \n",
    "\n",
    "* Male: 1 = 0\n",
    "* Female: 2 = 1"
   ]
  },
  {
   "cell_type": "code",
   "execution_count": 38,
   "metadata": {},
   "outputs": [],
   "source": [
    "# Recategorizar dados\n",
    "dados_hepatite['Gender'] = dados_hepatite['Gender'].replace(1, 0)\n",
    "dados_hepatite['Gender'] = dados_hepatite['Gender'].replace(2, 1)"
   ]
  },
  {
   "cell_type": "code",
   "execution_count": 39,
   "metadata": {},
   "outputs": [
    {
     "name": "stdout",
     "output_type": "stream",
     "text": [
      "Mulheres = 1\n",
      "Freq: 16\tProp: 0.10\n",
      "\n",
      "Homens = 0\n",
      "Freq: 139\tProp: 0.90\n"
     ]
    }
   ],
   "source": [
    "print('Mulheres = 1')\n",
    "print(f'Freq: {dados_hepatite.Gender.sum()}\\tProp: {dados_hepatite.Gender.mean():.2f}')\n",
    "print('\\nHomens = 0')\n",
    "print(f'Freq: {dados_hepatite.shape[0] - dados_hepatite.Gender.sum()}\\tProp: {(1-dados_hepatite.Gender.mean()):.2f}')"
   ]
  },
  {
   "cell_type": "code",
   "execution_count": 40,
   "metadata": {
    "scrolled": false
   },
   "outputs": [
    {
     "data": {
      "image/png": "[encoded data removed]",
      "text/plain": [
       "<Figure size 474.375x432 with 1 Axes>"
      ]
     },
     "metadata": {
      "needs_background": "light"
     },
     "output_type": "display_data"
    }
   ],
   "source": [
    "# Visualizar balanceamento\n",
    "ax = sns.catplot(x = 'Gender', hue = 'Class', data = dados_hepatite, kind = 'count', height = 6)\n",
    "ax.set(ylabel = 'Número de Pacientes')\n",
    "plt.title('Pacientes Por Sexo')\n",
    "plt.tight_layout()"
   ]
  },
  {
   "cell_type": "code",
   "execution_count": 41,
   "metadata": {},
   "outputs": [
    {
     "data": {
      "text/plain": [
       "0"
      ]
     },
     "execution_count": 41,
     "metadata": {},
     "output_type": "execute_result"
    }
   ],
   "source": [
    "# Visualizar missing\n",
    "dados_hepatite['Gender'].isnull().sum()"
   ]
  },
  {
   "cell_type": "markdown",
   "metadata": {},
   "source": [
    "__Steroid__\n",
    "\n",
    "Transformando \n",
    "\n",
    "* No: 1 = 0\n",
    "* Yes: 2 = 1"
   ]
  },
  {
   "cell_type": "code",
   "execution_count": 42,
   "metadata": {},
   "outputs": [],
   "source": [
    "# Recategorizar dados\n",
    "dados_hepatite['Steroid'] = dados_hepatite['Steroid'].replace('1', '0')\n",
    "dados_hepatite['Steroid'] = dados_hepatite['Steroid'].replace('2', '1')"
   ]
  },
  {
   "cell_type": "code",
   "execution_count": 43,
   "metadata": {},
   "outputs": [
    {
     "data": {
      "text/plain": [
       "1"
      ]
     },
     "execution_count": 43,
     "metadata": {},
     "output_type": "execute_result"
    }
   ],
   "source": [
    "# Visualizar missing\n",
    "dados_hepatite['Steroid'].isnull().sum()"
   ]
  },
  {
   "cell_type": "code",
   "execution_count": 44,
   "metadata": {},
   "outputs": [],
   "source": [
    "# Imputação da mediana em relação ao target\n",
    "dados_hepatite['Steroid'] = dados_hepatite['Steroid'].fillna(dados_hepatite['Steroid'].median())"
   ]
  },
  {
   "cell_type": "code",
   "execution_count": 45,
   "metadata": {},
   "outputs": [],
   "source": [
    "# Transformar valor para numérico inteiro\n",
    "dados_hepatite['Steroid'] = dados_hepatite['Steroid'].astype('int')"
   ]
  },
  {
   "cell_type": "code",
   "execution_count": 46,
   "metadata": {},
   "outputs": [
    {
     "name": "stdout",
     "output_type": "stream",
     "text": [
      "Yes = 1\n",
      "Freq: 79\tProp: 0.51\n",
      "\n",
      "No = 0\n",
      "Freq: 76\tProp: 0.49\n"
     ]
    }
   ],
   "source": [
    "print('Yes = 1')\n",
    "print(f'Freq: {dados_hepatite.Steroid.sum()}\\tProp: {dados_hepatite.Steroid.mean():.2f}')\n",
    "print('\\nNo = 0')\n",
    "print(f'Freq: {dados_hepatite.shape[0] - dados_hepatite.Steroid.sum()}\\tProp: {(1-dados_hepatite.Steroid.mean()):.2f}')"
   ]
  },
  {
   "cell_type": "code",
   "execution_count": 47,
   "metadata": {
    "scrolled": false
   },
   "outputs": [
    {
     "data": {
      "image/png": "[encoded data removed]",
      "text/plain": [
       "<Figure size 402.375x360 with 1 Axes>"
      ]
     },
     "metadata": {
      "needs_background": "light"
     },
     "output_type": "display_data"
    }
   ],
   "source": [
    "# Visualizar balanceamento\n",
    "ax = sns.catplot(x = 'Steroid', hue = 'Class', data = dados_hepatite, kind = 'count')\n",
    "ax.set(ylabel = 'Número de Pacientes')\n",
    "plt.title('Pacientes Por Steroid')\n",
    "plt.tight_layout()"
   ]
  },
  {
   "cell_type": "markdown",
   "metadata": {},
   "source": [
    "__Antivirals__\n",
    "\n",
    "Transformando \n",
    "\n",
    "* No: 1 = 0\n",
    "* Yes: 2 = 1"
   ]
  },
  {
   "cell_type": "code",
   "execution_count": 48,
   "metadata": {},
   "outputs": [],
   "source": [
    "# Recategorizar dados\n",
    "dados_hepatite['Antivirals'] = dados_hepatite['Antivirals'].replace(1, 0)\n",
    "dados_hepatite['Antivirals'] = dados_hepatite['Antivirals'].replace(2, 1)"
   ]
  },
  {
   "cell_type": "code",
   "execution_count": 49,
   "metadata": {},
   "outputs": [
    {
     "data": {
      "text/plain": [
       "0"
      ]
     },
     "execution_count": 49,
     "metadata": {},
     "output_type": "execute_result"
    }
   ],
   "source": [
    "# Visualizar missing\n",
    "dados_hepatite['Antivirals'].isnull().sum()"
   ]
  },
  {
   "cell_type": "code",
   "execution_count": 50,
   "metadata": {},
   "outputs": [
    {
     "name": "stdout",
     "output_type": "stream",
     "text": [
      "Yes = 1\n",
      "Freq: 131\tProp: 0.85\n",
      "\n",
      "No = 0\n",
      "Freq: 24\tProp: 0.15\n"
     ]
    }
   ],
   "source": [
    "print('Yes = 1')\n",
    "print(f'Freq: {dados_hepatite.Antivirals.sum()}\\tProp: {dados_hepatite.Antivirals.mean():.2f}')\n",
    "print('\\nNo = 0')\n",
    "print(f'Freq: {dados_hepatite.shape[0] - dados_hepatite.Antivirals.sum()}\\tProp: {(1-dados_hepatite.Antivirals.mean()):.2f}')"
   ]
  },
  {
   "cell_type": "code",
   "execution_count": 51,
   "metadata": {
    "scrolled": false
   },
   "outputs": [
    {
     "data": {
      "image/png": "[encoded data removed]",
      "text/plain": [
       "<Figure size 402.375x360 with 1 Axes>"
      ]
     },
     "metadata": {
      "needs_background": "light"
     },
     "output_type": "display_data"
    }
   ],
   "source": [
    "# Visualizar balanceamento\n",
    "ax = sns.catplot(x = 'Antivirals', hue = 'Class', data = dados_hepatite, kind = 'count')\n",
    "ax.set(ylabel = 'Número de Pacientes')\n",
    "plt.title('Pacientes Por Antivirals')\n",
    "plt.tight_layout()"
   ]
  },
  {
   "cell_type": "markdown",
   "metadata": {},
   "source": [
    "__Fatigue__\n",
    "\n",
    "Transformando \n",
    "\n",
    "* No: 1 = 0\n",
    "* Yes: 2 = 1"
   ]
  },
  {
   "cell_type": "code",
   "execution_count": 52,
   "metadata": {},
   "outputs": [],
   "source": [
    "# Recategorizar dados\n",
    "dados_hepatite['Fatigue'] = dados_hepatite['Fatigue'].replace('1', '0')\n",
    "dados_hepatite['Fatigue'] = dados_hepatite['Fatigue'].replace('2', '1')"
   ]
  },
  {
   "cell_type": "code",
   "execution_count": 53,
   "metadata": {},
   "outputs": [
    {
     "data": {
      "text/plain": [
       "1"
      ]
     },
     "execution_count": 53,
     "metadata": {},
     "output_type": "execute_result"
    }
   ],
   "source": [
    "# Visualizar missing\n",
    "dados_hepatite['Fatigue'].isnull().sum()"
   ]
  },
  {
   "cell_type": "code",
   "execution_count": 54,
   "metadata": {},
   "outputs": [],
   "source": [
    "# Imputação da mediana em relação ao target\n",
    "dados_hepatite['Fatigue'] = dados_hepatite['Fatigue'].fillna(dados_hepatite['Fatigue'].median())"
   ]
  },
  {
   "cell_type": "code",
   "execution_count": 55,
   "metadata": {},
   "outputs": [],
   "source": [
    "dados_hepatite['Fatigue'] = dados_hepatite['Fatigue'].astype('int')"
   ]
  },
  {
   "cell_type": "code",
   "execution_count": 56,
   "metadata": {},
   "outputs": [
    {
     "name": "stdout",
     "output_type": "stream",
     "text": [
      "Yes = 1\n",
      "Freq: 54\tProp: 0.35\n",
      "\n",
      "No = 0\n",
      "Freq: 101\tProp: 0.65\n"
     ]
    }
   ],
   "source": [
    "print('Yes = 1')\n",
    "print(f'Freq: {dados_hepatite.Fatigue.sum()}\\tProp: {dados_hepatite.Fatigue.mean():.2f}')\n",
    "print('\\nNo = 0')\n",
    "print(f'Freq: {dados_hepatite.shape[0] - dados_hepatite.Fatigue.sum()}\\tProp: {(1-dados_hepatite.Fatigue.mean()):.2f}')"
   ]
  },
  {
   "cell_type": "code",
   "execution_count": 57,
   "metadata": {
    "scrolled": false
   },
   "outputs": [
    {
     "data": {
      "image/png": "[encoded data removed]",
      "text/plain": [
       "<Figure size 402.375x360 with 1 Axes>"
      ]
     },
     "metadata": {
      "needs_background": "light"
     },
     "output_type": "display_data"
    }
   ],
   "source": [
    "# Visualizar balanceamento\n",
    "ax = sns.catplot(x = 'Fatigue', hue = 'Class', data = dados_hepatite, kind = 'count')\n",
    "ax.set(ylabel = 'Número de Pacientes')\n",
    "plt.title('Pacientes Por Fatigue')\n",
    "plt.tight_layout()"
   ]
  },
  {
   "cell_type": "markdown",
   "metadata": {},
   "source": [
    "__Malaise__\n",
    "\n",
    "Transformando \n",
    "\n",
    "* No: 1 = 0\n",
    "* Yes: 2 = 1"
   ]
  },
  {
   "cell_type": "code",
   "execution_count": 58,
   "metadata": {},
   "outputs": [],
   "source": [
    "# Recategorizar dados\n",
    "dados_hepatite['Malaise'] = dados_hepatite['Malaise'].replace('1', '0')\n",
    "dados_hepatite['Malaise'] = dados_hepatite['Malaise'].replace('2', '1')"
   ]
  },
  {
   "cell_type": "code",
   "execution_count": 59,
   "metadata": {},
   "outputs": [
    {
     "data": {
      "text/plain": [
       "1"
      ]
     },
     "execution_count": 59,
     "metadata": {},
     "output_type": "execute_result"
    }
   ],
   "source": [
    "# Visualizar missing\n",
    "dados_hepatite['Malaise'].isnull().sum()"
   ]
  },
  {
   "cell_type": "code",
   "execution_count": 60,
   "metadata": {},
   "outputs": [],
   "source": [
    "# Imputação da mediana em relação ao target\n",
    "dados_hepatite['Malaise'] = dados_hepatite['Malaise'].fillna(dados_hepatite['Malaise'].median())"
   ]
  },
  {
   "cell_type": "code",
   "execution_count": 61,
   "metadata": {},
   "outputs": [],
   "source": [
    "dados_hepatite['Malaise'] = dados_hepatite['Malaise'].astype('int')"
   ]
  },
  {
   "cell_type": "code",
   "execution_count": 62,
   "metadata": {
    "scrolled": true
   },
   "outputs": [
    {
     "name": "stdout",
     "output_type": "stream",
     "text": [
      "Yes = 1\n",
      "Freq: 94\tProp: 0.61\n",
      "\n",
      "No = 0\n",
      "Freq: 61\tProp: 0.39\n"
     ]
    }
   ],
   "source": [
    "print('Yes = 1')\n",
    "print(f'Freq: {dados_hepatite.Malaise.sum()}\\tProp: {dados_hepatite.Malaise.mean():.2f}')\n",
    "print('\\nNo = 0')\n",
    "print(f'Freq: {dados_hepatite.shape[0] - dados_hepatite.Malaise.sum()}\\tProp: {(1-dados_hepatite.Malaise.mean()):.2f}')"
   ]
  },
  {
   "cell_type": "code",
   "execution_count": 63,
   "metadata": {
    "scrolled": false
   },
   "outputs": [
    {
     "data": {
      "image/png": "[encoded data removed]",
      "text/plain": [
       "<Figure size 402.375x360 with 1 Axes>"
      ]
     },
     "metadata": {
      "needs_background": "light"
     },
     "output_type": "display_data"
    }
   ],
   "source": [
    "# Visualizar balanceamento\n",
    "ax = sns.catplot(x = 'Malaise', hue = 'Class', data = dados_hepatite, kind = 'count')\n",
    "ax.set(ylabel = 'Número de Pacientes')\n",
    "plt.title('Pacientes Por Malaise')\n",
    "plt.tight_layout()"
   ]
  },
  {
   "cell_type": "markdown",
   "metadata": {},
   "source": [
    "__Anorexia__\n",
    "\n",
    "Transformando \n",
    "\n",
    "* No: 1 = 0\n",
    "* Yes: 2 = 1"
   ]
  },
  {
   "cell_type": "code",
   "execution_count": 64,
   "metadata": {},
   "outputs": [],
   "source": [
    "# Recategorizar dados\n",
    "dados_hepatite['Anorexia'] = dados_hepatite['Anorexia'].replace('1', '0')\n",
    "dados_hepatite['Anorexia'] = dados_hepatite['Anorexia'].replace('2', '1')"
   ]
  },
  {
   "cell_type": "code",
   "execution_count": 65,
   "metadata": {},
   "outputs": [
    {
     "data": {
      "text/plain": [
       "1"
      ]
     },
     "execution_count": 65,
     "metadata": {},
     "output_type": "execute_result"
    }
   ],
   "source": [
    "# Visualizar missing\n",
    "dados_hepatite['Anorexia'].isnull().sum()"
   ]
  },
  {
   "cell_type": "code",
   "execution_count": 66,
   "metadata": {},
   "outputs": [],
   "source": [
    "# Imputação da mediana em relação ao target\n",
    "dados_hepatite['Anorexia'] = dados_hepatite['Anorexia'].fillna(dados_hepatite['Anorexia'].median())"
   ]
  },
  {
   "cell_type": "code",
   "execution_count": 67,
   "metadata": {},
   "outputs": [],
   "source": [
    "dados_hepatite['Anorexia'] = dados_hepatite['Anorexia'].astype('int')"
   ]
  },
  {
   "cell_type": "code",
   "execution_count": 68,
   "metadata": {
    "scrolled": true
   },
   "outputs": [
    {
     "name": "stdout",
     "output_type": "stream",
     "text": [
      "Yes = 1\n",
      "Freq: 123\tProp: 0.79\n",
      "\n",
      "No = 0\n",
      "Freq: 32\tProp: 0.21\n"
     ]
    }
   ],
   "source": [
    "print('Yes = 1')\n",
    "print(f'Freq: {dados_hepatite.Anorexia.sum()}\\tProp: {dados_hepatite.Anorexia.mean():.2f}')\n",
    "print('\\nNo = 0')\n",
    "print(f'Freq: {dados_hepatite.shape[0] - dados_hepatite.Anorexia.sum()}\\tProp: {(1-dados_hepatite.Anorexia.mean()):.2f}')"
   ]
  },
  {
   "cell_type": "code",
   "execution_count": 69,
   "metadata": {
    "scrolled": false
   },
   "outputs": [
    {
     "data": {
      "image/png": "[encoded data removed]",
      "text/plain": [
       "<Figure size 402.375x360 with 1 Axes>"
      ]
     },
     "metadata": {
      "needs_background": "light"
     },
     "output_type": "display_data"
    }
   ],
   "source": [
    "# Visualizar balanceamento\n",
    "ax = sns.catplot(x = 'Anorexia', hue = 'Class', data = dados_hepatite, kind = 'count')\n",
    "ax.set(ylabel = 'Número de Pacientes')\n",
    "plt.title('Pacientes Por Anorexia')\n",
    "plt.tight_layout()"
   ]
  },
  {
   "cell_type": "markdown",
   "metadata": {},
   "source": [
    "__LiverBig__\n",
    "\n",
    "Transformando \n",
    "\n",
    "* No: 1 = 0\n",
    "* Yes: 2 = 1"
   ]
  },
  {
   "cell_type": "code",
   "execution_count": 70,
   "metadata": {},
   "outputs": [],
   "source": [
    "# Recategorizar dados\n",
    "dados_hepatite['LiverBig'] = dados_hepatite['LiverBig'].replace('1', '0')\n",
    "dados_hepatite['LiverBig'] = dados_hepatite['LiverBig'].replace('2', '1')"
   ]
  },
  {
   "cell_type": "code",
   "execution_count": 71,
   "metadata": {},
   "outputs": [
    {
     "data": {
      "text/plain": [
       "10"
      ]
     },
     "execution_count": 71,
     "metadata": {},
     "output_type": "execute_result"
    }
   ],
   "source": [
    "# Visualizar missing\n",
    "dados_hepatite['LiverBig'].isnull().sum()"
   ]
  },
  {
   "cell_type": "code",
   "execution_count": 72,
   "metadata": {},
   "outputs": [],
   "source": [
    "# Imputação da mediana em relação ao target\n",
    "dados_hepatite['LiverBig'] = dados_hepatite['LiverBig'].fillna(dados_hepatite['LiverBig'].median())"
   ]
  },
  {
   "cell_type": "code",
   "execution_count": 73,
   "metadata": {},
   "outputs": [],
   "source": [
    "dados_hepatite['LiverBig'] = dados_hepatite['LiverBig'].astype('int')"
   ]
  },
  {
   "cell_type": "code",
   "execution_count": 74,
   "metadata": {
    "scrolled": true
   },
   "outputs": [
    {
     "name": "stdout",
     "output_type": "stream",
     "text": [
      "Yes = 1\n",
      "Freq: 130\tProp: 0.84\n",
      "\n",
      "No = 0\n",
      "Freq: 25\tProp: 0.16\n"
     ]
    }
   ],
   "source": [
    "print('Yes = 1')\n",
    "print(f'Freq: {dados_hepatite.LiverBig.sum()}\\tProp: {dados_hepatite.LiverBig.mean():.2f}')\n",
    "print('\\nNo = 0')\n",
    "print(f'Freq: {dados_hepatite.shape[0] - dados_hepatite.LiverBig.sum()}\\tProp: {(1-dados_hepatite.LiverBig.mean()):.2f}')"
   ]
  },
  {
   "cell_type": "code",
   "execution_count": 75,
   "metadata": {
    "scrolled": false
   },
   "outputs": [
    {
     "data": {
      "image/png": "[encoded data removed]",
      "text/plain": [
       "<Figure size 402.375x360 with 1 Axes>"
      ]
     },
     "metadata": {
      "needs_background": "light"
     },
     "output_type": "display_data"
    }
   ],
   "source": [
    "# Visualizar balanceamento\n",
    "ax = sns.catplot(x = 'LiverBig', hue = 'Class', data = dados_hepatite, kind = 'count')\n",
    "ax.set(ylabel = 'Número de Pacientes')\n",
    "plt.title('Pacientes Por LiverBig')\n",
    "plt.tight_layout()"
   ]
  },
  {
   "cell_type": "markdown",
   "metadata": {},
   "source": [
    "__LiverFirm__\n",
    "\n",
    "Transformando \n",
    "\n",
    "* No: 1 = 0\n",
    "* Yes: 2 = 1"
   ]
  },
  {
   "cell_type": "code",
   "execution_count": 76,
   "metadata": {},
   "outputs": [],
   "source": [
    "# Recategorizar dados\n",
    "dados_hepatite['LiverFirm'] = dados_hepatite['LiverFirm'].replace('1', '0')\n",
    "dados_hepatite['LiverFirm'] = dados_hepatite['LiverFirm'].replace('2', '1')"
   ]
  },
  {
   "cell_type": "code",
   "execution_count": 77,
   "metadata": {},
   "outputs": [
    {
     "data": {
      "text/plain": [
       "11"
      ]
     },
     "execution_count": 77,
     "metadata": {},
     "output_type": "execute_result"
    }
   ],
   "source": [
    "# Visualizar missing\n",
    "dados_hepatite['LiverFirm'].isnull().sum()"
   ]
  },
  {
   "cell_type": "code",
   "execution_count": 78,
   "metadata": {},
   "outputs": [],
   "source": [
    "# Imputação da mediana em relação ao target\n",
    "dados_hepatite['LiverFirm'] = dados_hepatite['LiverFirm'].fillna(dados_hepatite['LiverFirm'].median())"
   ]
  },
  {
   "cell_type": "code",
   "execution_count": 79,
   "metadata": {},
   "outputs": [],
   "source": [
    "dados_hepatite['LiverFirm'] = dados_hepatite['LiverFirm'].astype('int')"
   ]
  },
  {
   "cell_type": "code",
   "execution_count": 80,
   "metadata": {
    "scrolled": true
   },
   "outputs": [
    {
     "name": "stdout",
     "output_type": "stream",
     "text": [
      "Yes = 1\n",
      "Freq: 95\tProp: 0.61\n",
      "\n",
      "No = 0\n",
      "Freq: 60\tProp: 0.39\n"
     ]
    }
   ],
   "source": [
    "print('Yes = 1')\n",
    "print(f'Freq: {dados_hepatite.LiverFirm.sum()}\\tProp: {dados_hepatite.LiverFirm.mean():.2f}')\n",
    "print('\\nNo = 0')\n",
    "print(f'Freq: {dados_hepatite.shape[0] - dados_hepatite.LiverFirm.sum()}\\tProp: {(1-dados_hepatite.LiverFirm.mean()):.2f}')"
   ]
  },
  {
   "cell_type": "code",
   "execution_count": 81,
   "metadata": {},
   "outputs": [
    {
     "data": {
      "image/png": "[encoded data removed]",
      "text/plain": [
       "<Figure size 402.375x360 with 1 Axes>"
      ]
     },
     "metadata": {
      "needs_background": "light"
     },
     "output_type": "display_data"
    }
   ],
   "source": [
    "# Visualizar balanceamento\n",
    "ax = sns.catplot(x = 'LiverFirm', hue = 'Class', data = dados_hepatite, kind = 'count')\n",
    "ax.set(ylabel = 'Número de Pacientes')\n",
    "plt.title('Pacientes Por LiverFirm')\n",
    "plt.tight_layout()"
   ]
  },
  {
   "cell_type": "markdown",
   "metadata": {},
   "source": [
    "__SpleenPalpable__\n",
    "\n",
    "Transformando \n",
    "\n",
    "* No: 1 = 0\n",
    "* Yes: 2 = 1"
   ]
  },
  {
   "cell_type": "code",
   "execution_count": 82,
   "metadata": {},
   "outputs": [],
   "source": [
    "# Recategorizar dados\n",
    "dados_hepatite['SpleenPalpable'] = dados_hepatite['SpleenPalpable'].replace('1', '0')\n",
    "dados_hepatite['SpleenPalpable'] = dados_hepatite['SpleenPalpable'].replace('2', '1')"
   ]
  },
  {
   "cell_type": "code",
   "execution_count": 83,
   "metadata": {},
   "outputs": [
    {
     "data": {
      "text/plain": [
       "5"
      ]
     },
     "execution_count": 83,
     "metadata": {},
     "output_type": "execute_result"
    }
   ],
   "source": [
    "# Visualizar missing\n",
    "dados_hepatite['SpleenPalpable'].isnull().sum()"
   ]
  },
  {
   "cell_type": "code",
   "execution_count": 84,
   "metadata": {},
   "outputs": [],
   "source": [
    "# Imputação da mediana em relação ao target\n",
    "dados_hepatite['SpleenPalpable'] = dados_hepatite['SpleenPalpable'].fillna(dados_hepatite['SpleenPalpable'].median())"
   ]
  },
  {
   "cell_type": "code",
   "execution_count": 85,
   "metadata": {},
   "outputs": [],
   "source": [
    "dados_hepatite['SpleenPalpable'] = dados_hepatite['SpleenPalpable'].astype('int')"
   ]
  },
  {
   "cell_type": "code",
   "execution_count": 86,
   "metadata": {
    "scrolled": true
   },
   "outputs": [
    {
     "name": "stdout",
     "output_type": "stream",
     "text": [
      "Yes = 1\n",
      "Freq: 125\tProp: 0.81\n",
      "\n",
      "No = 0\n",
      "Freq: 30\tProp: 0.19\n"
     ]
    }
   ],
   "source": [
    "print('Yes = 1')\n",
    "print(f'Freq: {dados_hepatite.SpleenPalpable.sum()}\\tProp: {dados_hepatite.SpleenPalpable.mean():.2f}')\n",
    "print('\\nNo = 0')\n",
    "print(f'Freq: {dados_hepatite.shape[0] - dados_hepatite.SpleenPalpable.sum()}\\tProp: {(1-dados_hepatite.SpleenPalpable.mean()):.2f}')"
   ]
  },
  {
   "cell_type": "code",
   "execution_count": 87,
   "metadata": {
    "scrolled": false
   },
   "outputs": [
    {
     "data": {
      "image/png": "[encoded data removed]",
      "text/plain": [
       "<Figure size 402.375x360 with 1 Axes>"
      ]
     },
     "metadata": {
      "needs_background": "light"
     },
     "output_type": "display_data"
    }
   ],
   "source": [
    "# Visualizar balanceamento\n",
    "ax = sns.catplot(x = 'SpleenPalpable', hue = 'Class', data = dados_hepatite, kind = 'count')\n",
    "ax.set(ylabel = 'Número de Pacientes')\n",
    "plt.title('Pacientes Por SpleenPalpable')\n",
    "plt.tight_layout()"
   ]
  },
  {
   "cell_type": "markdown",
   "metadata": {},
   "source": [
    "__Spiders__\n",
    "\n",
    "Transformando \n",
    "\n",
    "* No: 1 = 0\n",
    "* Yes: 2 = 1"
   ]
  },
  {
   "cell_type": "code",
   "execution_count": 88,
   "metadata": {},
   "outputs": [],
   "source": [
    "# Recategorizar dados\n",
    "dados_hepatite['Spiders'] = dados_hepatite['Spiders'].replace('1', '0')\n",
    "dados_hepatite['Spiders'] = dados_hepatite['Spiders'].replace('2', '1')"
   ]
  },
  {
   "cell_type": "code",
   "execution_count": 89,
   "metadata": {},
   "outputs": [
    {
     "data": {
      "text/plain": [
       "5"
      ]
     },
     "execution_count": 89,
     "metadata": {},
     "output_type": "execute_result"
    }
   ],
   "source": [
    "# Visualizar missing\n",
    "dados_hepatite['Spiders'].isnull().sum()"
   ]
  },
  {
   "cell_type": "code",
   "execution_count": 90,
   "metadata": {},
   "outputs": [],
   "source": [
    "# Imputação da mediana em relação ao target\n",
    "dados_hepatite['Spiders'] = dados_hepatite['Spiders'].fillna(dados_hepatite['Spiders'].median())"
   ]
  },
  {
   "cell_type": "code",
   "execution_count": 91,
   "metadata": {},
   "outputs": [],
   "source": [
    "dados_hepatite['Spiders'] = dados_hepatite['Spiders'].astype('int')"
   ]
  },
  {
   "cell_type": "code",
   "execution_count": 92,
   "metadata": {
    "scrolled": false
   },
   "outputs": [
    {
     "name": "stdout",
     "output_type": "stream",
     "text": [
      "Yes = 1\n",
      "Freq: 104\tProp: 0.67\n",
      "\n",
      "No = 0\n",
      "Freq: 51\tProp: 0.33\n"
     ]
    }
   ],
   "source": [
    "print('Yes = 1')\n",
    "print(f'Freq: {dados_hepatite.Spiders.sum()}\\tProp: {dados_hepatite.Spiders.mean():.2f}')\n",
    "print('\\nNo = 0')\n",
    "print(f'Freq: {dados_hepatite.shape[0] - dados_hepatite.Spiders.sum()}\\tProp: {(1-dados_hepatite.Spiders.mean()):.2f}')"
   ]
  },
  {
   "cell_type": "code",
   "execution_count": 93,
   "metadata": {
    "scrolled": false
   },
   "outputs": [
    {
     "data": {
      "image/png": "[encoded data removed]",
      "text/plain": [
       "<Figure size 402.375x360 with 1 Axes>"
      ]
     },
     "metadata": {
      "needs_background": "light"
     },
     "output_type": "display_data"
    }
   ],
   "source": [
    "# Visualizar balanceamento\n",
    "ax = sns.catplot(x = 'Spiders', hue = 'Class', data = dados_hepatite, kind = 'count')\n",
    "ax.set(ylabel = 'Número de Pacientes')\n",
    "plt.title('Pacientes Por Spiders')\n",
    "plt.tight_layout()"
   ]
  },
  {
   "cell_type": "markdown",
   "metadata": {},
   "source": [
    "__Ascites__\n",
    "\n",
    "Transformando \n",
    "\n",
    "* No: 1 = 0\n",
    "* Yes: 2 = 1"
   ]
  },
  {
   "cell_type": "code",
   "execution_count": 94,
   "metadata": {},
   "outputs": [],
   "source": [
    "# Recategorizar dados\n",
    "dados_hepatite['Ascites'] = dados_hepatite['Ascites'].replace('1', '0')\n",
    "dados_hepatite['Ascites'] = dados_hepatite['Ascites'].replace('2', '1')"
   ]
  },
  {
   "cell_type": "code",
   "execution_count": 95,
   "metadata": {},
   "outputs": [
    {
     "data": {
      "text/plain": [
       "5"
      ]
     },
     "execution_count": 95,
     "metadata": {},
     "output_type": "execute_result"
    }
   ],
   "source": [
    "# Visualizar missing\n",
    "dados_hepatite['Ascites'].isnull().sum()"
   ]
  },
  {
   "cell_type": "code",
   "execution_count": 96,
   "metadata": {},
   "outputs": [],
   "source": [
    "# Imputação da mediana em relação ao target\n",
    "dados_hepatite['Ascites'] = dados_hepatite['Ascites'].fillna(dados_hepatite['Ascites'].median())"
   ]
  },
  {
   "cell_type": "code",
   "execution_count": 97,
   "metadata": {},
   "outputs": [],
   "source": [
    "dados_hepatite['Ascites'] = dados_hepatite['Ascites'].astype('int')"
   ]
  },
  {
   "cell_type": "code",
   "execution_count": 98,
   "metadata": {
    "scrolled": false
   },
   "outputs": [
    {
     "name": "stdout",
     "output_type": "stream",
     "text": [
      "Yes = 1\n",
      "Freq: 135\tProp: 0.87\n",
      "\n",
      "No = 0\n",
      "Freq: 20\tProp: 0.13\n"
     ]
    }
   ],
   "source": [
    "print('Yes = 1')\n",
    "print(f'Freq: {dados_hepatite.Ascites.sum()}\\tProp: {dados_hepatite.Ascites.mean():.2f}')\n",
    "print('\\nNo = 0')\n",
    "print(f'Freq: {dados_hepatite.shape[0] - dados_hepatite.Ascites.sum()}\\tProp: {(1-dados_hepatite.Ascites.mean()):.2f}')"
   ]
  },
  {
   "cell_type": "code",
   "execution_count": 99,
   "metadata": {
    "scrolled": false
   },
   "outputs": [
    {
     "data": {
      "image/png": "[encoded data removed]",
      "text/plain": [
       "<Figure size 402.375x360 with 1 Axes>"
      ]
     },
     "metadata": {
      "needs_background": "light"
     },
     "output_type": "display_data"
    }
   ],
   "source": [
    "# Visualizar balanceamento\n",
    "ax = sns.catplot(x = 'Ascites', hue = 'Class', data = dados_hepatite, kind = 'count')\n",
    "ax.set(ylabel = 'Número de Pacientes')\n",
    "plt.title('Pacientes Por Ascites')\n",
    "plt.tight_layout()"
   ]
  },
  {
   "cell_type": "markdown",
   "metadata": {},
   "source": [
    "__Varices__\n",
    "\n",
    "Transformando \n",
    "\n",
    "* No: 1 = 0\n",
    "* Yes: 2 = 1"
   ]
  },
  {
   "cell_type": "code",
   "execution_count": 100,
   "metadata": {},
   "outputs": [],
   "source": [
    "# Recategorizar dados\n",
    "dados_hepatite['Varices'] = dados_hepatite['Varices'].replace('1', '0')\n",
    "dados_hepatite['Varices'] = dados_hepatite['Varices'].replace('2', '1')"
   ]
  },
  {
   "cell_type": "code",
   "execution_count": 101,
   "metadata": {},
   "outputs": [
    {
     "data": {
      "text/plain": [
       "5"
      ]
     },
     "execution_count": 101,
     "metadata": {},
     "output_type": "execute_result"
    }
   ],
   "source": [
    "# Visualizar missing\n",
    "dados_hepatite['Varices'].isnull().sum()"
   ]
  },
  {
   "cell_type": "code",
   "execution_count": 102,
   "metadata": {},
   "outputs": [],
   "source": [
    "# Imputação da mediana em relação ao target\n",
    "dados_hepatite['Varices'] = dados_hepatite['Varices'].fillna(dados_hepatite['Varices'].median())"
   ]
  },
  {
   "cell_type": "code",
   "execution_count": 103,
   "metadata": {},
   "outputs": [],
   "source": [
    "dados_hepatite['Varices'] = dados_hepatite['Varices'].astype('int')"
   ]
  },
  {
   "cell_type": "code",
   "execution_count": 104,
   "metadata": {
    "scrolled": false
   },
   "outputs": [
    {
     "name": "stdout",
     "output_type": "stream",
     "text": [
      "Yes = 1\n",
      "Freq: 137\tProp: 0.88\n",
      "\n",
      "No = 0\n",
      "Freq: 18\tProp: 0.12\n"
     ]
    }
   ],
   "source": [
    "print('Yes = 1')\n",
    "print(f'Freq: {dados_hepatite.Varices.sum()}\\tProp: {dados_hepatite.Varices.mean():.2f}')\n",
    "print('\\nNo = 0')\n",
    "print(f'Freq: {dados_hepatite.shape[0] - dados_hepatite.Varices.sum()}\\tProp: {(1-dados_hepatite.Varices.mean()):.2f}')"
   ]
  },
  {
   "cell_type": "code",
   "execution_count": 105,
   "metadata": {
    "scrolled": false
   },
   "outputs": [
    {
     "data": {
      "image/png": "[encoded data removed]",
      "text/plain": [
       "<Figure size 402.375x360 with 1 Axes>"
      ]
     },
     "metadata": {
      "needs_background": "light"
     },
     "output_type": "display_data"
    }
   ],
   "source": [
    "# Visualizar balanceamento\n",
    "ax = sns.catplot(x = 'Varices', hue = 'Class', data = dados_hepatite, kind = 'count')\n",
    "ax.set(ylabel = 'Número de Pacientes')\n",
    "plt.title('Pacientes Por Varices')\n",
    "plt.tight_layout()"
   ]
  },
  {
   "cell_type": "markdown",
   "metadata": {},
   "source": [
    "__Histology__\n",
    "\n",
    "Transformando \n",
    "\n",
    "* No: 1 = 0\n",
    "* Yes: 2 = 1"
   ]
  },
  {
   "cell_type": "code",
   "execution_count": 106,
   "metadata": {},
   "outputs": [],
   "source": [
    "# Recategorizar dados\n",
    "dados_hepatite['Histology'] = dados_hepatite['Histology'].replace(1, 0)\n",
    "dados_hepatite['Histology'] = dados_hepatite['Histology'].replace(2, 1)"
   ]
  },
  {
   "cell_type": "code",
   "execution_count": 107,
   "metadata": {},
   "outputs": [
    {
     "data": {
      "text/plain": [
       "0"
      ]
     },
     "execution_count": 107,
     "metadata": {},
     "output_type": "execute_result"
    }
   ],
   "source": [
    "# Visualizar missing\n",
    "dados_hepatite['Histology'].isnull().sum()"
   ]
  },
  {
   "cell_type": "code",
   "execution_count": 108,
   "metadata": {},
   "outputs": [
    {
     "name": "stdout",
     "output_type": "stream",
     "text": [
      "Yes = 1\n",
      "Freq: 70\tProp: 0.45\n",
      "\n",
      "No = 0\n",
      "Freq: 85\tProp: 0.55\n"
     ]
    }
   ],
   "source": [
    "print('Yes = 1')\n",
    "print(f'Freq: {dados_hepatite.Histology.sum()}\\tProp: {dados_hepatite.Histology.mean():.2f}')\n",
    "print('\\nNo = 0')\n",
    "print(f'Freq: {dados_hepatite.shape[0] - dados_hepatite.Histology.sum()}\\tProp: {(1-dados_hepatite.Histology.mean()):.2f}')"
   ]
  },
  {
   "cell_type": "code",
   "execution_count": 109,
   "metadata": {
    "scrolled": false
   },
   "outputs": [
    {
     "data": {
      "image/png": "[encoded data removed]",
      "text/plain": [
       "<Figure size 402.375x360 with 1 Axes>"
      ]
     },
     "metadata": {
      "needs_background": "light"
     },
     "output_type": "display_data"
    }
   ],
   "source": [
    "# Visualizar balanceamento\n",
    "ax = sns.catplot(x = 'Histology', hue = 'Class', data = dados_hepatite, kind = 'count')\n",
    "ax.set(ylabel = 'Número de Pacientes')\n",
    "plt.title('Pacientes Por Histology')\n",
    "plt.tight_layout()"
   ]
  },
  {
   "cell_type": "markdown",
   "metadata": {},
   "source": [
    "Confirmar limpeza de dados"
   ]
  },
  {
   "cell_type": "code",
   "execution_count": 110,
   "metadata": {},
   "outputs": [
    {
     "data": {
      "text/html": [
       "<div>\n",
       "<style scoped>\n",
       "    .dataframe tbody tr th:only-of-type {\n",
       "        vertical-align: middle;\n",
       "    }\n",
       "\n",
       "    .dataframe tbody tr th {\n",
       "        vertical-align: top;\n",
       "    }\n",
       "\n",
       "    .dataframe thead th {\n",
       "        text-align: right;\n",
       "    }\n",
       "</style>\n",
       "<table border=\"1\" class=\"dataframe\">\n",
       "  <thead>\n",
       "    <tr style=\"text-align: right;\">\n",
       "      <th></th>\n",
       "      <th>Class</th>\n",
       "      <th>Age</th>\n",
       "      <th>Gender</th>\n",
       "      <th>Steroid</th>\n",
       "      <th>Antivirals</th>\n",
       "      <th>Fatigue</th>\n",
       "      <th>Malaise</th>\n",
       "      <th>Anorexia</th>\n",
       "      <th>LiverBig</th>\n",
       "      <th>LiverFirm</th>\n",
       "      <th>SpleenPalpable</th>\n",
       "      <th>Spiders</th>\n",
       "      <th>Ascites</th>\n",
       "      <th>Varices</th>\n",
       "      <th>Bilirubin</th>\n",
       "      <th>AlkPhosphate</th>\n",
       "      <th>SGOT</th>\n",
       "      <th>Albumin</th>\n",
       "      <th>Protime</th>\n",
       "      <th>Histology</th>\n",
       "    </tr>\n",
       "  </thead>\n",
       "  <tbody>\n",
       "    <tr>\n",
       "      <th>0</th>\n",
       "      <td>1</td>\n",
       "      <td>30</td>\n",
       "      <td>1</td>\n",
       "      <td>0</td>\n",
       "      <td>1</td>\n",
       "      <td>1</td>\n",
       "      <td>1</td>\n",
       "      <td>1</td>\n",
       "      <td>0</td>\n",
       "      <td>1</td>\n",
       "      <td>1</td>\n",
       "      <td>1</td>\n",
       "      <td>1</td>\n",
       "      <td>1</td>\n",
       "      <td>1.0</td>\n",
       "      <td>85.0</td>\n",
       "      <td>18.0</td>\n",
       "      <td>4.0</td>\n",
       "      <td>66.0</td>\n",
       "      <td>0</td>\n",
       "    </tr>\n",
       "    <tr>\n",
       "      <th>1</th>\n",
       "      <td>1</td>\n",
       "      <td>50</td>\n",
       "      <td>0</td>\n",
       "      <td>0</td>\n",
       "      <td>1</td>\n",
       "      <td>0</td>\n",
       "      <td>1</td>\n",
       "      <td>1</td>\n",
       "      <td>0</td>\n",
       "      <td>1</td>\n",
       "      <td>1</td>\n",
       "      <td>1</td>\n",
       "      <td>1</td>\n",
       "      <td>1</td>\n",
       "      <td>0.9</td>\n",
       "      <td>135.0</td>\n",
       "      <td>42.0</td>\n",
       "      <td>3.5</td>\n",
       "      <td>66.0</td>\n",
       "      <td>0</td>\n",
       "    </tr>\n",
       "    <tr>\n",
       "      <th>2</th>\n",
       "      <td>1</td>\n",
       "      <td>78</td>\n",
       "      <td>0</td>\n",
       "      <td>1</td>\n",
       "      <td>1</td>\n",
       "      <td>0</td>\n",
       "      <td>1</td>\n",
       "      <td>1</td>\n",
       "      <td>1</td>\n",
       "      <td>1</td>\n",
       "      <td>1</td>\n",
       "      <td>1</td>\n",
       "      <td>1</td>\n",
       "      <td>1</td>\n",
       "      <td>0.7</td>\n",
       "      <td>96.0</td>\n",
       "      <td>32.0</td>\n",
       "      <td>4.0</td>\n",
       "      <td>66.0</td>\n",
       "      <td>0</td>\n",
       "    </tr>\n",
       "    <tr>\n",
       "      <th>3</th>\n",
       "      <td>1</td>\n",
       "      <td>31</td>\n",
       "      <td>0</td>\n",
       "      <td>1</td>\n",
       "      <td>0</td>\n",
       "      <td>1</td>\n",
       "      <td>1</td>\n",
       "      <td>1</td>\n",
       "      <td>1</td>\n",
       "      <td>1</td>\n",
       "      <td>1</td>\n",
       "      <td>1</td>\n",
       "      <td>1</td>\n",
       "      <td>1</td>\n",
       "      <td>0.7</td>\n",
       "      <td>46.0</td>\n",
       "      <td>52.0</td>\n",
       "      <td>4.0</td>\n",
       "      <td>80.0</td>\n",
       "      <td>0</td>\n",
       "    </tr>\n",
       "    <tr>\n",
       "      <th>4</th>\n",
       "      <td>1</td>\n",
       "      <td>34</td>\n",
       "      <td>0</td>\n",
       "      <td>1</td>\n",
       "      <td>1</td>\n",
       "      <td>1</td>\n",
       "      <td>1</td>\n",
       "      <td>1</td>\n",
       "      <td>1</td>\n",
       "      <td>1</td>\n",
       "      <td>1</td>\n",
       "      <td>1</td>\n",
       "      <td>1</td>\n",
       "      <td>1</td>\n",
       "      <td>1.0</td>\n",
       "      <td>85.0</td>\n",
       "      <td>200.0</td>\n",
       "      <td>4.0</td>\n",
       "      <td>66.0</td>\n",
       "      <td>0</td>\n",
       "    </tr>\n",
       "  </tbody>\n",
       "</table>\n",
       "</div>"
      ],
      "text/plain": [
       "   Class  Age  Gender  Steroid  Antivirals  Fatigue  Malaise  Anorexia  \\\n",
       "0      1   30       1        0           1        1        1         1   \n",
       "1      1   50       0        0           1        0        1         1   \n",
       "2      1   78       0        1           1        0        1         1   \n",
       "3      1   31       0        1           0        1        1         1   \n",
       "4      1   34       0        1           1        1        1         1   \n",
       "\n",
       "   LiverBig  LiverFirm  SpleenPalpable  Spiders  Ascites  Varices  Bilirubin  \\\n",
       "0         0          1               1        1        1        1        1.0   \n",
       "1         0          1               1        1        1        1        0.9   \n",
       "2         1          1               1        1        1        1        0.7   \n",
       "3         1          1               1        1        1        1        0.7   \n",
       "4         1          1               1        1        1        1        1.0   \n",
       "\n",
       "   AlkPhosphate   SGOT  Albumin  Protime  Histology  \n",
       "0          85.0   18.0      4.0     66.0          0  \n",
       "1         135.0   42.0      3.5     66.0          0  \n",
       "2          96.0   32.0      4.0     66.0          0  \n",
       "3          46.0   52.0      4.0     80.0          0  \n",
       "4          85.0  200.0      4.0     66.0          0  "
      ]
     },
     "execution_count": 110,
     "metadata": {},
     "output_type": "execute_result"
    }
   ],
   "source": [
    "# Visualizar as primeiras linhas\n",
    "dados_hepatite.head()"
   ]
  },
  {
   "cell_type": "code",
   "execution_count": 111,
   "metadata": {},
   "outputs": [
    {
     "data": {
      "text/plain": [
       "Class             0.0\n",
       "Age               0.0\n",
       "Gender            0.0\n",
       "Steroid           0.0\n",
       "Antivirals        0.0\n",
       "Fatigue           0.0\n",
       "Malaise           0.0\n",
       "Anorexia          0.0\n",
       "LiverBig          0.0\n",
       "LiverFirm         0.0\n",
       "SpleenPalpable    0.0\n",
       "Spiders           0.0\n",
       "Ascites           0.0\n",
       "Varices           0.0\n",
       "Bilirubin         0.0\n",
       "AlkPhosphate      0.0\n",
       "SGOT              0.0\n",
       "Albumin           0.0\n",
       "Protime           0.0\n",
       "Histology         0.0\n",
       "dtype: float64"
      ]
     },
     "execution_count": 111,
     "metadata": {},
     "output_type": "execute_result"
    }
   ],
   "source": [
    "# Porcentagem de valores missing\n",
    "1-(dados_hepatite.count() / dados_hepatite.shape[0]).round(2)"
   ]
  },
  {
   "cell_type": "markdown",
   "metadata": {},
   "source": [
    "Explorar algumas correlações"
   ]
  },
  {
   "cell_type": "code",
   "execution_count": 112,
   "metadata": {},
   "outputs": [
    {
     "data": {
      "image/png": "[encoded data removed]",
      "text/plain": [
       "<Figure size 942.375x900 with 30 Axes>"
      ]
     },
     "metadata": {
      "needs_background": "light"
     },
     "output_type": "display_data"
    }
   ],
   "source": [
    "# Analisando a relação entre algumas variáveis\n",
    "cols = ['Protime','AlkPhosphate', 'Albumin', 'Bilirubin','Age','Class']\n",
    "g = sns.pairplot(dados_hepatite[cols], diag_kind = \"hist\", hue = 'Class')\n",
    "for ax in g.axes.flat: \n",
    "    plt.setp(ax.get_xticklabels(), rotation=45)"
   ]
  },
  {
   "cell_type": "markdown",
   "metadata": {},
   "source": [
    "## Preparação dos Dados Para Modelagem"
   ]
  },
  {
   "cell_type": "code",
   "execution_count": 113,
   "metadata": {},
   "outputs": [],
   "source": [
    "# Gerando X e y\n",
    "X = dados_hepatite.drop(['Class'], axis=1)\n",
    "y = dados_hepatite.Class"
   ]
  },
  {
   "cell_type": "code",
   "execution_count": 114,
   "metadata": {},
   "outputs": [],
   "source": [
    "# Divisão em dados de treino e teste\n",
    "X_treino, X_teste, y_treino, y_teste = train_test_split(X, y, random_state = 23)"
   ]
  },
  {
   "cell_type": "code",
   "execution_count": 115,
   "metadata": {},
   "outputs": [
    {
     "data": {
      "text/html": [
       "<div>\n",
       "<style scoped>\n",
       "    .dataframe tbody tr th:only-of-type {\n",
       "        vertical-align: middle;\n",
       "    }\n",
       "\n",
       "    .dataframe tbody tr th {\n",
       "        vertical-align: top;\n",
       "    }\n",
       "\n",
       "    .dataframe thead th {\n",
       "        text-align: right;\n",
       "    }\n",
       "</style>\n",
       "<table border=\"1\" class=\"dataframe\">\n",
       "  <thead>\n",
       "    <tr style=\"text-align: right;\">\n",
       "      <th></th>\n",
       "      <th>Age</th>\n",
       "      <th>Gender</th>\n",
       "      <th>Steroid</th>\n",
       "      <th>Antivirals</th>\n",
       "      <th>Fatigue</th>\n",
       "      <th>Malaise</th>\n",
       "      <th>Anorexia</th>\n",
       "      <th>LiverBig</th>\n",
       "      <th>LiverFirm</th>\n",
       "      <th>SpleenPalpable</th>\n",
       "      <th>Spiders</th>\n",
       "      <th>Ascites</th>\n",
       "      <th>Varices</th>\n",
       "      <th>Bilirubin</th>\n",
       "      <th>AlkPhosphate</th>\n",
       "      <th>SGOT</th>\n",
       "      <th>Albumin</th>\n",
       "      <th>Protime</th>\n",
       "      <th>Histology</th>\n",
       "    </tr>\n",
       "  </thead>\n",
       "  <tbody>\n",
       "    <tr>\n",
       "      <th>81</th>\n",
       "      <td>36</td>\n",
       "      <td>0</td>\n",
       "      <td>1</td>\n",
       "      <td>1</td>\n",
       "      <td>1</td>\n",
       "      <td>1</td>\n",
       "      <td>1</td>\n",
       "      <td>1</td>\n",
       "      <td>1</td>\n",
       "      <td>1</td>\n",
       "      <td>1</td>\n",
       "      <td>1</td>\n",
       "      <td>1</td>\n",
       "      <td>0.7</td>\n",
       "      <td>62.0</td>\n",
       "      <td>224.0</td>\n",
       "      <td>4.2</td>\n",
       "      <td>100.0</td>\n",
       "      <td>0</td>\n",
       "    </tr>\n",
       "    <tr>\n",
       "      <th>88</th>\n",
       "      <td>38</td>\n",
       "      <td>0</td>\n",
       "      <td>0</td>\n",
       "      <td>1</td>\n",
       "      <td>0</td>\n",
       "      <td>0</td>\n",
       "      <td>0</td>\n",
       "      <td>1</td>\n",
       "      <td>0</td>\n",
       "      <td>1</td>\n",
       "      <td>0</td>\n",
       "      <td>0</td>\n",
       "      <td>0</td>\n",
       "      <td>1.2</td>\n",
       "      <td>118.0</td>\n",
       "      <td>16.0</td>\n",
       "      <td>2.8</td>\n",
       "      <td>39.0</td>\n",
       "      <td>1</td>\n",
       "    </tr>\n",
       "    <tr>\n",
       "      <th>113</th>\n",
       "      <td>45</td>\n",
       "      <td>0</td>\n",
       "      <td>0</td>\n",
       "      <td>1</td>\n",
       "      <td>0</td>\n",
       "      <td>1</td>\n",
       "      <td>1</td>\n",
       "      <td>1</td>\n",
       "      <td>0</td>\n",
       "      <td>0</td>\n",
       "      <td>1</td>\n",
       "      <td>1</td>\n",
       "      <td>1</td>\n",
       "      <td>1.2</td>\n",
       "      <td>81.0</td>\n",
       "      <td>65.0</td>\n",
       "      <td>3.0</td>\n",
       "      <td>66.0</td>\n",
       "      <td>0</td>\n",
       "    </tr>\n",
       "    <tr>\n",
       "      <th>44</th>\n",
       "      <td>34</td>\n",
       "      <td>0</td>\n",
       "      <td>1</td>\n",
       "      <td>1</td>\n",
       "      <td>1</td>\n",
       "      <td>1</td>\n",
       "      <td>1</td>\n",
       "      <td>1</td>\n",
       "      <td>1</td>\n",
       "      <td>1</td>\n",
       "      <td>1</td>\n",
       "      <td>1</td>\n",
       "      <td>1</td>\n",
       "      <td>1.0</td>\n",
       "      <td>85.0</td>\n",
       "      <td>86.0</td>\n",
       "      <td>4.0</td>\n",
       "      <td>66.0</td>\n",
       "      <td>0</td>\n",
       "    </tr>\n",
       "    <tr>\n",
       "      <th>67</th>\n",
       "      <td>57</td>\n",
       "      <td>0</td>\n",
       "      <td>1</td>\n",
       "      <td>1</td>\n",
       "      <td>0</td>\n",
       "      <td>0</td>\n",
       "      <td>0</td>\n",
       "      <td>1</td>\n",
       "      <td>1</td>\n",
       "      <td>1</td>\n",
       "      <td>0</td>\n",
       "      <td>0</td>\n",
       "      <td>1</td>\n",
       "      <td>4.1</td>\n",
       "      <td>113.5</td>\n",
       "      <td>48.0</td>\n",
       "      <td>2.6</td>\n",
       "      <td>73.0</td>\n",
       "      <td>0</td>\n",
       "    </tr>\n",
       "  </tbody>\n",
       "</table>\n",
       "</div>"
      ],
      "text/plain": [
       "     Age  Gender  Steroid  Antivirals  Fatigue  Malaise  Anorexia  LiverBig  \\\n",
       "81    36       0        1           1        1        1         1         1   \n",
       "88    38       0        0           1        0        0         0         1   \n",
       "113   45       0        0           1        0        1         1         1   \n",
       "44    34       0        1           1        1        1         1         1   \n",
       "67    57       0        1           1        0        0         0         1   \n",
       "\n",
       "     LiverFirm  SpleenPalpable  Spiders  Ascites  Varices  Bilirubin  \\\n",
       "81           1               1        1        1        1        0.7   \n",
       "88           0               1        0        0        0        1.2   \n",
       "113          0               0        1        1        1        1.2   \n",
       "44           1               1        1        1        1        1.0   \n",
       "67           1               1        0        0        1        4.1   \n",
       "\n",
       "     AlkPhosphate   SGOT  Albumin  Protime  Histology  \n",
       "81           62.0  224.0      4.2    100.0          0  \n",
       "88          118.0   16.0      2.8     39.0          1  \n",
       "113          81.0   65.0      3.0     66.0          0  \n",
       "44           85.0   86.0      4.0     66.0          0  \n",
       "67          113.5   48.0      2.6     73.0          0  "
      ]
     },
     "execution_count": 115,
     "metadata": {},
     "output_type": "execute_result"
    }
   ],
   "source": [
    "X_teste.head()"
   ]
  },
  {
   "cell_type": "code",
   "execution_count": 116,
   "metadata": {},
   "outputs": [],
   "source": [
    "# Cria um classiifcador de Regressão logística\n",
    "cls_v1 = LogisticRegression()"
   ]
  },
  {
   "cell_type": "code",
   "execution_count": 117,
   "metadata": {},
   "outputs": [],
   "source": [
    "# Treina o classificador e contrói o modelo\n",
    "modelo_v1 = cls_v1.fit(X_treino, y_treino)"
   ]
  },
  {
   "cell_type": "code",
   "execution_count": 118,
   "metadata": {},
   "outputs": [],
   "source": [
    "# Fazendo previsões com os dados de teste\n",
    "y_pred_class = modelo_v1.predict(X_teste)"
   ]
  },
  {
   "cell_type": "code",
   "execution_count": 119,
   "metadata": {},
   "outputs": [
    {
     "name": "stdout",
     "output_type": "stream",
     "text": [
      "0.8461538461538461\n"
     ]
    }
   ],
   "source": [
    "# Calculando a acurácia 0.5\n",
    "print(metrics.accuracy_score(y_teste, y_pred_class))"
   ]
  },
  {
   "cell_type": "code",
   "execution_count": 120,
   "metadata": {},
   "outputs": [
    {
     "name": "stdout",
     "output_type": "stream",
     "text": [
      "[[ 2  5]\n",
      " [ 1 31]]\n"
     ]
    }
   ],
   "source": [
    "# Calculado a Matriz de Confusão\n",
    "conf = metrics.confusion_matrix(y_teste, y_pred_class)\n",
    "print(conf)"
   ]
  },
  {
   "cell_type": "code",
   "execution_count": 121,
   "metadata": {},
   "outputs": [
    {
     "data": {
      "image/png": "[encoded data removed]",
      "text/plain": [
       "<Figure size 432x288 with 2 Axes>"
      ]
     },
     "metadata": {
      "needs_background": "light"
     },
     "output_type": "display_data"
    }
   ],
   "source": [
    "# Criando a Matrix de Confusão de forma visual\n",
    "cmap = sns.cubehelix_palette(as_cmap = True)\n",
    "sns.heatmap(\n",
    "    conf, \n",
    "    cmap = cmap, \n",
    "    xticklabels = ['Faleceu\\n(pred)','Não Faleceu\\n(pred)'], \n",
    "    yticklabels = ['Faleceu\\n(hist)','Não Faleceu\\n(hist)'], \n",
    "    annot = True\n",
    ")\n",
    "plt.tight_layout()"
   ]
  },
  {
   "cell_type": "code",
   "execution_count": 122,
   "metadata": {},
   "outputs": [],
   "source": [
    "# Prevendo as probabilidades\n",
    "predict_prob = modelo_v1.predict_proba(X_teste)"
   ]
  },
  {
   "cell_type": "code",
   "execution_count": 123,
   "metadata": {},
   "outputs": [
    {
     "data": {
      "text/plain": [
       "array([[0.00216021, 0.99783979],\n",
       "       [0.39510419, 0.60489581],\n",
       "       [0.11447685, 0.88552315],\n",
       "       [0.01558404, 0.98441596],\n",
       "       [0.39279262, 0.60720738]])"
      ]
     },
     "execution_count": 123,
     "metadata": {},
     "output_type": "execute_result"
    }
   ],
   "source": [
    "# Visualizar as 5 primeiras\n",
    "predict_prob[:5]"
   ]
  },
  {
   "cell_type": "code",
   "execution_count": 124,
   "metadata": {},
   "outputs": [],
   "source": [
    "# Preparação de variáveis para visualização gráfica\n",
    "y_true = np.array(y_teste)\n",
    "fpr, tpr, thresholds = roc_curve(y_true, predict_prob[:,1])"
   ]
  },
  {
   "cell_type": "code",
   "execution_count": 125,
   "metadata": {},
   "outputs": [
    {
     "data": {
      "image/png": "[encoded data removed]",
      "text/plain": [
       "<Figure size 432x288 with 1 Axes>"
      ]
     },
     "metadata": {
      "needs_background": "light"
     },
     "output_type": "display_data"
    }
   ],
   "source": [
    "# Curva ROC\n",
    "plt.plot(fpr, tpr)\n",
    "#plt.xlim([0.0, 1.0])\n",
    "#plt.ylim([0.0, 1.0])\n",
    "plt.title('Curva ROC Para Dados Não Balanceados')\n",
    "plt.xlabel('Taxa de Falso Positivo (Especificidade)')\n",
    "plt.ylabel('Taxa de Verdadeiro Positivo (Sensibilidade)')\n",
    "plt.plot([0,1],[0,1],'r--')\n",
    "plt.grid(True)"
   ]
  },
  {
   "cell_type": "code",
   "execution_count": 126,
   "metadata": {},
   "outputs": [
    {
     "name": "stdout",
     "output_type": "stream",
     "text": [
      "Area Under The ROC Curve (AUC: 0.955)\n"
     ]
    }
   ],
   "source": [
    "# Métrica AUC\n",
    "roc_auc = metrics.auc(fpr, tpr)\n",
    "print(f'Area Under The ROC Curve (AUC: {roc_auc:.3f})')"
   ]
  },
  {
   "cell_type": "markdown",
   "metadata": {},
   "source": [
    "## Problema - Classes Desbalanceadas"
   ]
  },
  {
   "cell_type": "code",
   "execution_count": 127,
   "metadata": {},
   "outputs": [],
   "source": [
    "# Treinando o modelo com dados balanceados\n",
    "cls_v2 = LogisticRegression(class_weight='balanced')\n",
    "modelo_v2 = cls_v2.fit(X_treino, y_treino)"
   ]
  },
  {
   "cell_type": "code",
   "execution_count": 128,
   "metadata": {},
   "outputs": [],
   "source": [
    "# Previsões\n",
    "y_pred_class = modelo_v2.predict(X_teste)"
   ]
  },
  {
   "cell_type": "code",
   "execution_count": 129,
   "metadata": {},
   "outputs": [
    {
     "name": "stdout",
     "output_type": "stream",
     "text": [
      "[[ 7  0]\n",
      " [ 2 30]]\n"
     ]
    }
   ],
   "source": [
    "# Criando a Matrix de Confusão\n",
    "conf = metrics.confusion_matrix(y_teste, y_pred_class)\n",
    "print(conf)"
   ]
  },
  {
   "cell_type": "code",
   "execution_count": 130,
   "metadata": {},
   "outputs": [
    {
     "data": {
      "image/png": "[encoded data removed]",
      "text/plain": [
       "<Figure size 432x288 with 2 Axes>"
      ]
     },
     "metadata": {
      "needs_background": "light"
     },
     "output_type": "display_data"
    }
   ],
   "source": [
    "# Criando a Matrix de Confusão de forma visual\n",
    "cmap = sns.cubehelix_palette(as_cmap = True)\n",
    "sns.heatmap(\n",
    "    conf, \n",
    "    cmap = cmap, \n",
    "    xticklabels = ['Faleceu\\n(pred)','Não Faleceu\\n(pred)'], \n",
    "    yticklabels = ['Faleceu\\n(hist)','Não Faleceu\\n(hist)'], \n",
    "    annot = True\n",
    ")\n",
    "plt.tight_layout()"
   ]
  },
  {
   "cell_type": "code",
   "execution_count": 131,
   "metadata": {},
   "outputs": [],
   "source": [
    "predict_prob = modelo_v2.predict_proba(X_teste)\n",
    "fpr, tpr, thresholds = roc_curve(y_teste, predict_prob[:,1])"
   ]
  },
  {
   "cell_type": "code",
   "execution_count": 132,
   "metadata": {},
   "outputs": [
    {
     "data": {
      "image/png": "[encoded data removed]",
      "text/plain": [
       "<Figure size 432x288 with 1 Axes>"
      ]
     },
     "metadata": {
      "needs_background": "light"
     },
     "output_type": "display_data"
    }
   ],
   "source": [
    "# Curva ROC\n",
    "plt.plot(fpr, tpr)\n",
    "#plt.xlim([0.0, 1.0])\n",
    "#plt.ylim([0.0, 1.0])\n",
    "plt.title('Curva ROC Para Dados Não Balanceados')\n",
    "plt.xlabel('Taxa de Falso Positivo (Especificidade)')\n",
    "plt.ylabel('Taxa de Verdadeiro Positivo (Sensibilidade)')\n",
    "plt.plot([0,1],[0,1],'r--')\n",
    "plt.grid(True)"
   ]
  },
  {
   "cell_type": "code",
   "execution_count": 133,
   "metadata": {},
   "outputs": [
    {
     "name": "stdout",
     "output_type": "stream",
     "text": [
      "Area Under The ROC Curve (AUC: 0.978)\n"
     ]
    }
   ],
   "source": [
    "# Métrica AUC\n",
    "roc_auc = metrics.auc(fpr, tpr)\n",
    "print(f'Area Under The ROC Curve (AUC: {roc_auc:.3f})')"
   ]
  },
  {
   "cell_type": "markdown",
   "metadata": {},
   "source": [
    "## Fazendo Previsões com Novos Dados"
   ]
  },
  {
   "cell_type": "code",
   "execution_count": 134,
   "metadata": {},
   "outputs": [],
   "source": [
    "# Novos dados\n",
    "novo_paciente = np.array([34,0,1.0,1,1.0,1.0,1.0,1.0,1.0,1.0,1.0,1.0,1.0,0.7,62.0,214.0,4.2,100.0,0])\n",
    "\n",
    "# Reshape do array\n",
    "novo_paciente_reshaped = novo_paciente.reshape(1, -1)"
   ]
  },
  {
   "cell_type": "code",
   "execution_count": 135,
   "metadata": {},
   "outputs": [
    {
     "data": {
      "text/plain": [
       "array([[0.00420857, 0.99579143]])"
      ]
     },
     "execution_count": 135,
     "metadata": {},
     "output_type": "execute_result"
    }
   ],
   "source": [
    "# Prevendo as probabilidades para cada classe\n",
    "modelo_v2.predict_proba(novo_paciente_reshaped)"
   ]
  },
  {
   "cell_type": "code",
   "execution_count": 136,
   "metadata": {},
   "outputs": [
    {
     "data": {
      "text/plain": [
       "array([1])"
      ]
     },
     "execution_count": 136,
     "metadata": {},
     "output_type": "execute_result"
    }
   ],
   "source": [
    "# Prevendo a classe\n",
    "modelo_v2.predict(novo_paciente_reshaped)"
   ]
  },
  {
   "cell_type": "markdown",
   "metadata": {},
   "source": [
    "Ao que parece, esse paciente não irá a óbito."
   ]
  },
  {
   "cell_type": "markdown",
   "metadata": {},
   "source": [
    "---"
   ]
  }
 ],
 "metadata": {
  "kernelspec": {
   "display_name": "Python 3",
   "language": "python",
   "name": "python3"
  },
  "language_info": {
   "codemirror_mode": {
    "name": "ipython",
    "version": 3
   },
   "file_extension": ".py",
   "mimetype": "text/x-python",
   "name": "python",
   "nbconvert_exporter": "python",
   "pygments_lexer": "ipython3",
   "version": "3.7.6"
  }
 },
 "nbformat": 4,
 "nbformat_minor": 2
}
