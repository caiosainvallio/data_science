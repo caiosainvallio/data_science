{
 "cells": [
  {
   "cell_type": "markdown",
   "metadata": {},
   "source": [
    "# Data Science Aplicada à Área de Saúde"
   ]
  },
  {
   "cell_type": "markdown",
   "metadata": {},
   "source": [
    "Projeto de análise de dados da formação FIAMED da [DSA](https://www.datascienceacademy.com.br/)"
   ]
  },
  {
   "cell_type": "markdown",
   "metadata": {},
   "source": [
    "## Detecção de cancer de pulmão em imagens médicas com Deep Learning"
   ]
  },
  {
   "cell_type": "markdown",
   "metadata": {},
   "source": [
    "## Treinamento do modelo"
   ]
  },
  {
   "cell_type": "markdown",
   "metadata": {},
   "source": [
    "Treinamento de um modelo de Deep Learning com arquitetura de Rede Neural Convolucional.\n",
    "\n",
    "O dataset contém imagens radiológicas de pulmoẽs com e sem câncer previamente rotulados."
   ]
  },
  {
   "cell_type": "markdown",
   "metadata": {},
   "source": [
    "### Carregando pacotes"
   ]
  },
  {
   "cell_type": "code",
   "execution_count": 1,
   "metadata": {},
   "outputs": [],
   "source": [
    "# Compatibilidade CuDNN\n",
    "import tensorflow as tf\n",
    "config = tf.compat.v1.ConfigProto()\n",
    "config.gpu_options.allow_growth = True\n",
    "sess = tf.compat.v1.Session(config=config)"
   ]
  },
  {
   "cell_type": "code",
   "execution_count": 2,
   "metadata": {},
   "outputs": [],
   "source": [
    "# Imports\n",
    "import os\n",
    "import sys\n",
    "import cv2\n",
    "import random\n",
    "import tensorflow\n",
    "import keras\n",
    "import itertools\n",
    "import matplotlib as m\n",
    "import numpy as np\n",
    "import matplotlib.pyplot as plt\n",
    "from keras import backend as K\n",
    "from keras.models import Sequential\n",
    "from keras.layers.convolutional import Conv2D, MaxPooling2D\n",
    "from keras.layers.core import Activation, Flatten, Dense\n",
    "from keras.preprocessing.image import img_to_array\n",
    "from keras.preprocessing.image import ImageDataGenerator\n",
    "from keras.utils import to_categorical\n",
    "from keras.optimizers import Adam\n",
    "from keras.models import load_model\n",
    "from sklearn.metrics import confusion_matrix, classification_report\n",
    "from sklearn.model_selection import train_test_split\n",
    "import imutils\n",
    "import argparse\n",
    "from imutils import paths"
   ]
  },
  {
   "cell_type": "code",
   "execution_count": 3,
   "metadata": {},
   "outputs": [],
   "source": [
    "# Configuração dos plots\n",
    "m.rcParams['axes.labelsize'] = 14\n",
    "m.rcParams['xtick.labelsize'] = 12\n",
    "m.rcParams['ytick.labelsize'] = 12\n",
    "from matplotlib.pylab import rcParams\n",
    "rcParams['figure.figsize'] = 15,7\n",
    "%matplotlib inline"
   ]
  },
  {
   "cell_type": "code",
   "execution_count": 4,
   "metadata": {},
   "outputs": [
    {
     "name": "stdout",
     "output_type": "stream",
     "text": [
      "matplotlib 3.2.2\n",
      "keras      2.4.3\n",
      "tensorflow 2.3.0\n",
      "imutils    0.5.3\n",
      "cv2.cv2    4.4.0\n",
      "numpy      1.18.5\n",
      "argparse   1.1\n",
      "19/08/2020\n"
     ]
    }
   ],
   "source": [
    "# Versões dos pacotes\n",
    "%reload_ext watermark\n",
    "%watermark -a \"19/08/2020\" --iversions"
   ]
  },
  {
   "cell_type": "markdown",
   "metadata": {},
   "source": [
    "### Carregando imagens"
   ]
  },
  {
   "cell_type": "code",
   "execution_count": 5,
   "metadata": {},
   "outputs": [],
   "source": [
    "# Carregar imagens em disco\n",
    "imagens_treino = \"./dados/treino/\""
   ]
  },
  {
   "cell_type": "code",
   "execution_count": 6,
   "metadata": {},
   "outputs": [],
   "source": [
    "# Lista para armazenar as imagens e labels\n",
    "imagens = []\n",
    "labels = []"
   ]
  },
  {
   "cell_type": "code",
   "execution_count": 7,
   "metadata": {},
   "outputs": [],
   "source": [
    "# Lista as imagems e faz o shuffle\n",
    "imagePaths = sorted(list(paths.list_images(imagens_treino)))\n",
    "random.seed(42)\n",
    "random.shuffle(imagePaths)"
   ]
  },
  {
   "cell_type": "code",
   "execution_count": 8,
   "metadata": {},
   "outputs": [],
   "source": [
    "# Loop pelas imagens e leitura com OpenCV\n",
    "for imagePath in imagePaths:\n",
    "    \n",
    "    # Leitura de imagem\n",
    "    image = cv2.imread(imagePath)\n",
    "    \n",
    "    # Redimensionamento para 40x40 pixels\n",
    "    image = cv2.resize(image, (40, 40))\n",
    "    \n",
    "    # Converte a imagem para array\n",
    "    image = img_to_array(image)\n",
    "    \n",
    "    # Adiciona à lista de imagens\n",
    "    imagens.append(image)\n",
    "    \n",
    "    # Extrai o label\n",
    "    label = imagePath[-7:-4]\n",
    "    \n",
    "    # define o valor 0 ou 1 para o label\n",
    "    if label == \"pos\":\n",
    "        label = 1\n",
    "    else:\n",
    "         label = 0\n",
    "    \n",
    "    # Adiciona à lista de labels\n",
    "    labels.append(label)"
   ]
  },
  {
   "cell_type": "code",
   "execution_count": 9,
   "metadata": {},
   "outputs": [],
   "source": [
    "# Normalização das imagens\n",
    "imagens = np.array(imagens, dtype='float')/255.0"
   ]
  },
  {
   "cell_type": "code",
   "execution_count": 10,
   "metadata": {},
   "outputs": [
    {
     "data": {
      "text/plain": [
       "array([[[[0.01176471, 0.01176471, 0.01176471],\n",
       "         [0.07058824, 0.07058824, 0.07058824],\n",
       "         [0.09411765, 0.09411765, 0.09411765],\n",
       "         ...,\n",
       "         [0.09803922, 0.09803922, 0.09803922],\n",
       "         [0.01960784, 0.01960784, 0.01960784],\n",
       "         [0.00784314, 0.00784314, 0.00784314]],\n",
       "\n",
       "        [[0.03921569, 0.03921569, 0.03921569],\n",
       "         [0.02352941, 0.02352941, 0.02352941],\n",
       "         [0.05490196, 0.05490196, 0.05490196],\n",
       "         ...,\n",
       "         [0.06666667, 0.06666667, 0.06666667],\n",
       "         [0.05882353, 0.05882353, 0.05882353],\n",
       "         [0.03529412, 0.03529412, 0.03529412]],\n",
       "\n",
       "        [[0.09803922, 0.09803922, 0.09803922],\n",
       "         [0.06666667, 0.06666667, 0.06666667],\n",
       "         [0.05882353, 0.05882353, 0.05882353],\n",
       "         ...,\n",
       "         [0.03137255, 0.03137255, 0.03137255],\n",
       "         [0.03921569, 0.03921569, 0.03921569],\n",
       "         [0.06666667, 0.06666667, 0.06666667]],\n",
       "\n",
       "        ...,\n",
       "\n",
       "        [[0.19215686, 0.19215686, 0.19215686],\n",
       "         [0.1372549 , 0.1372549 , 0.1372549 ],\n",
       "         [0.10588235, 0.10588235, 0.10588235],\n",
       "         ...,\n",
       "         [0.19607843, 0.19607843, 0.19607843],\n",
       "         [0.25098039, 0.25098039, 0.25098039],\n",
       "         [0.27843137, 0.27843137, 0.27843137]],\n",
       "\n",
       "        [[0.15294118, 0.15294118, 0.15294118],\n",
       "         [0.14509804, 0.14509804, 0.14509804],\n",
       "         [0.1372549 , 0.1372549 , 0.1372549 ],\n",
       "         ...,\n",
       "         [0.12156863, 0.12156863, 0.12156863],\n",
       "         [0.12941176, 0.12941176, 0.12941176],\n",
       "         [0.19215686, 0.19215686, 0.19215686]],\n",
       "\n",
       "        [[0.10980392, 0.10980392, 0.10980392],\n",
       "         [0.07843137, 0.07843137, 0.07843137],\n",
       "         [0.07843137, 0.07843137, 0.07843137],\n",
       "         ...,\n",
       "         [0.11372549, 0.11372549, 0.11372549],\n",
       "         [0.10196078, 0.10196078, 0.10196078],\n",
       "         [0.11764706, 0.11764706, 0.11764706]]],\n",
       "\n",
       "\n",
       "       [[[0.68627451, 0.68627451, 0.68627451],\n",
       "         [0.68235294, 0.68235294, 0.68235294],\n",
       "         [0.74509804, 0.74509804, 0.74509804],\n",
       "         ...,\n",
       "         [0.70980392, 0.70980392, 0.70980392],\n",
       "         [0.65882353, 0.65882353, 0.65882353],\n",
       "         [0.71372549, 0.71372549, 0.71372549]],\n",
       "\n",
       "        [[0.83529412, 0.83529412, 0.83529412],\n",
       "         [0.76862745, 0.76862745, 0.76862745],\n",
       "         [0.68627451, 0.68627451, 0.68627451],\n",
       "         ...,\n",
       "         [0.6627451 , 0.6627451 , 0.6627451 ],\n",
       "         [0.61176471, 0.61176471, 0.61176471],\n",
       "         [0.65098039, 0.65098039, 0.65098039]],\n",
       "\n",
       "        [[0.69411765, 0.69411765, 0.69411765],\n",
       "         [0.7254902 , 0.7254902 , 0.7254902 ],\n",
       "         [0.7254902 , 0.7254902 , 0.7254902 ],\n",
       "         ...,\n",
       "         [0.80392157, 0.80392157, 0.80392157],\n",
       "         [0.76862745, 0.76862745, 0.76862745],\n",
       "         [0.75686275, 0.75686275, 0.75686275]],\n",
       "\n",
       "        ...,\n",
       "\n",
       "        [[0.72941176, 0.72941176, 0.72941176],\n",
       "         [0.77254902, 0.77254902, 0.77254902],\n",
       "         [0.83137255, 0.83137255, 0.83137255],\n",
       "         ...,\n",
       "         [0.62745098, 0.62745098, 0.62745098],\n",
       "         [0.61960784, 0.61960784, 0.61960784],\n",
       "         [0.66666667, 0.66666667, 0.66666667]],\n",
       "\n",
       "        [[0.55294118, 0.55294118, 0.55294118],\n",
       "         [0.47843137, 0.47843137, 0.47843137],\n",
       "         [0.36470588, 0.36470588, 0.36470588],\n",
       "         ...,\n",
       "         [0.18039216, 0.18039216, 0.18039216],\n",
       "         [0.18823529, 0.18823529, 0.18823529],\n",
       "         [0.2       , 0.2       , 0.2       ]],\n",
       "\n",
       "        [[0.05098039, 0.05098039, 0.05098039],\n",
       "         [0.09019608, 0.09019608, 0.09019608],\n",
       "         [0.04313725, 0.04313725, 0.04313725],\n",
       "         ...,\n",
       "         [0.11372549, 0.11372549, 0.11372549],\n",
       "         [0.12156863, 0.12156863, 0.12156863],\n",
       "         [0.09803922, 0.09803922, 0.09803922]]],\n",
       "\n",
       "\n",
       "       [[[0.16862745, 0.16862745, 0.16862745],\n",
       "         [0.20392157, 0.20392157, 0.20392157],\n",
       "         [0.29019608, 0.29019608, 0.29019608],\n",
       "         ...,\n",
       "         [0.34901961, 0.34901961, 0.34901961],\n",
       "         [0.29019608, 0.29019608, 0.29019608],\n",
       "         [0.30980392, 0.30980392, 0.30980392]],\n",
       "\n",
       "        [[0.40784314, 0.40784314, 0.40784314],\n",
       "         [0.40392157, 0.40392157, 0.40392157],\n",
       "         [0.30980392, 0.30980392, 0.30980392],\n",
       "         ...,\n",
       "         [0.28235294, 0.28235294, 0.28235294],\n",
       "         [0.21960784, 0.21960784, 0.21960784],\n",
       "         [0.07058824, 0.07058824, 0.07058824]],\n",
       "\n",
       "        [[0.1372549 , 0.1372549 , 0.1372549 ],\n",
       "         [0.23921569, 0.23921569, 0.23921569],\n",
       "         [0.27843137, 0.27843137, 0.27843137],\n",
       "         ...,\n",
       "         [0.10196078, 0.10196078, 0.10196078],\n",
       "         [0.38039216, 0.38039216, 0.38039216],\n",
       "         [0.05098039, 0.05098039, 0.05098039]],\n",
       "\n",
       "        ...,\n",
       "\n",
       "        [[0.25098039, 0.25098039, 0.25098039],\n",
       "         [0.25882353, 0.25882353, 0.25882353],\n",
       "         [0.25490196, 0.25490196, 0.25490196],\n",
       "         ...,\n",
       "         [0.42352941, 0.42352941, 0.42352941],\n",
       "         [0.25490196, 0.25490196, 0.25490196],\n",
       "         [0.30196078, 0.30196078, 0.30196078]],\n",
       "\n",
       "        [[0.14901961, 0.14901961, 0.14901961],\n",
       "         [0.29411765, 0.29411765, 0.29411765],\n",
       "         [0.18431373, 0.18431373, 0.18431373],\n",
       "         ...,\n",
       "         [0.30196078, 0.30196078, 0.30196078],\n",
       "         [0.23921569, 0.23921569, 0.23921569],\n",
       "         [0.14117647, 0.14117647, 0.14117647]],\n",
       "\n",
       "        [[0.49803922, 0.49803922, 0.49803922],\n",
       "         [0.22352941, 0.22352941, 0.22352941],\n",
       "         [0.27843137, 0.27843137, 0.27843137],\n",
       "         ...,\n",
       "         [0.19215686, 0.19215686, 0.19215686],\n",
       "         [0.06666667, 0.06666667, 0.06666667],\n",
       "         [0.20784314, 0.20784314, 0.20784314]]],\n",
       "\n",
       "\n",
       "       ...,\n",
       "\n",
       "\n",
       "       [[[0.58431373, 0.58431373, 0.58431373],\n",
       "         [0.52941176, 0.52941176, 0.52941176],\n",
       "         [0.57254902, 0.57254902, 0.57254902],\n",
       "         ...,\n",
       "         [0.57254902, 0.57254902, 0.57254902],\n",
       "         [0.45490196, 0.45490196, 0.45490196],\n",
       "         [0.50980392, 0.50980392, 0.50980392]],\n",
       "\n",
       "        [[0.61960784, 0.61960784, 0.61960784],\n",
       "         [0.69019608, 0.69019608, 0.69019608],\n",
       "         [0.62352941, 0.62352941, 0.62352941],\n",
       "         ...,\n",
       "         [0.59215686, 0.59215686, 0.59215686],\n",
       "         [0.59215686, 0.59215686, 0.59215686],\n",
       "         [0.63921569, 0.63921569, 0.63921569]],\n",
       "\n",
       "        [[0.64705882, 0.64705882, 0.64705882],\n",
       "         [0.65098039, 0.65098039, 0.65098039],\n",
       "         [0.61176471, 0.61176471, 0.61176471],\n",
       "         ...,\n",
       "         [0.61568627, 0.61568627, 0.61568627],\n",
       "         [0.56862745, 0.56862745, 0.56862745],\n",
       "         [0.52156863, 0.52156863, 0.52156863]],\n",
       "\n",
       "        ...,\n",
       "\n",
       "        [[0.48627451, 0.48627451, 0.48627451],\n",
       "         [0.4745098 , 0.4745098 , 0.4745098 ],\n",
       "         [0.49411765, 0.49411765, 0.49411765],\n",
       "         ...,\n",
       "         [0.1254902 , 0.1254902 , 0.1254902 ],\n",
       "         [0.        , 0.        , 0.        ],\n",
       "         [0.        , 0.        , 0.        ]],\n",
       "\n",
       "        [[0.58823529, 0.58823529, 0.58823529],\n",
       "         [0.46666667, 0.46666667, 0.46666667],\n",
       "         [0.54901961, 0.54901961, 0.54901961],\n",
       "         ...,\n",
       "         [0.12156863, 0.12156863, 0.12156863],\n",
       "         [0.15686275, 0.15686275, 0.15686275],\n",
       "         [0.19607843, 0.19607843, 0.19607843]],\n",
       "\n",
       "        [[0.62352941, 0.62352941, 0.62352941],\n",
       "         [0.62745098, 0.62745098, 0.62745098],\n",
       "         [0.54117647, 0.54117647, 0.54117647],\n",
       "         ...,\n",
       "         [0.36078431, 0.36078431, 0.36078431],\n",
       "         [0.34117647, 0.34117647, 0.34117647],\n",
       "         [0.25098039, 0.25098039, 0.25098039]]],\n",
       "\n",
       "\n",
       "       [[[0.60784314, 0.60784314, 0.60784314],\n",
       "         [0.6627451 , 0.6627451 , 0.6627451 ],\n",
       "         [0.45882353, 0.45882353, 0.45882353],\n",
       "         ...,\n",
       "         [0.49411765, 0.49411765, 0.49411765],\n",
       "         [0.46666667, 0.46666667, 0.46666667],\n",
       "         [0.37647059, 0.37647059, 0.37647059]],\n",
       "\n",
       "        [[0.41960784, 0.41960784, 0.41960784],\n",
       "         [0.47058824, 0.47058824, 0.47058824],\n",
       "         [0.45490196, 0.45490196, 0.45490196],\n",
       "         ...,\n",
       "         [0.39607843, 0.39607843, 0.39607843],\n",
       "         [0.51764706, 0.51764706, 0.51764706],\n",
       "         [0.54117647, 0.54117647, 0.54117647]],\n",
       "\n",
       "        [[0.4627451 , 0.4627451 , 0.4627451 ],\n",
       "         [0.57647059, 0.57647059, 0.57647059],\n",
       "         [0.68235294, 0.68235294, 0.68235294],\n",
       "         ...,\n",
       "         [0.34509804, 0.34509804, 0.34509804],\n",
       "         [0.12941176, 0.12941176, 0.12941176],\n",
       "         [0.05490196, 0.05490196, 0.05490196]],\n",
       "\n",
       "        ...,\n",
       "\n",
       "        [[0.39607843, 0.39607843, 0.39607843],\n",
       "         [0.21176471, 0.21176471, 0.21176471],\n",
       "         [0.41176471, 0.41176471, 0.41176471],\n",
       "         ...,\n",
       "         [0.63137255, 0.63137255, 0.63137255],\n",
       "         [0.45882353, 0.45882353, 0.45882353],\n",
       "         [0.38431373, 0.38431373, 0.38431373]],\n",
       "\n",
       "        [[0.82352941, 0.82352941, 0.82352941],\n",
       "         [0.89411765, 0.89411765, 0.89411765],\n",
       "         [0.67058824, 0.67058824, 0.67058824],\n",
       "         ...,\n",
       "         [0.70196078, 0.70196078, 0.70196078],\n",
       "         [0.66666667, 0.66666667, 0.66666667],\n",
       "         [0.69803922, 0.69803922, 0.69803922]],\n",
       "\n",
       "        [[0.4627451 , 0.4627451 , 0.4627451 ],\n",
       "         [0.54509804, 0.54509804, 0.54509804],\n",
       "         [0.46666667, 0.46666667, 0.46666667],\n",
       "         ...,\n",
       "         [0.31372549, 0.31372549, 0.31372549],\n",
       "         [0.39607843, 0.39607843, 0.39607843],\n",
       "         [0.34509804, 0.34509804, 0.34509804]]],\n",
       "\n",
       "\n",
       "       [[[0.83137255, 0.83137255, 0.83137255],\n",
       "         [0.82745098, 0.82745098, 0.82745098],\n",
       "         [0.83137255, 0.83137255, 0.83137255],\n",
       "         ...,\n",
       "         [0.89411765, 0.89411765, 0.89411765],\n",
       "         [0.80392157, 0.80392157, 0.80392157],\n",
       "         [0.67058824, 0.67058824, 0.67058824]],\n",
       "\n",
       "        [[0.83529412, 0.83529412, 0.83529412],\n",
       "         [0.83921569, 0.83921569, 0.83921569],\n",
       "         [0.85098039, 0.85098039, 0.85098039],\n",
       "         ...,\n",
       "         [0.74117647, 0.74117647, 0.74117647],\n",
       "         [0.64313725, 0.64313725, 0.64313725],\n",
       "         [0.50588235, 0.50588235, 0.50588235]],\n",
       "\n",
       "        [[0.85490196, 0.85490196, 0.85490196],\n",
       "         [0.85882353, 0.85882353, 0.85882353],\n",
       "         [0.86666667, 0.86666667, 0.86666667],\n",
       "         ...,\n",
       "         [0.46666667, 0.46666667, 0.46666667],\n",
       "         [0.43137255, 0.43137255, 0.43137255],\n",
       "         [0.37647059, 0.37647059, 0.37647059]],\n",
       "\n",
       "        ...,\n",
       "\n",
       "        [[0.04313725, 0.04313725, 0.04313725],\n",
       "         [0.05490196, 0.05490196, 0.05490196],\n",
       "         [0.05490196, 0.05490196, 0.05490196],\n",
       "         ...,\n",
       "         [0.17647059, 0.17647059, 0.17647059],\n",
       "         [0.09411765, 0.09411765, 0.09411765],\n",
       "         [0.03137255, 0.03137255, 0.03137255]],\n",
       "\n",
       "        [[0.03921569, 0.03921569, 0.03921569],\n",
       "         [0.03137255, 0.03137255, 0.03137255],\n",
       "         [0.02352941, 0.02352941, 0.02352941],\n",
       "         ...,\n",
       "         [0.25490196, 0.25490196, 0.25490196],\n",
       "         [0.18039216, 0.18039216, 0.18039216],\n",
       "         [0.08627451, 0.08627451, 0.08627451]],\n",
       "\n",
       "        [[0.03921569, 0.03921569, 0.03921569],\n",
       "         [0.02745098, 0.02745098, 0.02745098],\n",
       "         [0.01568627, 0.01568627, 0.01568627],\n",
       "         ...,\n",
       "         [0.20392157, 0.20392157, 0.20392157],\n",
       "         [0.19607843, 0.19607843, 0.19607843],\n",
       "         [0.1372549 , 0.1372549 , 0.1372549 ]]]])"
      ]
     },
     "execution_count": 10,
     "metadata": {},
     "output_type": "execute_result"
    }
   ],
   "source": [
    "# Visualização das imagens\n",
    "imagens"
   ]
  },
  {
   "cell_type": "code",
   "execution_count": 11,
   "metadata": {},
   "outputs": [],
   "source": [
    "# Carrega os labels\n",
    "labels = np.array(labels)"
   ]
  },
  {
   "cell_type": "code",
   "execution_count": 12,
   "metadata": {},
   "outputs": [
    {
     "data": {
      "text/plain": [
       "array([0, 0, 1, ..., 0, 0, 1])"
      ]
     },
     "execution_count": 12,
     "metadata": {},
     "output_type": "execute_result"
    }
   ],
   "source": [
    "# Visualiza os labels\n",
    "labels"
   ]
  },
  {
   "cell_type": "markdown",
   "metadata": {},
   "source": [
    "Visualizar algumas imagens"
   ]
  },
  {
   "cell_type": "code",
   "execution_count": 13,
   "metadata": {},
   "outputs": [
    {
     "data": {
      "image/png": "[encoded data removed]",
      "text/plain": [
       "<Figure size 432x288 with 6 Axes>"
      ]
     },
     "metadata": {
      "needs_background": "light"
     },
     "output_type": "display_data"
    }
   ],
   "source": [
    "# Plot de imagens\n",
    "for i, images in enumerate(imagePaths[:6]):\n",
    "    img = cv2.imread(images)\n",
    "    img = cv2.resize(img, (100, 100))\n",
    "    plt.subplot(3, 3, i + 1)\n",
    "    plt.imshow(img)\n",
    "    plt.grid(False)\n",
    "plt.tight_layout()"
   ]
  },
  {
   "cell_type": "markdown",
   "metadata": {},
   "source": [
    "### Pré-processamento das imagens"
   ]
  },
  {
   "cell_type": "markdown",
   "metadata": {},
   "source": [
    "Dividir o dataset em treino e teste."
   ]
  },
  {
   "cell_type": "code",
   "execution_count": 14,
   "metadata": {},
   "outputs": [],
   "source": [
    "# Divisão em treino e teste com proporção de 75/25\n",
    "(X_treino, X_teste, y_treino, y_teste) = train_test_split(imagens, labels, test_size = 0.25, random_state = 42)"
   ]
  },
  {
   "cell_type": "code",
   "execution_count": 15,
   "metadata": {},
   "outputs": [
    {
     "data": {
      "text/plain": [
       "(2206, 40, 40, 3)"
      ]
     },
     "execution_count": 15,
     "metadata": {},
     "output_type": "execute_result"
    }
   ],
   "source": [
    "# Shape (#imagens x altura, largura, #canais de cores)\n",
    "X_treino.shape"
   ]
  },
  {
   "cell_type": "code",
   "execution_count": 16,
   "metadata": {},
   "outputs": [
    {
     "data": {
      "text/plain": [
       "(736, 40, 40, 3)"
      ]
     },
     "execution_count": 16,
     "metadata": {},
     "output_type": "execute_result"
    }
   ],
   "source": [
    "# Shape (#imagens x altura, largura, #canais de cores)\n",
    "X_teste.shape"
   ]
  },
  {
   "cell_type": "markdown",
   "metadata": {},
   "source": [
    "Aplicar One-hot encoding na variável target "
   ]
  },
  {
   "cell_type": "code",
   "execution_count": 17,
   "metadata": {},
   "outputs": [],
   "source": [
    "# One-Hot Encoding\n",
    "y_treino = to_categorical(y_treino, num_classes=len(labels))\n",
    "y_teste = to_categorical(y_teste, num_classes=len(labels))"
   ]
  },
  {
   "cell_type": "markdown",
   "metadata": {},
   "source": [
    "Criar um gerador de imagens"
   ]
  },
  {
   "cell_type": "code",
   "execution_count": 18,
   "metadata": {},
   "outputs": [],
   "source": [
    "# Gerador de imagens\n",
    "aug = ImageDataGenerator(rotation_range=30, \n",
    "                         width_shift_range=0.1,\n",
    "                         height_shift_range=0.1,\n",
    "                         shear_range=0.2,\n",
    "                         zoom_range=0.2,\n",
    "                         horizontal_flip=True, \n",
    "                         fill_mode='nearest')"
   ]
  },
  {
   "cell_type": "markdown",
   "metadata": {},
   "source": [
    "### Construção do modelo"
   ]
  },
  {
   "cell_type": "markdown",
   "metadata": {},
   "source": [
    "Hiperparâmetros"
   ]
  },
  {
   "cell_type": "code",
   "execution_count": 19,
   "metadata": {},
   "outputs": [],
   "source": [
    "# Número de épocas\n",
    "epochs = 60\n",
    "\n",
    "# Taxa de aprendizagem\n",
    "lr = 1e-3\n",
    "\n",
    "# Tamanho do batch\n",
    "batch_size = 32"
   ]
  },
  {
   "cell_type": "markdown",
   "metadata": {},
   "source": [
    "Modelo"
   ]
  },
  {
   "cell_type": "code",
   "execution_count": 20,
   "metadata": {},
   "outputs": [],
   "source": [
    "# CNN\n",
    "class ModeloCNN:\n",
    "    \n",
    "    @staticmethod\n",
    "    def build(width, height, depth, classes):\n",
    "        \n",
    "        # Cria a sequência de camadas\n",
    "        model = Sequential()\n",
    "        \n",
    "        # Shape de entrada\n",
    "        inputShape = (height, width, depth)\n",
    "        \n",
    "        # Formato das imagens\n",
    "        if K.image_data_format() == \"channels_first\":\n",
    "            inputShape = (depth, height, width)\n",
    "        \n",
    "        # Primeira camada convolucional com ReLU e MaxPooling\n",
    "        model.add(Conv2D(20, (5, 5), padding='same', input_shape=inputShape))\n",
    "        model.add(Activation('relu'))\n",
    "        model.add(MaxPooling2D(pool_size=(2, 2), strides=(2, 2)))\n",
    "        \n",
    "        # Segunda camada concolucional com ReLU e MaxPooling\n",
    "        model.add(Conv2D(50, (5, 5), padding='same'))\n",
    "        model.add(Activation('relu'))\n",
    "        model.add(MaxPooling2D(pool_size=(2, 2), strides=(2, 2)))\n",
    "        \n",
    "        # Primeira camada totalmente conectada com ativação ReLU\n",
    "        model.add(Flatten())\n",
    "        model.add(Dense(500))\n",
    "        model.add(Activation('relu'))\n",
    "        \n",
    "        # Camada de saída com classificação softmax\n",
    "        model.add(Dense(classes))\n",
    "        model.add(Activation('softmax'))\n",
    "        \n",
    "        return model"
   ]
  },
  {
   "cell_type": "code",
   "execution_count": 21,
   "metadata": {},
   "outputs": [],
   "source": [
    "# Cria o modelo\n",
    "modelo_cnn = ModeloCNN.build(width=40, height=40, depth=3, classes=len(labels))"
   ]
  },
  {
   "cell_type": "code",
   "execution_count": 22,
   "metadata": {},
   "outputs": [],
   "source": [
    "# Cria o otimizador com algoritmo Adam\n",
    "otimizador = Adam(lr=lr, decay=lr/epochs)"
   ]
  },
  {
   "cell_type": "code",
   "execution_count": 23,
   "metadata": {},
   "outputs": [],
   "source": [
    "# Compila o modelo com o otimizador, função de custo e métricas\n",
    "modelo_cnn.compile(optimizer=otimizador, loss='categorical_crossentropy', metrics=['accuracy'])"
   ]
  },
  {
   "cell_type": "code",
   "execution_count": 24,
   "metadata": {},
   "outputs": [
    {
     "name": "stdout",
     "output_type": "stream",
     "text": [
      "Model: \"sequential\"\n",
      "_________________________________________________________________\n",
      "Layer (type)                 Output Shape              Param #   \n",
      "=================================================================\n",
      "conv2d (Conv2D)              (None, 40, 40, 20)        1520      \n",
      "_________________________________________________________________\n",
      "activation (Activation)      (None, 40, 40, 20)        0         \n",
      "_________________________________________________________________\n",
      "max_pooling2d (MaxPooling2D) (None, 20, 20, 20)        0         \n",
      "_________________________________________________________________\n",
      "conv2d_1 (Conv2D)            (None, 20, 20, 50)        25050     \n",
      "_________________________________________________________________\n",
      "activation_1 (Activation)    (None, 20, 20, 50)        0         \n",
      "_________________________________________________________________\n",
      "max_pooling2d_1 (MaxPooling2 (None, 10, 10, 50)        0         \n",
      "_________________________________________________________________\n",
      "flatten (Flatten)            (None, 5000)              0         \n",
      "_________________________________________________________________\n",
      "dense (Dense)                (None, 500)               2500500   \n",
      "_________________________________________________________________\n",
      "activation_2 (Activation)    (None, 500)               0         \n",
      "_________________________________________________________________\n",
      "dense_1 (Dense)              (None, 2942)              1473942   \n",
      "_________________________________________________________________\n",
      "activation_3 (Activation)    (None, 2942)              0         \n",
      "=================================================================\n",
      "Total params: 4,001,012\n",
      "Trainable params: 4,001,012\n",
      "Non-trainable params: 0\n",
      "_________________________________________________________________\n"
     ]
    }
   ],
   "source": [
    "# Sumarização do modelo\n",
    "modelo_cnn.summary()"
   ]
  },
  {
   "cell_type": "markdown",
   "metadata": {},
   "source": [
    "## Treinamento"
   ]
  },
  {
   "cell_type": "code",
   "execution_count": 25,
   "metadata": {},
   "outputs": [
    {
     "name": "stdout",
     "output_type": "stream",
     "text": [
      "\n",
      "Iniciando o treinamento...\n",
      "\n",
      "Epoch 1/60\n",
      "68/68 [==============================] - 1s 16ms/step - loss: 0.9138 - accuracy: 0.7180 - val_loss: 0.4462 - val_accuracy: 0.8043\n",
      "Epoch 2/60\n",
      "68/68 [==============================] - 1s 14ms/step - loss: 0.4454 - accuracy: 0.8183 - val_loss: 0.3996 - val_accuracy: 0.8261\n",
      "Epoch 3/60\n",
      "68/68 [==============================] - 1s 14ms/step - loss: 0.3988 - accuracy: 0.8349 - val_loss: 0.3395 - val_accuracy: 0.8628\n",
      "Epoch 4/60\n",
      "68/68 [==============================] - 1s 14ms/step - loss: 0.3501 - accuracy: 0.8657 - val_loss: 0.3638 - val_accuracy: 0.8546\n",
      "Epoch 5/60\n",
      "68/68 [==============================] - 1s 14ms/step - loss: 0.3361 - accuracy: 0.8730 - val_loss: 0.2738 - val_accuracy: 0.8967\n",
      "Epoch 6/60\n",
      "68/68 [==============================] - 1s 14ms/step - loss: 0.3143 - accuracy: 0.8822 - val_loss: 0.2460 - val_accuracy: 0.9062\n",
      "Epoch 7/60\n",
      "68/68 [==============================] - 1s 14ms/step - loss: 0.3005 - accuracy: 0.8868 - val_loss: 0.2356 - val_accuracy: 0.9090\n",
      "Epoch 8/60\n",
      "68/68 [==============================] - 1s 14ms/step - loss: 0.2765 - accuracy: 0.8993 - val_loss: 0.2324 - val_accuracy: 0.9198\n",
      "Epoch 9/60\n",
      "68/68 [==============================] - 1s 14ms/step - loss: 0.2632 - accuracy: 0.9052 - val_loss: 0.2388 - val_accuracy: 0.9185\n",
      "Epoch 10/60\n",
      "68/68 [==============================] - 1s 14ms/step - loss: 0.2726 - accuracy: 0.9043 - val_loss: 0.2179 - val_accuracy: 0.9239\n",
      "Epoch 11/60\n",
      "68/68 [==============================] - 1s 14ms/step - loss: 0.2636 - accuracy: 0.9052 - val_loss: 0.2065 - val_accuracy: 0.9226\n",
      "Epoch 12/60\n",
      "68/68 [==============================] - 1s 14ms/step - loss: 0.2402 - accuracy: 0.9131 - val_loss: 0.2485 - val_accuracy: 0.9076\n",
      "Epoch 13/60\n",
      "68/68 [==============================] - 1s 14ms/step - loss: 0.2309 - accuracy: 0.9108 - val_loss: 0.1871 - val_accuracy: 0.9334\n",
      "Epoch 14/60\n",
      "68/68 [==============================] - 1s 14ms/step - loss: 0.2350 - accuracy: 0.9177 - val_loss: 0.1906 - val_accuracy: 0.9348\n",
      "Epoch 15/60\n",
      "68/68 [==============================] - 1s 14ms/step - loss: 0.2212 - accuracy: 0.9236 - val_loss: 0.2033 - val_accuracy: 0.9090\n",
      "Epoch 16/60\n",
      "68/68 [==============================] - 1s 14ms/step - loss: 0.2128 - accuracy: 0.9232 - val_loss: 0.2018 - val_accuracy: 0.9266\n",
      "Epoch 17/60\n",
      "68/68 [==============================] - 1s 14ms/step - loss: 0.2102 - accuracy: 0.9246 - val_loss: 0.1875 - val_accuracy: 0.9307\n",
      "Epoch 18/60\n",
      "68/68 [==============================] - 1s 14ms/step - loss: 0.2103 - accuracy: 0.9250 - val_loss: 0.2068 - val_accuracy: 0.9253\n",
      "Epoch 19/60\n",
      "68/68 [==============================] - 1s 14ms/step - loss: 0.2036 - accuracy: 0.9223 - val_loss: 0.1735 - val_accuracy: 0.9348\n",
      "Epoch 20/60\n",
      "68/68 [==============================] - 1s 14ms/step - loss: 0.1888 - accuracy: 0.9338 - val_loss: 0.1626 - val_accuracy: 0.9457\n",
      "Epoch 21/60\n",
      "68/68 [==============================] - 1s 14ms/step - loss: 0.1950 - accuracy: 0.9296 - val_loss: 0.1910 - val_accuracy: 0.9280\n",
      "Epoch 22/60\n",
      "68/68 [==============================] - 1s 14ms/step - loss: 0.1892 - accuracy: 0.9361 - val_loss: 0.1814 - val_accuracy: 0.9361\n",
      "Epoch 23/60\n",
      "68/68 [==============================] - 1s 14ms/step - loss: 0.1925 - accuracy: 0.9250 - val_loss: 0.1736 - val_accuracy: 0.9321\n",
      "Epoch 24/60\n",
      "68/68 [==============================] - 1s 14ms/step - loss: 0.1816 - accuracy: 0.9397 - val_loss: 0.1551 - val_accuracy: 0.9416\n",
      "Epoch 25/60\n",
      "68/68 [==============================] - 1s 14ms/step - loss: 0.1805 - accuracy: 0.9403 - val_loss: 0.1732 - val_accuracy: 0.9361\n",
      "Epoch 26/60\n",
      "68/68 [==============================] - 1s 14ms/step - loss: 0.1789 - accuracy: 0.9328 - val_loss: 0.1435 - val_accuracy: 0.9497\n",
      "Epoch 27/60\n",
      "68/68 [==============================] - 1s 14ms/step - loss: 0.1753 - accuracy: 0.9305 - val_loss: 0.1556 - val_accuracy: 0.9524\n",
      "Epoch 28/60\n",
      "68/68 [==============================] - 1s 14ms/step - loss: 0.1735 - accuracy: 0.9393 - val_loss: 0.1685 - val_accuracy: 0.9416\n",
      "Epoch 29/60\n",
      "68/68 [==============================] - 1s 14ms/step - loss: 0.1721 - accuracy: 0.9370 - val_loss: 0.1423 - val_accuracy: 0.9457\n",
      "Epoch 30/60\n",
      "68/68 [==============================] - 1s 14ms/step - loss: 0.1802 - accuracy: 0.9310 - val_loss: 0.1403 - val_accuracy: 0.9484\n",
      "Epoch 31/60\n",
      "68/68 [==============================] - 1s 14ms/step - loss: 0.1603 - accuracy: 0.9439 - val_loss: 0.1477 - val_accuracy: 0.9443\n",
      "Epoch 32/60\n",
      "68/68 [==============================] - 1s 14ms/step - loss: 0.1681 - accuracy: 0.9411 - val_loss: 0.1433 - val_accuracy: 0.9497\n",
      "Epoch 33/60\n",
      "68/68 [==============================] - 1s 14ms/step - loss: 0.1492 - accuracy: 0.9434 - val_loss: 0.1403 - val_accuracy: 0.9511\n",
      "Epoch 34/60\n",
      "68/68 [==============================] - 1s 14ms/step - loss: 0.1516 - accuracy: 0.9420 - val_loss: 0.1943 - val_accuracy: 0.9103\n",
      "Epoch 35/60\n",
      "68/68 [==============================] - 1s 14ms/step - loss: 0.1605 - accuracy: 0.9388 - val_loss: 0.1418 - val_accuracy: 0.9524\n",
      "Epoch 36/60\n",
      "68/68 [==============================] - 1s 14ms/step - loss: 0.1559 - accuracy: 0.9416 - val_loss: 0.1316 - val_accuracy: 0.9524\n",
      "Epoch 37/60\n",
      "68/68 [==============================] - 1s 15ms/step - loss: 0.1474 - accuracy: 0.9393 - val_loss: 0.1195 - val_accuracy: 0.9620\n",
      "Epoch 38/60\n",
      "68/68 [==============================] - 1s 15ms/step - loss: 0.1364 - accuracy: 0.9545 - val_loss: 0.1328 - val_accuracy: 0.9552\n",
      "Epoch 39/60\n",
      "68/68 [==============================] - 1s 14ms/step - loss: 0.1441 - accuracy: 0.9499 - val_loss: 0.1550 - val_accuracy: 0.9375\n",
      "Epoch 40/60\n",
      "68/68 [==============================] - 1s 14ms/step - loss: 0.1301 - accuracy: 0.9531 - val_loss: 0.1322 - val_accuracy: 0.9497\n",
      "Epoch 41/60\n",
      "68/68 [==============================] - 1s 15ms/step - loss: 0.1295 - accuracy: 0.9503 - val_loss: 0.1084 - val_accuracy: 0.9620\n",
      "Epoch 42/60\n",
      "68/68 [==============================] - 1s 14ms/step - loss: 0.1405 - accuracy: 0.9480 - val_loss: 0.1580 - val_accuracy: 0.9293\n",
      "Epoch 43/60\n",
      "68/68 [==============================] - 1s 14ms/step - loss: 0.1420 - accuracy: 0.9434 - val_loss: 0.1377 - val_accuracy: 0.9429\n",
      "Epoch 44/60\n",
      "68/68 [==============================] - 1s 14ms/step - loss: 0.1425 - accuracy: 0.9466 - val_loss: 0.1703 - val_accuracy: 0.9253\n",
      "Epoch 45/60\n",
      "68/68 [==============================] - 1s 14ms/step - loss: 0.1367 - accuracy: 0.9535 - val_loss: 0.1468 - val_accuracy: 0.9429\n",
      "Epoch 46/60\n",
      "68/68 [==============================] - 1s 14ms/step - loss: 0.1422 - accuracy: 0.9512 - val_loss: 0.1284 - val_accuracy: 0.9524\n",
      "Epoch 47/60\n",
      "68/68 [==============================] - 1s 14ms/step - loss: 0.1339 - accuracy: 0.9535 - val_loss: 0.1421 - val_accuracy: 0.9321\n",
      "Epoch 48/60\n",
      "68/68 [==============================] - 1s 14ms/step - loss: 0.1205 - accuracy: 0.9568 - val_loss: 0.1419 - val_accuracy: 0.9457\n",
      "Epoch 49/60\n",
      "68/68 [==============================] - 1s 14ms/step - loss: 0.1181 - accuracy: 0.9545 - val_loss: 0.1052 - val_accuracy: 0.9592\n",
      "Epoch 50/60\n",
      "68/68 [==============================] - 1s 14ms/step - loss: 0.1139 - accuracy: 0.9572 - val_loss: 0.1351 - val_accuracy: 0.9524\n",
      "Epoch 51/60\n",
      "68/68 [==============================] - 1s 14ms/step - loss: 0.1068 - accuracy: 0.9623 - val_loss: 0.1437 - val_accuracy: 0.9457\n",
      "Epoch 52/60\n",
      "68/68 [==============================] - 1s 14ms/step - loss: 0.1165 - accuracy: 0.9577 - val_loss: 0.1297 - val_accuracy: 0.9511\n",
      "Epoch 53/60\n",
      "68/68 [==============================] - 1s 14ms/step - loss: 0.1084 - accuracy: 0.9637 - val_loss: 0.1260 - val_accuracy: 0.9470\n",
      "Epoch 54/60\n",
      "68/68 [==============================] - 1s 14ms/step - loss: 0.1129 - accuracy: 0.9581 - val_loss: 0.1350 - val_accuracy: 0.9402\n",
      "Epoch 55/60\n",
      "68/68 [==============================] - 1s 14ms/step - loss: 0.1271 - accuracy: 0.9554 - val_loss: 0.1649 - val_accuracy: 0.9293\n",
      "Epoch 56/60\n",
      "68/68 [==============================] - 1s 14ms/step - loss: 0.1230 - accuracy: 0.9535 - val_loss: 0.1529 - val_accuracy: 0.9389\n",
      "Epoch 57/60\n",
      "68/68 [==============================] - 1s 14ms/step - loss: 0.1148 - accuracy: 0.9618 - val_loss: 0.1060 - val_accuracy: 0.9620\n",
      "Epoch 58/60\n",
      "68/68 [==============================] - 1s 14ms/step - loss: 0.1080 - accuracy: 0.9595 - val_loss: 0.1161 - val_accuracy: 0.9592\n",
      "Epoch 59/60\n",
      "68/68 [==============================] - 1s 14ms/step - loss: 0.1013 - accuracy: 0.9591 - val_loss: 0.1543 - val_accuracy: 0.9334\n",
      "Epoch 60/60\n",
      "68/68 [==============================] - 1s 14ms/step - loss: 0.0968 - accuracy: 0.9650 - val_loss: 0.1029 - val_accuracy: 0.9620\n",
      "\n",
      "Treinamento concluído.\n",
      "\n",
      "CPU times: user 1min 21s, sys: 2.65 s, total: 1min 24s\n",
      "Wall time: 1min\n"
     ]
    }
   ],
   "source": [
    "%%time\n",
    "\n",
    "# Treina o modelo\n",
    "print('\\nIniciando o treinamento...\\n')\n",
    "\n",
    "hist = modelo_cnn.fit(aug.flow(X_treino, y_treino, batch_size=batch_size), \n",
    "                                validation_data=(X_teste, y_teste), \n",
    "                                steps_per_epoch=len(X_treino)//batch_size, \n",
    "                                epochs=epochs, \n",
    "                                verbose=1)\n",
    "\n",
    "print('\\nTreinamento concluído.\\n')"
   ]
  },
  {
   "cell_type": "code",
   "execution_count": 26,
   "metadata": {},
   "outputs": [
    {
     "data": {
      "image/png": "[encoded data removed]",
      "text/plain": [
       "<Figure size 1080x504 with 1 Axes>"
      ]
     },
     "metadata": {
      "needs_background": "light"
     },
     "output_type": "display_data"
    }
   ],
   "source": [
    "# Plot\n",
    "plt.figure(figsize = (15,7))\n",
    "N = epochs\n",
    "plt.plot(np.arange(0, N), hist.history[\"loss\"], label = \"Erro em Treino\")\n",
    "plt.plot(np.arange(0, N), hist.history[\"val_loss\"], label = \"Erro em Validação\")\n",
    "plt.plot(np.arange(0, N), hist.history[\"accuracy\"], label = \"Acurácia em Treino\")\n",
    "plt.plot(np.arange(0, N), hist.history[\"val_accuracy\"], label = \"Acurácia em Validação\")\n",
    "plt.title(\"Acurácia e Erro em Treino\")\n",
    "plt.xlabel(\"Epoch #\")\n",
    "plt.ylabel(\"Erro/Acurácia\")\n",
    "plt.legend(loc = \"lower left\")\n",
    "plt.show()"
   ]
  },
  {
   "cell_type": "markdown",
   "metadata": {},
   "source": [
    "Avaliar a acurácia com dados de teste"
   ]
  },
  {
   "cell_type": "code",
   "execution_count": 27,
   "metadata": {},
   "outputs": [
    {
     "name": "stdout",
     "output_type": "stream",
     "text": [
      "23/23 [==============================] - 0s 2ms/step - loss: 0.1029 - accuracy: 0.9620\n"
     ]
    }
   ],
   "source": [
    "# Cálculo com dados de teste\n",
    "score = modelo_cnn.evaluate(X_teste, y_teste, verbose=1)"
   ]
  },
  {
   "cell_type": "code",
   "execution_count": 28,
   "metadata": {},
   "outputs": [
    {
     "name": "stdout",
     "output_type": "stream",
     "text": [
      "Acurácia do Modelo em Teste: 0.96\n"
     ]
    }
   ],
   "source": [
    "print(f'Acurácia do Modelo em Teste: {score[1]:.2f}')"
   ]
  },
  {
   "cell_type": "markdown",
   "metadata": {},
   "source": [
    "### Matrix de confusão"
   ]
  },
  {
   "cell_type": "code",
   "execution_count": 29,
   "metadata": {},
   "outputs": [],
   "source": [
    "# Função para criar a MatriX de Confusão\n",
    "def plot_confusion_matrix(cm, classes = [0,1], normalize = False, title = 'Matriz de Confusão', cmap = plt.cm.Blues):\n",
    "    plt.imshow(cm, interpolation = 'nearest', cmap = cmap)\n",
    "    plt.title(title)\n",
    "    plt.colorbar()\n",
    "    tick_marks = np.arange(len(classes))\n",
    "    plt.xticks(tick_marks, classes, rotation = 45)\n",
    "    plt.yticks(tick_marks, classes)\n",
    "    thresh = cm.max() / 2.\n",
    "    for i, j in itertools.product(range(cm.shape[0]), range(cm.shape[1])):\n",
    "        plt.text(j, i, cm[i, j], horizontalalignment = \"center\", color = \"white\" if cm[i, j] > thresh else \"black\")\n",
    "    plt.tight_layout()\n",
    "    plt.ylabel('Label Real')\n",
    "    plt.xlabel('Label Previsto')"
   ]
  },
  {
   "cell_type": "code",
   "execution_count": 30,
   "metadata": {},
   "outputs": [
    {
     "data": {
      "image/png": "[encoded data removed]",
      "text/plain": [
       "<Figure size 576x576 with 2 Axes>"
      ]
     },
     "metadata": {
      "needs_background": "light"
     },
     "output_type": "display_data"
    }
   ],
   "source": [
    "# Aqui ajustamos as previsões com o modelo e então criamos o plot\n",
    "\n",
    "# Figura\n",
    "plt.figure(figsize = (8,8))\n",
    "\n",
    "# Converte os valores previstos com one-hot encoding\n",
    "# Depreciate\n",
    "# predY = to_categorical(modelo_cnn.predict_classes(X_teste), num_classes = len(labels))\n",
    "# Update\n",
    "predY = to_categorical(np.argmax(modelo_cnn.predict(X_teste), axis=-1), num_classes=len(labels))\n",
    "\n",
    "\n",
    "# Obtemos valores reais e previstos\n",
    "try:\n",
    "    y_teste = [test[0] for test in y_teste]\n",
    "    predY = [pred[0] for pred in predY]\n",
    "except TypeError:\n",
    "    pass\n",
    "\n",
    "# Cria a matriz de confusão e imprime o plot\n",
    "cm = confusion_matrix(y_teste, predY)\n",
    "plot_confusion_matrix(cm)\n",
    "plt.tight_layout()"
   ]
  },
  {
   "cell_type": "markdown",
   "metadata": {},
   "source": [
    "### Relatório de Classificação"
   ]
  },
  {
   "cell_type": "code",
   "execution_count": 31,
   "metadata": {},
   "outputs": [
    {
     "name": "stdout",
     "output_type": "stream",
     "text": [
      "              precision    recall  f1-score   support\n",
      "\n",
      "         0.0       0.97      0.95      0.96       374\n",
      "         1.0       0.95      0.97      0.96       362\n",
      "\n",
      "    accuracy                           0.96       736\n",
      "   macro avg       0.96      0.96      0.96       736\n",
      "weighted avg       0.96      0.96      0.96       736\n",
      "\n"
     ]
    }
   ],
   "source": [
    "print(classification_report(predY, y_teste))"
   ]
  },
  {
   "cell_type": "markdown",
   "metadata": {},
   "source": [
    "Salvar o modelo em disco e usar modelo salvo"
   ]
  },
  {
   "cell_type": "code",
   "execution_count": 32,
   "metadata": {},
   "outputs": [],
   "source": [
    "# Salvar o modelo\n",
    "#modelName = 'modelo_cnn.model'\n",
    "#modelo_cnn.save(modelName)\n",
    "\n",
    "# Imports\n",
    "#import cv2\n",
    "#import imutils\n",
    "#import argparse\n",
    "#import numpy as np\n",
    "#import keras\n",
    "\n",
    "#from keras.preprocessing.image import img_to_array\n",
    "#from keras.models import load_model\n",
    "#import matplotlib.pyplot as plt\n",
    "\n",
    "# Define o local do modelo\n",
    "#model = './modelo_cnn.model'\n",
    "\n",
    "# Carrega o modelo\n",
    "#model = load_model(model)"
   ]
  },
  {
   "cell_type": "markdown",
   "metadata": {},
   "source": [
    "## Teste do modelo"
   ]
  },
  {
   "cell_type": "markdown",
   "metadata": {},
   "source": [
    "### Imagem 1 (cancer)"
   ]
  },
  {
   "cell_type": "code",
   "execution_count": 33,
   "metadata": {},
   "outputs": [],
   "source": [
    "# Define a imagem a ser testada no diretório com as imagens\n",
    "image = './dados/teste/imagem1_cancer.png'"
   ]
  },
  {
   "cell_type": "markdown",
   "metadata": {},
   "source": [
    "Carregar a e visualizar a imagem de teste"
   ]
  },
  {
   "cell_type": "code",
   "execution_count": 34,
   "metadata": {},
   "outputs": [
    {
     "data": {
      "image/png": "[encoded data removed]",
      "text/plain": [
       "<Figure size 432x288 with 1 Axes>"
      ]
     },
     "metadata": {
      "needs_background": "light"
     },
     "output_type": "display_data"
    }
   ],
   "source": [
    "# Carrega a imagem\n",
    "image = cv2.imread(image)\n",
    "orig = image.copy()\n",
    "plt.imshow(image)\n",
    "plt.show()"
   ]
  },
  {
   "cell_type": "markdown",
   "metadata": {},
   "source": [
    "Etapa de pré-processamento da imagem de teste"
   ]
  },
  {
   "cell_type": "code",
   "execution_count": 35,
   "metadata": {},
   "outputs": [],
   "source": [
    "# Pré-processamento\n",
    "image = cv2.resize(image, (40, 40))\n",
    "image = image.astype('float') / 255.0\n",
    "image = img_to_array(image)\n",
    "image = np.expand_dims(image, axis=0)"
   ]
  },
  {
   "cell_type": "markdown",
   "metadata": {},
   "source": [
    "### Previsão"
   ]
  },
  {
   "cell_type": "markdown",
   "metadata": {},
   "source": [
    "Definir a classe da previsão"
   ]
  },
  {
   "cell_type": "code",
   "execution_count": 36,
   "metadata": {},
   "outputs": [
    {
     "data": {
      "text/plain": [
       "array([9.9480647e-01, 5.1935869e-03, 1.6931333e-11, ..., 2.0466294e-11,\n",
       "       2.0245996e-11, 2.2310476e-11], dtype=float32)"
      ]
     },
     "execution_count": 36,
     "metadata": {},
     "output_type": "execute_result"
    }
   ],
   "source": [
    "# Previsão\n",
    "(score := modelo_cnn.predict(image)[0])"
   ]
  },
  {
   "cell_type": "code",
   "execution_count": 37,
   "metadata": {},
   "outputs": [
    {
     "data": {
      "text/plain": [
       "0"
      ]
     },
     "execution_count": 37,
     "metadata": {},
     "output_type": "execute_result"
    }
   ],
   "source": [
    "# Extrair a classe da previsão\n",
    "(label := np.argmax(modelo_cnn.predict(image), axis=-1)[0])"
   ]
  },
  {
   "cell_type": "code",
   "execution_count": 38,
   "metadata": {},
   "outputs": [],
   "source": [
    "# Previsão\n",
    "score = modelo_cnn.predict(image)[0]\n",
    "\n",
    "# Extrair a classe da previsão\n",
    "label = np.argmax(modelo_cnn.predict(image), axis=-1)[0]\n",
    "\n",
    "# Definir a classificação de acordo com o label\n",
    "if label == 0:\n",
    "    label = 'No cancer'\n",
    "else:\n",
    "    label = 'Cancer'"
   ]
  },
  {
   "cell_type": "markdown",
   "metadata": {},
   "source": [
    "Calcular o nível de confianca da previsão"
   ]
  },
  {
   "cell_type": "code",
   "execution_count": 39,
   "metadata": {},
   "outputs": [
    {
     "data": {
      "text/plain": [
       "0.99480647"
      ]
     },
     "execution_count": 39,
     "metadata": {},
     "output_type": "execute_result"
    }
   ],
   "source": [
    "# Extrai a maior probabilidade das previsões do modelo\n",
    "(proba := max(score))"
   ]
  },
  {
   "cell_type": "code",
   "execution_count": 40,
   "metadata": {},
   "outputs": [
    {
     "name": "stdout",
     "output_type": "stream",
     "text": [
      "Nível de confiança: 99.48%\n"
     ]
    }
   ],
   "source": [
    "# Extrai a maior probabilidade das previsões do modelo\n",
    "proba = max(score)\n",
    "\n",
    "# Print\n",
    "print(f'Nível de confiança: {proba*100:.2f}%')\n",
    "\n",
    "# Output\n",
    "output = imutils.resize(orig, width=400)\n",
    "\n",
    "# # Verifica a probabilidade\n",
    "if proba*100 > 95:\n",
    "    out = f'{label}: {proba*100:.2f}%'\n",
    "    color = (0,255,0)\n",
    "else:\n",
    "    out = 'Not detect'\n",
    "    color = (255,0,0)\n",
    "    \n",
    "# Texto\n",
    "text = cv2.putText(output, out, (10, 25), cv2.FONT_HERSHEY_SIMPLEX, 0.7, color, 2)"
   ]
  },
  {
   "cell_type": "markdown",
   "metadata": {},
   "source": [
    "Plotar imagem com o label previsto pelo modelo"
   ]
  },
  {
   "cell_type": "code",
   "execution_count": 41,
   "metadata": {},
   "outputs": [
    {
     "data": {
      "image/png": "[encoded data removed]",
      "text/plain": [
       "<Figure size 432x288 with 1 Axes>"
      ]
     },
     "metadata": {
      "needs_background": "light"
     },
     "output_type": "display_data"
    }
   ],
   "source": [
    "plt.imshow(output)\n",
    "plt.tight_layout()"
   ]
  },
  {
   "cell_type": "markdown",
   "metadata": {},
   "source": [
    "### Imagem 2 (cancer)"
   ]
  },
  {
   "cell_type": "code",
   "execution_count": 42,
   "metadata": {},
   "outputs": [
    {
     "data": {
      "image/png": "[encoded data removed]",
      "text/plain": [
       "<Figure size 432x288 with 1 Axes>"
      ]
     },
     "metadata": {
      "needs_background": "light"
     },
     "output_type": "display_data"
    }
   ],
   "source": [
    "# Define a imagem a ser testada no diretório com as imagens\n",
    "image = './dados/teste/imagem2_cancer.png'\n",
    "\n",
    "# Carrega a imagem\n",
    "image = cv2.imread(image)\n",
    "orig = image.copy()\n",
    "\n",
    "# Pré-processamento\n",
    "image = cv2.resize(image, (40, 40))\n",
    "image = image.astype('float') / 255.0\n",
    "image = img_to_array(image)\n",
    "image = np.expand_dims(image, axis=0)\n",
    "\n",
    "# Previsão\n",
    "score = modelo_cnn.predict(image)[0]\n",
    "\n",
    "# Extrair a classe da previsão\n",
    "label = np.argmax(modelo_cnn.predict(image), axis=-1)[0]\n",
    "\n",
    "# Definir a classificação de acordo com o label\n",
    "if label == 0:\n",
    "    label = 'No cancer'\n",
    "else:\n",
    "    label = 'Cancer'\n",
    "    \n",
    "# Extrai a maior probabilidade das previsões do modelo\n",
    "proba = max(score)\n",
    "\n",
    "# Output\n",
    "output = imutils.resize(orig, width=400)\n",
    "\n",
    "# # Verifica a probabilidade\n",
    "if proba*100 > 95:\n",
    "    out = f'{label}: {proba*100:.2f}%'\n",
    "    color = (0,255,0)\n",
    "else:\n",
    "    out = 'Not detect'\n",
    "    color = (255,0,0)\n",
    "    \n",
    "# Texto\n",
    "text = cv2.putText(output, out, (10, 25), cv2.FONT_HERSHEY_SIMPLEX, 0.7, color, 2)\n",
    "\n",
    "plt.imshow(output)\n",
    "plt.tight_layout()"
   ]
  },
  {
   "cell_type": "markdown",
   "metadata": {},
   "source": [
    "### Imagem 3 (no cancer)"
   ]
  },
  {
   "cell_type": "code",
   "execution_count": 43,
   "metadata": {},
   "outputs": [
    {
     "name": "stdout",
     "output_type": "stream",
     "text": [
      "Nível de confiança: 99.95%\n"
     ]
    },
    {
     "data": {
      "image/png": "[encoded data removed]",
      "text/plain": [
       "<Figure size 432x288 with 1 Axes>"
      ]
     },
     "metadata": {
      "needs_background": "light"
     },
     "output_type": "display_data"
    }
   ],
   "source": [
    "# Define a imagem a ser testada no diretório com as imagens\n",
    "image = './dados/teste/imagem3_no_cancer.png'\n",
    "\n",
    "# Carrega a imagem\n",
    "image = cv2.imread(image)\n",
    "orig = image.copy()\n",
    "\n",
    "# Pré-processamento\n",
    "image = cv2.resize(image, (40, 40))\n",
    "image = image.astype('float') / 255.0\n",
    "image = img_to_array(image)\n",
    "image = np.expand_dims(image, axis=0)\n",
    "\n",
    "# Previsão\n",
    "score = modelo_cnn.predict(image)[0]\n",
    "\n",
    "# Extrair a classe da previsão\n",
    "label = np.argmax(modelo_cnn.predict(image), axis=-1)[0]\n",
    "\n",
    "# Definir a classificação de acordo com o label\n",
    "if label == 0:\n",
    "    label = 'No cancer'\n",
    "else:\n",
    "    label = 'Cancer'\n",
    "\n",
    "    \n",
    "# Extrai a maior probabilidade das previsões do modelo\n",
    "proba = max(score)\n",
    "\n",
    "# Print\n",
    "print(f'Nível de confiança: {proba*100:.2f}%')\n",
    "\n",
    "# Output\n",
    "output = imutils.resize(orig, width=400)\n",
    "\n",
    "# # Verifica a probabilidade\n",
    "if proba*100 > 95:\n",
    "    out = f'{label}: {proba*100:.2f}%'\n",
    "    color = (0,255,0)\n",
    "else:\n",
    "    out = 'Not detect'\n",
    "    color = (255,0,0)\n",
    "    \n",
    "# Texto\n",
    "text = cv2.putText(output, out, (10, 25), cv2.FONT_HERSHEY_SIMPLEX, 0.7, color, 2)\n",
    "\n",
    "plt.imshow(output)\n",
    "plt.tight_layout()"
   ]
  },
  {
   "cell_type": "markdown",
   "metadata": {},
   "source": [
    "### Imagem 4 (no cancer)"
   ]
  },
  {
   "cell_type": "code",
   "execution_count": 44,
   "metadata": {},
   "outputs": [
    {
     "name": "stdout",
     "output_type": "stream",
     "text": [
      "Nível de confiança: 97.01%\n"
     ]
    },
    {
     "data": {
      "image/png": "[encoded data removed]",
      "text/plain": [
       "<Figure size 432x288 with 1 Axes>"
      ]
     },
     "metadata": {
      "needs_background": "light"
     },
     "output_type": "display_data"
    }
   ],
   "source": [
    "# Define a imagem a ser testada no diretório com as imagens\n",
    "image = './dados/teste/imagem4_no_cancer.png'\n",
    "\n",
    "# Carrega a imagem\n",
    "image = cv2.imread(image)\n",
    "orig = image.copy()\n",
    "\n",
    "# Pré-processamento\n",
    "image = cv2.resize(image, (40, 40))\n",
    "image = image.astype('float') / 255.0\n",
    "image = img_to_array(image)\n",
    "image = np.expand_dims(image, axis=0)\n",
    "\n",
    "# Previsão\n",
    "score = modelo_cnn.predict(image)[0]\n",
    "\n",
    "# Extrair a classe da previsão\n",
    "label = np.argmax(modelo_cnn.predict(image), axis=-1)[0]\n",
    "\n",
    "# Definir a classificação de acordo com o label\n",
    "if label == 0:\n",
    "    label = 'No cancer'\n",
    "else:\n",
    "    label = 'Cancer'\n",
    "    \n",
    "# Extrai a maior probabilidade das previsões do modelo\n",
    "proba = max(score)\n",
    "\n",
    "# Print\n",
    "print(f'Nível de confiança: {proba*100:.2f}%')\n",
    "\n",
    "# Output\n",
    "output = imutils.resize(orig, width=400)\n",
    "\n",
    "# # Verifica a probabilidade\n",
    "if proba*100 > 95:\n",
    "    out = f'{label}: {proba*100:.2f}%'\n",
    "    color = (0,255,0)\n",
    "else:\n",
    "    out = 'Not detect'\n",
    "    color = (255,0,0)\n",
    "    \n",
    "# Texto\n",
    "text = cv2.putText(output, out, (10, 25), cv2.FONT_HERSHEY_SIMPLEX, 0.7, color, 2)\n",
    "\n",
    "plt.imshow(output)\n",
    "plt.tight_layout()"
   ]
  },
  {
   "cell_type": "markdown",
   "metadata": {},
   "source": [
    "# Fim"
   ]
  }
 ],
 "metadata": {
  "kernelspec": {
   "display_name": "Python 3",
   "language": "python",
   "name": "python3"
  },
  "language_info": {
   "codemirror_mode": {
    "name": "ipython",
    "version": 3
   },
   "file_extension": ".py",
   "mimetype": "text/x-python",
   "name": "python",
   "nbconvert_exporter": "python",
   "pygments_lexer": "ipython3",
   "version": "3.8.3"
  }
 },
 "nbformat": 4,
 "nbformat_minor": 4
}
