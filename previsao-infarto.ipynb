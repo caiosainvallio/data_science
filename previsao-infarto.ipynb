{
 "cells": [
  {
   "cell_type": "markdown",
   "metadata": {},
   "source": [
    "# Data Science Aplicada à Área da Saúde"
   ]
  },
  {
   "cell_type": "markdown",
   "metadata": {},
   "source": [
    "Projeto de análise de dados da formação FIAMED da [DSA](https://www.datascienceacademy.com.br/)"
   ]
  },
  {
   "cell_type": "markdown",
   "metadata": {},
   "source": [
    "## Modelagem Estatística - Previsão de infarto"
   ]
  },
  {
   "cell_type": "markdown",
   "metadata": {},
   "source": [
    "__Definindo o Problema__\n",
    "\n",
    "A Organização Mundial de Saúde estima que 12 milhões de mortes ocorrem em todo o mundo, todos os anos devido a doenças cardíacas. Metade das mortes nos Estados Unidos e em outros países desenvolvidos se deve a doenças cardiovasculares. O prognóstico precoce de doenças cardiovasculares pode ajudar na tomada de decisões sobre mudanças no estilo de vida em pacientes de alto risco e, por sua vez, reduzir as complicações. Esta análise pretende identificar os fatores de risco mais relevantes para doenças cardíacas.\n",
    "\n",
    "Framingham Heart Study\n",
    "\n",
    "https://datacatalog.med.nyu.edu/dataset/10046\n",
    "\n",
    "O Framingham Heart Study (FHS) é dedicado à identificação de fatores ou características comuns que contribuem para doenças cardiovasculares. Em 1948, uma amostra de 5.209 homens e mulheres entre 30 e 62 anos foi recrutada em Framingham, Massachusetts para o estudo. Outras amostras foram coletadas em 1971, 1994, 2002 e 2004. A pesquisa principal do conjunto de dados concentra-se em doenças cardiovasculares. Os dados incluem amostras biológicas, dados genéticos moleculares, dados de fenótipo, imagens, dados de funcionamento vascular do participante, dados fisiológicos, dados demográficos e dados de ECG. É um projeto colaborativo do National Heart, Lung and Blood Institute e Universidade de Boston.\n",
    "\n",
    "O conjunto de dados fornece as informações dos pacientes. Cada atributo é um fator de risco potencial. Existem fatores de risco demográficos, comportamentais e médicos.\n",
    "\n",
    "Nosos trabalho é analisar a relação das variáveis preditoras com a variável alvo, pacientes que tiveram ou não doenças cardiovasculares!\n",
    "\n",
    "Devemos responder a seguinte pergunta: Quais fatores mais contribuem para que um paciente venha a desenvolver doenças cardiovasculares em um período de 10 anos?\n",
    "\n",
    "Para compreender mais sobre o problema, acesse:\n",
    "\n",
    "https://www.who.int/en/news-room/fact-sheets/detail/cardiovascular-diseases-(cvds)"
   ]
  },
  {
   "cell_type": "markdown",
   "metadata": {},
   "source": [
    "### Base de dados"
   ]
  },
  {
   "cell_type": "code",
   "execution_count": 1,
   "metadata": {},
   "outputs": [],
   "source": [
    "# Importar pacotes\n",
    "import pandas as pd\n",
    "import numpy as np\n",
    "import matplotlib.mlab as mlab\n",
    "import matplotlib.pyplot as plt\n",
    "import statsmodels.api as sm\n",
    "import seaborn as sns\n",
    "from sklearn.preprocessing import MinMaxScaler\n",
    "import warnings\n",
    "warnings.filterwarnings('ignore')\n",
    "%matplotlib inline"
   ]
  },
  {
   "cell_type": "code",
   "execution_count": 2,
   "metadata": {},
   "outputs": [
    {
     "data": {
      "text/html": [
       "<div>\n",
       "<style scoped>\n",
       "    .dataframe tbody tr th:only-of-type {\n",
       "        vertical-align: middle;\n",
       "    }\n",
       "\n",
       "    .dataframe tbody tr th {\n",
       "        vertical-align: top;\n",
       "    }\n",
       "\n",
       "    .dataframe thead th {\n",
       "        text-align: right;\n",
       "    }\n",
       "</style>\n",
       "<table border=\"1\" class=\"dataframe\">\n",
       "  <thead>\n",
       "    <tr style=\"text-align: right;\">\n",
       "      <th></th>\n",
       "      <th>sex</th>\n",
       "      <th>age</th>\n",
       "      <th>education</th>\n",
       "      <th>currentSmoker</th>\n",
       "      <th>cigsPerDay</th>\n",
       "      <th>BPMeds</th>\n",
       "      <th>prevalentStroke</th>\n",
       "      <th>prevalentHyp</th>\n",
       "      <th>diabetes</th>\n",
       "      <th>totChol</th>\n",
       "      <th>sysBP</th>\n",
       "      <th>diaBP</th>\n",
       "      <th>BMI</th>\n",
       "      <th>heartRate</th>\n",
       "      <th>glucose</th>\n",
       "      <th>TenYearCHD</th>\n",
       "    </tr>\n",
       "  </thead>\n",
       "  <tbody>\n",
       "    <tr>\n",
       "      <th>0</th>\n",
       "      <td>1</td>\n",
       "      <td>39</td>\n",
       "      <td>4.0</td>\n",
       "      <td>0</td>\n",
       "      <td>0.0</td>\n",
       "      <td>0.0</td>\n",
       "      <td>0</td>\n",
       "      <td>0</td>\n",
       "      <td>0</td>\n",
       "      <td>195.0</td>\n",
       "      <td>106.0</td>\n",
       "      <td>70.0</td>\n",
       "      <td>26.97</td>\n",
       "      <td>80.0</td>\n",
       "      <td>77.0</td>\n",
       "      <td>0</td>\n",
       "    </tr>\n",
       "    <tr>\n",
       "      <th>1</th>\n",
       "      <td>0</td>\n",
       "      <td>46</td>\n",
       "      <td>2.0</td>\n",
       "      <td>0</td>\n",
       "      <td>0.0</td>\n",
       "      <td>0.0</td>\n",
       "      <td>0</td>\n",
       "      <td>0</td>\n",
       "      <td>0</td>\n",
       "      <td>250.0</td>\n",
       "      <td>121.0</td>\n",
       "      <td>81.0</td>\n",
       "      <td>28.73</td>\n",
       "      <td>95.0</td>\n",
       "      <td>76.0</td>\n",
       "      <td>0</td>\n",
       "    </tr>\n",
       "    <tr>\n",
       "      <th>2</th>\n",
       "      <td>1</td>\n",
       "      <td>48</td>\n",
       "      <td>1.0</td>\n",
       "      <td>1</td>\n",
       "      <td>20.0</td>\n",
       "      <td>0.0</td>\n",
       "      <td>0</td>\n",
       "      <td>0</td>\n",
       "      <td>0</td>\n",
       "      <td>245.0</td>\n",
       "      <td>127.5</td>\n",
       "      <td>80.0</td>\n",
       "      <td>25.34</td>\n",
       "      <td>75.0</td>\n",
       "      <td>70.0</td>\n",
       "      <td>0</td>\n",
       "    </tr>\n",
       "    <tr>\n",
       "      <th>3</th>\n",
       "      <td>0</td>\n",
       "      <td>61</td>\n",
       "      <td>3.0</td>\n",
       "      <td>1</td>\n",
       "      <td>30.0</td>\n",
       "      <td>0.0</td>\n",
       "      <td>0</td>\n",
       "      <td>1</td>\n",
       "      <td>0</td>\n",
       "      <td>225.0</td>\n",
       "      <td>150.0</td>\n",
       "      <td>95.0</td>\n",
       "      <td>28.58</td>\n",
       "      <td>65.0</td>\n",
       "      <td>103.0</td>\n",
       "      <td>1</td>\n",
       "    </tr>\n",
       "    <tr>\n",
       "      <th>4</th>\n",
       "      <td>0</td>\n",
       "      <td>46</td>\n",
       "      <td>3.0</td>\n",
       "      <td>1</td>\n",
       "      <td>23.0</td>\n",
       "      <td>0.0</td>\n",
       "      <td>0</td>\n",
       "      <td>0</td>\n",
       "      <td>0</td>\n",
       "      <td>285.0</td>\n",
       "      <td>130.0</td>\n",
       "      <td>84.0</td>\n",
       "      <td>23.10</td>\n",
       "      <td>85.0</td>\n",
       "      <td>85.0</td>\n",
       "      <td>0</td>\n",
       "    </tr>\n",
       "  </tbody>\n",
       "</table>\n",
       "</div>"
      ],
      "text/plain": [
       "   sex  age  education  currentSmoker  cigsPerDay  BPMeds  prevalentStroke  \\\n",
       "0    1   39        4.0              0         0.0     0.0                0   \n",
       "1    0   46        2.0              0         0.0     0.0                0   \n",
       "2    1   48        1.0              1        20.0     0.0                0   \n",
       "3    0   61        3.0              1        30.0     0.0                0   \n",
       "4    0   46        3.0              1        23.0     0.0                0   \n",
       "\n",
       "   prevalentHyp  diabetes  totChol  sysBP  diaBP    BMI  heartRate  glucose  \\\n",
       "0             0         0    195.0  106.0   70.0  26.97       80.0     77.0   \n",
       "1             0         0    250.0  121.0   81.0  28.73       95.0     76.0   \n",
       "2             0         0    245.0  127.5   80.0  25.34       75.0     70.0   \n",
       "3             1         0    225.0  150.0   95.0  28.58       65.0    103.0   \n",
       "4             0         0    285.0  130.0   84.0  23.10       85.0     85.0   \n",
       "\n",
       "   TenYearCHD  \n",
       "0           0  \n",
       "1           0  \n",
       "2           0  \n",
       "3           1  \n",
       "4           0  "
      ]
     },
     "execution_count": 2,
     "metadata": {},
     "output_type": "execute_result"
    }
   ],
   "source": [
    "# Carregando os dados\n",
    "df_pacientes = pd.read_csv(\"dados/pacientes.csv\")\n",
    "\n",
    "# Visualizar o dataset\n",
    "df_pacientes.head()"
   ]
  },
  {
   "cell_type": "markdown",
   "metadata": {},
   "source": [
    "__Dicionário de variáveis__\n",
    "\n",
    "Demográfico:\n",
    "\n",
    "- Sex: masculino ou feminino (variável categórica)\n",
    "- Age: idade do paciente (variável numérica)\n",
    "- Education: nenhuma informação adicional é fornecida (variável categórica)\n",
    "\n",
    "Comportamental:\n",
    "\n",
    "- Current Smoker: se o paciente é ou não fumante atual (variável categórica)\n",
    "- Cigs Per Day: o número de cigarros que a pessoa fumava em média em um dia (variável numérica)\n",
    "\n",
    "Informações sobre histórico médico:\n",
    "\n",
    "- BP Meds: se o paciente estava ou não fazendo uso de medicamentos para pressão arterial (variável categórica)\n",
    "- Prevalent Stroke: se o paciente já teve ou não um AVC (variável categórica)\n",
    "- Prevalent Hyp: se o paciente era ou não hipertenso (variável categórica)\n",
    "- Diabetes: se o paciente teve ou não diabetes (variável categórica)\n",
    "\n",
    "Informações sobre a condição médica atual:\n",
    "\n",
    "- Tot Chol: nível total de colesterol (variável numérica)\n",
    "- Sys BP: pressão arterial sistólica (variável numérica)\n",
    "- Dia BP: pressão arterial diastólica  (variável numérica)\n",
    "- BMI: Índice de Massa Corporal (variável numérica)\n",
    "- Heart Rate: frequência cardíaca (variável numérica)\n",
    "- Glucose: nível de glicose (variável numérica)\n",
    "\n",
    "Variável de destino:\n",
    "\n",
    "- TenYearCHD - Risco de 10 anos de doença cardíaca coronária (CHD - Coronary Heart Disease ) - (binário: \"1\" significa \"Sim\", \"0\" significa \"Não\")"
   ]
  },
  {
   "cell_type": "markdown",
   "metadata": {},
   "source": [
    "### Análise exploratória e Limpeza de dados"
   ]
  },
  {
   "cell_type": "code",
   "execution_count": 3,
   "metadata": {},
   "outputs": [
    {
     "name": "stdout",
     "output_type": "stream",
     "text": [
      "Número de linhas:\t4240\n",
      "Número de colunas:\t16\n"
     ]
    }
   ],
   "source": [
    "# Dimensões\n",
    "print(f'Número de linhas:\\t{df_pacientes.shape[0]}')\n",
    "print(f'Número de colunas:\\t{df_pacientes.shape[1]}')"
   ]
  },
  {
   "cell_type": "code",
   "execution_count": 4,
   "metadata": {},
   "outputs": [
    {
     "data": {
      "text/plain": [
       "sex                  int64\n",
       "age                  int64\n",
       "education          float64\n",
       "currentSmoker        int64\n",
       "cigsPerDay         float64\n",
       "BPMeds             float64\n",
       "prevalentStroke      int64\n",
       "prevalentHyp         int64\n",
       "diabetes             int64\n",
       "totChol            float64\n",
       "sysBP              float64\n",
       "diaBP              float64\n",
       "BMI                float64\n",
       "heartRate          float64\n",
       "glucose            float64\n",
       "TenYearCHD           int64\n",
       "dtype: object"
      ]
     },
     "execution_count": 4,
     "metadata": {},
     "output_type": "execute_result"
    }
   ],
   "source": [
    "# Tipo de dados\n",
    "df_pacientes.dtypes"
   ]
  },
  {
   "cell_type": "code",
   "execution_count": 5,
   "metadata": {},
   "outputs": [
    {
     "data": {
      "text/html": [
       "<div>\n",
       "<style scoped>\n",
       "    .dataframe tbody tr th:only-of-type {\n",
       "        vertical-align: middle;\n",
       "    }\n",
       "\n",
       "    .dataframe tbody tr th {\n",
       "        vertical-align: top;\n",
       "    }\n",
       "\n",
       "    .dataframe thead th {\n",
       "        text-align: right;\n",
       "    }\n",
       "</style>\n",
       "<table border=\"1\" class=\"dataframe\">\n",
       "  <thead>\n",
       "    <tr style=\"text-align: right;\">\n",
       "      <th></th>\n",
       "      <th>sex</th>\n",
       "      <th>age</th>\n",
       "      <th>education</th>\n",
       "      <th>currentSmoker</th>\n",
       "      <th>cigsPerDay</th>\n",
       "      <th>BPMeds</th>\n",
       "      <th>prevalentStroke</th>\n",
       "      <th>prevalentHyp</th>\n",
       "      <th>diabetes</th>\n",
       "      <th>totChol</th>\n",
       "      <th>sysBP</th>\n",
       "      <th>diaBP</th>\n",
       "      <th>BMI</th>\n",
       "      <th>heartRate</th>\n",
       "      <th>glucose</th>\n",
       "      <th>TenYearCHD</th>\n",
       "    </tr>\n",
       "  </thead>\n",
       "  <tbody>\n",
       "    <tr>\n",
       "      <th>count</th>\n",
       "      <td>4240.000000</td>\n",
       "      <td>4240.000000</td>\n",
       "      <td>4135.000000</td>\n",
       "      <td>4240.000000</td>\n",
       "      <td>4211.000000</td>\n",
       "      <td>4187.000000</td>\n",
       "      <td>4240.000000</td>\n",
       "      <td>4240.000000</td>\n",
       "      <td>4240.000000</td>\n",
       "      <td>4190.000000</td>\n",
       "      <td>4240.000000</td>\n",
       "      <td>4240.000000</td>\n",
       "      <td>4221.000000</td>\n",
       "      <td>4239.000000</td>\n",
       "      <td>3852.000000</td>\n",
       "      <td>4240.000000</td>\n",
       "    </tr>\n",
       "    <tr>\n",
       "      <th>mean</th>\n",
       "      <td>0.429245</td>\n",
       "      <td>49.580189</td>\n",
       "      <td>1.979444</td>\n",
       "      <td>0.494104</td>\n",
       "      <td>9.005937</td>\n",
       "      <td>0.029615</td>\n",
       "      <td>0.005896</td>\n",
       "      <td>0.310613</td>\n",
       "      <td>0.025708</td>\n",
       "      <td>236.699523</td>\n",
       "      <td>132.354599</td>\n",
       "      <td>82.897759</td>\n",
       "      <td>25.800801</td>\n",
       "      <td>75.878981</td>\n",
       "      <td>81.963655</td>\n",
       "      <td>0.151887</td>\n",
       "    </tr>\n",
       "    <tr>\n",
       "      <th>std</th>\n",
       "      <td>0.495027</td>\n",
       "      <td>8.572942</td>\n",
       "      <td>1.019791</td>\n",
       "      <td>0.500024</td>\n",
       "      <td>11.922462</td>\n",
       "      <td>0.169544</td>\n",
       "      <td>0.076569</td>\n",
       "      <td>0.462799</td>\n",
       "      <td>0.158280</td>\n",
       "      <td>44.591284</td>\n",
       "      <td>22.033300</td>\n",
       "      <td>11.910394</td>\n",
       "      <td>4.079840</td>\n",
       "      <td>12.025348</td>\n",
       "      <td>23.954335</td>\n",
       "      <td>0.358953</td>\n",
       "    </tr>\n",
       "    <tr>\n",
       "      <th>min</th>\n",
       "      <td>0.000000</td>\n",
       "      <td>32.000000</td>\n",
       "      <td>1.000000</td>\n",
       "      <td>0.000000</td>\n",
       "      <td>0.000000</td>\n",
       "      <td>0.000000</td>\n",
       "      <td>0.000000</td>\n",
       "      <td>0.000000</td>\n",
       "      <td>0.000000</td>\n",
       "      <td>107.000000</td>\n",
       "      <td>83.500000</td>\n",
       "      <td>48.000000</td>\n",
       "      <td>15.540000</td>\n",
       "      <td>44.000000</td>\n",
       "      <td>40.000000</td>\n",
       "      <td>0.000000</td>\n",
       "    </tr>\n",
       "    <tr>\n",
       "      <th>25%</th>\n",
       "      <td>0.000000</td>\n",
       "      <td>42.000000</td>\n",
       "      <td>1.000000</td>\n",
       "      <td>0.000000</td>\n",
       "      <td>0.000000</td>\n",
       "      <td>0.000000</td>\n",
       "      <td>0.000000</td>\n",
       "      <td>0.000000</td>\n",
       "      <td>0.000000</td>\n",
       "      <td>206.000000</td>\n",
       "      <td>117.000000</td>\n",
       "      <td>75.000000</td>\n",
       "      <td>23.070000</td>\n",
       "      <td>68.000000</td>\n",
       "      <td>71.000000</td>\n",
       "      <td>0.000000</td>\n",
       "    </tr>\n",
       "    <tr>\n",
       "      <th>50%</th>\n",
       "      <td>0.000000</td>\n",
       "      <td>49.000000</td>\n",
       "      <td>2.000000</td>\n",
       "      <td>0.000000</td>\n",
       "      <td>0.000000</td>\n",
       "      <td>0.000000</td>\n",
       "      <td>0.000000</td>\n",
       "      <td>0.000000</td>\n",
       "      <td>0.000000</td>\n",
       "      <td>234.000000</td>\n",
       "      <td>128.000000</td>\n",
       "      <td>82.000000</td>\n",
       "      <td>25.400000</td>\n",
       "      <td>75.000000</td>\n",
       "      <td>78.000000</td>\n",
       "      <td>0.000000</td>\n",
       "    </tr>\n",
       "    <tr>\n",
       "      <th>75%</th>\n",
       "      <td>1.000000</td>\n",
       "      <td>56.000000</td>\n",
       "      <td>3.000000</td>\n",
       "      <td>1.000000</td>\n",
       "      <td>20.000000</td>\n",
       "      <td>0.000000</td>\n",
       "      <td>0.000000</td>\n",
       "      <td>1.000000</td>\n",
       "      <td>0.000000</td>\n",
       "      <td>263.000000</td>\n",
       "      <td>144.000000</td>\n",
       "      <td>90.000000</td>\n",
       "      <td>28.040000</td>\n",
       "      <td>83.000000</td>\n",
       "      <td>87.000000</td>\n",
       "      <td>0.000000</td>\n",
       "    </tr>\n",
       "    <tr>\n",
       "      <th>max</th>\n",
       "      <td>1.000000</td>\n",
       "      <td>70.000000</td>\n",
       "      <td>4.000000</td>\n",
       "      <td>1.000000</td>\n",
       "      <td>70.000000</td>\n",
       "      <td>1.000000</td>\n",
       "      <td>1.000000</td>\n",
       "      <td>1.000000</td>\n",
       "      <td>1.000000</td>\n",
       "      <td>696.000000</td>\n",
       "      <td>295.000000</td>\n",
       "      <td>142.500000</td>\n",
       "      <td>56.800000</td>\n",
       "      <td>143.000000</td>\n",
       "      <td>394.000000</td>\n",
       "      <td>1.000000</td>\n",
       "    </tr>\n",
       "  </tbody>\n",
       "</table>\n",
       "</div>"
      ],
      "text/plain": [
       "               sex          age    education  currentSmoker   cigsPerDay  \\\n",
       "count  4240.000000  4240.000000  4135.000000    4240.000000  4211.000000   \n",
       "mean      0.429245    49.580189     1.979444       0.494104     9.005937   \n",
       "std       0.495027     8.572942     1.019791       0.500024    11.922462   \n",
       "min       0.000000    32.000000     1.000000       0.000000     0.000000   \n",
       "25%       0.000000    42.000000     1.000000       0.000000     0.000000   \n",
       "50%       0.000000    49.000000     2.000000       0.000000     0.000000   \n",
       "75%       1.000000    56.000000     3.000000       1.000000    20.000000   \n",
       "max       1.000000    70.000000     4.000000       1.000000    70.000000   \n",
       "\n",
       "            BPMeds  prevalentStroke  prevalentHyp     diabetes      totChol  \\\n",
       "count  4187.000000      4240.000000   4240.000000  4240.000000  4190.000000   \n",
       "mean      0.029615         0.005896      0.310613     0.025708   236.699523   \n",
       "std       0.169544         0.076569      0.462799     0.158280    44.591284   \n",
       "min       0.000000         0.000000      0.000000     0.000000   107.000000   \n",
       "25%       0.000000         0.000000      0.000000     0.000000   206.000000   \n",
       "50%       0.000000         0.000000      0.000000     0.000000   234.000000   \n",
       "75%       0.000000         0.000000      1.000000     0.000000   263.000000   \n",
       "max       1.000000         1.000000      1.000000     1.000000   696.000000   \n",
       "\n",
       "             sysBP        diaBP          BMI    heartRate      glucose  \\\n",
       "count  4240.000000  4240.000000  4221.000000  4239.000000  3852.000000   \n",
       "mean    132.354599    82.897759    25.800801    75.878981    81.963655   \n",
       "std      22.033300    11.910394     4.079840    12.025348    23.954335   \n",
       "min      83.500000    48.000000    15.540000    44.000000    40.000000   \n",
       "25%     117.000000    75.000000    23.070000    68.000000    71.000000   \n",
       "50%     128.000000    82.000000    25.400000    75.000000    78.000000   \n",
       "75%     144.000000    90.000000    28.040000    83.000000    87.000000   \n",
       "max     295.000000   142.500000    56.800000   143.000000   394.000000   \n",
       "\n",
       "        TenYearCHD  \n",
       "count  4240.000000  \n",
       "mean      0.151887  \n",
       "std       0.358953  \n",
       "min       0.000000  \n",
       "25%       0.000000  \n",
       "50%       0.000000  \n",
       "75%       0.000000  \n",
       "max       1.000000  "
      ]
     },
     "execution_count": 5,
     "metadata": {},
     "output_type": "execute_result"
    }
   ],
   "source": [
    "# Estatísticas das features\n",
    "df_pacientes.describe()"
   ]
  },
  {
   "cell_type": "code",
   "execution_count": 6,
   "metadata": {},
   "outputs": [
    {
     "data": {
      "image/png": "[encoded data removed]",
      "text/plain": [
       "<Figure size 1080x720 with 16 Axes>"
      ]
     },
     "metadata": {
      "needs_background": "light"
     },
     "output_type": "display_data"
    }
   ],
   "source": [
    "df_pacientes.hist(figsize=(15,10));"
   ]
  },
  {
   "cell_type": "code",
   "execution_count": 7,
   "metadata": {},
   "outputs": [
    {
     "data": {
      "image/png": "[encoded data removed]",
      "text/plain": [
       "<Figure size 432x288 with 2 Axes>"
      ]
     },
     "metadata": {
      "needs_background": "light"
     },
     "output_type": "display_data"
    }
   ],
   "source": [
    "# Verificando a Correlação\n",
    "df_pacientes_corr = df_pacientes.corr()\n",
    "sns.heatmap(df_pacientes_corr, );"
   ]
  },
  {
   "cell_type": "markdown",
   "metadata": {},
   "source": [
    "Serapando variáveis categóricas e numéricas"
   ]
  },
  {
   "cell_type": "code",
   "execution_count": 8,
   "metadata": {},
   "outputs": [],
   "source": [
    "# Criando uma cópia do dataset original\n",
    "df_pacientes_teste = df_pacientes.copy()"
   ]
  },
  {
   "cell_type": "code",
   "execution_count": 9,
   "metadata": {},
   "outputs": [
    {
     "data": {
      "text/html": [
       "<div>\n",
       "<style scoped>\n",
       "    .dataframe tbody tr th:only-of-type {\n",
       "        vertical-align: middle;\n",
       "    }\n",
       "\n",
       "    .dataframe tbody tr th {\n",
       "        vertical-align: top;\n",
       "    }\n",
       "\n",
       "    .dataframe thead th {\n",
       "        text-align: right;\n",
       "    }\n",
       "</style>\n",
       "<table border=\"1\" class=\"dataframe\">\n",
       "  <thead>\n",
       "    <tr style=\"text-align: right;\">\n",
       "      <th></th>\n",
       "      <th>sex</th>\n",
       "      <th>age</th>\n",
       "      <th>education</th>\n",
       "      <th>currentSmoker</th>\n",
       "      <th>cigsPerDay</th>\n",
       "      <th>BPMeds</th>\n",
       "      <th>prevalentStroke</th>\n",
       "      <th>prevalentHyp</th>\n",
       "      <th>diabetes</th>\n",
       "      <th>totChol</th>\n",
       "      <th>sysBP</th>\n",
       "      <th>diaBP</th>\n",
       "      <th>BMI</th>\n",
       "      <th>heartRate</th>\n",
       "      <th>glucose</th>\n",
       "      <th>TenYearCHD</th>\n",
       "    </tr>\n",
       "  </thead>\n",
       "  <tbody>\n",
       "    <tr>\n",
       "      <th>0</th>\n",
       "      <td>1</td>\n",
       "      <td>39</td>\n",
       "      <td>4.0</td>\n",
       "      <td>0</td>\n",
       "      <td>0.0</td>\n",
       "      <td>0.0</td>\n",
       "      <td>0</td>\n",
       "      <td>0</td>\n",
       "      <td>0</td>\n",
       "      <td>195.0</td>\n",
       "      <td>106.0</td>\n",
       "      <td>70.0</td>\n",
       "      <td>26.97</td>\n",
       "      <td>80.0</td>\n",
       "      <td>77.0</td>\n",
       "      <td>0</td>\n",
       "    </tr>\n",
       "    <tr>\n",
       "      <th>1</th>\n",
       "      <td>0</td>\n",
       "      <td>46</td>\n",
       "      <td>2.0</td>\n",
       "      <td>0</td>\n",
       "      <td>0.0</td>\n",
       "      <td>0.0</td>\n",
       "      <td>0</td>\n",
       "      <td>0</td>\n",
       "      <td>0</td>\n",
       "      <td>250.0</td>\n",
       "      <td>121.0</td>\n",
       "      <td>81.0</td>\n",
       "      <td>28.73</td>\n",
       "      <td>95.0</td>\n",
       "      <td>76.0</td>\n",
       "      <td>0</td>\n",
       "    </tr>\n",
       "    <tr>\n",
       "      <th>2</th>\n",
       "      <td>1</td>\n",
       "      <td>48</td>\n",
       "      <td>1.0</td>\n",
       "      <td>1</td>\n",
       "      <td>20.0</td>\n",
       "      <td>0.0</td>\n",
       "      <td>0</td>\n",
       "      <td>0</td>\n",
       "      <td>0</td>\n",
       "      <td>245.0</td>\n",
       "      <td>127.5</td>\n",
       "      <td>80.0</td>\n",
       "      <td>25.34</td>\n",
       "      <td>75.0</td>\n",
       "      <td>70.0</td>\n",
       "      <td>0</td>\n",
       "    </tr>\n",
       "    <tr>\n",
       "      <th>3</th>\n",
       "      <td>0</td>\n",
       "      <td>61</td>\n",
       "      <td>3.0</td>\n",
       "      <td>1</td>\n",
       "      <td>30.0</td>\n",
       "      <td>0.0</td>\n",
       "      <td>0</td>\n",
       "      <td>1</td>\n",
       "      <td>0</td>\n",
       "      <td>225.0</td>\n",
       "      <td>150.0</td>\n",
       "      <td>95.0</td>\n",
       "      <td>28.58</td>\n",
       "      <td>65.0</td>\n",
       "      <td>103.0</td>\n",
       "      <td>1</td>\n",
       "    </tr>\n",
       "    <tr>\n",
       "      <th>4</th>\n",
       "      <td>0</td>\n",
       "      <td>46</td>\n",
       "      <td>3.0</td>\n",
       "      <td>1</td>\n",
       "      <td>23.0</td>\n",
       "      <td>0.0</td>\n",
       "      <td>0</td>\n",
       "      <td>0</td>\n",
       "      <td>0</td>\n",
       "      <td>285.0</td>\n",
       "      <td>130.0</td>\n",
       "      <td>84.0</td>\n",
       "      <td>23.10</td>\n",
       "      <td>85.0</td>\n",
       "      <td>85.0</td>\n",
       "      <td>0</td>\n",
       "    </tr>\n",
       "  </tbody>\n",
       "</table>\n",
       "</div>"
      ],
      "text/plain": [
       "   sex  age  education  currentSmoker  cigsPerDay  BPMeds  prevalentStroke  \\\n",
       "0    1   39        4.0              0         0.0     0.0                0   \n",
       "1    0   46        2.0              0         0.0     0.0                0   \n",
       "2    1   48        1.0              1        20.0     0.0                0   \n",
       "3    0   61        3.0              1        30.0     0.0                0   \n",
       "4    0   46        3.0              1        23.0     0.0                0   \n",
       "\n",
       "   prevalentHyp  diabetes  totChol  sysBP  diaBP    BMI  heartRate  glucose  \\\n",
       "0             0         0    195.0  106.0   70.0  26.97       80.0     77.0   \n",
       "1             0         0    250.0  121.0   81.0  28.73       95.0     76.0   \n",
       "2             0         0    245.0  127.5   80.0  25.34       75.0     70.0   \n",
       "3             1         0    225.0  150.0   95.0  28.58       65.0    103.0   \n",
       "4             0         0    285.0  130.0   84.0  23.10       85.0     85.0   \n",
       "\n",
       "   TenYearCHD  \n",
       "0           0  \n",
       "1           0  \n",
       "2           0  \n",
       "3           1  \n",
       "4           0  "
      ]
     },
     "execution_count": 9,
     "metadata": {},
     "output_type": "execute_result"
    }
   ],
   "source": [
    "# Cópia do dataset\n",
    "df_pacientes_teste.head()"
   ]
  },
  {
   "cell_type": "code",
   "execution_count": 10,
   "metadata": {},
   "outputs": [],
   "source": [
    "# Convertendo as variáveis categóricas para o tipo categórico em Python\n",
    "# Como queremos apenas avaliar a associação com a variável resposta estamos trabalhando com uma cópia do dataset original.\n",
    "df_pacientes_teste['sex'] = df_pacientes_teste['sex'].astype('category')\n",
    "df_pacientes_teste['education'] = df_pacientes_teste['education'].astype('category')\n",
    "df_pacientes_teste['currentSmoker'] = df_pacientes_teste['currentSmoker'].astype('category')\n",
    "df_pacientes_teste['BPMeds'] = df_pacientes_teste['BPMeds'].astype('category')\n",
    "df_pacientes_teste['prevalentStroke'] = df_pacientes_teste['prevalentStroke'].astype('category')\n",
    "df_pacientes_teste['prevalentHyp'] = df_pacientes_teste['prevalentHyp'].astype('category')\n",
    "df_pacientes_teste['diabetes'] = df_pacientes_teste['diabetes'].astype('category')\n",
    "df_pacientes_teste['TenYearCHD'] = df_pacientes_teste['TenYearCHD'].astype('category')"
   ]
  },
  {
   "cell_type": "code",
   "execution_count": 11,
   "metadata": {},
   "outputs": [
    {
     "data": {
      "text/plain": [
       "sex                category\n",
       "age                   int64\n",
       "education          category\n",
       "currentSmoker      category\n",
       "cigsPerDay          float64\n",
       "BPMeds             category\n",
       "prevalentStroke    category\n",
       "prevalentHyp       category\n",
       "diabetes           category\n",
       "totChol             float64\n",
       "sysBP               float64\n",
       "diaBP               float64\n",
       "BMI                 float64\n",
       "heartRate           float64\n",
       "glucose             float64\n",
       "TenYearCHD         category\n",
       "dtype: object"
      ]
     },
     "execution_count": 11,
     "metadata": {},
     "output_type": "execute_result"
    }
   ],
   "source": [
    "# Visualizando os tipos de dados\n",
    "df_pacientes_teste.dtypes"
   ]
  },
  {
   "cell_type": "code",
   "execution_count": 12,
   "metadata": {},
   "outputs": [
    {
     "data": {
      "image/png": "[encoded data removed]",
      "text/plain": [
       "<Figure size 432x288 with 2 Axes>"
      ]
     },
     "metadata": {
      "needs_background": "light"
     },
     "output_type": "display_data"
    }
   ],
   "source": [
    "# Coeficiente de correlação é calculado para variáveis numéricas\n",
    "df_pacientes_corr = df_pacientes_teste.corr()\n",
    "sns.heatmap(df_pacientes_corr);"
   ]
  },
  {
   "cell_type": "code",
   "execution_count": 13,
   "metadata": {},
   "outputs": [],
   "source": [
    "# Função para calcular a associação entre variáveis categóricas\n",
    "\n",
    "# Pacote stats do Scipy\n",
    "import scipy.stats as ss\n",
    "\n",
    "# https://docs.scipy.org/doc/scipy/reference/generated/scipy.stats.chi2_contingency.html\n",
    "\n",
    "# Em Estatística, Cramér-V é uma medida de associação entre duas variáveis categóricas, fornecendo um valor \n",
    "# entre 0 e +1 (inclusive). É baseado na estatística do qui-quadrado (chi2) de Pearson e foi publicado \n",
    "# por Harald Cramér em 1946. \n",
    "\n",
    "# A Associação é um resultado no intervalo de [0,1], em que 0 significa nenhuma associação e 1 é associação completa.\n",
    "\n",
    "# Função\n",
    "def cramers_v(x, y):\n",
    "    confusion_matrix = pd.crosstab(x, y)\n",
    "    \n",
    "    # Teste qui-quadrado de independência de variáveis em uma tabela de contingência.\n",
    "    chi2 = ss.chi2_contingency(confusion_matrix)[0]\n",
    "    n = confusion_matrix.sum().sum()\n",
    "    phi2 = chi2/n\n",
    "    r,k = confusion_matrix.shape\n",
    "    phi2corr = max(0, phi2-((k-1)*(r-1))/(n-1))\n",
    "    rcorr = r-((r-1)**2)/(n-1)\n",
    "    kcorr = k-((k-1)**2)/(n-1)\n",
    "    return np.sqrt(phi2corr/min((kcorr-1),(rcorr-1)))"
   ]
  },
  {
   "cell_type": "code",
   "execution_count": 14,
   "metadata": {},
   "outputs": [],
   "source": [
    "# Coleta as variáveis categóricas do dataset\n",
    "from pandas.api.types import is_string_dtype\n",
    "from pandas.api.types import is_numeric_dtype\n",
    "\n",
    "categorical_vars = []\n",
    "\n",
    "for column in df_pacientes_teste:\n",
    "    if is_string_dtype(df_pacientes_teste[column]):\n",
    "        categorical_vars.append(column)"
   ]
  },
  {
   "cell_type": "code",
   "execution_count": 15,
   "metadata": {
    "scrolled": true
   },
   "outputs": [
    {
     "data": {
      "text/plain": [
       "['sex',\n",
       " 'education',\n",
       " 'currentSmoker',\n",
       " 'BPMeds',\n",
       " 'prevalentStroke',\n",
       " 'prevalentHyp',\n",
       " 'diabetes',\n",
       " 'TenYearCHD']"
      ]
     },
     "execution_count": 15,
     "metadata": {},
     "output_type": "execute_result"
    }
   ],
   "source": [
    "categorical_vars"
   ]
  },
  {
   "cell_type": "code",
   "execution_count": 16,
   "metadata": {
    "scrolled": false
   },
   "outputs": [
    {
     "name": "stdout",
     "output_type": "stream",
     "text": [
      "\n",
      "A Associação é um resultado no intervalo de [0,1], em que 0 significa nenhuma associação e 1 é associação completa.\n",
      "\n",
      "\n",
      "Associação da Variável sex com a variável resposta: 0.09\n",
      "Associação da Variável education com a variável resposta: 0.08\n",
      "Associação da Variável currentSmoker com a variável resposta: 0.01\n",
      "Associação da Variável BPMeds com a variável resposta: 0.08\n",
      "Associação da Variável prevalentStroke com a variável resposta: 0.06\n",
      "Associação da Variável prevalentHyp com a variável resposta: 0.18\n",
      "Associação da Variável diabetes com a variável resposta: 0.09\n",
      "Associação da Variável TenYearCHD com a variável resposta: 1.0\n"
     ]
    }
   ],
   "source": [
    "y = 'TenYearCHD'\n",
    "\n",
    "print('\\nA Associação é um resultado no intervalo de [0,1], em que 0 significa nenhuma associação e 1 é associação completa.')\n",
    "print('\\n')\n",
    "\n",
    "for var in categorical_vars:\n",
    "    print(f'Associação da Variável {var} com a variável resposta:', \n",
    "          cramers_v(df_pacientes_teste[var], df_pacientes_teste[y]).round(2))"
   ]
  },
  {
   "cell_type": "markdown",
   "metadata": {},
   "source": [
    "Removeremos do dataset a coluna education. Primeiro porque ela não tem correlação (associação) com a variável resposta e segundo porque usar a educação para compreender fatores de risco poderia ser algo subjetivo. Além de tudo isso, não temos mais detalhes sobre essa variável. Manteremos as demais variáveis por enquanto."
   ]
  },
  {
   "cell_type": "code",
   "execution_count": 17,
   "metadata": {},
   "outputs": [],
   "source": [
    "# Removendo a coluna education\n",
    "df_pacientes = df_pacientes.drop(['education'], axis = 1)"
   ]
  },
  {
   "cell_type": "markdown",
   "metadata": {},
   "source": [
    "### Tratamento dos valores ausentes"
   ]
  },
  {
   "cell_type": "code",
   "execution_count": 18,
   "metadata": {},
   "outputs": [
    {
     "data": {
      "text/plain": [
       "glucose            0.091509\n",
       "BPMeds             0.012500\n",
       "totChol            0.011792\n",
       "cigsPerDay         0.006840\n",
       "BMI                0.004481\n",
       "heartRate          0.000236\n",
       "TenYearCHD         0.000000\n",
       "diaBP              0.000000\n",
       "sysBP              0.000000\n",
       "diabetes           0.000000\n",
       "prevalentHyp       0.000000\n",
       "prevalentStroke    0.000000\n",
       "currentSmoker      0.000000\n",
       "age                0.000000\n",
       "sex                0.000000\n",
       "dtype: float64"
      ]
     },
     "execution_count": 18,
     "metadata": {},
     "output_type": "execute_result"
    }
   ],
   "source": [
    "# Missing values\n",
    "df_pacientes.isnull().mean().sort_values(ascending=False)"
   ]
  },
  {
   "cell_type": "code",
   "execution_count": 19,
   "metadata": {},
   "outputs": [
    {
     "data": {
      "text/plain": [
       "TenYearCHD         0.0\n",
       "glucose            0.0\n",
       "heartRate          0.0\n",
       "BMI                0.0\n",
       "diaBP              0.0\n",
       "sysBP              0.0\n",
       "totChol            0.0\n",
       "diabetes           0.0\n",
       "prevalentHyp       0.0\n",
       "prevalentStroke    0.0\n",
       "BPMeds             0.0\n",
       "cigsPerDay         0.0\n",
       "currentSmoker      0.0\n",
       "age                0.0\n",
       "sex                0.0\n",
       "dtype: float64"
      ]
     },
     "execution_count": 19,
     "metadata": {},
     "output_type": "execute_result"
    }
   ],
   "source": [
    "# Removendo todas as linhas com valores NA\n",
    "df_pacientes = df_pacientes.dropna()\n",
    "df_pacientes.isnull().mean().sort_values(ascending=False)"
   ]
  },
  {
   "cell_type": "markdown",
   "metadata": {},
   "source": [
    "### Tratamento de outliers"
   ]
  },
  {
   "cell_type": "markdown",
   "metadata": {},
   "source": [
    "Variável __totChol__"
   ]
  },
  {
   "cell_type": "code",
   "execution_count": 20,
   "metadata": {},
   "outputs": [
    {
     "data": {
      "image/png": "[encoded data removed]",
      "text/plain": [
       "<Figure size 432x288 with 1 Axes>"
      ]
     },
     "metadata": {
      "needs_background": "light"
     },
     "output_type": "display_data"
    }
   ],
   "source": [
    "# Visualizando os outliers da variável totChol\n",
    "sns.boxplot(df_pacientes.totChol);"
   ]
  },
  {
   "cell_type": "code",
   "execution_count": 21,
   "metadata": {},
   "outputs": [
    {
     "data": {
      "text/html": [
       "<div>\n",
       "<style scoped>\n",
       "    .dataframe tbody tr th:only-of-type {\n",
       "        vertical-align: middle;\n",
       "    }\n",
       "\n",
       "    .dataframe tbody tr th {\n",
       "        vertical-align: top;\n",
       "    }\n",
       "\n",
       "    .dataframe thead th {\n",
       "        text-align: right;\n",
       "    }\n",
       "</style>\n",
       "<table border=\"1\" class=\"dataframe\">\n",
       "  <thead>\n",
       "    <tr style=\"text-align: right;\">\n",
       "      <th></th>\n",
       "      <th>sex</th>\n",
       "      <th>age</th>\n",
       "      <th>currentSmoker</th>\n",
       "      <th>cigsPerDay</th>\n",
       "      <th>BPMeds</th>\n",
       "      <th>prevalentStroke</th>\n",
       "      <th>prevalentHyp</th>\n",
       "      <th>diabetes</th>\n",
       "      <th>totChol</th>\n",
       "      <th>sysBP</th>\n",
       "      <th>diaBP</th>\n",
       "      <th>BMI</th>\n",
       "      <th>heartRate</th>\n",
       "      <th>glucose</th>\n",
       "      <th>TenYearCHD</th>\n",
       "    </tr>\n",
       "  </thead>\n",
       "  <tbody>\n",
       "    <tr>\n",
       "      <th>1111</th>\n",
       "      <td>0</td>\n",
       "      <td>52</td>\n",
       "      <td>0</td>\n",
       "      <td>0.0</td>\n",
       "      <td>0.0</td>\n",
       "      <td>0</td>\n",
       "      <td>1</td>\n",
       "      <td>1</td>\n",
       "      <td>600.0</td>\n",
       "      <td>159.5</td>\n",
       "      <td>94.0</td>\n",
       "      <td>28.27</td>\n",
       "      <td>78.0</td>\n",
       "      <td>140.0</td>\n",
       "      <td>1</td>\n",
       "    </tr>\n",
       "    <tr>\n",
       "      <th>3160</th>\n",
       "      <td>1</td>\n",
       "      <td>51</td>\n",
       "      <td>1</td>\n",
       "      <td>9.0</td>\n",
       "      <td>0.0</td>\n",
       "      <td>0</td>\n",
       "      <td>1</td>\n",
       "      <td>0</td>\n",
       "      <td>696.0</td>\n",
       "      <td>157.0</td>\n",
       "      <td>87.0</td>\n",
       "      <td>24.44</td>\n",
       "      <td>95.0</td>\n",
       "      <td>84.0</td>\n",
       "      <td>0</td>\n",
       "    </tr>\n",
       "  </tbody>\n",
       "</table>\n",
       "</div>"
      ],
      "text/plain": [
       "      sex  age  currentSmoker  cigsPerDay  BPMeds  prevalentStroke  \\\n",
       "1111    0   52              0         0.0     0.0                0   \n",
       "3160    1   51              1         9.0     0.0                0   \n",
       "\n",
       "      prevalentHyp  diabetes  totChol  sysBP  diaBP    BMI  heartRate  \\\n",
       "1111             1         1    600.0  159.5   94.0  28.27       78.0   \n",
       "3160             1         0    696.0  157.0   87.0  24.44       95.0   \n",
       "\n",
       "      glucose  TenYearCHD  \n",
       "1111    140.0           1  \n",
       "3160     84.0           0  "
      ]
     },
     "execution_count": 21,
     "metadata": {},
     "output_type": "execute_result"
    }
   ],
   "source": [
    "# Obs: Nível total de colesterol acima de 240 já é ruim\n",
    "outliers_totChol = df_pacientes[(df_pacientes['totChol'] > 500)] \n",
    "outliers_totChol"
   ]
  },
  {
   "cell_type": "code",
   "execution_count": 22,
   "metadata": {},
   "outputs": [
    {
     "data": {
      "image/png": "[encoded data removed]",
      "text/plain": [
       "<Figure size 432x288 with 1 Axes>"
      ]
     },
     "metadata": {
      "needs_background": "light"
     },
     "output_type": "display_data"
    }
   ],
   "source": [
    "# Histograma da variável totChol antes da limpeza\n",
    "df_pacientes.totChol.hist();"
   ]
  },
  {
   "cell_type": "code",
   "execution_count": 23,
   "metadata": {},
   "outputs": [],
   "source": [
    "# Remover os outliers\n",
    "df_pacientes = df_pacientes.drop(df_pacientes[df_pacientes.totChol > 500].index)"
   ]
  },
  {
   "cell_type": "code",
   "execution_count": 24,
   "metadata": {
    "scrolled": true
   },
   "outputs": [
    {
     "data": {
      "image/png": "[encoded data removed]",
      "text/plain": [
       "<Figure size 432x288 with 1 Axes>"
      ]
     },
     "metadata": {
      "needs_background": "light"
     },
     "output_type": "display_data"
    }
   ],
   "source": [
    "# Visualizando os outliers da variável totChol depois da limpeza\n",
    "sns.boxplot(df_pacientes.totChol);"
   ]
  },
  {
   "cell_type": "code",
   "execution_count": 25,
   "metadata": {
    "scrolled": true
   },
   "outputs": [
    {
     "data": {
      "image/png": "[encoded data removed]",
      "text/plain": [
       "<Figure size 432x288 with 1 Axes>"
      ]
     },
     "metadata": {
      "needs_background": "light"
     },
     "output_type": "display_data"
    }
   ],
   "source": [
    "# Histograma da variável totChol depois da limpeza\n",
    "df_pacientes.totChol.hist();"
   ]
  },
  {
   "cell_type": "markdown",
   "metadata": {},
   "source": [
    "Variável __glucose__"
   ]
  },
  {
   "cell_type": "code",
   "execution_count": 26,
   "metadata": {},
   "outputs": [
    {
     "data": {
      "image/png": "[encoded data removed]",
      "text/plain": [
       "<Figure size 432x288 with 1 Axes>"
      ]
     },
     "metadata": {
      "needs_background": "light"
     },
     "output_type": "display_data"
    }
   ],
   "source": [
    "# Visualizando os outliers da variável glucose\n",
    "sns.boxplot(df_pacientes.glucose);"
   ]
  },
  {
   "cell_type": "code",
   "execution_count": 27,
   "metadata": {
    "scrolled": true
   },
   "outputs": [
    {
     "data": {
      "text/html": [
       "<div>\n",
       "<style scoped>\n",
       "    .dataframe tbody tr th:only-of-type {\n",
       "        vertical-align: middle;\n",
       "    }\n",
       "\n",
       "    .dataframe tbody tr th {\n",
       "        vertical-align: top;\n",
       "    }\n",
       "\n",
       "    .dataframe thead th {\n",
       "        text-align: right;\n",
       "    }\n",
       "</style>\n",
       "<table border=\"1\" class=\"dataframe\">\n",
       "  <thead>\n",
       "    <tr style=\"text-align: right;\">\n",
       "      <th></th>\n",
       "      <th>sex</th>\n",
       "      <th>age</th>\n",
       "      <th>currentSmoker</th>\n",
       "      <th>cigsPerDay</th>\n",
       "      <th>BPMeds</th>\n",
       "      <th>prevalentStroke</th>\n",
       "      <th>prevalentHyp</th>\n",
       "      <th>diabetes</th>\n",
       "      <th>totChol</th>\n",
       "      <th>sysBP</th>\n",
       "      <th>diaBP</th>\n",
       "      <th>BMI</th>\n",
       "      <th>heartRate</th>\n",
       "      <th>glucose</th>\n",
       "      <th>TenYearCHD</th>\n",
       "    </tr>\n",
       "  </thead>\n",
       "  <tbody>\n",
       "    <tr>\n",
       "      <th>1363</th>\n",
       "      <td>1</td>\n",
       "      <td>55</td>\n",
       "      <td>1</td>\n",
       "      <td>40.0</td>\n",
       "      <td>0.0</td>\n",
       "      <td>0</td>\n",
       "      <td>0</td>\n",
       "      <td>1</td>\n",
       "      <td>205.0</td>\n",
       "      <td>127.0</td>\n",
       "      <td>76.0</td>\n",
       "      <td>22.24</td>\n",
       "      <td>90.0</td>\n",
       "      <td>325.0</td>\n",
       "      <td>1</td>\n",
       "    </tr>\n",
       "    <tr>\n",
       "      <th>2406</th>\n",
       "      <td>0</td>\n",
       "      <td>62</td>\n",
       "      <td>0</td>\n",
       "      <td>0.0</td>\n",
       "      <td>0.0</td>\n",
       "      <td>0</td>\n",
       "      <td>0</td>\n",
       "      <td>1</td>\n",
       "      <td>233.0</td>\n",
       "      <td>130.0</td>\n",
       "      <td>87.0</td>\n",
       "      <td>21.34</td>\n",
       "      <td>85.0</td>\n",
       "      <td>386.0</td>\n",
       "      <td>0</td>\n",
       "    </tr>\n",
       "    <tr>\n",
       "      <th>2801</th>\n",
       "      <td>0</td>\n",
       "      <td>47</td>\n",
       "      <td>1</td>\n",
       "      <td>1.0</td>\n",
       "      <td>0.0</td>\n",
       "      <td>0</td>\n",
       "      <td>1</td>\n",
       "      <td>1</td>\n",
       "      <td>160.0</td>\n",
       "      <td>197.0</td>\n",
       "      <td>109.0</td>\n",
       "      <td>34.91</td>\n",
       "      <td>82.0</td>\n",
       "      <td>320.0</td>\n",
       "      <td>1</td>\n",
       "    </tr>\n",
       "    <tr>\n",
       "      <th>2893</th>\n",
       "      <td>1</td>\n",
       "      <td>62</td>\n",
       "      <td>0</td>\n",
       "      <td>0.0</td>\n",
       "      <td>0.0</td>\n",
       "      <td>0</td>\n",
       "      <td>0</td>\n",
       "      <td>1</td>\n",
       "      <td>346.0</td>\n",
       "      <td>102.5</td>\n",
       "      <td>66.5</td>\n",
       "      <td>17.17</td>\n",
       "      <td>80.0</td>\n",
       "      <td>394.0</td>\n",
       "      <td>1</td>\n",
       "    </tr>\n",
       "    <tr>\n",
       "      <th>2909</th>\n",
       "      <td>0</td>\n",
       "      <td>67</td>\n",
       "      <td>0</td>\n",
       "      <td>0.0</td>\n",
       "      <td>1.0</td>\n",
       "      <td>0</td>\n",
       "      <td>1</td>\n",
       "      <td>1</td>\n",
       "      <td>303.0</td>\n",
       "      <td>204.0</td>\n",
       "      <td>96.0</td>\n",
       "      <td>27.86</td>\n",
       "      <td>75.0</td>\n",
       "      <td>394.0</td>\n",
       "      <td>1</td>\n",
       "    </tr>\n",
       "    <tr>\n",
       "      <th>3817</th>\n",
       "      <td>1</td>\n",
       "      <td>47</td>\n",
       "      <td>1</td>\n",
       "      <td>20.0</td>\n",
       "      <td>0.0</td>\n",
       "      <td>0</td>\n",
       "      <td>1</td>\n",
       "      <td>1</td>\n",
       "      <td>296.0</td>\n",
       "      <td>141.0</td>\n",
       "      <td>93.0</td>\n",
       "      <td>28.50</td>\n",
       "      <td>68.0</td>\n",
       "      <td>332.0</td>\n",
       "      <td>1</td>\n",
       "    </tr>\n",
       "    <tr>\n",
       "      <th>3844</th>\n",
       "      <td>0</td>\n",
       "      <td>62</td>\n",
       "      <td>1</td>\n",
       "      <td>20.0</td>\n",
       "      <td>1.0</td>\n",
       "      <td>0</td>\n",
       "      <td>1</td>\n",
       "      <td>1</td>\n",
       "      <td>358.0</td>\n",
       "      <td>215.0</td>\n",
       "      <td>110.0</td>\n",
       "      <td>37.62</td>\n",
       "      <td>110.0</td>\n",
       "      <td>368.0</td>\n",
       "      <td>1</td>\n",
       "    </tr>\n",
       "    <tr>\n",
       "      <th>3849</th>\n",
       "      <td>0</td>\n",
       "      <td>46</td>\n",
       "      <td>1</td>\n",
       "      <td>15.0</td>\n",
       "      <td>0.0</td>\n",
       "      <td>0</td>\n",
       "      <td>0</td>\n",
       "      <td>1</td>\n",
       "      <td>233.0</td>\n",
       "      <td>106.0</td>\n",
       "      <td>60.0</td>\n",
       "      <td>20.84</td>\n",
       "      <td>75.0</td>\n",
       "      <td>348.0</td>\n",
       "      <td>0</td>\n",
       "    </tr>\n",
       "    <tr>\n",
       "      <th>3971</th>\n",
       "      <td>1</td>\n",
       "      <td>64</td>\n",
       "      <td>0</td>\n",
       "      <td>0.0</td>\n",
       "      <td>0.0</td>\n",
       "      <td>0</td>\n",
       "      <td>1</td>\n",
       "      <td>1</td>\n",
       "      <td>195.0</td>\n",
       "      <td>176.0</td>\n",
       "      <td>78.0</td>\n",
       "      <td>24.90</td>\n",
       "      <td>95.0</td>\n",
       "      <td>370.0</td>\n",
       "      <td>0</td>\n",
       "    </tr>\n",
       "  </tbody>\n",
       "</table>\n",
       "</div>"
      ],
      "text/plain": [
       "      sex  age  currentSmoker  cigsPerDay  BPMeds  prevalentStroke  \\\n",
       "1363    1   55              1        40.0     0.0                0   \n",
       "2406    0   62              0         0.0     0.0                0   \n",
       "2801    0   47              1         1.0     0.0                0   \n",
       "2893    1   62              0         0.0     0.0                0   \n",
       "2909    0   67              0         0.0     1.0                0   \n",
       "3817    1   47              1        20.0     0.0                0   \n",
       "3844    0   62              1        20.0     1.0                0   \n",
       "3849    0   46              1        15.0     0.0                0   \n",
       "3971    1   64              0         0.0     0.0                0   \n",
       "\n",
       "      prevalentHyp  diabetes  totChol  sysBP  diaBP    BMI  heartRate  \\\n",
       "1363             0         1    205.0  127.0   76.0  22.24       90.0   \n",
       "2406             0         1    233.0  130.0   87.0  21.34       85.0   \n",
       "2801             1         1    160.0  197.0  109.0  34.91       82.0   \n",
       "2893             0         1    346.0  102.5   66.5  17.17       80.0   \n",
       "2909             1         1    303.0  204.0   96.0  27.86       75.0   \n",
       "3817             1         1    296.0  141.0   93.0  28.50       68.0   \n",
       "3844             1         1    358.0  215.0  110.0  37.62      110.0   \n",
       "3849             0         1    233.0  106.0   60.0  20.84       75.0   \n",
       "3971             1         1    195.0  176.0   78.0  24.90       95.0   \n",
       "\n",
       "      glucose  TenYearCHD  \n",
       "1363    325.0           1  \n",
       "2406    386.0           0  \n",
       "2801    320.0           1  \n",
       "2893    394.0           1  \n",
       "2909    394.0           1  \n",
       "3817    332.0           1  \n",
       "3844    368.0           1  \n",
       "3849    348.0           0  \n",
       "3971    370.0           0  "
      ]
     },
     "execution_count": 27,
     "metadata": {},
     "output_type": "execute_result"
    }
   ],
   "source": [
    "# Obs: Valores de nível de glicose acima de 100 mg/dl, em jejum, já podem ser prejudiciais. \n",
    "# A relação tempo e dano é muito individual. \n",
    "outliers_glucose = df_pacientes[(df_pacientes['glucose'] > 300)] \n",
    "outliers_glucose"
   ]
  },
  {
   "cell_type": "code",
   "execution_count": 28,
   "metadata": {
    "scrolled": true
   },
   "outputs": [
    {
     "data": {
      "image/png": "[encoded data removed]",
      "text/plain": [
       "<Figure size 432x288 with 1 Axes>"
      ]
     },
     "metadata": {
      "needs_background": "light"
     },
     "output_type": "display_data"
    }
   ],
   "source": [
    "# Histograma da variável glucose antes da limpeza\n",
    "df_pacientes.glucose.hist();"
   ]
  },
  {
   "cell_type": "code",
   "execution_count": 29,
   "metadata": {},
   "outputs": [],
   "source": [
    "# Remover os outliers\n",
    "df_pacientes = df_pacientes.drop(df_pacientes[df_pacientes.glucose > 300].index)"
   ]
  },
  {
   "cell_type": "code",
   "execution_count": 30,
   "metadata": {},
   "outputs": [
    {
     "data": {
      "image/png": "[encoded data removed]",
      "text/plain": [
       "<Figure size 432x288 with 1 Axes>"
      ]
     },
     "metadata": {
      "needs_background": "light"
     },
     "output_type": "display_data"
    }
   ],
   "source": [
    "# Visualizando os outliers da variável glucose depois da limpeza\n",
    "sns.boxplot(df_pacientes.glucose);"
   ]
  },
  {
   "cell_type": "code",
   "execution_count": 31,
   "metadata": {},
   "outputs": [
    {
     "data": {
      "image/png": "[encoded data removed]",
      "text/plain": [
       "<Figure size 432x288 with 1 Axes>"
      ]
     },
     "metadata": {
      "needs_background": "light"
     },
     "output_type": "display_data"
    }
   ],
   "source": [
    "# Histograma da variável glucose depois da limpeza\n",
    "df_pacientes.glucose.hist();"
   ]
  },
  {
   "cell_type": "markdown",
   "metadata": {},
   "source": [
    "### Variável dependente (target)"
   ]
  },
  {
   "cell_type": "code",
   "execution_count": 32,
   "metadata": {},
   "outputs": [
    {
     "name": "stdout",
     "output_type": "stream",
     "text": [
      "Classe 0: 3175\n",
      "Classe 1: 565\n",
      "Proporção: 5.62 : 1\n"
     ]
    }
   ],
   "source": [
    "# Verificando se a variável resposta está balanceada\n",
    "target_count = df_pacientes.TenYearCHD.value_counts()\n",
    "print('Classe 0:', target_count[0])\n",
    "print('Classe 1:', target_count[1])\n",
    "print('Proporção:', round(target_count[0] / target_count[1], 2), ': 1')"
   ]
  },
  {
   "cell_type": "markdown",
   "metadata": {},
   "source": [
    "Podemos ver que a proporção é de 5,62: 1, que não está bem equilibrada. Um dos principais problemas ao lidar com conjuntos de dados desequilibrados refere-se às métricas usadas para avaliar um modelo. O uso de métricas mais simples, como __acurácia__, pode ser enganoso. Em um conjunto de dados com classes altamente desequilibradas, se o classificador sempre \"predizer\" a classe mais comum sem realizar nenhuma análise dos recursos, ele ainda terá uma alta taxa de __acurácia__, obviamente ilusória."
   ]
  },
  {
   "cell_type": "markdown",
   "metadata": {},
   "source": [
    "### Pré-Processamento dos Dados - Reamostragem de Dados Desequilibrados"
   ]
  },
  {
   "cell_type": "code",
   "execution_count": 33,
   "metadata": {},
   "outputs": [
    {
     "data": {
      "image/png": "[encoded data removed]",
      "text/plain": [
       "<Figure size 432x288 with 1 Axes>"
      ]
     },
     "metadata": {
      "needs_background": "light"
     },
     "output_type": "display_data"
    }
   ],
   "source": [
    "# Plot \n",
    "sns.countplot(df_pacientes.TenYearCHD)\n",
    "plt.xlabel('Doença Cardíaca Não (0) / Sim (1)', fontsize = 11)\n",
    "plt.ylabel('Total Pacientes', fontsize = 11)\n",
    "plt.title('Contagem de Classes\\n');"
   ]
  },
  {
   "cell_type": "markdown",
   "metadata": {},
   "source": [
    "Possíveis soluções:\n",
    "- Reduzir a classe majoritária - Undersampling\n",
    "- Aumentar a classe minoritária - Oversampling\n",
    "\n",
    "ou:"
   ]
  },
  {
   "cell_type": "markdown",
   "metadata": {},
   "source": [
    "### SMOTE (Synthetic Minority Oversampling Technique)\n",
    "\n",
    "SMOTE é um tipo de Dataset Augmentation."
   ]
  },
  {
   "cell_type": "markdown",
   "metadata": {},
   "source": [
    "Um problema com a classe desequilibrada é que existem poucos exemplos da classe minoritária para um modelo aprender efetivamente o limite da decisão.\n",
    "\n",
    "Uma maneira de resolver esse problema é exagerar os exemplos na classe minoritária. Isso pode ser conseguido simplesmente duplicando exemplos da classe minoritária no conjunto de dados de treinamento antes de ajustar um modelo. Isso pode equilibrar a distribuição de classe, mas não fornece nenhuma informação adicional ao modelo.\n",
    "\n",
    "Uma melhoria na duplicação de exemplos da classe minoritária é sintetizar novos exemplos da classe minoritária. Este é um tipo de aumento de dados para dados tabulares e pode ser muito eficaz.\n",
    "\n",
    "Talvez a abordagem mais amplamente usada para sintetizar novos exemplos seja chamada Synthetic Minority Oversampling Technique, ou SMOTE, resumidamente. Essa técnica foi descrita por Nitesh Chawla, et al. em seu trabalho de 2002, nomeado para a técnica intitulada \"SMOTE: Técnica de sobre-amostragem de minorias sintéticas\".\n",
    "\n",
    "https://arxiv.org/abs/1106.1813\n",
    "\n",
    "O SMOTE funciona selecionando exemplos que estão próximos no espaço de recurso, desenhando uma linha entre os exemplos no espaço de recurso e desenhando uma nova amostra em um ponto ao longo dessa linha.\n",
    "\n",
    "Especificamente, um exemplo aleatório da classe minoritária é escolhido primeiro. Em seguida, k dos vizinhos mais próximos desse exemplo é encontrado (normalmente k = 5). Um vizinho selecionado aleatoriamente é escolhido e um exemplo sintético é criado em um ponto selecionado aleatoriamente entre os dois exemplos no espaço de recurso.\n",
    "\n",
    "O SMOTE primeiro seleciona uma instância de classe minoritária A aleatoriamente e encontra seus k vizinhos de classe minoritária mais próximos. A instância sintética é criada escolhendo um dos k vizinhos mais próximos B aleatoriamente e conectando A e B para formar um segmento de linha no espaço de recursos. As instâncias sintéticas são geradas como uma combinação convexa das duas instâncias escolhidas A e B."
   ]
  },
  {
   "cell_type": "code",
   "execution_count": 34,
   "metadata": {},
   "outputs": [],
   "source": [
    "# Processo de balanceamento de dados com SMOTE\n",
    "## Importa a função\n",
    "from imblearn.over_sampling import SMOTE\n",
    "\n",
    "## Seed para reproduzir o mesmo resultado\n",
    "seed = 100\n",
    "\n",
    "## Separa X e y\n",
    "X = df_pacientes.iloc[:, 0:14]  \n",
    "y = df_pacientes.iloc[:, -1] \n",
    "\n",
    "## Cria o balanceador SMOTE\n",
    "smote_bal = SMOTE(random_state = seed)\n",
    "\n",
    "## Aplica o balanceador\n",
    "X_res, y_res = smote_bal.fit_resample(X, y)"
   ]
  },
  {
   "cell_type": "code",
   "execution_count": 35,
   "metadata": {},
   "outputs": [
    {
     "data": {
      "image/png": "[encoded data removed]",
      "text/plain": [
       "<Figure size 432x288 with 1 Axes>"
      ]
     },
     "metadata": {
      "needs_background": "light"
     },
     "output_type": "display_data"
    }
   ],
   "source": [
    "# Plot \n",
    "sns.countplot(y_res)\n",
    "plt.xlabel('Doença Cardíaca Não (0) / Sim (1)', fontsize = 11)\n",
    "plt.ylabel('Total Pacientes', fontsize = 11)\n",
    "plt.title('Contagem de Classes\\n');"
   ]
  },
  {
   "cell_type": "markdown",
   "metadata": {},
   "source": [
    "Vamos adicionar uma coluna com o valor constante 1 para todas as linhas. Isso é necessário para criar o modelo logit com o StatsModels."
   ]
  },
  {
   "cell_type": "code",
   "execution_count": 36,
   "metadata": {
    "scrolled": true
   },
   "outputs": [
    {
     "data": {
      "text/html": [
       "<div>\n",
       "<style scoped>\n",
       "    .dataframe tbody tr th:only-of-type {\n",
       "        vertical-align: middle;\n",
       "    }\n",
       "\n",
       "    .dataframe tbody tr th {\n",
       "        vertical-align: top;\n",
       "    }\n",
       "\n",
       "    .dataframe thead th {\n",
       "        text-align: right;\n",
       "    }\n",
       "</style>\n",
       "<table border=\"1\" class=\"dataframe\">\n",
       "  <thead>\n",
       "    <tr style=\"text-align: right;\">\n",
       "      <th></th>\n",
       "      <th>const</th>\n",
       "      <th>sex</th>\n",
       "      <th>age</th>\n",
       "      <th>currentSmoker</th>\n",
       "      <th>cigsPerDay</th>\n",
       "      <th>BPMeds</th>\n",
       "      <th>prevalentStroke</th>\n",
       "      <th>prevalentHyp</th>\n",
       "      <th>diabetes</th>\n",
       "      <th>totChol</th>\n",
       "      <th>sysBP</th>\n",
       "      <th>diaBP</th>\n",
       "      <th>BMI</th>\n",
       "      <th>heartRate</th>\n",
       "      <th>glucose</th>\n",
       "    </tr>\n",
       "  </thead>\n",
       "  <tbody>\n",
       "    <tr>\n",
       "      <th>0</th>\n",
       "      <td>1.0</td>\n",
       "      <td>1</td>\n",
       "      <td>39</td>\n",
       "      <td>0</td>\n",
       "      <td>0.0</td>\n",
       "      <td>0.0</td>\n",
       "      <td>0</td>\n",
       "      <td>0</td>\n",
       "      <td>0</td>\n",
       "      <td>195.0</td>\n",
       "      <td>106.0</td>\n",
       "      <td>70.0</td>\n",
       "      <td>26.97</td>\n",
       "      <td>80.0</td>\n",
       "      <td>77.0</td>\n",
       "    </tr>\n",
       "    <tr>\n",
       "      <th>1</th>\n",
       "      <td>1.0</td>\n",
       "      <td>0</td>\n",
       "      <td>46</td>\n",
       "      <td>0</td>\n",
       "      <td>0.0</td>\n",
       "      <td>0.0</td>\n",
       "      <td>0</td>\n",
       "      <td>0</td>\n",
       "      <td>0</td>\n",
       "      <td>250.0</td>\n",
       "      <td>121.0</td>\n",
       "      <td>81.0</td>\n",
       "      <td>28.73</td>\n",
       "      <td>95.0</td>\n",
       "      <td>76.0</td>\n",
       "    </tr>\n",
       "    <tr>\n",
       "      <th>2</th>\n",
       "      <td>1.0</td>\n",
       "      <td>1</td>\n",
       "      <td>48</td>\n",
       "      <td>1</td>\n",
       "      <td>20.0</td>\n",
       "      <td>0.0</td>\n",
       "      <td>0</td>\n",
       "      <td>0</td>\n",
       "      <td>0</td>\n",
       "      <td>245.0</td>\n",
       "      <td>127.5</td>\n",
       "      <td>80.0</td>\n",
       "      <td>25.34</td>\n",
       "      <td>75.0</td>\n",
       "      <td>70.0</td>\n",
       "    </tr>\n",
       "    <tr>\n",
       "      <th>3</th>\n",
       "      <td>1.0</td>\n",
       "      <td>0</td>\n",
       "      <td>61</td>\n",
       "      <td>1</td>\n",
       "      <td>30.0</td>\n",
       "      <td>0.0</td>\n",
       "      <td>0</td>\n",
       "      <td>1</td>\n",
       "      <td>0</td>\n",
       "      <td>225.0</td>\n",
       "      <td>150.0</td>\n",
       "      <td>95.0</td>\n",
       "      <td>28.58</td>\n",
       "      <td>65.0</td>\n",
       "      <td>103.0</td>\n",
       "    </tr>\n",
       "    <tr>\n",
       "      <th>4</th>\n",
       "      <td>1.0</td>\n",
       "      <td>0</td>\n",
       "      <td>46</td>\n",
       "      <td>1</td>\n",
       "      <td>23.0</td>\n",
       "      <td>0.0</td>\n",
       "      <td>0</td>\n",
       "      <td>0</td>\n",
       "      <td>0</td>\n",
       "      <td>285.0</td>\n",
       "      <td>130.0</td>\n",
       "      <td>84.0</td>\n",
       "      <td>23.10</td>\n",
       "      <td>85.0</td>\n",
       "      <td>85.0</td>\n",
       "    </tr>\n",
       "  </tbody>\n",
       "</table>\n",
       "</div>"
      ],
      "text/plain": [
       "   const  sex  age  currentSmoker  cigsPerDay  BPMeds  prevalentStroke  \\\n",
       "0    1.0    1   39              0         0.0     0.0                0   \n",
       "1    1.0    0   46              0         0.0     0.0                0   \n",
       "2    1.0    1   48              1        20.0     0.0                0   \n",
       "3    1.0    0   61              1        30.0     0.0                0   \n",
       "4    1.0    0   46              1        23.0     0.0                0   \n",
       "\n",
       "   prevalentHyp  diabetes  totChol  sysBP  diaBP    BMI  heartRate  glucose  \n",
       "0             0         0    195.0  106.0   70.0  26.97       80.0     77.0  \n",
       "1             0         0    250.0  121.0   81.0  28.73       95.0     76.0  \n",
       "2             0         0    245.0  127.5   80.0  25.34       75.0     70.0  \n",
       "3             1         0    225.0  150.0   95.0  28.58       65.0    103.0  \n",
       "4             0         0    285.0  130.0   84.0  23.10       85.0     85.0  "
      ]
     },
     "execution_count": 36,
     "metadata": {},
     "output_type": "execute_result"
    }
   ],
   "source": [
    "# Adicionar a constante na matriz X\n",
    "from statsmodels.tools import add_constant as add_constant\n",
    "X_final = add_constant(X_res)\n",
    "X_final.head()"
   ]
  },
  {
   "cell_type": "code",
   "execution_count": 37,
   "metadata": {},
   "outputs": [
    {
     "data": {
      "text/plain": [
       "0    0\n",
       "1    0\n",
       "2    0\n",
       "3    1\n",
       "4    0\n",
       "Name: TenYearCHD, dtype: int64"
      ]
     },
     "execution_count": 37,
     "metadata": {},
     "output_type": "execute_result"
    }
   ],
   "source": [
    "# Não temos mais transformações para y, geramos o dataset final\n",
    "y_final = y_res\n",
    "y_final.head()"
   ]
  },
  {
   "cell_type": "markdown",
   "metadata": {},
   "source": [
    "### Construindo o Modelo de Regressão Logística"
   ]
  },
  {
   "cell_type": "markdown",
   "metadata": {},
   "source": [
    "#### Primeiro modelo"
   ]
  },
  {
   "cell_type": "code",
   "execution_count": 38,
   "metadata": {},
   "outputs": [
    {
     "name": "stdout",
     "output_type": "stream",
     "text": [
      "Optimization terminated successfully.\n",
      "         Current function value: 0.594144\n",
      "         Iterations 6\n",
      "                           Logit Regression Results                           \n",
      "==============================================================================\n",
      "Dep. Variable:             TenYearCHD   No. Observations:                 6350\n",
      "Model:                          Logit   Df Residuals:                     6335\n",
      "Method:                           MLE   Df Model:                           14\n",
      "Date:                Fri, 19 Jun 2020   Pseudo R-squ.:                  0.1428\n",
      "Time:                        08:57:14   Log-Likelihood:                -3772.8\n",
      "converged:                       True   LL-Null:                       -4401.5\n",
      "Covariance Type:            nonrobust   LLR p-value:                8.137e-260\n",
      "===================================================================================\n",
      "                      coef    std err          z      P>|z|      [0.025      0.975]\n",
      "-----------------------------------------------------------------------------------\n",
      "const              -8.4026      0.426    -19.723      0.000      -9.238      -7.568\n",
      "sex                -0.2319      0.062     -3.733      0.000      -0.354      -0.110\n",
      "age                 0.0749      0.004     18.323      0.000       0.067       0.083\n",
      "currentSmoker      -0.9783      0.099     -9.836      0.000      -1.173      -0.783\n",
      "cigsPerDay          0.0651      0.004     14.913      0.000       0.057       0.074\n",
      "BPMeds              0.5311      0.172      3.090      0.002       0.194       0.868\n",
      "prevalentStroke    -1.0012      0.495     -2.021      0.043      -1.972      -0.030\n",
      "prevalentHyp       -0.5857      0.086     -6.821      0.000      -0.754      -0.417\n",
      "diabetes           -0.8272      0.242     -3.422      0.001      -1.301      -0.353\n",
      "totChol             0.0014      0.001      2.183      0.029       0.000       0.003\n",
      "sysBP               0.0192      0.003      7.582      0.000       0.014       0.024\n",
      "diaBP               0.0100      0.004      2.454      0.014       0.002       0.018\n",
      "BMI                 0.0182      0.008      2.267      0.023       0.002       0.034\n",
      "heartRate          -0.0066      0.003     -2.606      0.009      -0.012      -0.002\n",
      "glucose             0.0107      0.002      6.247      0.000       0.007       0.014\n",
      "===================================================================================\n"
     ]
    }
   ],
   "source": [
    "# Criando a primeira versão modelo de Regressão Logística com StatsModels\n",
    "\n",
    "## Separa X e y\n",
    "X = X_final\n",
    "y = y_final\n",
    "\n",
    "## Cria o objeto\n",
    "logit_obj_v1 = sm.Logit(y, X)\n",
    "\n",
    "## Cria o modelo\n",
    "logit_modelo_v1 = logit_obj_v1.fit()\n",
    "\n",
    "## Print do resultado\n",
    "print(logit_modelo_v1.summary())"
   ]
  },
  {
   "cell_type": "markdown",
   "metadata": {},
   "source": [
    "- Log-Likelihood: este é o valor maximizado da função de probabilidade de log.\n",
    "\n",
    "\n",
    "- LL-Null: este é o resultado da função maximizada de probabilidade de log quando apenas uma interceptação é incluída. Ele forma a base da estatística pseudo-R^2 e do teste Log-Likelihood Ratio (LRR).\n",
    "\n",
    "\n",
    "- pseudo-R^2: substitui o familiar R^2 disponível em regressão linear. É calculado com base na razão da função de probabilidade logarítmica maximizada para o modelo nulo m0 e o modelo completo m1. Os valores variam de 0 (quando o modelo não melhora a probabilidade) a 1 (onde o modelo se encaixa perfeitamente e a probabilidade do log é maximizada em 0). Consequentemente, valores mais altos indicam um melhor ajuste.\n",
    "\n",
    "\n",
    "- LLR: O teste LLR geralmente compara um modelo mais restrito. A hipótese nula é que o modelo restrito tem um desempenho melhor, mas um valor-p baixo sugere que podemos rejeitar essa hipótese e preferir o modelo completo ao invés do modelo nulo. Isso é semelhante ao teste F para regressão linear (onde também é possível usar o teste LLR quando estimamos o modelo usando MLE).\n",
    "\n",
    "\n",
    "- z-statistic: desempenha o mesmo papel que a estatística t na saída da regressão linear e é igualmente calculada como a razão da estimativa do coeficiente e seu erro padrão.\n",
    "\n",
    "\n",
    "- Valores-p: indicam a probabilidade de observar a estatística do teste, assumindo a hipótese nula H0 de que o coeficiente da população é zero."
   ]
  },
  {
   "cell_type": "markdown",
   "metadata": {},
   "source": [
    "__Vamos avaliar as métricas do modelo__"
   ]
  },
  {
   "cell_type": "code",
   "execution_count": 39,
   "metadata": {},
   "outputs": [
    {
     "data": {
      "text/plain": [
       "array([[2134., 1041.],\n",
       "       [ 947., 2228.]])"
      ]
     },
     "execution_count": 39,
     "metadata": {},
     "output_type": "execute_result"
    }
   ],
   "source": [
    "# Confusion Matrix do Modelo\n",
    "logit_modelo_v1.pred_table()"
   ]
  },
  {
   "cell_type": "code",
   "execution_count": 40,
   "metadata": {},
   "outputs": [
    {
     "name": "stdout",
     "output_type": "stream",
     "text": [
      "[0.12909687 0.3202055  0.40203042 0.87043922 0.51991106 0.55552858\n",
      " 0.74810419 0.28535018 0.37326215 0.55990718]\n"
     ]
    }
   ],
   "source": [
    "# Imprimindo 10 previsões do modelo\n",
    "predictions_v1 = logit_modelo_v1.predict()\n",
    "print(predictions_v1[0:10])"
   ]
  },
  {
   "cell_type": "code",
   "execution_count": 41,
   "metadata": {},
   "outputs": [],
   "source": [
    "# Defininido um limite para a classificação\n",
    "y_pred_v1 = [0 if x < 0.5 else 1 for x in predictions_v1]"
   ]
  },
  {
   "cell_type": "code",
   "execution_count": 42,
   "metadata": {},
   "outputs": [
    {
     "name": "stdout",
     "output_type": "stream",
     "text": [
      "              precision    recall  f1-score   support\n",
      "\n",
      "           0       0.69      0.67      0.68      3175\n",
      "           1       0.68      0.70      0.69      3175\n",
      "\n",
      "    accuracy                           0.69      6350\n",
      "   macro avg       0.69      0.69      0.69      6350\n",
      "weighted avg       0.69      0.69      0.69      6350\n",
      "\n"
     ]
    }
   ],
   "source": [
    "# Relatório de Classificação\n",
    "from sklearn.metrics import confusion_matrix, classification_report\n",
    "print(classification_report(y, y_pred_v1))"
   ]
  },
  {
   "cell_type": "markdown",
   "metadata": {},
   "source": [
    "#### Segundo modelo"
   ]
  },
  {
   "cell_type": "markdown",
   "metadata": {},
   "source": [
    "Será que se normalizamos os dados melhoramos o resultado?"
   ]
  },
  {
   "cell_type": "code",
   "execution_count": 43,
   "metadata": {},
   "outputs": [],
   "source": [
    "# Cria o objeto scaler\n",
    "scaler = MinMaxScaler(feature_range = (0,1)) \n",
    "\n",
    "# Normalizando as variáveis explicativas (não normalizamos a constante e nem a variável target)\n",
    "X_final_scaled = pd.DataFrame(scaler.fit_transform(X_final.iloc[:,1:15]), columns = X_final.iloc[:,1:15].columns)"
   ]
  },
  {
   "cell_type": "code",
   "execution_count": 44,
   "metadata": {},
   "outputs": [
    {
     "data": {
      "text/html": [
       "<div>\n",
       "<style scoped>\n",
       "    .dataframe tbody tr th:only-of-type {\n",
       "        vertical-align: middle;\n",
       "    }\n",
       "\n",
       "    .dataframe tbody tr th {\n",
       "        vertical-align: top;\n",
       "    }\n",
       "\n",
       "    .dataframe thead th {\n",
       "        text-align: right;\n",
       "    }\n",
       "</style>\n",
       "<table border=\"1\" class=\"dataframe\">\n",
       "  <thead>\n",
       "    <tr style=\"text-align: right;\">\n",
       "      <th></th>\n",
       "      <th>const</th>\n",
       "      <th>sex</th>\n",
       "      <th>age</th>\n",
       "      <th>currentSmoker</th>\n",
       "      <th>cigsPerDay</th>\n",
       "      <th>BPMeds</th>\n",
       "      <th>prevalentStroke</th>\n",
       "      <th>prevalentHyp</th>\n",
       "      <th>diabetes</th>\n",
       "      <th>totChol</th>\n",
       "      <th>sysBP</th>\n",
       "      <th>diaBP</th>\n",
       "      <th>BMI</th>\n",
       "      <th>heartRate</th>\n",
       "      <th>glucose</th>\n",
       "    </tr>\n",
       "  </thead>\n",
       "  <tbody>\n",
       "    <tr>\n",
       "      <th>0</th>\n",
       "      <td>1.0</td>\n",
       "      <td>1.0</td>\n",
       "      <td>0.184211</td>\n",
       "      <td>0.0</td>\n",
       "      <td>0.000000</td>\n",
       "      <td>0.0</td>\n",
       "      <td>0.0</td>\n",
       "      <td>0.0</td>\n",
       "      <td>0.0</td>\n",
       "      <td>0.233618</td>\n",
       "      <td>0.106383</td>\n",
       "      <td>0.232804</td>\n",
       "      <td>0.277024</td>\n",
       "      <td>0.363636</td>\n",
       "      <td>0.145669</td>\n",
       "    </tr>\n",
       "    <tr>\n",
       "      <th>1</th>\n",
       "      <td>1.0</td>\n",
       "      <td>0.0</td>\n",
       "      <td>0.368421</td>\n",
       "      <td>0.0</td>\n",
       "      <td>0.000000</td>\n",
       "      <td>0.0</td>\n",
       "      <td>0.0</td>\n",
       "      <td>0.0</td>\n",
       "      <td>0.0</td>\n",
       "      <td>0.390313</td>\n",
       "      <td>0.177305</td>\n",
       "      <td>0.349206</td>\n",
       "      <td>0.319680</td>\n",
       "      <td>0.515152</td>\n",
       "      <td>0.141732</td>\n",
       "    </tr>\n",
       "    <tr>\n",
       "      <th>2</th>\n",
       "      <td>1.0</td>\n",
       "      <td>1.0</td>\n",
       "      <td>0.421053</td>\n",
       "      <td>1.0</td>\n",
       "      <td>0.285714</td>\n",
       "      <td>0.0</td>\n",
       "      <td>0.0</td>\n",
       "      <td>0.0</td>\n",
       "      <td>0.0</td>\n",
       "      <td>0.376068</td>\n",
       "      <td>0.208038</td>\n",
       "      <td>0.338624</td>\n",
       "      <td>0.237518</td>\n",
       "      <td>0.313131</td>\n",
       "      <td>0.118110</td>\n",
       "    </tr>\n",
       "    <tr>\n",
       "      <th>3</th>\n",
       "      <td>1.0</td>\n",
       "      <td>0.0</td>\n",
       "      <td>0.763158</td>\n",
       "      <td>1.0</td>\n",
       "      <td>0.428571</td>\n",
       "      <td>0.0</td>\n",
       "      <td>0.0</td>\n",
       "      <td>1.0</td>\n",
       "      <td>0.0</td>\n",
       "      <td>0.319088</td>\n",
       "      <td>0.314421</td>\n",
       "      <td>0.497354</td>\n",
       "      <td>0.316045</td>\n",
       "      <td>0.212121</td>\n",
       "      <td>0.248031</td>\n",
       "    </tr>\n",
       "    <tr>\n",
       "      <th>4</th>\n",
       "      <td>1.0</td>\n",
       "      <td>0.0</td>\n",
       "      <td>0.368421</td>\n",
       "      <td>1.0</td>\n",
       "      <td>0.328571</td>\n",
       "      <td>0.0</td>\n",
       "      <td>0.0</td>\n",
       "      <td>0.0</td>\n",
       "      <td>0.0</td>\n",
       "      <td>0.490028</td>\n",
       "      <td>0.219858</td>\n",
       "      <td>0.380952</td>\n",
       "      <td>0.183228</td>\n",
       "      <td>0.414141</td>\n",
       "      <td>0.177165</td>\n",
       "    </tr>\n",
       "  </tbody>\n",
       "</table>\n",
       "</div>"
      ],
      "text/plain": [
       "   const  sex       age  currentSmoker  cigsPerDay  BPMeds  prevalentStroke  \\\n",
       "0    1.0  1.0  0.184211            0.0    0.000000     0.0              0.0   \n",
       "1    1.0  0.0  0.368421            0.0    0.000000     0.0              0.0   \n",
       "2    1.0  1.0  0.421053            1.0    0.285714     0.0              0.0   \n",
       "3    1.0  0.0  0.763158            1.0    0.428571     0.0              0.0   \n",
       "4    1.0  0.0  0.368421            1.0    0.328571     0.0              0.0   \n",
       "\n",
       "   prevalentHyp  diabetes   totChol     sysBP     diaBP       BMI  heartRate  \\\n",
       "0           0.0       0.0  0.233618  0.106383  0.232804  0.277024   0.363636   \n",
       "1           0.0       0.0  0.390313  0.177305  0.349206  0.319680   0.515152   \n",
       "2           0.0       0.0  0.376068  0.208038  0.338624  0.237518   0.313131   \n",
       "3           1.0       0.0  0.319088  0.314421  0.497354  0.316045   0.212121   \n",
       "4           0.0       0.0  0.490028  0.219858  0.380952  0.183228   0.414141   \n",
       "\n",
       "    glucose  \n",
       "0  0.145669  \n",
       "1  0.141732  \n",
       "2  0.118110  \n",
       "3  0.248031  \n",
       "4  0.177165  "
      ]
     },
     "execution_count": 44,
     "metadata": {},
     "output_type": "execute_result"
    }
   ],
   "source": [
    "# Adicionar a constante na matriz X\n",
    "from statsmodels.tools import add_constant as add_constant\n",
    "X_final_scaled = add_constant(X_final_scaled)\n",
    "X_final_scaled.head()"
   ]
  },
  {
   "cell_type": "code",
   "execution_count": 45,
   "metadata": {},
   "outputs": [
    {
     "name": "stdout",
     "output_type": "stream",
     "text": [
      "Optimization terminated successfully.\n",
      "         Current function value: 0.594144\n",
      "         Iterations 6\n",
      "                           Logit Regression Results                           \n",
      "==============================================================================\n",
      "Dep. Variable:             TenYearCHD   No. Observations:                 6350\n",
      "Model:                          Logit   Df Residuals:                     6335\n",
      "Method:                           MLE   Df Model:                           14\n",
      "Date:                Fri, 19 Jun 2020   Pseudo R-squ.:                  0.1428\n",
      "Time:                        08:57:15   Log-Likelihood:                -3772.8\n",
      "converged:                       True   LL-Null:                       -4401.5\n",
      "Covariance Type:            nonrobust   LLR p-value:                8.137e-260\n",
      "===================================================================================\n",
      "                      coef    std err          z      P>|z|      [0.025      0.975]\n",
      "-----------------------------------------------------------------------------------\n",
      "const              -3.3381      0.184    -18.159      0.000      -3.698      -2.978\n",
      "sex                -0.2319      0.062     -3.733      0.000      -0.354      -0.110\n",
      "age                 2.8445      0.155     18.323      0.000       2.540       3.149\n",
      "currentSmoker      -0.9783      0.099     -9.836      0.000      -1.173      -0.783\n",
      "cigsPerDay          4.5578      0.306     14.913      0.000       3.959       5.157\n",
      "BPMeds              0.5311      0.172      3.090      0.002       0.194       0.868\n",
      "prevalentStroke    -1.0012      0.495     -2.021      0.043      -1.972      -0.030\n",
      "prevalentHyp       -0.5857      0.086     -6.821      0.000      -0.754      -0.417\n",
      "diabetes           -0.8272      0.242     -3.422      0.001      -1.301      -0.353\n",
      "totChol             0.5067      0.232      2.183      0.029       0.052       0.962\n",
      "sysBP               4.0661      0.536      7.582      0.000       3.015       5.117\n",
      "diaBP               0.9466      0.386      2.454      0.014       0.191       1.703\n",
      "BMI                 0.7518      0.332      2.267      0.023       0.102       1.402\n",
      "heartRate          -0.6539      0.251     -2.606      0.009      -1.146      -0.162\n",
      "glucose             2.7128      0.434      6.247      0.000       1.862       3.564\n",
      "===================================================================================\n"
     ]
    }
   ],
   "source": [
    "# Criando a segunda versão modelo de Regressão Logística com StatsModels\n",
    "\n",
    "## Separa X e y\n",
    "X = X_final_scaled\n",
    "y = y_final\n",
    "\n",
    "## Cria o objeto\n",
    "logit_obj_v2 = sm.Logit(y, X)\n",
    "\n",
    "## Cria o modelo\n",
    "logit_modelo_v2 = logit_obj_v2.fit()\n",
    "\n",
    "## Print do resultado\n",
    "print(logit_modelo_v2.summary())"
   ]
  },
  {
   "cell_type": "markdown",
   "metadata": {},
   "source": [
    "__Vamos avaliar as métricas do modelo__"
   ]
  },
  {
   "cell_type": "code",
   "execution_count": 46,
   "metadata": {},
   "outputs": [
    {
     "data": {
      "text/plain": [
       "array([[2134., 1041.],\n",
       "       [ 947., 2228.]])"
      ]
     },
     "execution_count": 46,
     "metadata": {},
     "output_type": "execute_result"
    }
   ],
   "source": [
    "# Confusion Matrix do Modelo\n",
    "logit_modelo_v2.pred_table()"
   ]
  },
  {
   "cell_type": "code",
   "execution_count": 47,
   "metadata": {},
   "outputs": [
    {
     "name": "stdout",
     "output_type": "stream",
     "text": [
      "[0.12909687 0.3202055  0.40203042 0.87043922 0.51991106 0.55552858\n",
      " 0.74810419 0.28535018 0.37326215 0.55990718]\n"
     ]
    }
   ],
   "source": [
    "# Imprimindo 10 previsões do modelo\n",
    "predictions_v2 = logit_modelo_v2.predict()\n",
    "print(predictions_v2[0:10])"
   ]
  },
  {
   "cell_type": "code",
   "execution_count": 48,
   "metadata": {},
   "outputs": [],
   "source": [
    "# Defininido um limite para a classificação\n",
    "y_pred_v2 = [0 if x < 0.5 else 1 for x in predictions_v2]"
   ]
  },
  {
   "cell_type": "code",
   "execution_count": 49,
   "metadata": {},
   "outputs": [
    {
     "name": "stdout",
     "output_type": "stream",
     "text": [
      "              precision    recall  f1-score   support\n",
      "\n",
      "           0       0.69      0.67      0.68      3175\n",
      "           1       0.68      0.70      0.69      3175\n",
      "\n",
      "    accuracy                           0.69      6350\n",
      "   macro avg       0.69      0.69      0.69      6350\n",
      "weighted avg       0.69      0.69      0.69      6350\n",
      "\n"
     ]
    }
   ],
   "source": [
    "# Relatório de Classificação\n",
    "from sklearn.metrics import confusion_matrix, classification_report\n",
    "print(classification_report(y, y_pred_v2))"
   ]
  },
  {
   "cell_type": "markdown",
   "metadata": {},
   "source": [
    "### Seleção de Atributos (Feature Selection)"
   ]
  },
  {
   "cell_type": "code",
   "execution_count": 50,
   "metadata": {},
   "outputs": [
    {
     "name": "stdout",
     "output_type": "stream",
     "text": [
      "          Atributos        Score\n",
      "9             sysBP  2030.203811\n",
      "1               age   863.156342\n",
      "8           totChol   697.061111\n",
      "13          glucose   485.945099\n",
      "10            diaBP   481.991015\n",
      "3        cigsPerDay   306.591360\n",
      "6      prevalentHyp    96.980180\n",
      "4            BPMeds    54.862007\n",
      "11              BMI    53.000455\n",
      "2     currentSmoker    20.162725\n",
      "7          diabetes     8.000000\n",
      "12        heartRate     4.581821\n",
      "0               sex     4.251832\n",
      "5   prevalentStroke     1.190476\n"
     ]
    }
   ],
   "source": [
    "# Identificando os atributos de maior importância para a variável de resultado\n",
    "\n",
    "# https://scikit-learn.org/stable/modules/generated/sklearn.feature_selection.SelectKBest.html\n",
    "\n",
    "from sklearn.feature_selection import SelectKBest\n",
    "from sklearn.feature_selection import chi2\n",
    "\n",
    "# Separando as variáveis explicativas da variável resposta (não adicionamos a constante)\n",
    "X = X_final.iloc[:,1:15]\n",
    "y = y_final\n",
    "\n",
    "# Aplicando SelectKBest para extrair os melhores recursos\n",
    "bestfeatures = SelectKBest(score_func = chi2, k = 10)\n",
    "fit = bestfeatures.fit(X,y)\n",
    "\n",
    "# Retorna os scores e as colunas\n",
    "dfscores = pd.DataFrame(fit.scores_)\n",
    "dfcolumns = pd.DataFrame(X.columns)\n",
    "\n",
    "# Concatenando os dois resultados anteriores para melhor visualização\n",
    "featureScores = pd.concat([dfcolumns, dfscores], axis = 1)\n",
    "featureScores.columns = ['Atributos','Score']  \n",
    "\n",
    "# Imprime os 10 melhores atributos em ordem descrescente\n",
    "print(featureScores.nlargest(14, 'Score')) "
   ]
  },
  {
   "cell_type": "code",
   "execution_count": 51,
   "metadata": {},
   "outputs": [
    {
     "data": {
      "image/png": "[encoded data removed]",
      "text/plain": [
       "<Figure size 1440x360 with 1 Axes>"
      ]
     },
     "metadata": {
      "needs_background": "light"
     },
     "output_type": "display_data"
    }
   ],
   "source": [
    "# Visualizando os atributos mais importantes\n",
    "\n",
    "# Vamos colocar os scores em uma tabela e então criar um gráfico\n",
    "featureScores = featureScores.sort_values(by = 'Score', ascending = False)\n",
    "featureScores\n",
    "\n",
    "# Plot\n",
    "plt.figure(figsize = (20,5))\n",
    "sns.barplot(x = 'Atributos', y = 'Score', data = featureScores, palette = \"GnBu_d\")\n",
    "plt.box(False)\n",
    "plt.title('Importância dos Atributos', fontsize = 16)\n",
    "plt.xlabel('\\n Atributos', fontsize = 14)\n",
    "plt.ylabel('Importância \\n', fontsize = 14)\n",
    "plt.xticks(fontsize = 12)\n",
    "plt.yticks(fontsize = 12)\n",
    "plt.tight_layout()"
   ]
  },
  {
   "cell_type": "code",
   "execution_count": 52,
   "metadata": {},
   "outputs": [
    {
     "data": {
      "text/plain": [
       "['sysBP',\n",
       " 'age',\n",
       " 'totChol',\n",
       " 'glucose',\n",
       " 'diaBP',\n",
       " 'cigsPerDay',\n",
       " 'prevalentHyp',\n",
       " 'BPMeds',\n",
       " 'BMI']"
      ]
     },
     "execution_count": 52,
     "metadata": {},
     "output_type": "execute_result"
    }
   ],
   "source": [
    "# Selecionando os 9 atributos com maior impacto para compreender a variável resposta\n",
    "features_list = featureScores[\"Atributos\"].tolist()[:9]\n",
    "features_list"
   ]
  },
  {
   "cell_type": "markdown",
   "metadata": {},
   "source": [
    "Manteremos apenas os recursos que têm o relacionamento mais forte com a variável de saída. Esses recursos são:"
   ]
  },
  {
   "cell_type": "code",
   "execution_count": 53,
   "metadata": {},
   "outputs": [
    {
     "data": {
      "text/html": [
       "<div>\n",
       "<style scoped>\n",
       "    .dataframe tbody tr th:only-of-type {\n",
       "        vertical-align: middle;\n",
       "    }\n",
       "\n",
       "    .dataframe tbody tr th {\n",
       "        vertical-align: top;\n",
       "    }\n",
       "\n",
       "    .dataframe thead th {\n",
       "        text-align: right;\n",
       "    }\n",
       "</style>\n",
       "<table border=\"1\" class=\"dataframe\">\n",
       "  <thead>\n",
       "    <tr style=\"text-align: right;\">\n",
       "      <th></th>\n",
       "      <th>const</th>\n",
       "      <th>sysBP</th>\n",
       "      <th>age</th>\n",
       "      <th>totChol</th>\n",
       "      <th>diaBP</th>\n",
       "      <th>cigsPerDay</th>\n",
       "      <th>glucose</th>\n",
       "      <th>BMI</th>\n",
       "    </tr>\n",
       "  </thead>\n",
       "  <tbody>\n",
       "    <tr>\n",
       "      <th>0</th>\n",
       "      <td>1.0</td>\n",
       "      <td>106.0</td>\n",
       "      <td>39</td>\n",
       "      <td>195.0</td>\n",
       "      <td>70.0</td>\n",
       "      <td>0.0</td>\n",
       "      <td>77.0</td>\n",
       "      <td>26.97</td>\n",
       "    </tr>\n",
       "    <tr>\n",
       "      <th>1</th>\n",
       "      <td>1.0</td>\n",
       "      <td>121.0</td>\n",
       "      <td>46</td>\n",
       "      <td>250.0</td>\n",
       "      <td>81.0</td>\n",
       "      <td>0.0</td>\n",
       "      <td>76.0</td>\n",
       "      <td>28.73</td>\n",
       "    </tr>\n",
       "    <tr>\n",
       "      <th>2</th>\n",
       "      <td>1.0</td>\n",
       "      <td>127.5</td>\n",
       "      <td>48</td>\n",
       "      <td>245.0</td>\n",
       "      <td>80.0</td>\n",
       "      <td>20.0</td>\n",
       "      <td>70.0</td>\n",
       "      <td>25.34</td>\n",
       "    </tr>\n",
       "    <tr>\n",
       "      <th>3</th>\n",
       "      <td>1.0</td>\n",
       "      <td>150.0</td>\n",
       "      <td>61</td>\n",
       "      <td>225.0</td>\n",
       "      <td>95.0</td>\n",
       "      <td>30.0</td>\n",
       "      <td>103.0</td>\n",
       "      <td>28.58</td>\n",
       "    </tr>\n",
       "    <tr>\n",
       "      <th>4</th>\n",
       "      <td>1.0</td>\n",
       "      <td>130.0</td>\n",
       "      <td>46</td>\n",
       "      <td>285.0</td>\n",
       "      <td>84.0</td>\n",
       "      <td>23.0</td>\n",
       "      <td>85.0</td>\n",
       "      <td>23.10</td>\n",
       "    </tr>\n",
       "  </tbody>\n",
       "</table>\n",
       "</div>"
      ],
      "text/plain": [
       "   const  sysBP  age  totChol  diaBP  cigsPerDay  glucose    BMI\n",
       "0    1.0  106.0   39    195.0   70.0         0.0     77.0  26.97\n",
       "1    1.0  121.0   46    250.0   81.0         0.0     76.0  28.73\n",
       "2    1.0  127.5   48    245.0   80.0        20.0     70.0  25.34\n",
       "3    1.0  150.0   61    225.0   95.0        30.0    103.0  28.58\n",
       "4    1.0  130.0   46    285.0   84.0        23.0     85.0  23.10"
      ]
     },
     "execution_count": 53,
     "metadata": {},
     "output_type": "execute_result"
    }
   ],
   "source": [
    "# Criando um dataframe com os atributos de maior importância\n",
    "# Removemos as 2 variáveis categóricas com base na análise de associação feita anteriormente.\n",
    "X_final_importance = X_final[['sysBP', \n",
    "                              'age', \n",
    "                              'totChol', \n",
    "                              'diaBP', \n",
    "                              'cigsPerDay', \n",
    "                              'glucose', \n",
    "                              'BMI']]\n",
    "\n",
    "# Adiciona a constante\n",
    "from statsmodels.tools import add_constant as add_constant\n",
    "X_final_importance = add_constant(X_final_importance)\n",
    "X_final_importance.head()"
   ]
  },
  {
   "cell_type": "markdown",
   "metadata": {},
   "source": [
    "#### Terceiro modelo"
   ]
  },
  {
   "cell_type": "code",
   "execution_count": 54,
   "metadata": {},
   "outputs": [
    {
     "name": "stdout",
     "output_type": "stream",
     "text": [
      "Optimization terminated successfully.\n",
      "         Current function value: 0.609537\n",
      "         Iterations 5\n",
      "                           Logit Regression Results                           \n",
      "==============================================================================\n",
      "Dep. Variable:             TenYearCHD   No. Observations:                 6350\n",
      "Model:                          Logit   Df Residuals:                     6342\n",
      "Method:                           MLE   Df Model:                            7\n",
      "Date:                Fri, 19 Jun 2020   Pseudo R-squ.:                  0.1206\n",
      "Time:                        08:57:15   Log-Likelihood:                -3870.6\n",
      "converged:                       True   LL-Null:                       -4401.5\n",
      "Covariance Type:            nonrobust   LLR p-value:                5.207e-225\n",
      "==============================================================================\n",
      "                 coef    std err          z      P>|z|      [0.025      0.975]\n",
      "------------------------------------------------------------------------------\n",
      "const         -8.0678      0.332    -24.290      0.000      -8.719      -7.417\n",
      "sysBP          0.0139      0.002      6.323      0.000       0.010       0.018\n",
      "age            0.0762      0.004     19.054      0.000       0.068       0.084\n",
      "totChol        0.0018      0.001      2.752      0.006       0.001       0.003\n",
      "diaBP          0.0055      0.004      1.401      0.161      -0.002       0.013\n",
      "cigsPerDay     0.0283      0.002     11.576      0.000       0.024       0.033\n",
      "glucose        0.0069      0.001      5.456      0.000       0.004       0.009\n",
      "BMI            0.0199      0.008      2.537      0.011       0.005       0.035\n",
      "==============================================================================\n"
     ]
    }
   ],
   "source": [
    "# Criando a terceira versão modelo de Regressão Logística com StatsModels\n",
    "\n",
    "# Separa X e y\n",
    "X = X_final_importance\n",
    "y = y_final\n",
    "\n",
    "# Cria o objeto\n",
    "logit_obj_v3 = sm.Logit(y, X)\n",
    "\n",
    "# Cria o modelo\n",
    "logit_modelo_v3 = logit_obj_v3.fit()\n",
    "\n",
    "# Print do resultado\n",
    "print(logit_modelo_v3.summary())"
   ]
  },
  {
   "cell_type": "markdown",
   "metadata": {},
   "source": [
    "__Vamos avaliar as métricas do modelo__"
   ]
  },
  {
   "cell_type": "code",
   "execution_count": 55,
   "metadata": {},
   "outputs": [
    {
     "data": {
      "text/plain": [
       "array([[2092., 1083.],\n",
       "       [1002., 2173.]])"
      ]
     },
     "execution_count": 55,
     "metadata": {},
     "output_type": "execute_result"
    }
   ],
   "source": [
    "# Confusion Matrix do Modelo\n",
    "logit_modelo_v3.pred_table()"
   ]
  },
  {
   "cell_type": "code",
   "execution_count": 56,
   "metadata": {},
   "outputs": [
    {
     "name": "stdout",
     "output_type": "stream",
     "text": [
      "[0.13902236 0.28993488 0.44759071 0.84756541 0.47739263 0.50174875\n",
      " 0.65700834 0.31711929 0.47046385 0.59258747]\n"
     ]
    }
   ],
   "source": [
    "# Imprimindo 10 previsões do modelo\n",
    "predictions_v3 = logit_modelo_v3.predict()\n",
    "print(predictions_v3[0:10])"
   ]
  },
  {
   "cell_type": "code",
   "execution_count": 57,
   "metadata": {},
   "outputs": [],
   "source": [
    "# Defininido um limite para a classificação\n",
    "y_pred_v3 = [0 if x < 0.5 else 1 for x in predictions_v3]"
   ]
  },
  {
   "cell_type": "code",
   "execution_count": 58,
   "metadata": {},
   "outputs": [
    {
     "name": "stdout",
     "output_type": "stream",
     "text": [
      "              precision    recall  f1-score   support\n",
      "\n",
      "           0       0.68      0.66      0.67      3175\n",
      "           1       0.67      0.68      0.68      3175\n",
      "\n",
      "    accuracy                           0.67      6350\n",
      "   macro avg       0.67      0.67      0.67      6350\n",
      "weighted avg       0.67      0.67      0.67      6350\n",
      "\n"
     ]
    }
   ],
   "source": [
    "# Relatório de Classificação\n",
    "from sklearn.metrics import confusion_matrix, classification_report\n",
    "print(classification_report(y, y_pred_v3))"
   ]
  },
  {
   "cell_type": "markdown",
   "metadata": {},
   "source": [
    "### Método de normalização das variáveis"
   ]
  },
  {
   "cell_type": "code",
   "execution_count": 59,
   "metadata": {
    "scrolled": true
   },
   "outputs": [
    {
     "data": {
      "text/html": [
       "<div>\n",
       "<style scoped>\n",
       "    .dataframe tbody tr th:only-of-type {\n",
       "        vertical-align: middle;\n",
       "    }\n",
       "\n",
       "    .dataframe tbody tr th {\n",
       "        vertical-align: top;\n",
       "    }\n",
       "\n",
       "    .dataframe thead th {\n",
       "        text-align: right;\n",
       "    }\n",
       "</style>\n",
       "<table border=\"1\" class=\"dataframe\">\n",
       "  <thead>\n",
       "    <tr style=\"text-align: right;\">\n",
       "      <th></th>\n",
       "      <th>const</th>\n",
       "      <th>sysBP</th>\n",
       "      <th>age</th>\n",
       "      <th>totChol</th>\n",
       "      <th>diaBP</th>\n",
       "      <th>cigsPerDay</th>\n",
       "      <th>glucose</th>\n",
       "      <th>BMI</th>\n",
       "    </tr>\n",
       "  </thead>\n",
       "  <tbody>\n",
       "    <tr>\n",
       "      <th>0</th>\n",
       "      <td>1.0</td>\n",
       "      <td>0.106383</td>\n",
       "      <td>0.184211</td>\n",
       "      <td>0.233618</td>\n",
       "      <td>0.232804</td>\n",
       "      <td>0.000000</td>\n",
       "      <td>0.145669</td>\n",
       "      <td>0.277024</td>\n",
       "    </tr>\n",
       "    <tr>\n",
       "      <th>1</th>\n",
       "      <td>1.0</td>\n",
       "      <td>0.177305</td>\n",
       "      <td>0.368421</td>\n",
       "      <td>0.390313</td>\n",
       "      <td>0.349206</td>\n",
       "      <td>0.000000</td>\n",
       "      <td>0.141732</td>\n",
       "      <td>0.319680</td>\n",
       "    </tr>\n",
       "    <tr>\n",
       "      <th>2</th>\n",
       "      <td>1.0</td>\n",
       "      <td>0.208038</td>\n",
       "      <td>0.421053</td>\n",
       "      <td>0.376068</td>\n",
       "      <td>0.338624</td>\n",
       "      <td>0.285714</td>\n",
       "      <td>0.118110</td>\n",
       "      <td>0.237518</td>\n",
       "    </tr>\n",
       "    <tr>\n",
       "      <th>3</th>\n",
       "      <td>1.0</td>\n",
       "      <td>0.314421</td>\n",
       "      <td>0.763158</td>\n",
       "      <td>0.319088</td>\n",
       "      <td>0.497354</td>\n",
       "      <td>0.428571</td>\n",
       "      <td>0.248031</td>\n",
       "      <td>0.316045</td>\n",
       "    </tr>\n",
       "    <tr>\n",
       "      <th>4</th>\n",
       "      <td>1.0</td>\n",
       "      <td>0.219858</td>\n",
       "      <td>0.368421</td>\n",
       "      <td>0.490028</td>\n",
       "      <td>0.380952</td>\n",
       "      <td>0.328571</td>\n",
       "      <td>0.177165</td>\n",
       "      <td>0.183228</td>\n",
       "    </tr>\n",
       "  </tbody>\n",
       "</table>\n",
       "</div>"
      ],
      "text/plain": [
       "   const     sysBP       age   totChol     diaBP  cigsPerDay   glucose  \\\n",
       "0    1.0  0.106383  0.184211  0.233618  0.232804    0.000000  0.145669   \n",
       "1    1.0  0.177305  0.368421  0.390313  0.349206    0.000000  0.141732   \n",
       "2    1.0  0.208038  0.421053  0.376068  0.338624    0.285714  0.118110   \n",
       "3    1.0  0.314421  0.763158  0.319088  0.497354    0.428571  0.248031   \n",
       "4    1.0  0.219858  0.368421  0.490028  0.380952    0.328571  0.177165   \n",
       "\n",
       "        BMI  \n",
       "0  0.277024  \n",
       "1  0.319680  \n",
       "2  0.237518  \n",
       "3  0.316045  \n",
       "4  0.183228  "
      ]
     },
     "execution_count": 59,
     "metadata": {},
     "output_type": "execute_result"
    }
   ],
   "source": [
    "# Cria o objeto scaler\n",
    "scaler = MinMaxScaler(feature_range = (0,1)) \n",
    "\n",
    "# Normalizando as variáveis explicativas (não normalizamos a constante e nem a variável target)\n",
    "X_final_scaled_v2 = pd.DataFrame(scaler.fit_transform(X_final_importance.iloc[:,1:11]), \n",
    "                                 columns = X_final_importance.iloc[:,1:11].columns)\n",
    "\n",
    "# Adiciona a constante\n",
    "from statsmodels.tools import add_constant as add_constant\n",
    "X_final_scaled_v2 = add_constant(X_final_scaled_v2)\n",
    "X_final_scaled_v2.head()"
   ]
  },
  {
   "cell_type": "markdown",
   "metadata": {},
   "source": [
    "#### Quarto modelo"
   ]
  },
  {
   "cell_type": "code",
   "execution_count": 60,
   "metadata": {},
   "outputs": [
    {
     "name": "stdout",
     "output_type": "stream",
     "text": [
      "Optimization terminated successfully.\n",
      "         Current function value: 0.609537\n",
      "         Iterations 5\n",
      "                           Logit Regression Results                           \n",
      "==============================================================================\n",
      "Dep. Variable:             TenYearCHD   No. Observations:                 6350\n",
      "Model:                          Logit   Df Residuals:                     6342\n",
      "Method:                           MLE   Df Model:                            7\n",
      "Date:                Fri, 19 Jun 2020   Pseudo R-squ.:                  0.1206\n",
      "Time:                        08:57:16   Log-Likelihood:                -3870.6\n",
      "converged:                       True   LL-Null:                       -4401.5\n",
      "Covariance Type:            nonrobust   LLR p-value:                5.207e-225\n",
      "==============================================================================\n",
      "                 coef    std err          z      P>|z|      [0.025      0.975]\n",
      "------------------------------------------------------------------------------\n",
      "const         -3.4195      0.154    -22.246      0.000      -3.721      -3.118\n",
      "sysBP          2.9403      0.465      6.323      0.000       2.029       3.852\n",
      "age            2.8942      0.152     19.054      0.000       2.596       3.192\n",
      "totChol        0.6232      0.226      2.752      0.006       0.179       1.067\n",
      "diaBP          0.5190      0.370      1.401      0.161      -0.207       1.245\n",
      "cigsPerDay     1.9807      0.171     11.576      0.000       1.645       2.316\n",
      "glucose        1.7625      0.323      5.456      0.000       1.129       2.396\n",
      "BMI            0.8192      0.323      2.537      0.011       0.186       1.452\n",
      "==============================================================================\n"
     ]
    }
   ],
   "source": [
    "# Criando a quarta versão modelo de Regressão Logística com StatsModels\n",
    "\n",
    "# Separa X e y\n",
    "X = X_final_scaled_v2\n",
    "y = y_final\n",
    "\n",
    "# Cria o objeto\n",
    "logit_obj_v4 = sm.Logit(y, X)\n",
    "\n",
    "# Cria o modelo\n",
    "logit_modelo_v4 = logit_obj_v4.fit()\n",
    "\n",
    "# Print do resultado\n",
    "print(logit_modelo_v4.summary())"
   ]
  },
  {
   "cell_type": "markdown",
   "metadata": {},
   "source": [
    "### Feature Selection: Backward Elimination (P-value Approach)"
   ]
  },
  {
   "cell_type": "markdown",
   "metadata": {},
   "source": [
    "Recebe o dataframe, a variável dependente e uma lista de nomes de colunas, executa o recurso de eliminação repetitiva de regressão com o mais alto valor-p acima de alfa, um de cada vez, e retorna o resumo da regressão com todos os valores-p abaixo de alfa."
   ]
  },
  {
   "cell_type": "code",
   "execution_count": 61,
   "metadata": {},
   "outputs": [
    {
     "data": {
      "text/plain": [
       "Index(['const', 'sysBP', 'age', 'totChol', 'diaBP', 'cigsPerDay', 'glucose',\n",
       "       'BMI'],\n",
       "      dtype='object')"
      ]
     },
     "execution_count": 61,
     "metadata": {},
     "output_type": "execute_result"
    }
   ],
   "source": [
    "# Lista com o nome das variáveis explicativas\n",
    "cols_names = X.columns\n",
    "cols_names"
   ]
  },
  {
   "cell_type": "code",
   "execution_count": 62,
   "metadata": {},
   "outputs": [],
   "source": [
    "# Função\n",
    "def back_feature_elem (x, y, col_list):\n",
    "\n",
    "    while len(col_list) > 0 :\n",
    "        modelo = sm.Logit(y, x[col_list])\n",
    "        result = modelo.fit()\n",
    "        largest_pvalue = round(result.pvalues, 3).nlargest(1)\n",
    "        \n",
    "        if largest_pvalue[0] < (0.05):\n",
    "            return result\n",
    "            break\n",
    "        else:\n",
    "            col_list = col_list.drop(largest_pvalue.index)"
   ]
  },
  {
   "cell_type": "markdown",
   "metadata": {},
   "source": [
    "#### Quinto modelo"
   ]
  },
  {
   "cell_type": "code",
   "execution_count": 63,
   "metadata": {},
   "outputs": [
    {
     "name": "stdout",
     "output_type": "stream",
     "text": [
      "Optimization terminated successfully.\n",
      "         Current function value: 0.609537\n",
      "         Iterations 5\n",
      "Optimization terminated successfully.\n",
      "         Current function value: 0.609692\n",
      "         Iterations 5\n"
     ]
    }
   ],
   "source": [
    "# Separa X e y\n",
    "X = X_final_importance\n",
    "y = y_final\n",
    "\n",
    "# Cria o modelo sem os atributos com maior valor-p\n",
    "logit_modelo_v5 = back_feature_elem(X, y, cols_names)"
   ]
  },
  {
   "cell_type": "code",
   "execution_count": 64,
   "metadata": {},
   "outputs": [
    {
     "name": "stdout",
     "output_type": "stream",
     "text": [
      "                           Logit Regression Results                           \n",
      "==============================================================================\n",
      "Dep. Variable:             TenYearCHD   No. Observations:                 6350\n",
      "Model:                          Logit   Df Residuals:                     6343\n",
      "Method:                           MLE   Df Model:                            6\n",
      "Date:                Fri, 19 Jun 2020   Pseudo R-squ.:                  0.1204\n",
      "Time:                        08:57:16   Log-Likelihood:                -3871.5\n",
      "converged:                       True   LL-Null:                       -4401.5\n",
      "Covariance Type:            nonrobust   LLR p-value:                9.962e-226\n",
      "==============================================================================\n",
      "                 coef    std err          z      P>|z|      [0.025      0.975]\n",
      "------------------------------------------------------------------------------\n",
      "const         -7.9146      0.313    -25.307      0.000      -8.528      -7.302\n",
      "sysBP          0.0163      0.001     11.815      0.000       0.014       0.019\n",
      "age            0.0748      0.004     19.298      0.000       0.067       0.082\n",
      "totChol        0.0018      0.001      2.737      0.006       0.001       0.003\n",
      "cigsPerDay     0.0282      0.002     11.540      0.000       0.023       0.033\n",
      "glucose        0.0068      0.001      5.365      0.000       0.004       0.009\n",
      "BMI            0.0224      0.008      2.937      0.003       0.007       0.037\n",
      "==============================================================================\n"
     ]
    }
   ],
   "source": [
    "# Print do resultado\n",
    "print(logit_modelo_v5.summary())"
   ]
  },
  {
   "cell_type": "markdown",
   "metadata": {},
   "source": [
    "__Vamos avaliar as métricas do modelo__"
   ]
  },
  {
   "cell_type": "code",
   "execution_count": 65,
   "metadata": {},
   "outputs": [
    {
     "data": {
      "text/plain": [
       "array([[2101., 1074.],\n",
       "       [1018., 2157.]])"
      ]
     },
     "execution_count": 65,
     "metadata": {},
     "output_type": "execute_result"
    }
   ],
   "source": [
    "# Confusion Matrix do Modelo\n",
    "logit_modelo_v5.pred_table()"
   ]
  },
  {
   "cell_type": "code",
   "execution_count": 66,
   "metadata": {},
   "outputs": [
    {
     "name": "stdout",
     "output_type": "stream",
     "text": [
      "[0.14245944 0.28973177 0.44940154 0.84293327 0.47378588 0.49845271\n",
      " 0.67540673 0.31355359 0.4679984  0.57821975]\n"
     ]
    }
   ],
   "source": [
    "# Imprimindo 10 previsões do modelo\n",
    "predictions_v5 = logit_modelo_v5.predict()\n",
    "print(predictions_v5[0:10])"
   ]
  },
  {
   "cell_type": "code",
   "execution_count": 67,
   "metadata": {},
   "outputs": [],
   "source": [
    "# Defininido um limite para a classificação\n",
    "y_pred_v5 = [0 if x < 0.5 else 1 for x in predictions_v5]"
   ]
  },
  {
   "cell_type": "code",
   "execution_count": 68,
   "metadata": {},
   "outputs": [
    {
     "name": "stdout",
     "output_type": "stream",
     "text": [
      "              precision    recall  f1-score   support\n",
      "\n",
      "           0       0.67      0.66      0.67      3175\n",
      "           1       0.67      0.68      0.67      3175\n",
      "\n",
      "    accuracy                           0.67      6350\n",
      "   macro avg       0.67      0.67      0.67      6350\n",
      "weighted avg       0.67      0.67      0.67      6350\n",
      "\n"
     ]
    }
   ],
   "source": [
    "# Relatório de Classificação\n",
    "from sklearn.metrics import confusion_matrix, classification_report\n",
    "print(classification_report(y, y_pred_v5))"
   ]
  },
  {
   "cell_type": "markdown",
   "metadata": {},
   "source": [
    "## GLM"
   ]
  },
  {
   "cell_type": "markdown",
   "metadata": {},
   "source": [
    "Em Estatística, o Modelo Linear Generalizado (GLM) é uma generalização flexível da regressão linear comum que permite variáveis resposta que possuem modelos de distribuição de erro diferentes de uma distribuição normal. O GLM generaliza a regressão linear, permitindo que o modelo linear seja relacionado à variável de resposta por meio de uma função de link e permitindo que a magnitude da variação de cada medição seja uma função do seu valor previsto."
   ]
  },
  {
   "cell_type": "markdown",
   "metadata": {},
   "source": [
    "### LMR vs IRLS"
   ]
  },
  {
   "cell_type": "markdown",
   "metadata": {},
   "source": [
    "O método de estimação de parâmetros usado no `statsmodels.Logit` é o Maximum Likelihood Estimation (MLE). Este método é amplamente usado para estimar parametros que utilizam funções que tentam maximizar probabilidades (regressão logística, poisson etc.). O método de otimização usado é o Newton-Raphson, no caso, ao usá-lo em uma função de verossimilhança e junto de uma matriz Hensiana, leva o neme de Fisher Scoring.\n",
    "\n",
    "O método de estimação de parâmetros usado no `statsmodels.GLM` é o Iteratively Reweighted Least Squares (IRLS).\n",
    "\n",
    "O método de mínimos quadrados iterativamente ponderados (IRLS) é usado para resolver certos problemas de otimização com funções objetivas na forma de uma norma-p:\n",
    "\n",
    "$$\\underset{\\beta}{\\operatorname{argmin}} \\sum^{n}_{i=1} \\bracevert y_{i} - f_{i}(\\beta) \\bracevert^{p}$$\n",
    "\n",
    "por um método iterativo no qual cada etapa envolve a solução de um problema de mínimos quadrados ponderados da forma:\n",
    "\n",
    "$$\\beta^{(t+1)}=\\underset{\\beta}{\\operatorname{argmin}} \\sum^{n}_{i=1} w_{i}(\\beta^{(t)})\\bracevert y_{i} - f_{i}(\\beta) \\bracevert^{2}$$\n",
    "\n",
    "O IRLS é usado para encontrar as estimativas de máxima verossimilhança de um modelo linear generalizado e em regressão robusta para encontrar um estimador M, como uma maneira de mitigar a influência de outliers em um conjunto de dados normalmente distribuído. Por exemplo, o algorítmo minimiza o erro absoluto mínimo em vez do erro quadrado mínimo."
   ]
  },
  {
   "cell_type": "code",
   "execution_count": 69,
   "metadata": {},
   "outputs": [],
   "source": [
    "# Primeira versão do modelo GLM\n",
    "modelo_v1 = sm.GLM(y, X, family = sm.families.Binomial())\n",
    "glm_modelo_v1 = modelo_v1.fit()"
   ]
  },
  {
   "cell_type": "code",
   "execution_count": 70,
   "metadata": {},
   "outputs": [
    {
     "data": {
      "text/html": [
       "<table class=\"simpletable\">\n",
       "<caption>Generalized Linear Model Regression Results</caption>\n",
       "<tr>\n",
       "  <th>Dep. Variable:</th>      <td>TenYearCHD</td>    <th>  No. Observations:  </th>  <td>  6350</td> \n",
       "</tr>\n",
       "<tr>\n",
       "  <th>Model:</th>                  <td>GLM</td>       <th>  Df Residuals:      </th>  <td>  6342</td> \n",
       "</tr>\n",
       "<tr>\n",
       "  <th>Model Family:</th>        <td>Binomial</td>     <th>  Df Model:          </th>  <td>     7</td> \n",
       "</tr>\n",
       "<tr>\n",
       "  <th>Link Function:</th>         <td>logit</td>      <th>  Scale:             </th> <td>  1.0000</td>\n",
       "</tr>\n",
       "<tr>\n",
       "  <th>Method:</th>                <td>IRLS</td>       <th>  Log-Likelihood:    </th> <td> -3870.6</td>\n",
       "</tr>\n",
       "<tr>\n",
       "  <th>Date:</th>            <td>Fri, 19 Jun 2020</td> <th>  Deviance:          </th> <td>  7741.1</td>\n",
       "</tr>\n",
       "<tr>\n",
       "  <th>Time:</th>                <td>08:57:16</td>     <th>  Pearson chi2:      </th> <td>6.37e+03</td>\n",
       "</tr>\n",
       "<tr>\n",
       "  <th>No. Iterations:</th>          <td>4</td>        <th>                     </th>     <td> </td>   \n",
       "</tr>\n",
       "<tr>\n",
       "  <th>Covariance Type:</th>     <td>nonrobust</td>    <th>                     </th>     <td> </td>   \n",
       "</tr>\n",
       "</table>\n",
       "<table class=\"simpletable\">\n",
       "<tr>\n",
       "       <td></td>         <th>coef</th>     <th>std err</th>      <th>z</th>      <th>P>|z|</th>  <th>[0.025</th>    <th>0.975]</th>  \n",
       "</tr>\n",
       "<tr>\n",
       "  <th>const</th>      <td>   -8.0678</td> <td>    0.332</td> <td>  -24.290</td> <td> 0.000</td> <td>   -8.719</td> <td>   -7.417</td>\n",
       "</tr>\n",
       "<tr>\n",
       "  <th>sysBP</th>      <td>    0.0139</td> <td>    0.002</td> <td>    6.323</td> <td> 0.000</td> <td>    0.010</td> <td>    0.018</td>\n",
       "</tr>\n",
       "<tr>\n",
       "  <th>age</th>        <td>    0.0762</td> <td>    0.004</td> <td>   19.054</td> <td> 0.000</td> <td>    0.068</td> <td>    0.084</td>\n",
       "</tr>\n",
       "<tr>\n",
       "  <th>totChol</th>    <td>    0.0018</td> <td>    0.001</td> <td>    2.752</td> <td> 0.006</td> <td>    0.001</td> <td>    0.003</td>\n",
       "</tr>\n",
       "<tr>\n",
       "  <th>diaBP</th>      <td>    0.0055</td> <td>    0.004</td> <td>    1.401</td> <td> 0.161</td> <td>   -0.002</td> <td>    0.013</td>\n",
       "</tr>\n",
       "<tr>\n",
       "  <th>cigsPerDay</th> <td>    0.0283</td> <td>    0.002</td> <td>   11.576</td> <td> 0.000</td> <td>    0.024</td> <td>    0.033</td>\n",
       "</tr>\n",
       "<tr>\n",
       "  <th>glucose</th>    <td>    0.0069</td> <td>    0.001</td> <td>    5.456</td> <td> 0.000</td> <td>    0.004</td> <td>    0.009</td>\n",
       "</tr>\n",
       "<tr>\n",
       "  <th>BMI</th>        <td>    0.0199</td> <td>    0.008</td> <td>    2.537</td> <td> 0.011</td> <td>    0.005</td> <td>    0.035</td>\n",
       "</tr>\n",
       "</table>"
      ],
      "text/plain": [
       "<class 'statsmodels.iolib.summary.Summary'>\n",
       "\"\"\"\n",
       "                 Generalized Linear Model Regression Results                  \n",
       "==============================================================================\n",
       "Dep. Variable:             TenYearCHD   No. Observations:                 6350\n",
       "Model:                            GLM   Df Residuals:                     6342\n",
       "Model Family:                Binomial   Df Model:                            7\n",
       "Link Function:                  logit   Scale:                          1.0000\n",
       "Method:                          IRLS   Log-Likelihood:                -3870.6\n",
       "Date:                Fri, 19 Jun 2020   Deviance:                       7741.1\n",
       "Time:                        08:57:16   Pearson chi2:                 6.37e+03\n",
       "No. Iterations:                     4                                         \n",
       "Covariance Type:            nonrobust                                         \n",
       "==============================================================================\n",
       "                 coef    std err          z      P>|z|      [0.025      0.975]\n",
       "------------------------------------------------------------------------------\n",
       "const         -8.0678      0.332    -24.290      0.000      -8.719      -7.417\n",
       "sysBP          0.0139      0.002      6.323      0.000       0.010       0.018\n",
       "age            0.0762      0.004     19.054      0.000       0.068       0.084\n",
       "totChol        0.0018      0.001      2.752      0.006       0.001       0.003\n",
       "diaBP          0.0055      0.004      1.401      0.161      -0.002       0.013\n",
       "cigsPerDay     0.0283      0.002     11.576      0.000       0.024       0.033\n",
       "glucose        0.0069      0.001      5.456      0.000       0.004       0.009\n",
       "BMI            0.0199      0.008      2.537      0.011       0.005       0.035\n",
       "==============================================================================\n",
       "\"\"\""
      ]
     },
     "execution_count": 70,
     "metadata": {},
     "output_type": "execute_result"
    }
   ],
   "source": [
    "glm_modelo_v1.summary()"
   ]
  },
  {
   "cell_type": "code",
   "execution_count": 71,
   "metadata": {},
   "outputs": [
    {
     "name": "stdout",
     "output_type": "stream",
     "text": [
      "[0.13902236 0.28993488 0.44759071 0.84756541 0.47739263 0.50174875\n",
      " 0.65700834 0.31711929 0.47046385 0.59258747]\n"
     ]
    }
   ],
   "source": [
    "# Previsões do modelo\n",
    "predictions_glm1 = glm_modelo_v1.predict()\n",
    "print(predictions_glm1[0:10])"
   ]
  },
  {
   "cell_type": "code",
   "execution_count": 72,
   "metadata": {},
   "outputs": [],
   "source": [
    "y_pred_glm1 = [0 if x < 0.5 else 1 for x in predictions_glm1]"
   ]
  },
  {
   "cell_type": "code",
   "execution_count": 73,
   "metadata": {
    "scrolled": true
   },
   "outputs": [
    {
     "name": "stdout",
     "output_type": "stream",
     "text": [
      "              precision    recall  f1-score   support\n",
      "\n",
      "           0       0.68      0.66      0.67      3175\n",
      "           1       0.67      0.68      0.68      3175\n",
      "\n",
      "    accuracy                           0.67      6350\n",
      "   macro avg       0.67      0.67      0.67      6350\n",
      "weighted avg       0.67      0.67      0.67      6350\n",
      "\n"
     ]
    }
   ],
   "source": [
    "# Relatório de Classificação\n",
    "from sklearn.metrics import confusion_matrix, classification_report\n",
    "print(classification_report(y, y_pred_glm1))"
   ]
  },
  {
   "cell_type": "markdown",
   "metadata": {},
   "source": [
    "Removendo a variável que não foi estatísticamente significante - __diaBP__"
   ]
  },
  {
   "cell_type": "code",
   "execution_count": 74,
   "metadata": {},
   "outputs": [],
   "source": [
    "# Removendo a coluna diaBP\n",
    "X = X.drop(['diaBP'], axis = 1)"
   ]
  },
  {
   "cell_type": "code",
   "execution_count": 75,
   "metadata": {},
   "outputs": [],
   "source": [
    "# Segunda versão do modelo GLM\n",
    "modelo_v2 = sm.GLM(y, X, family = sm.families.Binomial())\n",
    "glm_modelo_v2 = modelo_v2.fit()"
   ]
  },
  {
   "cell_type": "code",
   "execution_count": 76,
   "metadata": {},
   "outputs": [
    {
     "data": {
      "text/html": [
       "<table class=\"simpletable\">\n",
       "<caption>Generalized Linear Model Regression Results</caption>\n",
       "<tr>\n",
       "  <th>Dep. Variable:</th>      <td>TenYearCHD</td>    <th>  No. Observations:  </th>  <td>  6350</td> \n",
       "</tr>\n",
       "<tr>\n",
       "  <th>Model:</th>                  <td>GLM</td>       <th>  Df Residuals:      </th>  <td>  6343</td> \n",
       "</tr>\n",
       "<tr>\n",
       "  <th>Model Family:</th>        <td>Binomial</td>     <th>  Df Model:          </th>  <td>     6</td> \n",
       "</tr>\n",
       "<tr>\n",
       "  <th>Link Function:</th>         <td>logit</td>      <th>  Scale:             </th> <td>  1.0000</td>\n",
       "</tr>\n",
       "<tr>\n",
       "  <th>Method:</th>                <td>IRLS</td>       <th>  Log-Likelihood:    </th> <td> -3871.5</td>\n",
       "</tr>\n",
       "<tr>\n",
       "  <th>Date:</th>            <td>Fri, 19 Jun 2020</td> <th>  Deviance:          </th> <td>  7743.1</td>\n",
       "</tr>\n",
       "<tr>\n",
       "  <th>Time:</th>                <td>08:57:16</td>     <th>  Pearson chi2:      </th> <td>6.38e+03</td>\n",
       "</tr>\n",
       "<tr>\n",
       "  <th>No. Iterations:</th>          <td>4</td>        <th>                     </th>     <td> </td>   \n",
       "</tr>\n",
       "<tr>\n",
       "  <th>Covariance Type:</th>     <td>nonrobust</td>    <th>                     </th>     <td> </td>   \n",
       "</tr>\n",
       "</table>\n",
       "<table class=\"simpletable\">\n",
       "<tr>\n",
       "       <td></td>         <th>coef</th>     <th>std err</th>      <th>z</th>      <th>P>|z|</th>  <th>[0.025</th>    <th>0.975]</th>  \n",
       "</tr>\n",
       "<tr>\n",
       "  <th>const</th>      <td>   -7.9146</td> <td>    0.313</td> <td>  -25.307</td> <td> 0.000</td> <td>   -8.528</td> <td>   -7.302</td>\n",
       "</tr>\n",
       "<tr>\n",
       "  <th>sysBP</th>      <td>    0.0163</td> <td>    0.001</td> <td>   11.815</td> <td> 0.000</td> <td>    0.014</td> <td>    0.019</td>\n",
       "</tr>\n",
       "<tr>\n",
       "  <th>age</th>        <td>    0.0748</td> <td>    0.004</td> <td>   19.298</td> <td> 0.000</td> <td>    0.067</td> <td>    0.082</td>\n",
       "</tr>\n",
       "<tr>\n",
       "  <th>totChol</th>    <td>    0.0018</td> <td>    0.001</td> <td>    2.737</td> <td> 0.006</td> <td>    0.001</td> <td>    0.003</td>\n",
       "</tr>\n",
       "<tr>\n",
       "  <th>cigsPerDay</th> <td>    0.0282</td> <td>    0.002</td> <td>   11.540</td> <td> 0.000</td> <td>    0.023</td> <td>    0.033</td>\n",
       "</tr>\n",
       "<tr>\n",
       "  <th>glucose</th>    <td>    0.0068</td> <td>    0.001</td> <td>    5.365</td> <td> 0.000</td> <td>    0.004</td> <td>    0.009</td>\n",
       "</tr>\n",
       "<tr>\n",
       "  <th>BMI</th>        <td>    0.0224</td> <td>    0.008</td> <td>    2.937</td> <td> 0.003</td> <td>    0.007</td> <td>    0.037</td>\n",
       "</tr>\n",
       "</table>"
      ],
      "text/plain": [
       "<class 'statsmodels.iolib.summary.Summary'>\n",
       "\"\"\"\n",
       "                 Generalized Linear Model Regression Results                  \n",
       "==============================================================================\n",
       "Dep. Variable:             TenYearCHD   No. Observations:                 6350\n",
       "Model:                            GLM   Df Residuals:                     6343\n",
       "Model Family:                Binomial   Df Model:                            6\n",
       "Link Function:                  logit   Scale:                          1.0000\n",
       "Method:                          IRLS   Log-Likelihood:                -3871.5\n",
       "Date:                Fri, 19 Jun 2020   Deviance:                       7743.1\n",
       "Time:                        08:57:16   Pearson chi2:                 6.38e+03\n",
       "No. Iterations:                     4                                         \n",
       "Covariance Type:            nonrobust                                         \n",
       "==============================================================================\n",
       "                 coef    std err          z      P>|z|      [0.025      0.975]\n",
       "------------------------------------------------------------------------------\n",
       "const         -7.9146      0.313    -25.307      0.000      -8.528      -7.302\n",
       "sysBP          0.0163      0.001     11.815      0.000       0.014       0.019\n",
       "age            0.0748      0.004     19.298      0.000       0.067       0.082\n",
       "totChol        0.0018      0.001      2.737      0.006       0.001       0.003\n",
       "cigsPerDay     0.0282      0.002     11.540      0.000       0.023       0.033\n",
       "glucose        0.0068      0.001      5.365      0.000       0.004       0.009\n",
       "BMI            0.0224      0.008      2.937      0.003       0.007       0.037\n",
       "==============================================================================\n",
       "\"\"\""
      ]
     },
     "execution_count": 76,
     "metadata": {},
     "output_type": "execute_result"
    }
   ],
   "source": [
    "glm_modelo_v2.summary()"
   ]
  },
  {
   "cell_type": "code",
   "execution_count": 77,
   "metadata": {},
   "outputs": [
    {
     "name": "stdout",
     "output_type": "stream",
     "text": [
      "[0.14245944 0.28973177 0.44940154 0.84293327 0.47378588 0.49845271\n",
      " 0.67540673 0.31355359 0.4679984  0.57821975]\n"
     ]
    }
   ],
   "source": [
    "# Previsões do modelo\n",
    "predictions_glm2 = glm_modelo_v2.predict()\n",
    "print(predictions_glm2[0:10])"
   ]
  },
  {
   "cell_type": "code",
   "execution_count": 78,
   "metadata": {},
   "outputs": [],
   "source": [
    "# Definindo o limite\n",
    "y_pred_glm2 = [0 if x < 0.5 else 1 for x in predictions_glm2]"
   ]
  },
  {
   "cell_type": "code",
   "execution_count": 79,
   "metadata": {},
   "outputs": [
    {
     "name": "stdout",
     "output_type": "stream",
     "text": [
      "              precision    recall  f1-score   support\n",
      "\n",
      "           0       0.67      0.66      0.67      3175\n",
      "           1       0.67      0.68      0.67      3175\n",
      "\n",
      "    accuracy                           0.67      6350\n",
      "   macro avg       0.67      0.67      0.67      6350\n",
      "weighted avg       0.67      0.67      0.67      6350\n",
      "\n"
     ]
    }
   ],
   "source": [
    "# Relatório de Classificação\n",
    "from sklearn.metrics import confusion_matrix, classification_report\n",
    "print(classification_report(y, y_pred_glm2))"
   ]
  },
  {
   "cell_type": "markdown",
   "metadata": {},
   "source": [
    "### Interpretação dos Resultados: Odds Ratio, Intervalos de Confiança e Valores-p"
   ]
  },
  {
   "cell_type": "code",
   "execution_count": 80,
   "metadata": {},
   "outputs": [
    {
     "name": "stdout",
     "output_type": "stream",
     "text": [
      "                           Logit Regression Results                           \n",
      "==============================================================================\n",
      "Dep. Variable:             TenYearCHD   No. Observations:                 6350\n",
      "Model:                          Logit   Df Residuals:                     6343\n",
      "Method:                           MLE   Df Model:                            6\n",
      "Date:                Fri, 19 Jun 2020   Pseudo R-squ.:                  0.1204\n",
      "Time:                        08:57:16   Log-Likelihood:                -3871.5\n",
      "converged:                       True   LL-Null:                       -4401.5\n",
      "Covariance Type:            nonrobust   LLR p-value:                9.962e-226\n",
      "==============================================================================\n",
      "                 coef    std err          z      P>|z|      [0.025      0.975]\n",
      "------------------------------------------------------------------------------\n",
      "const         -7.9146      0.313    -25.307      0.000      -8.528      -7.302\n",
      "sysBP          0.0163      0.001     11.815      0.000       0.014       0.019\n",
      "age            0.0748      0.004     19.298      0.000       0.067       0.082\n",
      "totChol        0.0018      0.001      2.737      0.006       0.001       0.003\n",
      "cigsPerDay     0.0282      0.002     11.540      0.000       0.023       0.033\n",
      "glucose        0.0068      0.001      5.365      0.000       0.004       0.009\n",
      "BMI            0.0224      0.008      2.937      0.003       0.007       0.037\n",
      "==============================================================================\n"
     ]
    }
   ],
   "source": [
    "# Print do resultado do último modelo - modelo_v5\n",
    "print(logit_modelo_v5.summary())"
   ]
  },
  {
   "cell_type": "code",
   "execution_count": 81,
   "metadata": {},
   "outputs": [
    {
     "data": {
      "text/plain": [
       "const        -7.914578\n",
       "sysBP         0.016311\n",
       "age           0.074848\n",
       "totChol       0.001766\n",
       "cigsPerDay    0.028168\n",
       "glucose       0.006801\n",
       "BMI           0.022374\n",
       "dtype: float64"
      ]
     },
     "execution_count": 81,
     "metadata": {},
     "output_type": "execute_result"
    }
   ],
   "source": [
    "# Parâmetros do modelo\n",
    "logit_modelo_v5.params"
   ]
  },
  {
   "cell_type": "code",
   "execution_count": 82,
   "metadata": {},
   "outputs": [
    {
     "data": {
      "text/plain": [
       "const         0.000365\n",
       "sysBP         1.016445\n",
       "age           1.077721\n",
       "totChol       1.001768\n",
       "cigsPerDay    1.028569\n",
       "glucose       1.006824\n",
       "BMI           1.022626\n",
       "dtype: float64"
      ]
     },
     "execution_count": 82,
     "metadata": {},
     "output_type": "execute_result"
    }
   ],
   "source": [
    "# Parâmetros do modelo exponenciados\n",
    "np.exp(logit_modelo_v5.params)"
   ]
  },
  {
   "cell_type": "code",
   "execution_count": 83,
   "metadata": {},
   "outputs": [
    {
     "data": {
      "text/html": [
       "<div>\n",
       "<style scoped>\n",
       "    .dataframe tbody tr th:only-of-type {\n",
       "        vertical-align: middle;\n",
       "    }\n",
       "\n",
       "    .dataframe tbody tr th {\n",
       "        vertical-align: top;\n",
       "    }\n",
       "\n",
       "    .dataframe thead th {\n",
       "        text-align: right;\n",
       "    }\n",
       "</style>\n",
       "<table border=\"1\" class=\"dataframe\">\n",
       "  <thead>\n",
       "    <tr style=\"text-align: right;\">\n",
       "      <th></th>\n",
       "      <th>0</th>\n",
       "      <th>1</th>\n",
       "    </tr>\n",
       "  </thead>\n",
       "  <tbody>\n",
       "    <tr>\n",
       "      <th>const</th>\n",
       "      <td>-8.527550</td>\n",
       "      <td>-7.301605</td>\n",
       "    </tr>\n",
       "    <tr>\n",
       "      <th>sysBP</th>\n",
       "      <td>0.013605</td>\n",
       "      <td>0.019017</td>\n",
       "    </tr>\n",
       "    <tr>\n",
       "      <th>age</th>\n",
       "      <td>0.067246</td>\n",
       "      <td>0.082450</td>\n",
       "    </tr>\n",
       "    <tr>\n",
       "      <th>totChol</th>\n",
       "      <td>0.000501</td>\n",
       "      <td>0.003031</td>\n",
       "    </tr>\n",
       "    <tr>\n",
       "      <th>cigsPerDay</th>\n",
       "      <td>0.023384</td>\n",
       "      <td>0.032952</td>\n",
       "    </tr>\n",
       "    <tr>\n",
       "      <th>glucose</th>\n",
       "      <td>0.004316</td>\n",
       "      <td>0.009286</td>\n",
       "    </tr>\n",
       "    <tr>\n",
       "      <th>BMI</th>\n",
       "      <td>0.007441</td>\n",
       "      <td>0.037306</td>\n",
       "    </tr>\n",
       "  </tbody>\n",
       "</table>\n",
       "</div>"
      ],
      "text/plain": [
       "                   0         1\n",
       "const      -8.527550 -7.301605\n",
       "sysBP       0.013605  0.019017\n",
       "age         0.067246  0.082450\n",
       "totChol     0.000501  0.003031\n",
       "cigsPerDay  0.023384  0.032952\n",
       "glucose     0.004316  0.009286\n",
       "BMI         0.007441  0.037306"
      ]
     },
     "execution_count": 83,
     "metadata": {},
     "output_type": "execute_result"
    }
   ],
   "source": [
    "# Intervalo de confiança do modelo\n",
    "logit_modelo_v5.conf_int()"
   ]
  },
  {
   "cell_type": "code",
   "execution_count": 84,
   "metadata": {},
   "outputs": [
    {
     "data": {
      "text/html": [
       "<div>\n",
       "<style scoped>\n",
       "    .dataframe tbody tr th:only-of-type {\n",
       "        vertical-align: middle;\n",
       "    }\n",
       "\n",
       "    .dataframe tbody tr th {\n",
       "        vertical-align: top;\n",
       "    }\n",
       "\n",
       "    .dataframe thead th {\n",
       "        text-align: right;\n",
       "    }\n",
       "</style>\n",
       "<table border=\"1\" class=\"dataframe\">\n",
       "  <thead>\n",
       "    <tr style=\"text-align: right;\">\n",
       "      <th></th>\n",
       "      <th>0</th>\n",
       "      <th>1</th>\n",
       "    </tr>\n",
       "  </thead>\n",
       "  <tbody>\n",
       "    <tr>\n",
       "      <th>const</th>\n",
       "      <td>0.000198</td>\n",
       "      <td>0.000674</td>\n",
       "    </tr>\n",
       "    <tr>\n",
       "      <th>sysBP</th>\n",
       "      <td>1.013698</td>\n",
       "      <td>1.019199</td>\n",
       "    </tr>\n",
       "    <tr>\n",
       "      <th>age</th>\n",
       "      <td>1.069559</td>\n",
       "      <td>1.085944</td>\n",
       "    </tr>\n",
       "    <tr>\n",
       "      <th>totChol</th>\n",
       "      <td>1.000502</td>\n",
       "      <td>1.003036</td>\n",
       "    </tr>\n",
       "    <tr>\n",
       "      <th>cigsPerDay</th>\n",
       "      <td>1.023660</td>\n",
       "      <td>1.033501</td>\n",
       "    </tr>\n",
       "    <tr>\n",
       "      <th>glucose</th>\n",
       "      <td>1.004326</td>\n",
       "      <td>1.009329</td>\n",
       "    </tr>\n",
       "    <tr>\n",
       "      <th>BMI</th>\n",
       "      <td>1.007469</td>\n",
       "      <td>1.038010</td>\n",
       "    </tr>\n",
       "  </tbody>\n",
       "</table>\n",
       "</div>"
      ],
      "text/plain": [
       "                   0         1\n",
       "const       0.000198  0.000674\n",
       "sysBP       1.013698  1.019199\n",
       "age         1.069559  1.085944\n",
       "totChol     1.000502  1.003036\n",
       "cigsPerDay  1.023660  1.033501\n",
       "glucose     1.004326  1.009329\n",
       "BMI         1.007469  1.038010"
      ]
     },
     "execution_count": 84,
     "metadata": {},
     "output_type": "execute_result"
    }
   ],
   "source": [
    "# Intervalo de confiança exponeciado do modelo \n",
    "np.exp(logit_modelo_v5.conf_int())"
   ]
  },
  {
   "cell_type": "code",
   "execution_count": 85,
   "metadata": {},
   "outputs": [
    {
     "data": {
      "text/plain": [
       "const         2.697817e-141\n",
       "sysBP          3.270149e-32\n",
       "age            5.618130e-83\n",
       "totChol        6.202184e-03\n",
       "cigsPerDay     8.251657e-31\n",
       "glucose        8.111439e-08\n",
       "BMI            3.317408e-03\n",
       "dtype: float64"
      ]
     },
     "execution_count": 85,
     "metadata": {},
     "output_type": "execute_result"
    }
   ],
   "source": [
    "# Valor p do modelo\n",
    "logit_modelo_v5.pvalues"
   ]
  },
  {
   "cell_type": "markdown",
   "metadata": {},
   "source": [
    "__Construção de um output personalizado__"
   ]
  },
  {
   "cell_type": "code",
   "execution_count": 86,
   "metadata": {},
   "outputs": [
    {
     "name": "stdout",
     "output_type": "stream",
     "text": [
      "            IC 95%(2.5%)  IC 95%(97.5%)  Odds Ratio  Valor-p\n",
      "const           0.000198       0.000674    0.000365    0.000\n",
      "sysBP           1.013698       1.019199    1.016445    0.000\n",
      "age             1.069559       1.085944    1.077721    0.000\n",
      "totChol         1.000502       1.003036    1.001768    0.006\n",
      "cigsPerDay      1.023660       1.033501    1.028569    0.000\n",
      "glucose         1.004326       1.009329    1.006824    0.000\n",
      "BMI             1.007469       1.038010    1.022626    0.003\n"
     ]
    }
   ],
   "source": [
    "# Extrai os parâmetros e intervalos de confiança\n",
    "params = np.exp(logit_modelo_v5.params)\n",
    "conf = np.exp(logit_modelo_v5.conf_int())\n",
    "conf['OR'] = params\n",
    "\n",
    "# Extra os valores-p\n",
    "pvalue = round(logit_modelo_v5.pvalues, 3)\n",
    "conf['Valor-p'] = pvalue\n",
    "\n",
    "# Imprime os resultados\n",
    "conf.columns = ['IC 95%(2.5%)', 'IC 95%(97.5%)', 'Odds Ratio', 'Valor-p']\n",
    "print((conf))"
   ]
  },
  {
   "cell_type": "markdown",
   "metadata": {},
   "source": [
    "### Conclusão"
   ]
  },
  {
   "cell_type": "markdown",
   "metadata": {},
   "source": [
    "O coeficiente para a idade (age) diz que, mantendo todos os outros constantes, veremos um aumento de 8% nas chances de ser diagnosticado com doença cardíaca em um período de 10 anos, para um aumento de um ano na idade pois: \n",
    "\n",
    "exp (0.074848) = 1.077721."
   ]
  },
  {
   "cell_type": "markdown",
   "metadata": {},
   "source": [
    "Da mesma forma, com cada cigarro extra que se fuma, há um aumento de 3% nas chances de ser diagnosticado com doença cardíaca em um período de 10 anos."
   ]
  },
  {
   "cell_type": "markdown",
   "metadata": {},
   "source": [
    "Há um aumento de 1,6% nas chances de ser diagnosticado com doença cardíaca em um período de 10 anos para cada aumento unitário da pressão arterial sistólica."
   ]
  },
  {
   "cell_type": "markdown",
   "metadata": {},
   "source": [
    "Há um aumento de 2,2% nas chances de ser diagnosticado com doença cardíaca em um período de 10 anos para cada aumento unitário do índice de massa corporal."
   ]
  },
  {
   "cell_type": "markdown",
   "metadata": {},
   "source": [
    "Para o nível total de colesterol e glicose, não há alterações significativas."
   ]
  },
  {
   "cell_type": "markdown",
   "metadata": {},
   "source": [
    "---"
   ]
  }
 ],
 "metadata": {
  "kernelspec": {
   "display_name": "Python 3",
   "language": "python",
   "name": "python3"
  },
  "language_info": {
   "codemirror_mode": {
    "name": "ipython",
    "version": 3
   },
   "file_extension": ".py",
   "mimetype": "text/x-python",
   "name": "python",
   "nbconvert_exporter": "python",
   "pygments_lexer": "ipython3",
   "version": "3.7.6"
  }
 },
 "nbformat": 4,
 "nbformat_minor": 4
}
