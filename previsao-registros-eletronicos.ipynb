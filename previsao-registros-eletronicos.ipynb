{
 "cells": [
  {
   "cell_type": "markdown",
   "metadata": {},
   "source": [
    "# Data Science Aplicada à Área de Saúde"
   ]
  },
  {
   "cell_type": "markdown",
   "metadata": {},
   "source": [
    "Projeto de análise de dados da formação FIAMED da [DSA](https://www.datascienceacademy.com.br/)"
   ]
  },
  {
   "cell_type": "markdown",
   "metadata": {},
   "source": [
    "## Modelagem Preditiva em Registros Eletrônicos de Saúde"
   ]
  },
  {
   "cell_type": "markdown",
   "metadata": {},
   "source": [
    "O objetivo deste projeto é prever se um paciente poderá ser readmitido em uma clínica no período de 30 dias após alta.\n",
    "\n",
    "Esse projeto terá como base uma pesquisa realizada em 2018, chamada:\n",
    "\n",
    "[Using Electronic Health Records and Machine Learning to Make Medical-Related Predictions from Non-Medical Data](https://ieeexplore.ieee.org/document/8614004)"
   ]
  },
  {
   "cell_type": "markdown",
   "metadata": {},
   "source": [
    "## Carregando dados e compreendendo as variáveis"
   ]
  },
  {
   "cell_type": "code",
   "execution_count": 1,
   "metadata": {},
   "outputs": [],
   "source": [
    "# Importar pacotes\n",
    "import numpy as np\n",
    "import pandas as pd\n",
    "import matplotlib.pyplot as plt\n",
    "import seaborn as sns\n",
    "%matplotlib inline"
   ]
  },
  {
   "cell_type": "code",
   "execution_count": 2,
   "metadata": {},
   "outputs": [
    {
     "data": {
      "text/html": [
       "<div>\n",
       "<style scoped>\n",
       "    .dataframe tbody tr th:only-of-type {\n",
       "        vertical-align: middle;\n",
       "    }\n",
       "\n",
       "    .dataframe tbody tr th {\n",
       "        vertical-align: top;\n",
       "    }\n",
       "\n",
       "    .dataframe thead th {\n",
       "        text-align: right;\n",
       "    }\n",
       "</style>\n",
       "<table border=\"1\" class=\"dataframe\">\n",
       "  <thead>\n",
       "    <tr style=\"text-align: right;\">\n",
       "      <th></th>\n",
       "      <th>IDADE</th>\n",
       "      <th>SEXO_F</th>\n",
       "      <th>SEXO_M</th>\n",
       "      <th>ADM_CORRENTE_DIAS</th>\n",
       "      <th>RECEB_MEDICAMENTOS</th>\n",
       "      <th>FEZ_EXAMES</th>\n",
       "      <th>DEPEND_QUIMICO</th>\n",
       "      <th>FUMANTE</th>\n",
       "      <th>ALCOOLISMO</th>\n",
       "      <th>NUM_DIAS_INT_PREVIA</th>\n",
       "      <th>ADM_PREVIA_DIAS</th>\n",
       "      <th>NUM_DIAS_LIC_MEDICA</th>\n",
       "      <th>READMISSAO_30_DIAS</th>\n",
       "    </tr>\n",
       "    <tr>\n",
       "      <th>ID</th>\n",
       "      <th></th>\n",
       "      <th></th>\n",
       "      <th></th>\n",
       "      <th></th>\n",
       "      <th></th>\n",
       "      <th></th>\n",
       "      <th></th>\n",
       "      <th></th>\n",
       "      <th></th>\n",
       "      <th></th>\n",
       "      <th></th>\n",
       "      <th></th>\n",
       "      <th></th>\n",
       "    </tr>\n",
       "  </thead>\n",
       "  <tbody>\n",
       "    <tr>\n",
       "      <th>0</th>\n",
       "      <td>62.0</td>\n",
       "      <td>1</td>\n",
       "      <td>0</td>\n",
       "      <td>1</td>\n",
       "      <td>0</td>\n",
       "      <td>1</td>\n",
       "      <td>0</td>\n",
       "      <td>0</td>\n",
       "      <td>0</td>\n",
       "      <td>0</td>\n",
       "      <td>0</td>\n",
       "      <td>0</td>\n",
       "      <td>1</td>\n",
       "    </tr>\n",
       "    <tr>\n",
       "      <th>1</th>\n",
       "      <td>24.0</td>\n",
       "      <td>0</td>\n",
       "      <td>1</td>\n",
       "      <td>2</td>\n",
       "      <td>0</td>\n",
       "      <td>0</td>\n",
       "      <td>1</td>\n",
       "      <td>0</td>\n",
       "      <td>0</td>\n",
       "      <td>0</td>\n",
       "      <td>0</td>\n",
       "      <td>0</td>\n",
       "      <td>0</td>\n",
       "    </tr>\n",
       "    <tr>\n",
       "      <th>2</th>\n",
       "      <td>77.0</td>\n",
       "      <td>0</td>\n",
       "      <td>1</td>\n",
       "      <td>2</td>\n",
       "      <td>0</td>\n",
       "      <td>0</td>\n",
       "      <td>1</td>\n",
       "      <td>0</td>\n",
       "      <td>0</td>\n",
       "      <td>2</td>\n",
       "      <td>2</td>\n",
       "      <td>0</td>\n",
       "      <td>0</td>\n",
       "    </tr>\n",
       "    <tr>\n",
       "      <th>3</th>\n",
       "      <td>68.0</td>\n",
       "      <td>0</td>\n",
       "      <td>1</td>\n",
       "      <td>7</td>\n",
       "      <td>0</td>\n",
       "      <td>0</td>\n",
       "      <td>1</td>\n",
       "      <td>0</td>\n",
       "      <td>0</td>\n",
       "      <td>2</td>\n",
       "      <td>2</td>\n",
       "      <td>0</td>\n",
       "      <td>0</td>\n",
       "    </tr>\n",
       "    <tr>\n",
       "      <th>4</th>\n",
       "      <td>83.0</td>\n",
       "      <td>0</td>\n",
       "      <td>1</td>\n",
       "      <td>2</td>\n",
       "      <td>0</td>\n",
       "      <td>0</td>\n",
       "      <td>1</td>\n",
       "      <td>0</td>\n",
       "      <td>0</td>\n",
       "      <td>1</td>\n",
       "      <td>1</td>\n",
       "      <td>0</td>\n",
       "      <td>0</td>\n",
       "    </tr>\n",
       "  </tbody>\n",
       "</table>\n",
       "</div>"
      ],
      "text/plain": [
       "    IDADE  SEXO_F  SEXO_M  ADM_CORRENTE_DIAS  RECEB_MEDICAMENTOS  FEZ_EXAMES  \\\n",
       "ID                                                                             \n",
       "0    62.0       1       0                  1                   0           1   \n",
       "1    24.0       0       1                  2                   0           0   \n",
       "2    77.0       0       1                  2                   0           0   \n",
       "3    68.0       0       1                  7                   0           0   \n",
       "4    83.0       0       1                  2                   0           0   \n",
       "\n",
       "    DEPEND_QUIMICO  FUMANTE  ALCOOLISMO  NUM_DIAS_INT_PREVIA  ADM_PREVIA_DIAS  \\\n",
       "ID                                                                              \n",
       "0                0        0           0                    0                0   \n",
       "1                1        0           0                    0                0   \n",
       "2                1        0           0                    2                2   \n",
       "3                1        0           0                    2                2   \n",
       "4                1        0           0                    1                1   \n",
       "\n",
       "    NUM_DIAS_LIC_MEDICA  READMISSAO_30_DIAS  \n",
       "ID                                           \n",
       "0                     0                   1  \n",
       "1                     0                   0  \n",
       "2                     0                   0  \n",
       "3                     0                   0  \n",
       "4                     0                   0  "
      ]
     },
     "execution_count": 2,
     "metadata": {},
     "output_type": "execute_result"
    }
   ],
   "source": [
    "# Carregando dados\n",
    "dataset = pd.read_csv('dados/dataset.csv', index_col = [0]) # o dataset ja tem uma coluna de índice\n",
    "dataset.head()"
   ]
  },
  {
   "cell_type": "markdown",
   "metadata": {},
   "source": [
    "__Dicionário de Dados__\n",
    "\n",
    "Variáveis independendes:\n",
    "- __IDADE__ - Idade do paciente (numérica)\n",
    "- __SEXO_F__ - paciente do sexo feminino (categórica)\n",
    "- __SEXO_M__ - paciente do sexo masculino (categórica)\n",
    "- __ADM_CORRENTE_DIAS__ - Dias desde a admissão atual (numérica)\n",
    "- __RECEB_MEDICAMENTOS__ - Recebeu medicamentos na última internação (categórica)\n",
    "- __FEZ_EXAMES__ - Fez exames na última internação (categórica)\n",
    "- __DEPEND_QUIMICO__ - Dependendo químico (categórica)\n",
    "- __FUMANTE__ - Fumante (categórica)\n",
    "- __ALCOOLISMO__ - Alcoolismo (categórica)\n",
    "- __NUM_DIAS_INT_PREVIA__ - Número de internações anteriores (numérica)\n",
    "- __ADM_PREVIA_DIAS__ - Dias da admissão anterior (numérica)\n",
    "- __NUM_DIAS_LIC_MEDICA__ - Licença médica (numérica)\n",
    "\n",
    "Variável dependente:\n",
    "- __READMISSAO_30_DIAS__ - Readmissão dentro de 30 dias após a alta. \n",
    "\n",
    "obs. 0 - Não / 1 - Sim para todas as variáveis categóricas"
   ]
  },
  {
   "cell_type": "markdown",
   "metadata": {},
   "source": [
    "## Análise exploratória"
   ]
  },
  {
   "cell_type": "code",
   "execution_count": 3,
   "metadata": {},
   "outputs": [
    {
     "name": "stdout",
     "output_type": "stream",
     "text": [
      "Número de linhas:\t117180\n",
      "Número de colunas:\t13\n"
     ]
    }
   ],
   "source": [
    "# dimensões do dataset\n",
    "print(f'Número de linhas:\\t{dataset.shape[0]}')\n",
    "print(f'Número de colunas:\\t{dataset.shape[1]}')"
   ]
  },
  {
   "cell_type": "code",
   "execution_count": 4,
   "metadata": {},
   "outputs": [
    {
     "data": {
      "text/plain": [
       "IDADE                  float64\n",
       "SEXO_F                   int64\n",
       "SEXO_M                   int64\n",
       "ADM_CORRENTE_DIAS        int64\n",
       "RECEB_MEDICAMENTOS       int64\n",
       "FEZ_EXAMES               int64\n",
       "DEPEND_QUIMICO           int64\n",
       "FUMANTE                  int64\n",
       "ALCOOLISMO               int64\n",
       "NUM_DIAS_INT_PREVIA      int64\n",
       "ADM_PREVIA_DIAS          int64\n",
       "NUM_DIAS_LIC_MEDICA      int64\n",
       "READMISSAO_30_DIAS       int64\n",
       "dtype: object"
      ]
     },
     "execution_count": 4,
     "metadata": {},
     "output_type": "execute_result"
    }
   ],
   "source": [
    "# Tipo de dados\n",
    "dataset.dtypes"
   ]
  },
  {
   "cell_type": "code",
   "execution_count": 5,
   "metadata": {},
   "outputs": [
    {
     "data": {
      "text/html": [
       "<div>\n",
       "<style scoped>\n",
       "    .dataframe tbody tr th:only-of-type {\n",
       "        vertical-align: middle;\n",
       "    }\n",
       "\n",
       "    .dataframe tbody tr th {\n",
       "        vertical-align: top;\n",
       "    }\n",
       "\n",
       "    .dataframe thead th {\n",
       "        text-align: right;\n",
       "    }\n",
       "</style>\n",
       "<table border=\"1\" class=\"dataframe\">\n",
       "  <thead>\n",
       "    <tr style=\"text-align: right;\">\n",
       "      <th></th>\n",
       "      <th>IDADE</th>\n",
       "      <th>SEXO_F</th>\n",
       "      <th>SEXO_M</th>\n",
       "      <th>ADM_CORRENTE_DIAS</th>\n",
       "      <th>RECEB_MEDICAMENTOS</th>\n",
       "      <th>FEZ_EXAMES</th>\n",
       "      <th>DEPEND_QUIMICO</th>\n",
       "      <th>FUMANTE</th>\n",
       "      <th>ALCOOLISMO</th>\n",
       "      <th>NUM_DIAS_INT_PREVIA</th>\n",
       "      <th>ADM_PREVIA_DIAS</th>\n",
       "      <th>NUM_DIAS_LIC_MEDICA</th>\n",
       "      <th>READMISSAO_30_DIAS</th>\n",
       "    </tr>\n",
       "  </thead>\n",
       "  <tbody>\n",
       "    <tr>\n",
       "      <th>count</th>\n",
       "      <td>117180.000000</td>\n",
       "      <td>117180.000000</td>\n",
       "      <td>117180.000000</td>\n",
       "      <td>117180.000000</td>\n",
       "      <td>117180.000000</td>\n",
       "      <td>117180.000000</td>\n",
       "      <td>117180.000000</td>\n",
       "      <td>117180.000000</td>\n",
       "      <td>117180.000000</td>\n",
       "      <td>117180.000000</td>\n",
       "      <td>117180.000000</td>\n",
       "      <td>117180.000000</td>\n",
       "      <td>117180.000000</td>\n",
       "    </tr>\n",
       "    <tr>\n",
       "      <th>mean</th>\n",
       "      <td>65.066522</td>\n",
       "      <td>0.428239</td>\n",
       "      <td>0.571761</td>\n",
       "      <td>4.707680</td>\n",
       "      <td>0.160266</td>\n",
       "      <td>0.237020</td>\n",
       "      <td>0.597440</td>\n",
       "      <td>0.005274</td>\n",
       "      <td>0.008269</td>\n",
       "      <td>5.301988</td>\n",
       "      <td>12.328179</td>\n",
       "      <td>0.314456</td>\n",
       "      <td>0.189384</td>\n",
       "    </tr>\n",
       "    <tr>\n",
       "      <th>std</th>\n",
       "      <td>17.965229</td>\n",
       "      <td>0.494826</td>\n",
       "      <td>0.494826</td>\n",
       "      <td>6.257739</td>\n",
       "      <td>0.366854</td>\n",
       "      <td>0.425256</td>\n",
       "      <td>0.490416</td>\n",
       "      <td>0.072430</td>\n",
       "      <td>0.090559</td>\n",
       "      <td>14.324146</td>\n",
       "      <td>26.846820</td>\n",
       "      <td>3.366208</td>\n",
       "      <td>0.391815</td>\n",
       "    </tr>\n",
       "    <tr>\n",
       "      <th>min</th>\n",
       "      <td>0.000000</td>\n",
       "      <td>0.000000</td>\n",
       "      <td>0.000000</td>\n",
       "      <td>1.000000</td>\n",
       "      <td>0.000000</td>\n",
       "      <td>0.000000</td>\n",
       "      <td>0.000000</td>\n",
       "      <td>0.000000</td>\n",
       "      <td>0.000000</td>\n",
       "      <td>0.000000</td>\n",
       "      <td>0.000000</td>\n",
       "      <td>0.000000</td>\n",
       "      <td>0.000000</td>\n",
       "    </tr>\n",
       "    <tr>\n",
       "      <th>25%</th>\n",
       "      <td>56.000000</td>\n",
       "      <td>0.000000</td>\n",
       "      <td>0.000000</td>\n",
       "      <td>1.000000</td>\n",
       "      <td>0.000000</td>\n",
       "      <td>0.000000</td>\n",
       "      <td>0.000000</td>\n",
       "      <td>0.000000</td>\n",
       "      <td>0.000000</td>\n",
       "      <td>0.000000</td>\n",
       "      <td>0.000000</td>\n",
       "      <td>0.000000</td>\n",
       "      <td>0.000000</td>\n",
       "    </tr>\n",
       "    <tr>\n",
       "      <th>50%</th>\n",
       "      <td>69.000000</td>\n",
       "      <td>0.000000</td>\n",
       "      <td>1.000000</td>\n",
       "      <td>2.000000</td>\n",
       "      <td>0.000000</td>\n",
       "      <td>0.000000</td>\n",
       "      <td>1.000000</td>\n",
       "      <td>0.000000</td>\n",
       "      <td>0.000000</td>\n",
       "      <td>0.000000</td>\n",
       "      <td>0.000000</td>\n",
       "      <td>0.000000</td>\n",
       "      <td>0.000000</td>\n",
       "    </tr>\n",
       "    <tr>\n",
       "      <th>75%</th>\n",
       "      <td>78.000000</td>\n",
       "      <td>1.000000</td>\n",
       "      <td>1.000000</td>\n",
       "      <td>6.000000</td>\n",
       "      <td>0.000000</td>\n",
       "      <td>0.000000</td>\n",
       "      <td>1.000000</td>\n",
       "      <td>0.000000</td>\n",
       "      <td>0.000000</td>\n",
       "      <td>3.000000</td>\n",
       "      <td>12.000000</td>\n",
       "      <td>0.000000</td>\n",
       "      <td>0.000000</td>\n",
       "    </tr>\n",
       "    <tr>\n",
       "      <th>max</th>\n",
       "      <td>114.000000</td>\n",
       "      <td>1.000000</td>\n",
       "      <td>1.000000</td>\n",
       "      <td>307.000000</td>\n",
       "      <td>1.000000</td>\n",
       "      <td>1.000000</td>\n",
       "      <td>1.000000</td>\n",
       "      <td>1.000000</td>\n",
       "      <td>1.000000</td>\n",
       "      <td>170.000000</td>\n",
       "      <td>627.000000</td>\n",
       "      <td>315.000000</td>\n",
       "      <td>1.000000</td>\n",
       "    </tr>\n",
       "  </tbody>\n",
       "</table>\n",
       "</div>"
      ],
      "text/plain": [
       "               IDADE         SEXO_F         SEXO_M  ADM_CORRENTE_DIAS  \\\n",
       "count  117180.000000  117180.000000  117180.000000      117180.000000   \n",
       "mean       65.066522       0.428239       0.571761           4.707680   \n",
       "std        17.965229       0.494826       0.494826           6.257739   \n",
       "min         0.000000       0.000000       0.000000           1.000000   \n",
       "25%        56.000000       0.000000       0.000000           1.000000   \n",
       "50%        69.000000       0.000000       1.000000           2.000000   \n",
       "75%        78.000000       1.000000       1.000000           6.000000   \n",
       "max       114.000000       1.000000       1.000000         307.000000   \n",
       "\n",
       "       RECEB_MEDICAMENTOS     FEZ_EXAMES  DEPEND_QUIMICO        FUMANTE  \\\n",
       "count       117180.000000  117180.000000   117180.000000  117180.000000   \n",
       "mean             0.160266       0.237020        0.597440       0.005274   \n",
       "std              0.366854       0.425256        0.490416       0.072430   \n",
       "min              0.000000       0.000000        0.000000       0.000000   \n",
       "25%              0.000000       0.000000        0.000000       0.000000   \n",
       "50%              0.000000       0.000000        1.000000       0.000000   \n",
       "75%              0.000000       0.000000        1.000000       0.000000   \n",
       "max              1.000000       1.000000        1.000000       1.000000   \n",
       "\n",
       "          ALCOOLISMO  NUM_DIAS_INT_PREVIA  ADM_PREVIA_DIAS  \\\n",
       "count  117180.000000        117180.000000    117180.000000   \n",
       "mean        0.008269             5.301988        12.328179   \n",
       "std         0.090559            14.324146        26.846820   \n",
       "min         0.000000             0.000000         0.000000   \n",
       "25%         0.000000             0.000000         0.000000   \n",
       "50%         0.000000             0.000000         0.000000   \n",
       "75%         0.000000             3.000000        12.000000   \n",
       "max         1.000000           170.000000       627.000000   \n",
       "\n",
       "       NUM_DIAS_LIC_MEDICA  READMISSAO_30_DIAS  \n",
       "count        117180.000000       117180.000000  \n",
       "mean              0.314456            0.189384  \n",
       "std               3.366208            0.391815  \n",
       "min               0.000000            0.000000  \n",
       "25%               0.000000            0.000000  \n",
       "50%               0.000000            0.000000  \n",
       "75%               0.000000            0.000000  \n",
       "max             315.000000            1.000000  "
      ]
     },
     "execution_count": 5,
     "metadata": {},
     "output_type": "execute_result"
    }
   ],
   "source": [
    "# Resumo estatístico\n",
    "dataset.describe()"
   ]
  },
  {
   "cell_type": "code",
   "execution_count": 6,
   "metadata": {},
   "outputs": [
    {
     "name": "stdout",
     "output_type": "stream",
     "text": [
      "Possíveis outliers\n",
      "------------------------------------------\n",
      "Média\tMáximo\t3desv.pad.\tVariável\n",
      "65.07\t  114 \t   118.96  \t IDADE\n",
      " 4.71\t  307 \t   23.48   \t ADM_CORRENTE_DIAS\n",
      " 5.30\t  170 \t   48.27   \t NUM_DIAS_INT_PREVIA\n",
      "12.33\t  627 \t   92.87   \t ADM_PREVIA_DIAS\n",
      " 0.31\t  315 \t   10.41   \t NUM_DIAS_LIC_MEDICA\n"
     ]
    }
   ],
   "source": [
    "print('Possíveis outliers\\n' + '-'*42)\n",
    "lista = ['IDADE', 'ADM_CORRENTE_DIAS', 'NUM_DIAS_INT_PREVIA', 'ADM_PREVIA_DIAS', 'NUM_DIAS_LIC_MEDICA']\n",
    "print('Média\\tMáximo\\t3desv.pad.\\tVariável')\n",
    "for variavel in lista:\n",
    "    print(f'{dataset[variavel].mean():>5.2f}\\t',\n",
    "          f'{dataset[variavel].max():^5.0f}\\t',\n",
    "          f'{round(dataset[variavel].mean() + dataset[variavel].std()*3, 2):^10}\\t',\n",
    "          f'{variavel}')"
   ]
  },
  {
   "cell_type": "code",
   "execution_count": 7,
   "metadata": {},
   "outputs": [
    {
     "data": {
      "text/plain": [
       "IDADE                  0.0\n",
       "SEXO_F                 0.0\n",
       "SEXO_M                 0.0\n",
       "ADM_CORRENTE_DIAS      0.0\n",
       "RECEB_MEDICAMENTOS     0.0\n",
       "FEZ_EXAMES             0.0\n",
       "DEPEND_QUIMICO         0.0\n",
       "FUMANTE                0.0\n",
       "ALCOOLISMO             0.0\n",
       "NUM_DIAS_INT_PREVIA    0.0\n",
       "ADM_PREVIA_DIAS        0.0\n",
       "NUM_DIAS_LIC_MEDICA    0.0\n",
       "READMISSAO_30_DIAS     0.0\n",
       "dtype: float64"
      ]
     },
     "execution_count": 7,
     "metadata": {},
     "output_type": "execute_result"
    }
   ],
   "source": [
    "# Valores faltantes\n",
    "dataset.isnull().mean()"
   ]
  },
  {
   "cell_type": "code",
   "execution_count": 8,
   "metadata": {},
   "outputs": [
    {
     "name": "stdout",
     "output_type": "stream",
     "text": [
      "Número de linhas duplicadas: 60839\n"
     ]
    }
   ],
   "source": [
    "# Linhas duplicadas\n",
    "linha_duplicada = dataset[dataset.duplicated()]\n",
    "print(f'Número de linhas duplicadas: {linha_duplicada.shape[0]}')"
   ]
  },
  {
   "cell_type": "code",
   "execution_count": 9,
   "metadata": {
    "scrolled": false
   },
   "outputs": [
    {
     "data": {
      "image/png": "[encoded data removed]",
      "text/plain": [
       "<Figure size 1080x720 with 16 Axes>"
      ]
     },
     "metadata": {
      "needs_background": "light"
     },
     "output_type": "display_data"
    }
   ],
   "source": [
    "# Visualiza a distribuição dos dados\n",
    "dataset.hist(figsize=(15,10));"
   ]
  },
  {
   "cell_type": "markdown",
   "metadata": {},
   "source": [
    "### Variável IDADE"
   ]
  },
  {
   "cell_type": "code",
   "execution_count": 10,
   "metadata": {},
   "outputs": [
    {
     "data": {
      "image/png": "[encoded data removed]",
      "text/plain": [
       "<Figure size 576x360 with 2 Axes>"
      ]
     },
     "metadata": {
      "needs_background": "light"
     },
     "output_type": "display_data"
    }
   ],
   "source": [
    "# Visualizar a variável IDADE\n",
    "f, axes = plt.subplots(2, 1, figsize=(8,5), sharex=True)\n",
    "sns.boxplot(dataset.IDADE, ax=axes[0])\n",
    "sns.distplot(dataset.IDADE, bins=15, ax=axes[1])\n",
    "plt.setp(axes, yticks=[])\n",
    "plt.tight_layout()"
   ]
  },
  {
   "cell_type": "code",
   "execution_count": 11,
   "metadata": {},
   "outputs": [],
   "source": [
    "# Retirando outliers da variável IDADE\n",
    "outliers_idade = dataset[(dataset['IDADE'] > 100) | (dataset['IDADE'] < 18)]\n",
    "dataset = dataset.drop(outliers_idade.index)"
   ]
  },
  {
   "cell_type": "code",
   "execution_count": 12,
   "metadata": {},
   "outputs": [
    {
     "data": {
      "image/png": "[encoded data removed]",
      "text/plain": [
       "<Figure size 576x360 with 2 Axes>"
      ]
     },
     "metadata": {
      "needs_background": "light"
     },
     "output_type": "display_data"
    }
   ],
   "source": [
    "# Confirma a variável IDADE\n",
    "f, axes = plt.subplots(2, 1, figsize=(8,5), sharex=True)\n",
    "sns.boxplot(dataset.IDADE, ax=axes[0])\n",
    "sns.distplot(dataset.IDADE, bins=15, ax=axes[1])\n",
    "plt.setp(axes, yticks=[])\n",
    "plt.tight_layout()"
   ]
  },
  {
   "cell_type": "markdown",
   "metadata": {},
   "source": [
    "### Variável ADM_CORRENTE_DIAS"
   ]
  },
  {
   "cell_type": "code",
   "execution_count": 13,
   "metadata": {},
   "outputs": [
    {
     "data": {
      "image/png": "[encoded data removed]",
      "text/plain": [
       "<Figure size 576x360 with 2 Axes>"
      ]
     },
     "metadata": {
      "needs_background": "light"
     },
     "output_type": "display_data"
    }
   ],
   "source": [
    "# Visualizar a variável ADM_CORRENTE_DIAS\n",
    "f, axes = plt.subplots(2, 1, figsize=(8,5), sharex=True)\n",
    "sns.boxplot(dataset.ADM_CORRENTE_DIAS, ax=axes[0])\n",
    "sns.distplot(dataset.ADM_CORRENTE_DIAS, ax=axes[1])\n",
    "plt.setp(axes, yticks=[])\n",
    "plt.tight_layout()"
   ]
  },
  {
   "cell_type": "code",
   "execution_count": 14,
   "metadata": {},
   "outputs": [],
   "source": [
    "# Retira os outliers da variável ADM_CORRENTE_DIAS\n",
    "outilier_admcorrentedias = dataset[dataset.ADM_CORRENTE_DIAS > 180]\n",
    "dataset = dataset.drop(outilier_admcorrentedias.index)"
   ]
  },
  {
   "cell_type": "code",
   "execution_count": 15,
   "metadata": {},
   "outputs": [
    {
     "data": {
      "image/png": "[encoded data removed]",
      "text/plain": [
       "<Figure size 576x360 with 2 Axes>"
      ]
     },
     "metadata": {
      "needs_background": "light"
     },
     "output_type": "display_data"
    }
   ],
   "source": [
    "# Confirma a variável ADM_CORRENTE_DIAS\n",
    "f, axes = plt.subplots(2, 1, figsize=(8,5), sharex=True)\n",
    "sns.boxplot(dataset.ADM_CORRENTE_DIAS, ax=axes[0])\n",
    "sns.distplot(dataset.ADM_CORRENTE_DIAS, ax=axes[1])\n",
    "plt.setp(axes, yticks=[])\n",
    "plt.tight_layout()"
   ]
  },
  {
   "cell_type": "markdown",
   "metadata": {},
   "source": [
    "### Variável ADM_PREVIA_DIAS"
   ]
  },
  {
   "cell_type": "code",
   "execution_count": 16,
   "metadata": {},
   "outputs": [
    {
     "data": {
      "image/png": "[encoded data removed]",
      "text/plain": [
       "<Figure size 576x360 with 2 Axes>"
      ]
     },
     "metadata": {
      "needs_background": "light"
     },
     "output_type": "display_data"
    }
   ],
   "source": [
    "# Visualizar a variável ADM_PREVIA_DIAS\n",
    "f, axes = plt.subplots(2, 1, figsize=(8,5), sharex=True)\n",
    "sns.boxplot(dataset.ADM_PREVIA_DIAS, ax=axes[0])\n",
    "sns.distplot(dataset.ADM_PREVIA_DIAS, ax=axes[1])\n",
    "plt.setp(axes, yticks=[])\n",
    "plt.tight_layout()"
   ]
  },
  {
   "cell_type": "code",
   "execution_count": 17,
   "metadata": {},
   "outputs": [],
   "source": [
    "# Retira os outliers da variável ADM_PREVIA_DIAS\n",
    "outilier_admpreviadias = dataset[dataset.ADM_PREVIA_DIAS > 400]\n",
    "dataset = dataset.drop(outilier_admpreviadias.index)"
   ]
  },
  {
   "cell_type": "code",
   "execution_count": 18,
   "metadata": {},
   "outputs": [
    {
     "data": {
      "image/png": "[encoded data removed]",
      "text/plain": [
       "<Figure size 576x360 with 2 Axes>"
      ]
     },
     "metadata": {
      "needs_background": "light"
     },
     "output_type": "display_data"
    }
   ],
   "source": [
    "# Confirma a variável ADM_PREVIA_DIAS\n",
    "f, axes = plt.subplots(2, 1, figsize=(8,5), sharex=True)\n",
    "sns.boxplot(dataset.ADM_PREVIA_DIAS, ax=axes[0])\n",
    "sns.distplot(dataset.ADM_PREVIA_DIAS, ax=axes[1])\n",
    "plt.setp(axes, yticks=[])\n",
    "plt.tight_layout()"
   ]
  },
  {
   "cell_type": "markdown",
   "metadata": {},
   "source": [
    "### Variável NUM_DIAS_LIC_MEDICA"
   ]
  },
  {
   "cell_type": "code",
   "execution_count": 19,
   "metadata": {},
   "outputs": [
    {
     "data": {
      "image/png": "[encoded data removed]",
      "text/plain": [
       "<Figure size 432x288 with 1 Axes>"
      ]
     },
     "metadata": {
      "needs_background": "light"
     },
     "output_type": "display_data"
    }
   ],
   "source": [
    "# Visualiza os outliers da variável NUM_DIAS_LIC_MEDICA\n",
    "sns.boxplot(dataset.NUM_DIAS_LIC_MEDICA);"
   ]
  },
  {
   "cell_type": "code",
   "execution_count": 20,
   "metadata": {},
   "outputs": [],
   "source": [
    "# Retira os outliers da variável NUM_DIAS_LIC_MEDICA\n",
    "outilier_numdiaslicmedica = dataset[dataset.NUM_DIAS_LIC_MEDICA > 150]\n",
    "dataset = dataset.drop(outilier_numdiaslicmedica.index)"
   ]
  },
  {
   "cell_type": "code",
   "execution_count": 21,
   "metadata": {},
   "outputs": [
    {
     "data": {
      "image/png": "[encoded data removed]",
      "text/plain": [
       "<Figure size 432x288 with 1 Axes>"
      ]
     },
     "metadata": {
      "needs_background": "light"
     },
     "output_type": "display_data"
    }
   ],
   "source": [
    "# Confirma os outliers da variável NUM_DIAS_LIC_MEDICA\n",
    "sns.boxplot(dataset.NUM_DIAS_LIC_MEDICA);"
   ]
  },
  {
   "cell_type": "markdown",
   "metadata": {},
   "source": [
    "## Correlações entre as variáveis"
   ]
  },
  {
   "cell_type": "code",
   "execution_count": 22,
   "metadata": {},
   "outputs": [],
   "source": [
    "# Criando uma cópia do dataset\n",
    "dataset_teste = dataset.copy()"
   ]
  },
  {
   "cell_type": "code",
   "execution_count": 23,
   "metadata": {},
   "outputs": [],
   "source": [
    "# Convertendo as variáveis categóricas para o tipo categórico em Python\n",
    "dataset_teste['SEXO_F'] = dataset_teste['SEXO_F'].astype('category')\n",
    "dataset_teste['SEXO_M'] = dataset_teste['SEXO_M'].astype('category')\n",
    "dataset_teste['RECEB_MEDICAMENTOS'] = dataset_teste['RECEB_MEDICAMENTOS'].astype('category')\n",
    "dataset_teste['FEZ_EXAMES'] = dataset_teste['FEZ_EXAMES'].astype('category')\n",
    "dataset_teste['DEPEND_QUIMICO'] = dataset_teste['DEPEND_QUIMICO'].astype('category')\n",
    "dataset_teste['FUMANTE'] = dataset_teste['FUMANTE'].astype('category')\n",
    "dataset_teste['ALCOOLISMO'] = dataset_teste['ALCOOLISMO'].astype('category')\n",
    "dataset_teste['READMISSAO_30_DIAS'] = dataset_teste['READMISSAO_30_DIAS'].astype('category')"
   ]
  },
  {
   "cell_type": "code",
   "execution_count": 24,
   "metadata": {},
   "outputs": [
    {
     "data": {
      "text/plain": [
       "IDADE                   float64\n",
       "SEXO_F                 category\n",
       "SEXO_M                 category\n",
       "ADM_CORRENTE_DIAS         int64\n",
       "RECEB_MEDICAMENTOS     category\n",
       "FEZ_EXAMES             category\n",
       "DEPEND_QUIMICO         category\n",
       "FUMANTE                category\n",
       "ALCOOLISMO             category\n",
       "NUM_DIAS_INT_PREVIA       int64\n",
       "ADM_PREVIA_DIAS           int64\n",
       "NUM_DIAS_LIC_MEDICA       int64\n",
       "READMISSAO_30_DIAS     category\n",
       "dtype: object"
      ]
     },
     "execution_count": 24,
     "metadata": {},
     "output_type": "execute_result"
    }
   ],
   "source": [
    "# Verificando os tipos de dados\n",
    "dataset_teste.dtypes"
   ]
  },
  {
   "cell_type": "code",
   "execution_count": 98,
   "metadata": {},
   "outputs": [
    {
     "data": {
      "image/png": "[encoded data removed]",
      "text/plain": [
       "<Figure size 432x288 with 2 Axes>"
      ]
     },
     "metadata": {
      "needs_background": "light"
     },
     "output_type": "display_data"
    }
   ],
   "source": [
    "# Coeficiente de correlação \n",
    "dataset_teste_corr = dataset_teste.corr()\n",
    "sns.heatmap(dataset_teste_corr, annot=True)\n",
    "plt.tight_layout()"
   ]
  },
  {
   "cell_type": "code",
   "execution_count": 26,
   "metadata": {},
   "outputs": [],
   "source": [
    "# Função para calcular a associação entre variáveis categóricas\n",
    "\n",
    "## Pacote stats do Scipy\n",
    "import scipy.stats as ss\n",
    "\n",
    "## https://docs.scipy.org/doc/scipy/reference/generated/scipy.stats.chi2_contingency.html\n",
    "\n",
    "# Em Estatística, Cramér-V é uma medida de associação entre duas variáveis categóricas, fornecendo um valor \n",
    "# entre 0 e +1 (inclusive). É baseado na estatística do qui-quadrado (chi2) de Pearson e foi publicado \n",
    "# por Harald Cramér em 1946. \n",
    "\n",
    "# A Associação é um resultado no intervalo de [0,1], em que 0 significa nenhuma associação e 1 é associação completa.\n",
    "\n",
    "## Função\n",
    "def cramers_v(x, y):\n",
    "    confusion_matrix = pd.crosstab(x, y)\n",
    "    \n",
    "    # Teste qui-quadrado de independência de variáveis em uma tabela de contingência.\n",
    "    chi2 = ss.chi2_contingency(confusion_matrix)[0]\n",
    "    n = confusion_matrix.sum().sum()\n",
    "    phi2 = chi2/n\n",
    "    r,k = confusion_matrix.shape\n",
    "    phi2corr = max(0, phi2-((k-1)*(r-1))/(n-1))\n",
    "    rcorr = r-((r-1)**2)/(n-1)\n",
    "    kcorr = k-((k-1)**2)/(n-1)\n",
    "    return np.sqrt(phi2corr/min((kcorr-1),(rcorr-1)))"
   ]
  },
  {
   "cell_type": "code",
   "execution_count": 27,
   "metadata": {},
   "outputs": [],
   "source": [
    "# Coleta as variáveis categóricas do dataset\n",
    "from pandas.api.types import is_string_dtype\n",
    "from pandas.api.types import is_numeric_dtype\n",
    "\n",
    "categorical_vars = []\n",
    "\n",
    "for column in dataset_teste:\n",
    "    if is_string_dtype(dataset_teste[column]):\n",
    "        categorical_vars.append(column)"
   ]
  },
  {
   "cell_type": "code",
   "execution_count": 28,
   "metadata": {},
   "outputs": [
    {
     "data": {
      "text/plain": [
       "['SEXO_F',\n",
       " 'SEXO_M',\n",
       " 'RECEB_MEDICAMENTOS',\n",
       " 'FEZ_EXAMES',\n",
       " 'DEPEND_QUIMICO',\n",
       " 'FUMANTE',\n",
       " 'ALCOOLISMO',\n",
       " 'READMISSAO_30_DIAS']"
      ]
     },
     "execution_count": 28,
     "metadata": {},
     "output_type": "execute_result"
    }
   ],
   "source": [
    "categorical_vars"
   ]
  },
  {
   "cell_type": "code",
   "execution_count": 29,
   "metadata": {},
   "outputs": [
    {
     "name": "stdout",
     "output_type": "stream",
     "text": [
      "\n",
      "A Associação é um resultado no intervalo de [0,1], em que 0 significa nenhuma associação e 1 é associação completa.\n",
      "\n",
      "\n",
      "Associação da Variável SEXO_F com a variável resposta: 0.081\n",
      "Associação da Variável SEXO_M com a variável resposta: 0.081\n",
      "Associação da Variável RECEB_MEDICAMENTOS com a variável resposta: 0.142\n",
      "Associação da Variável FEZ_EXAMES com a variável resposta: 0.350\n",
      "Associação da Variável DEPEND_QUIMICO com a variável resposta: 0.211\n",
      "Associação da Variável FUMANTE com a variável resposta: 0.088\n",
      "Associação da Variável ALCOOLISMO com a variável resposta: 0.015\n",
      "Associação da Variável READMISSAO_30_DIAS com a variável resposta: 1.000\n"
     ]
    }
   ],
   "source": [
    "y = 'READMISSAO_30_DIAS'\n",
    "\n",
    "print('\\nA Associação é um resultado no intervalo de [0,1], em que 0 significa nenhuma associação e 1 é associação completa.')\n",
    "print('\\n')\n",
    "\n",
    "for var in categorical_vars:\n",
    "    print(f'Associação da Variável {var} com a variável resposta:', \n",
    "          f'{cramers_v(dataset_teste[var], dataset_teste[y]):.3f}')"
   ]
  },
  {
   "cell_type": "markdown",
   "metadata": {},
   "source": [
    "## Pré-Processamento"
   ]
  },
  {
   "cell_type": "code",
   "execution_count": 30,
   "metadata": {},
   "outputs": [
    {
     "data": {
      "text/plain": [
       "0    93806\n",
       "1    22110\n",
       "Name: READMISSAO_30_DIAS, dtype: int64"
      ]
     },
     "execution_count": 30,
     "metadata": {},
     "output_type": "execute_result"
    }
   ],
   "source": [
    "# Verificando se a variável resposta está balanceada\n",
    "target_count = dataset.READMISSAO_30_DIAS.value_counts()\n",
    "target_count"
   ]
  },
  {
   "cell_type": "code",
   "execution_count": 97,
   "metadata": {},
   "outputs": [
    {
     "data": {
      "image/png": "[encoded data removed]",
      "text/plain": [
       "<Figure size 432x288 with 1 Axes>"
      ]
     },
     "metadata": {
      "needs_background": "light"
     },
     "output_type": "display_data"
    }
   ],
   "source": [
    "# Plot \n",
    "sns.countplot(dataset.READMISSAO_30_DIAS)\n",
    "plt.xlabel('Readmissão em 30 Dias Não (0) / Sim (1)', fontsize = 11)\n",
    "plt.ylabel('Total Pacientes', fontsize = 11)\n",
    "plt.title('Contagem de Classes\\n')\n",
    "plt.tight_layout()"
   ]
  },
  {
   "cell_type": "code",
   "execution_count": 32,
   "metadata": {},
   "outputs": [],
   "source": [
    "# Importa a função\n",
    "from imblearn.over_sampling import SMOTE\n",
    "\n",
    "# Seed para reproduzir o mesmo resultado\n",
    "seed = 100\n",
    "\n",
    "# Separa X e y\n",
    "X = dataset.iloc[:, 0:12]  \n",
    "y = dataset.iloc[:, -1] \n",
    "\n",
    "# Cria o balanceador SMOTE\n",
    "smote_bal = SMOTE(random_state = seed)\n",
    "\n",
    "# Aplica o balanceador\n",
    "X_res, y_res = smote_bal.fit_resample(X, y)"
   ]
  },
  {
   "cell_type": "code",
   "execution_count": 96,
   "metadata": {},
   "outputs": [
    {
     "data": {
      "image/png": "[encoded data removed]",
      "text/plain": [
       "<Figure size 432x288 with 1 Axes>"
      ]
     },
     "metadata": {
      "needs_background": "light"
     },
     "output_type": "display_data"
    }
   ],
   "source": [
    "# Plot\n",
    "sns.countplot(y_res)\n",
    "plt.xlabel('Readmissão em 30 Dias Não (0) / Sim (1)', fontsize = 11)\n",
    "plt.ylabel('Total Pacientes', fontsize = 11)\n",
    "plt.title('Contagem de Classes\\n')\n",
    "plt.tight_layout()"
   ]
  },
  {
   "cell_type": "code",
   "execution_count": 34,
   "metadata": {},
   "outputs": [],
   "source": [
    "# Split em X e y\n",
    "X = X_res\n",
    "y = y_res"
   ]
  },
  {
   "cell_type": "code",
   "execution_count": 35,
   "metadata": {},
   "outputs": [
    {
     "data": {
      "text/plain": [
       "(187612, 12)"
      ]
     },
     "execution_count": 35,
     "metadata": {},
     "output_type": "execute_result"
    }
   ],
   "source": [
    "X.shape"
   ]
  },
  {
   "cell_type": "code",
   "execution_count": 36,
   "metadata": {},
   "outputs": [
    {
     "data": {
      "text/plain": [
       "(187612,)"
      ]
     },
     "execution_count": 36,
     "metadata": {},
     "output_type": "execute_result"
    }
   ],
   "source": [
    "y.shape"
   ]
  },
  {
   "cell_type": "code",
   "execution_count": 37,
   "metadata": {},
   "outputs": [],
   "source": [
    "# Divisão dos dados em treino e teste\n",
    "from sklearn.model_selection import train_test_split\n",
    "\n",
    "test_size = .1\n",
    "X_treino, X_teste, y_treino, y_teste = train_test_split(X, y, test_size=test_size)"
   ]
  },
  {
   "cell_type": "code",
   "execution_count": 38,
   "metadata": {},
   "outputs": [
    {
     "data": {
      "text/plain": [
       "(168850, 12)"
      ]
     },
     "execution_count": 38,
     "metadata": {},
     "output_type": "execute_result"
    }
   ],
   "source": [
    "X_treino.shape"
   ]
  },
  {
   "cell_type": "code",
   "execution_count": 39,
   "metadata": {},
   "outputs": [
    {
     "data": {
      "text/plain": [
       "(168850,)"
      ]
     },
     "execution_count": 39,
     "metadata": {},
     "output_type": "execute_result"
    }
   ],
   "source": [
    "y_treino.shape"
   ]
  },
  {
   "cell_type": "code",
   "execution_count": 40,
   "metadata": {},
   "outputs": [
    {
     "data": {
      "text/plain": [
       "(18762, 12)"
      ]
     },
     "execution_count": 40,
     "metadata": {},
     "output_type": "execute_result"
    }
   ],
   "source": [
    "X_teste.shape"
   ]
  },
  {
   "cell_type": "code",
   "execution_count": 41,
   "metadata": {},
   "outputs": [
    {
     "data": {
      "text/plain": [
       "(18762,)"
      ]
     },
     "execution_count": 41,
     "metadata": {},
     "output_type": "execute_result"
    }
   ],
   "source": [
    "y_teste.shape"
   ]
  },
  {
   "cell_type": "markdown",
   "metadata": {},
   "source": [
    "## Construção dos Modelos Preditivos"
   ]
  },
  {
   "cell_type": "code",
   "execution_count": 42,
   "metadata": {},
   "outputs": [
    {
     "name": "stderr",
     "output_type": "stream",
     "text": [
      "Using TensorFlow backend.\n"
     ]
    }
   ],
   "source": [
    "# Imprtar pacotes\n",
    "import keras\n",
    "import tensorflow\n",
    "import sklearn\n",
    "import scikitplot as skplt\n",
    "import matplotlib.pyplot as plt\n",
    "from sklearn.linear_model import LogisticRegression\n",
    "from sklearn.ensemble import RandomForestClassifier\n",
    "from sklearn.naive_bayes import GaussianNB, BernoulliNB, MultinomialNB\n",
    "from sklearn.neighbors import KNeighborsClassifier\n",
    "from keras.models import Sequential\n",
    "from keras.layers import Dense, Dropout\n",
    "from sklearn.model_selection import cross_validate\n",
    "from sklearn.metrics import confusion_matrix, roc_auc_score\n",
    "from sklearn.metrics import classification_report, matthews_corrcoef, accuracy_score\n",
    "from sklearn.metrics import roc_curve, auc"
   ]
  },
  {
   "cell_type": "markdown",
   "metadata": {},
   "source": [
    "## Versão 1 - Regressão Logística"
   ]
  },
  {
   "cell_type": "markdown",
   "metadata": {},
   "source": [
    "https://scikit-learn.org/stable/modules/generated/sklearn.linear_model.LogisticRegression.html"
   ]
  },
  {
   "cell_type": "code",
   "execution_count": 50,
   "metadata": {},
   "outputs": [
    {
     "data": {
      "text/plain": [
       "LogisticRegression(max_iter=1000)"
      ]
     },
     "execution_count": 50,
     "metadata": {},
     "output_type": "execute_result"
    }
   ],
   "source": [
    "# Cria e treina o modelo\n",
    "modelo_v1 = LogisticRegression(max_iter = 1000)\n",
    "modelo_v1.fit(X_treino, y_treino)"
   ]
  },
  {
   "cell_type": "code",
   "execution_count": 51,
   "metadata": {},
   "outputs": [
    {
     "data": {
      "text/plain": [
       "array([[0.80031384, 0.19968616],\n",
       "       [0.67268742, 0.32731258],\n",
       "       [0.48962016, 0.51037984],\n",
       "       ...,\n",
       "       [0.22418428, 0.77581572],\n",
       "       [0.00188596, 0.99811404],\n",
       "       [0.87394183, 0.12605817]])"
      ]
     },
     "execution_count": 51,
     "metadata": {},
     "output_type": "execute_result"
    }
   ],
   "source": [
    "# Previsões (probabilidades)\n",
    "previsoes_v1 = modelo_v1.predict_proba(X_teste)\n",
    "previsoes_v1"
   ]
  },
  {
   "cell_type": "code",
   "execution_count": 52,
   "metadata": {},
   "outputs": [
    {
     "data": {
      "text/plain": [
       "array([0, 0, 1, ..., 1, 1, 0])"
      ]
     },
     "execution_count": 52,
     "metadata": {},
     "output_type": "execute_result"
    }
   ],
   "source": [
    "# Previsões (classes)\n",
    "previsoes_v1 = modelo_v1.predict(X_teste)\n",
    "previsoes_v1"
   ]
  },
  {
   "cell_type": "code",
   "execution_count": 54,
   "metadata": {},
   "outputs": [
    {
     "name": "stdout",
     "output_type": "stream",
     "text": [
      "[[7760 1647]\n",
      " [2643 6712]]\n"
     ]
    }
   ],
   "source": [
    "matriz_v1 = confusion_matrix(y_teste, previsoes_v1)\n",
    "print(matriz_v1)"
   ]
  },
  {
   "cell_type": "code",
   "execution_count": 55,
   "metadata": {},
   "outputs": [
    {
     "name": "stdout",
     "output_type": "stream",
     "text": [
      "                    precision    recall  f1-score   support\n",
      "\n",
      "Não Readmitido (0)       0.75      0.82      0.78      9407\n",
      "    Readmitido (1)       0.80      0.72      0.76      9355\n",
      "\n",
      "          accuracy                           0.77     18762\n",
      "         macro avg       0.77      0.77      0.77     18762\n",
      "      weighted avg       0.77      0.77      0.77     18762\n",
      "\n"
     ]
    }
   ],
   "source": [
    "# Relatório de classificação\n",
    "classe_names = ['Não Readmitido (0)', 'Readmitido (1)']\n",
    "report = classification_report(y_teste, previsoes_v1, target_names = classe_names)\n",
    "print(report)"
   ]
  },
  {
   "cell_type": "markdown",
   "metadata": {},
   "source": [
    "* Score AUC\n",
    "\n",
    "AUC é uma abreviação de Área Sob a Curva. É usado na análise de classificação para determinar quão bem o modelo prediz a classe de saída.\n",
    "\n",
    "Um exemplo de sua aplicação são as curvas ROC. Aqui, as taxas de verdadeiros positivos são plotadas contra taxas de falsos positivos. Quanto mais próxima a AUC de um modelo chegar a 1, melhor será. Assim, os modelos com AUCs mais altas são preferíveis aos modelos com AUCs mais baixas.\n",
    "\n",
    "https://scikit-learn.org/stable/modules/generated/sklearn.metrics.roc_auc_score.html"
   ]
  },
  {
   "cell_type": "markdown",
   "metadata": {},
   "source": [
    "Obter o Score AUC de forma direta"
   ]
  },
  {
   "cell_type": "code",
   "execution_count": 56,
   "metadata": {
    "scrolled": true
   },
   "outputs": [
    {
     "name": "stdout",
     "output_type": "stream",
     "text": [
      "0.7711974497083804\n"
     ]
    }
   ],
   "source": [
    "# Score AUC\n",
    "print(roc_auc_score(y_teste, previsoes_v1))"
   ]
  },
  {
   "cell_type": "markdown",
   "metadata": {},
   "source": [
    "Obter o Score AUC por meio de cálculos"
   ]
  },
  {
   "cell_type": "code",
   "execution_count": 57,
   "metadata": {},
   "outputs": [],
   "source": [
    "# Extrai as taxas de verdadeiros e falsos positivos\n",
    "taxa_falso_positivo, taxa_verdadeiro_positivo, thresholds = roc_curve(y_teste, previsoes_v1)"
   ]
  },
  {
   "cell_type": "code",
   "execution_count": 58,
   "metadata": {},
   "outputs": [
    {
     "data": {
      "text/plain": [
       "array([0.        , 0.17508239, 1.        ])"
      ]
     },
     "execution_count": 58,
     "metadata": {},
     "output_type": "execute_result"
    }
   ],
   "source": [
    "taxa_falso_positivo"
   ]
  },
  {
   "cell_type": "code",
   "execution_count": 59,
   "metadata": {},
   "outputs": [
    {
     "data": {
      "text/plain": [
       "array([0.        , 0.71747728, 1.        ])"
      ]
     },
     "execution_count": 59,
     "metadata": {},
     "output_type": "execute_result"
    }
   ],
   "source": [
    "taxa_verdadeiro_positivo"
   ]
  },
  {
   "cell_type": "code",
   "execution_count": 60,
   "metadata": {},
   "outputs": [
    {
     "data": {
      "text/plain": [
       "array([2, 1, 0])"
      ]
     },
     "execution_count": 60,
     "metadata": {},
     "output_type": "execute_result"
    }
   ],
   "source": [
    "thresholds"
   ]
  },
  {
   "cell_type": "code",
   "execution_count": 61,
   "metadata": {},
   "outputs": [
    {
     "name": "stdout",
     "output_type": "stream",
     "text": [
      "0.7711974497083804\n"
     ]
    }
   ],
   "source": [
    "# Score AUC\n",
    "print(auc(taxa_falso_positivo, taxa_verdadeiro_positivo))"
   ]
  },
  {
   "cell_type": "markdown",
   "metadata": {},
   "source": [
    "Diferença entre o Score calculado com `predict()` e `predict_proba()`"
   ]
  },
  {
   "cell_type": "code",
   "execution_count": 70,
   "metadata": {},
   "outputs": [
    {
     "name": "stdout",
     "output_type": "stream",
     "text": [
      "0.7711974497083804\n"
     ]
    }
   ],
   "source": [
    "# Score AUCROC - Caso 1\n",
    "y_pred_class = modelo_v1.predict(X_teste)\n",
    "print(roc_auc_score(y_teste, y_pred_class))"
   ]
  },
  {
   "cell_type": "code",
   "execution_count": 71,
   "metadata": {},
   "outputs": [
    {
     "name": "stdout",
     "output_type": "stream",
     "text": [
      "0.8362211646637023\n"
     ]
    }
   ],
   "source": [
    "# Score AUCROC - Caso 2\n",
    "# Por que o resultado é diferente?\n",
    "y_pred_probs = modelo_v1.predict_proba(X_teste)[:,1] # Usamos [:,1] para buscar as probabilidades da classe positiva.\n",
    "print(roc_auc_score(y_teste, y_pred_probs))"
   ]
  },
  {
   "cell_type": "markdown",
   "metadata": {},
   "source": [
    "A função predict() retorna apenas uma classe ou outra. Em seguida, você calcula um ROC com os resultados da previsão do modelo. Por outro lado, predict_proba() retorna uma gama inteira de probabilidades.\n",
    "\n",
    "Ao usar o y_pred_class, você já decidiu o limite ou threshold (a função predict fez isso). Quando você usa y_pred_probs, você ainda não tem o limite, e a Curva ROC vai decidir o limite ao final. \n",
    "\n",
    "No Caso 1, você está usando a previsão (não as probabilidades), ou seja, a função já calculou o limite antes de calcular as classes previstas e isso é usado para calcular o AUC.\n",
    "\n",
    "No Caso 2 estamos usando as probabilidades, ou seja, a função vai calcular o limite somente depois de criar a curva ROC, para então calcular o AUC.\n",
    "\n",
    "Em resumo: \n",
    "\n",
    "- No Caso 1, a curva ROC é calculada para as duas classes com o limite (threshold) definido antes do cálculo do AUC.\n",
    "- No Caso 2, a curva ROC é calculada para as duas classes com o limite (threshold) definido depois da criação da curva e então o AUC é calculado.\n",
    "\n",
    "\n",
    "Por isso os valores são diferentes."
   ]
  },
  {
   "cell_type": "code",
   "execution_count": 111,
   "metadata": {},
   "outputs": [
    {
     "data": {
      "image/png": "[encoded data removed]",
      "text/plain": [
       "<Figure size 360x360 with 1 Axes>"
      ]
     },
     "metadata": {
      "needs_background": "light"
     },
     "output_type": "display_data"
    }
   ],
   "source": [
    "# Calcula a Curva ROC para cada classe\n",
    "y_probs_v1 = modelo_v1.predict_proba(X_teste)\n",
    "skplt.metrics.plot_roc(y_teste, y_probs_v1, figsize=(5,5), plot_micro=False, plot_macro=False)\n",
    "plt.tight_layout()"
   ]
  },
  {
   "cell_type": "markdown",
   "metadata": {},
   "source": [
    "Caso a classe do variável target estaja desbalanceada, o ideal é usar os scores Precision e/ou Recall"
   ]
  },
  {
   "cell_type": "code",
   "execution_count": 72,
   "metadata": {},
   "outputs": [],
   "source": [
    "# Se as classes estiverem desbalanceadas, o ideal é usar a curva precision-recall \n",
    "from sklearn.metrics import precision_recall_curve\n",
    "\n",
    "y_probs = modelo_v1.predict_proba(X_teste)[:,1]\n",
    "precision, recall, thresholds = precision_recall_curve(y_teste, y_probs)"
   ]
  },
  {
   "cell_type": "code",
   "execution_count": 73,
   "metadata": {},
   "outputs": [
    {
     "data": {
      "text/plain": [
       "array([0.49895994, 0.49893322, 0.49895983, ..., 1.        , 1.        ,\n",
       "       1.        ])"
      ]
     },
     "execution_count": 73,
     "metadata": {},
     "output_type": "execute_result"
    }
   ],
   "source": [
    "precision"
   ]
  },
  {
   "cell_type": "code",
   "execution_count": 74,
   "metadata": {},
   "outputs": [
    {
     "data": {
      "text/plain": [
       "array([1.00000000e+00, 9.99893105e-01, 9.99893105e-01, ...,\n",
       "       2.13789417e-04, 1.06894709e-04, 0.00000000e+00])"
      ]
     },
     "execution_count": 74,
     "metadata": {},
     "output_type": "execute_result"
    }
   ],
   "source": [
    "recall"
   ]
  },
  {
   "cell_type": "code",
   "execution_count": 94,
   "metadata": {},
   "outputs": [
    {
     "data": {
      "image/png": "[encoded data removed]",
      "text/plain": [
       "<Figure size 432x288 with 1 Axes>"
      ]
     },
     "metadata": {
      "needs_background": "light"
     },
     "output_type": "display_data"
    }
   ],
   "source": [
    "# Plot da curva precision-recall \n",
    "plt.plot(recall, precision, marker = '.', label = 'Regressão Logística')\n",
    "plt.xlabel('Recall')\n",
    "plt.ylabel('Precision')\n",
    "plt.legend()\n",
    "plt.tight_layout()"
   ]
  },
  {
   "cell_type": "markdown",
   "metadata": {},
   "source": [
    "* Coeficiente de Correlação de Matthews\n",
    "\n",
    "O coeficiente de correlação de Matthews é usado em aprendizado de máquina como uma medida de qualidade em classificação binária, introduzido pelo bioquímico Brian W. Matthews em 1975. Ele leva em conta verdadeiros e falsos positivos e negativos e é geralmente considerado como um medida equilibrada, que pode ser usado mesmo se as classes são de tamanhos muito diferentes. \n",
    "\n",
    "O MCC é, em essência, um coeficiente de correlação entre as classificações binárias observadas e previstas; ele retorna um valor entre -1 e +1. Um coeficiente de 1 representa uma predição perfeita, 0 não melhor do que a previsão aleatória e -1 indica total discordância entre previsão e observação (inversão). \n",
    "\n",
    "https://scikit-learn.org/stable/modules/generated/sklearn.metrics.matthews_corrcoef.html\n",
    "\n",
    "Embora não exista uma forma perfeita de descrever a matriz de confusão por um número único, o coeficiente de correlação Matthews é geralmente considerado como sendo um dos melhores para este fim. Outras medidas, como a proporção de previsões corretas (também denominado de precisão), não são úteis quando as duas classes são de tamanhos muito diferentes. Por exemplo, a atribuição de cada objeto para o conjunto maior alcança uma alta proporção de previsões corretas, mas geralmente não é uma classificação útil.\n",
    "\n",
    "O MCC pode ser calculado diretamente a partir da matriz de confusão usando a fórmula:\n",
    "\n",
    "$$MCC=\\frac{TP * TN - FP * FN}{\\sqrt{(TP + FP)(TP + FN)(TN + FP)(TN + FN)}}$$"
   ]
  },
  {
   "cell_type": "code",
   "execution_count": 78,
   "metadata": {},
   "outputs": [
    {
     "name": "stdout",
     "output_type": "stream",
     "text": [
      "0.5456405059077857\n"
     ]
    }
   ],
   "source": [
    "# Coeficiente de Correlação de Matthews\n",
    "print(matthews_corrcoef(y_teste, previsoes_v1))"
   ]
  },
  {
   "cell_type": "markdown",
   "metadata": {},
   "source": [
    "## Versão 2 - RandomForest"
   ]
  },
  {
   "cell_type": "markdown",
   "metadata": {},
   "source": [
    "https://scikit-learn.org/stable/modules/generated/sklearn.ensemble.RandomForestClassifier.html"
   ]
  },
  {
   "cell_type": "code",
   "execution_count": 79,
   "metadata": {},
   "outputs": [
    {
     "data": {
      "text/plain": [
       "RandomForestClassifier(n_estimators=150)"
      ]
     },
     "execution_count": 79,
     "metadata": {},
     "output_type": "execute_result"
    }
   ],
   "source": [
    "# Cria e treina o modelo\n",
    "modelo_v2 = RandomForestClassifier(n_estimators = 150)\n",
    "modelo_v2.fit(X_treino, y_treino)"
   ]
  },
  {
   "cell_type": "code",
   "execution_count": 86,
   "metadata": {},
   "outputs": [
    {
     "name": "stdout",
     "output_type": "stream",
     "text": [
      "[[8125 1282]\n",
      " [1731 7624]]\n"
     ]
    }
   ],
   "source": [
    "# Previsões\n",
    "previsoes_v2 = modelo_v2.predict(X_teste)\n",
    "matriz_v2 = confusion_matrix(y_teste, previsoes_v2)\n",
    "print(matriz_v2)"
   ]
  },
  {
   "cell_type": "code",
   "execution_count": 87,
   "metadata": {},
   "outputs": [
    {
     "name": "stdout",
     "output_type": "stream",
     "text": [
      "              precision    recall  f1-score   support\n",
      "\n",
      "           0       0.82      0.86      0.84      9407\n",
      "           1       0.86      0.81      0.84      9355\n",
      "\n",
      "    accuracy                           0.84     18762\n",
      "   macro avg       0.84      0.84      0.84     18762\n",
      "weighted avg       0.84      0.84      0.84     18762\n",
      "\n"
     ]
    }
   ],
   "source": [
    "# Relatório de classificação\n",
    "report = classification_report(y_teste, previsoes_v2)\n",
    "print(report)"
   ]
  },
  {
   "cell_type": "code",
   "execution_count": 88,
   "metadata": {},
   "outputs": [
    {
     "name": "stdout",
     "output_type": "stream",
     "text": [
      "0.8393418833570438\n"
     ]
    }
   ],
   "source": [
    "# Score AUC\n",
    "print(roc_auc_score(y_teste, previsoes_v2))"
   ]
  },
  {
   "cell_type": "code",
   "execution_count": 110,
   "metadata": {},
   "outputs": [
    {
     "data": {
      "image/png": "[encoded data removed]",
      "text/plain": [
       "<Figure size 360x360 with 1 Axes>"
      ]
     },
     "metadata": {
      "needs_background": "light"
     },
     "output_type": "display_data"
    }
   ],
   "source": [
    "# Calcula a Curva ROC para cada classe\n",
    "y_probs_v2 = modelo_v2.predict_proba(X_teste)\n",
    "skplt.metrics.plot_roc(y_teste, y_probs_v2, figsize=(5,5), plot_micro=False, plot_macro=False)\n",
    "plt.tight_layout()"
   ]
  },
  {
   "cell_type": "code",
   "execution_count": 91,
   "metadata": {},
   "outputs": [
    {
     "name": "stdout",
     "output_type": "stream",
     "text": [
      "0.679552847544476\n"
     ]
    }
   ],
   "source": [
    "# Coeficiente de Correlação Matthews\n",
    "print(matthews_corrcoef(y_teste, previsoes_v2))"
   ]
  },
  {
   "cell_type": "markdown",
   "metadata": {},
   "source": [
    "## Versão 3 - KNN"
   ]
  },
  {
   "cell_type": "markdown",
   "metadata": {},
   "source": [
    "https://scikit-learn.org/stable/modules/generated/sklearn.neighbors.KNeighborsClassifier.html"
   ]
  },
  {
   "cell_type": "markdown",
   "metadata": {},
   "source": [
    "Modelo não paramétrico"
   ]
  },
  {
   "cell_type": "code",
   "execution_count": 99,
   "metadata": {},
   "outputs": [
    {
     "data": {
      "text/plain": [
       "KNeighborsClassifier()"
      ]
     },
     "execution_count": 99,
     "metadata": {},
     "output_type": "execute_result"
    }
   ],
   "source": [
    "# Cria e treina o modelo\n",
    "modelo_v4 = KNeighborsClassifier()\n",
    "modelo_v4.fit(X_treino, y_treino)"
   ]
  },
  {
   "cell_type": "code",
   "execution_count": 100,
   "metadata": {},
   "outputs": [
    {
     "name": "stdout",
     "output_type": "stream",
     "text": [
      "[[7338 2069]\n",
      " [1692 7663]]\n"
     ]
    }
   ],
   "source": [
    "# Previsões\n",
    "previsoes_v4 = modelo_v4.predict(X_teste)\n",
    "matriz_v4 = confusion_matrix(y_teste, previsoes_v4)\n",
    "print(matriz_v4)"
   ]
  },
  {
   "cell_type": "code",
   "execution_count": 102,
   "metadata": {},
   "outputs": [
    {
     "name": "stdout",
     "output_type": "stream",
     "text": [
      "              precision    recall  f1-score   support\n",
      "\n",
      "           0       0.81      0.78      0.80      9407\n",
      "           1       0.79      0.82      0.80      9355\n",
      "\n",
      "    accuracy                           0.80     18762\n",
      "   macro avg       0.80      0.80      0.80     18762\n",
      "weighted avg       0.80      0.80      0.80     18762\n",
      "\n"
     ]
    }
   ],
   "source": [
    "# Relatório de classificação\n",
    "report = classification_report(y_teste, previsoes_v4)\n",
    "print(report)"
   ]
  },
  {
   "cell_type": "code",
   "execution_count": 104,
   "metadata": {},
   "outputs": [
    {
     "name": "stdout",
     "output_type": "stream",
     "text": [
      "0.7995957784601198\n"
     ]
    }
   ],
   "source": [
    "# Score AUC\n",
    "print(roc_auc_score(y_teste, previsoes_v4))"
   ]
  },
  {
   "cell_type": "code",
   "execution_count": 112,
   "metadata": {},
   "outputs": [
    {
     "data": {
      "image/png": "[encoded data removed]",
      "text/plain": [
       "<Figure size 360x360 with 1 Axes>"
      ]
     },
     "metadata": {
      "needs_background": "light"
     },
     "output_type": "display_data"
    }
   ],
   "source": [
    "# Calcula a Curva ROC para cada classe\n",
    "y_probs_v4 = modelo_v4.predict_proba(X_teste)\n",
    "skplt.metrics.plot_roc(y_teste, y_probs_v4, figsize=(5,5), plot_micro=False, plot_macro=False)\n",
    "plt.tight_layout()"
   ]
  },
  {
   "cell_type": "code",
   "execution_count": 106,
   "metadata": {},
   "outputs": [
    {
     "name": "stdout",
     "output_type": "stream",
     "text": [
      "0.5996091172697826\n"
     ]
    }
   ],
   "source": [
    "# Coeficiente de Correlação Matthews\n",
    "print(matthews_corrcoef(y_teste, previsoes_v4))"
   ]
  },
  {
   "cell_type": "markdown",
   "metadata": {},
   "source": [
    "## Validação Cruzada"
   ]
  },
  {
   "cell_type": "markdown",
   "metadata": {},
   "source": [
    "Informações sobre a função `cross_validate` \n",
    "\n",
    "https://scikit-learn.org/stable/modules/generated/sklearn.model_selection.cross_validate.html"
   ]
  },
  {
   "cell_type": "markdown",
   "metadata": {},
   "source": [
    "Métricas usadas na validação cruzada\n",
    "\n",
    "https://scikit-learn.org/stable/modules/model_evaluation.html#scoring-parameter"
   ]
  },
  {
   "cell_type": "code",
   "execution_count": 114,
   "metadata": {},
   "outputs": [],
   "source": [
    "# Função para imprimir o resultado da validação cruzada\n",
    "\n",
    "# Ao realizar a validação cruzada, podemos usar todos os nossos dados, tanto para treinamento quanto para teste, \n",
    "# enquanto avaliamos nosso algoritmo de aprendizado em exemplos nunca antes vistos.\n",
    "\n",
    "# Observe que estamos usando X e y\n",
    "\n",
    "# Função para validação cruzada com duas métricas\n",
    "def validacao_cruzada(modelo) :\n",
    "    cv_results = cross_validate(modelo, X, y, scoring = ['accuracy', 'roc_auc'], cv = 5)\n",
    "\n",
    "    print('\\nAcurácia em Teste:', float(format(np.mean(cv_results['test_accuracy']), '.3f')))\n",
    "    print('AUC em Teste:', float(format(np.mean(cv_results['test_roc_auc']), '.3f')))\n",
    "    print()"
   ]
  },
  {
   "cell_type": "code",
   "execution_count": 116,
   "metadata": {},
   "outputs": [
    {
     "name": "stdout",
     "output_type": "stream",
     "text": [
      "\n",
      "Modelo e Parâmetros: LogisticRegression(max_iter=4000)\n",
      "\n",
      "Acurácia em Teste: 0.767\n",
      "AUC em Teste: 0.833\n",
      "\n",
      "\n",
      "Modelo e Parâmetros: RandomForestClassifier(n_estimators=150)\n",
      "\n",
      "Acurácia em Teste: 0.821\n",
      "AUC em Teste: 0.906\n",
      "\n",
      "\n",
      "Modelo e Parâmetros: KNeighborsClassifier()\n",
      "\n",
      "Acurácia em Teste: 0.787\n",
      "AUC em Teste: 0.855\n",
      "\n",
      "CPU times: user 3min 22s, sys: 4.14 s, total: 3min 26s\n",
      "Wall time: 3min 17s\n"
     ]
    }
   ],
   "source": [
    "%%time\n",
    "modelos = [LogisticRegression(max_iter = 4000), \n",
    "           RandomForestClassifier(n_estimators = 150), \n",
    "           KNeighborsClassifier()]\n",
    "\n",
    "for modelo in modelos:\n",
    "    print(\"\\nModelo e Parâmetros:\", modelo)\n",
    "    validacao_cruzada(modelo)"
   ]
  },
  {
   "cell_type": "markdown",
   "metadata": {},
   "source": [
    "## Otimização de Hiperparâmetros"
   ]
  },
  {
   "cell_type": "markdown",
   "metadata": {},
   "source": [
    "Principais Estratégias de Otimização de Hiperparâmetros:\n",
    "\n",
    "- Pesquisa em grade [(Grid Search)](https://scikit-learn.org/stable/modules/generated/sklearn.model_selection.GridSearchCV.html)\n",
    "\n",
    "    - Menos performático, prorém, menor custo computacional\n",
    "\n",
    "- Pesquisa aleatória [(Random Search)](https://scikit-learn.org/stable/modules/generated/sklearn.model_selection.RandomizedSearchCV.html)\n",
    "\n",
    "    - Mais performático, prorém, Maior custo computacional"
   ]
  },
  {
   "cell_type": "code",
   "execution_count": 117,
   "metadata": {},
   "outputs": [],
   "source": [
    "# Imports\n",
    "import pandas as pd\n",
    "import numpy as np\n",
    "\n",
    "# Função para o Grid Search\n",
    "from sklearn.model_selection import GridSearchCV\n",
    "\n",
    "# Classe para a otimização de hiperparâmetros\n",
    "class OtimizaHiperparametros:\n",
    "\n",
    "    # Construtor da classe\n",
    "    def __init__(self, models, params):\n",
    "        \n",
    "        # Verfica se algum modelo não tem hiperparâmetros para otimização\n",
    "        if not set(models.keys()).issubset(set(params.keys())):\n",
    "            missing_params = list(set(models.keys()) - set(params.keys()))\n",
    "            raise ValueError(\"Alguns estimadores estão com parâmetros ausentes: %s\" % missing_params)\n",
    "            \n",
    "        # Inicia os atributos da classe\n",
    "        self.models = models\n",
    "        self.params = params\n",
    "        self.keys = models.keys()\n",
    "        self.grid_searches = {}\n",
    "\n",
    "    # Método para executar o Grid Search\n",
    "    def fit(self, X, y, cv = 3, n_jobs = 3, verbose = 1, scoring = None, refit = False):\n",
    "        \n",
    "        # Loop por cada modelo (chave)\n",
    "        for key in self.keys:\n",
    "            print(\"\\nExecutando GridSearchCV Para o Modelo %s:\" % key)\n",
    "            model = self.models[key]\n",
    "            params = self.params[key]\n",
    "            \n",
    "            # Cria o objeto Grid Search para cada modelo\n",
    "            gs = GridSearchCV(model, \n",
    "                              params, \n",
    "                              cv = cv, \n",
    "                              n_jobs = n_jobs, \n",
    "                              verbose = verbose, \n",
    "                              scoring = scoring, \n",
    "                              refit = refit, \n",
    "                              return_train_score = True)\n",
    "            \n",
    "            # Executa o Grid Search \n",
    "            gs.fit(X,y)\n",
    "            \n",
    "            # Salva o nome do modelo que foi processado\n",
    "            self.grid_searches[key] = gs    \n",
    "\n",
    "    # Método para calcular o score (métrica final)\n",
    "    def score_summary(self, sort_by = 'mean_score'):\n",
    "        \n",
    "        # Função para criar uma linha com cada resultado do Grid Search\n",
    "        def row(key, scores, params):\n",
    "            d = {\n",
    "                 'modelo': key,\n",
    "                 'min_score': min(scores),\n",
    "                 'max_score': max(scores),\n",
    "                 'mean_score': np.mean(scores),\n",
    "                 'std_score': np.std(scores),\n",
    "            }\n",
    "            return pd.Series({**params,**d})\n",
    "\n",
    "        rows = []\n",
    "        \n",
    "        # Para cada resultado, retorna o resultadoo formatado\n",
    "        for k in self.grid_searches:\n",
    "            print(k)\n",
    "            params = self.grid_searches[k].cv_results_['params']\n",
    "            scores = []\n",
    "            for i in range(self.grid_searches[k].cv):\n",
    "                key = \"split{}_test_score\".format(i)\n",
    "                r = self.grid_searches[k].cv_results_[key]        \n",
    "                scores.append(r.reshape(len(params),1))\n",
    "\n",
    "            # Junta tudo em uma única estrutura\n",
    "            all_scores = np.hstack(scores)\n",
    "            for p, s in zip(params,all_scores):\n",
    "                rows.append((row(k, s, p)))\n",
    "\n",
    "        df = pd.concat(rows, axis=1).T.sort_values([sort_by], ascending=False)\n",
    "\n",
    "        # Gera cada coluna\n",
    "        columns = ['modelo', 'min_score', 'mean_score', 'max_score', 'std_score']\n",
    "        columns = columns + [c for c in df.columns if c not in columns]\n",
    "\n",
    "        return df[columns]"
   ]
  },
  {
   "cell_type": "code",
   "execution_count": 118,
   "metadata": {},
   "outputs": [
    {
     "data": {
      "text/plain": [
       "{'LogisticRegression': LogisticRegression(),\n",
       " 'RandomForestClassifier': RandomForestClassifier(),\n",
       " 'KNeighborsClassifier': KNeighborsClassifier()}"
      ]
     },
     "execution_count": 118,
     "metadata": {},
     "output_type": "execute_result"
    }
   ],
   "source": [
    "# Lista dos modelos para otimização\n",
    "lista_modelos = {\n",
    "    'LogisticRegression': LogisticRegression(),\n",
    "    'RandomForestClassifier': RandomForestClassifier(),\n",
    "    'KNeighborsClassifier': KNeighborsClassifier()\n",
    "}\n",
    "\n",
    "lista_modelos"
   ]
  },
  {
   "cell_type": "code",
   "execution_count": 119,
   "metadata": {},
   "outputs": [
    {
     "data": {
      "text/plain": [
       "{'LogisticRegression': {'max_iter': [4000, 5000, 8000, 10000]},\n",
       " 'RandomForestClassifier': {'n_estimators': [175, 200, 225, 250]},\n",
       " 'KNeighborsClassifier': {'n_neighbors': [4, 5, 6, 7],\n",
       "  'metric': ['minkowski'],\n",
       "  'p': [1, 2, 3]}}"
      ]
     },
     "execution_count": 119,
     "metadata": {},
     "output_type": "execute_result"
    }
   ],
   "source": [
    "# Grid de parâmetros que serão testados\n",
    "grid_parametros = {\n",
    "    'LogisticRegression': { 'max_iter': [4000, 5000, 8000, 10000] },\n",
    "    'RandomForestClassifier': { 'n_estimators': [175, 200, 225, 250] },\n",
    "    'KNeighborsClassifier': { 'n_neighbors': [4, 5, 6, 7], 'metric': ['minkowski'], 'p': [1, 2, 3] }\n",
    "}\n",
    "\n",
    "grid_parametros"
   ]
  },
  {
   "cell_type": "code",
   "execution_count": 120,
   "metadata": {},
   "outputs": [],
   "source": [
    "# Cria o otimizador de parâmetros (instância da classe)\n",
    "otimizador_parametros = OtimizaHiperparametros(lista_modelos, grid_parametros)"
   ]
  },
  {
   "cell_type": "code",
   "execution_count": 123,
   "metadata": {},
   "outputs": [
    {
     "name": "stdout",
     "output_type": "stream",
     "text": [
      "\n",
      "Executando GridSearchCV Para o Modelo LogisticRegression:\n",
      "Fitting 3 folds for each of 4 candidates, totalling 12 fits\n"
     ]
    },
    {
     "name": "stderr",
     "output_type": "stream",
     "text": [
      "[Parallel(n_jobs=-1)]: Using backend LokyBackend with 4 concurrent workers.\n",
      "[Parallel(n_jobs=-1)]: Done  12 out of  12 | elapsed:   49.0s finished\n",
      "[Parallel(n_jobs=-1)]: Using backend LokyBackend with 4 concurrent workers.\n"
     ]
    },
    {
     "name": "stdout",
     "output_type": "stream",
     "text": [
      "\n",
      "Executando GridSearchCV Para o Modelo RandomForestClassifier:\n",
      "Fitting 3 folds for each of 4 candidates, totalling 12 fits\n"
     ]
    },
    {
     "name": "stderr",
     "output_type": "stream",
     "text": [
      "[Parallel(n_jobs=-1)]: Done  12 out of  12 | elapsed:  4.7min finished\n",
      "[Parallel(n_jobs=-1)]: Using backend LokyBackend with 4 concurrent workers.\n"
     ]
    },
    {
     "name": "stdout",
     "output_type": "stream",
     "text": [
      "\n",
      "Executando GridSearchCV Para o Modelo KNeighborsClassifier:\n",
      "Fitting 3 folds for each of 12 candidates, totalling 36 fits\n",
      "CPU times: user 519 ms, sys: 298 ms, total: 817 ms\n",
      "Wall time: 9min 15s\n"
     ]
    },
    {
     "name": "stderr",
     "output_type": "stream",
     "text": [
      "[Parallel(n_jobs=-1)]: Done  36 out of  36 | elapsed:  3.7min finished\n"
     ]
    }
   ],
   "source": [
    "%%time\n",
    "\n",
    "# Executa o otimizador\n",
    "otimizador_parametros.fit(X_treino, y_treino, scoring = 'roc_auc', n_jobs = -1)"
   ]
  },
  {
   "cell_type": "code",
   "execution_count": 124,
   "metadata": {},
   "outputs": [
    {
     "name": "stdout",
     "output_type": "stream",
     "text": [
      "LogisticRegression\n",
      "RandomForestClassifier\n",
      "KNeighborsClassifier\n"
     ]
    },
    {
     "data": {
      "text/html": [
       "<div>\n",
       "<style scoped>\n",
       "    .dataframe tbody tr th:only-of-type {\n",
       "        vertical-align: middle;\n",
       "    }\n",
       "\n",
       "    .dataframe tbody tr th {\n",
       "        vertical-align: top;\n",
       "    }\n",
       "\n",
       "    .dataframe thead th {\n",
       "        text-align: right;\n",
       "    }\n",
       "</style>\n",
       "<table border=\"1\" class=\"dataframe\">\n",
       "  <thead>\n",
       "    <tr style=\"text-align: right;\">\n",
       "      <th></th>\n",
       "      <th>modelo</th>\n",
       "      <th>min_score</th>\n",
       "      <th>mean_score</th>\n",
       "      <th>max_score</th>\n",
       "      <th>std_score</th>\n",
       "      <th>max_iter</th>\n",
       "      <th>n_estimators</th>\n",
       "      <th>metric</th>\n",
       "      <th>n_neighbors</th>\n",
       "      <th>p</th>\n",
       "    </tr>\n",
       "  </thead>\n",
       "  <tbody>\n",
       "    <tr>\n",
       "      <th>6</th>\n",
       "      <td>RandomForestClassifier</td>\n",
       "      <td>0.905177</td>\n",
       "      <td>0.906368</td>\n",
       "      <td>0.907695</td>\n",
       "      <td>0.00103241</td>\n",
       "      <td>NaN</td>\n",
       "      <td>225</td>\n",
       "      <td>NaN</td>\n",
       "      <td>NaN</td>\n",
       "      <td>NaN</td>\n",
       "    </tr>\n",
       "    <tr>\n",
       "      <th>7</th>\n",
       "      <td>RandomForestClassifier</td>\n",
       "      <td>0.90525</td>\n",
       "      <td>0.906426</td>\n",
       "      <td>0.907657</td>\n",
       "      <td>0.000983157</td>\n",
       "      <td>NaN</td>\n",
       "      <td>250</td>\n",
       "      <td>NaN</td>\n",
       "      <td>NaN</td>\n",
       "      <td>NaN</td>\n",
       "    </tr>\n",
       "    <tr>\n",
       "      <th>4</th>\n",
       "      <td>RandomForestClassifier</td>\n",
       "      <td>0.905208</td>\n",
       "      <td>0.906388</td>\n",
       "      <td>0.907625</td>\n",
       "      <td>0.000987649</td>\n",
       "      <td>NaN</td>\n",
       "      <td>175</td>\n",
       "      <td>NaN</td>\n",
       "      <td>NaN</td>\n",
       "      <td>NaN</td>\n",
       "    </tr>\n",
       "    <tr>\n",
       "      <th>5</th>\n",
       "      <td>RandomForestClassifier</td>\n",
       "      <td>0.904877</td>\n",
       "      <td>0.906259</td>\n",
       "      <td>0.907618</td>\n",
       "      <td>0.00111915</td>\n",
       "      <td>NaN</td>\n",
       "      <td>200</td>\n",
       "      <td>NaN</td>\n",
       "      <td>NaN</td>\n",
       "      <td>NaN</td>\n",
       "    </tr>\n",
       "    <tr>\n",
       "      <th>17</th>\n",
       "      <td>KNeighborsClassifier</td>\n",
       "      <td>0.861235</td>\n",
       "      <td>0.862597</td>\n",
       "      <td>0.863598</td>\n",
       "      <td>0.000997874</td>\n",
       "      <td>NaN</td>\n",
       "      <td>NaN</td>\n",
       "      <td>minkowski</td>\n",
       "      <td>7</td>\n",
       "      <td>1</td>\n",
       "    </tr>\n",
       "    <tr>\n",
       "      <th>14</th>\n",
       "      <td>KNeighborsClassifier</td>\n",
       "      <td>0.860577</td>\n",
       "      <td>0.86237</td>\n",
       "      <td>0.863489</td>\n",
       "      <td>0.00128108</td>\n",
       "      <td>NaN</td>\n",
       "      <td>NaN</td>\n",
       "      <td>minkowski</td>\n",
       "      <td>6</td>\n",
       "      <td>1</td>\n",
       "    </tr>\n",
       "    <tr>\n",
       "      <th>11</th>\n",
       "      <td>KNeighborsClassifier</td>\n",
       "      <td>0.860202</td>\n",
       "      <td>0.861615</td>\n",
       "      <td>0.862417</td>\n",
       "      <td>0.00100178</td>\n",
       "      <td>NaN</td>\n",
       "      <td>NaN</td>\n",
       "      <td>minkowski</td>\n",
       "      <td>5</td>\n",
       "      <td>1</td>\n",
       "    </tr>\n",
       "    <tr>\n",
       "      <th>8</th>\n",
       "      <td>KNeighborsClassifier</td>\n",
       "      <td>0.857954</td>\n",
       "      <td>0.859501</td>\n",
       "      <td>0.860535</td>\n",
       "      <td>0.00111451</td>\n",
       "      <td>NaN</td>\n",
       "      <td>NaN</td>\n",
       "      <td>minkowski</td>\n",
       "      <td>4</td>\n",
       "      <td>1</td>\n",
       "    </tr>\n",
       "    <tr>\n",
       "      <th>15</th>\n",
       "      <td>KNeighborsClassifier</td>\n",
       "      <td>0.856838</td>\n",
       "      <td>0.858508</td>\n",
       "      <td>0.859671</td>\n",
       "      <td>0.00121073</td>\n",
       "      <td>NaN</td>\n",
       "      <td>NaN</td>\n",
       "      <td>minkowski</td>\n",
       "      <td>6</td>\n",
       "      <td>2</td>\n",
       "    </tr>\n",
       "    <tr>\n",
       "      <th>12</th>\n",
       "      <td>KNeighborsClassifier</td>\n",
       "      <td>0.857246</td>\n",
       "      <td>0.858218</td>\n",
       "      <td>0.858809</td>\n",
       "      <td>0.000692676</td>\n",
       "      <td>NaN</td>\n",
       "      <td>NaN</td>\n",
       "      <td>minkowski</td>\n",
       "      <td>5</td>\n",
       "      <td>2</td>\n",
       "    </tr>\n",
       "    <tr>\n",
       "      <th>18</th>\n",
       "      <td>KNeighborsClassifier</td>\n",
       "      <td>0.856752</td>\n",
       "      <td>0.858042</td>\n",
       "      <td>0.85871</td>\n",
       "      <td>0.000912138</td>\n",
       "      <td>NaN</td>\n",
       "      <td>NaN</td>\n",
       "      <td>minkowski</td>\n",
       "      <td>7</td>\n",
       "      <td>2</td>\n",
       "    </tr>\n",
       "    <tr>\n",
       "      <th>16</th>\n",
       "      <td>KNeighborsClassifier</td>\n",
       "      <td>0.855838</td>\n",
       "      <td>0.857549</td>\n",
       "      <td>0.858521</td>\n",
       "      <td>0.00121378</td>\n",
       "      <td>NaN</td>\n",
       "      <td>NaN</td>\n",
       "      <td>minkowski</td>\n",
       "      <td>6</td>\n",
       "      <td>3</td>\n",
       "    </tr>\n",
       "    <tr>\n",
       "      <th>13</th>\n",
       "      <td>KNeighborsClassifier</td>\n",
       "      <td>0.856366</td>\n",
       "      <td>0.857431</td>\n",
       "      <td>0.858098</td>\n",
       "      <td>0.000761035</td>\n",
       "      <td>NaN</td>\n",
       "      <td>NaN</td>\n",
       "      <td>minkowski</td>\n",
       "      <td>5</td>\n",
       "      <td>3</td>\n",
       "    </tr>\n",
       "    <tr>\n",
       "      <th>19</th>\n",
       "      <td>KNeighborsClassifier</td>\n",
       "      <td>0.855842</td>\n",
       "      <td>0.857085</td>\n",
       "      <td>0.857761</td>\n",
       "      <td>0.000880037</td>\n",
       "      <td>NaN</td>\n",
       "      <td>NaN</td>\n",
       "      <td>minkowski</td>\n",
       "      <td>7</td>\n",
       "      <td>3</td>\n",
       "    </tr>\n",
       "    <tr>\n",
       "      <th>9</th>\n",
       "      <td>KNeighborsClassifier</td>\n",
       "      <td>0.855109</td>\n",
       "      <td>0.856418</td>\n",
       "      <td>0.857113</td>\n",
       "      <td>0.000926278</td>\n",
       "      <td>NaN</td>\n",
       "      <td>NaN</td>\n",
       "      <td>minkowski</td>\n",
       "      <td>4</td>\n",
       "      <td>2</td>\n",
       "    </tr>\n",
       "    <tr>\n",
       "      <th>10</th>\n",
       "      <td>KNeighborsClassifier</td>\n",
       "      <td>0.854336</td>\n",
       "      <td>0.855671</td>\n",
       "      <td>0.856475</td>\n",
       "      <td>0.000950405</td>\n",
       "      <td>NaN</td>\n",
       "      <td>NaN</td>\n",
       "      <td>minkowski</td>\n",
       "      <td>4</td>\n",
       "      <td>3</td>\n",
       "    </tr>\n",
       "    <tr>\n",
       "      <th>1</th>\n",
       "      <td>LogisticRegression</td>\n",
       "      <td>0.834683</td>\n",
       "      <td>0.83538</td>\n",
       "      <td>0.836743</td>\n",
       "      <td>0.000963843</td>\n",
       "      <td>5000</td>\n",
       "      <td>NaN</td>\n",
       "      <td>NaN</td>\n",
       "      <td>NaN</td>\n",
       "      <td>NaN</td>\n",
       "    </tr>\n",
       "    <tr>\n",
       "      <th>3</th>\n",
       "      <td>LogisticRegression</td>\n",
       "      <td>0.834683</td>\n",
       "      <td>0.83538</td>\n",
       "      <td>0.836743</td>\n",
       "      <td>0.000963843</td>\n",
       "      <td>10000</td>\n",
       "      <td>NaN</td>\n",
       "      <td>NaN</td>\n",
       "      <td>NaN</td>\n",
       "      <td>NaN</td>\n",
       "    </tr>\n",
       "    <tr>\n",
       "      <th>2</th>\n",
       "      <td>LogisticRegression</td>\n",
       "      <td>0.834683</td>\n",
       "      <td>0.83538</td>\n",
       "      <td>0.836743</td>\n",
       "      <td>0.000963843</td>\n",
       "      <td>8000</td>\n",
       "      <td>NaN</td>\n",
       "      <td>NaN</td>\n",
       "      <td>NaN</td>\n",
       "      <td>NaN</td>\n",
       "    </tr>\n",
       "    <tr>\n",
       "      <th>0</th>\n",
       "      <td>LogisticRegression</td>\n",
       "      <td>0.834683</td>\n",
       "      <td>0.83538</td>\n",
       "      <td>0.836743</td>\n",
       "      <td>0.000963843</td>\n",
       "      <td>4000</td>\n",
       "      <td>NaN</td>\n",
       "      <td>NaN</td>\n",
       "      <td>NaN</td>\n",
       "      <td>NaN</td>\n",
       "    </tr>\n",
       "  </tbody>\n",
       "</table>\n",
       "</div>"
      ],
      "text/plain": [
       "                    modelo min_score mean_score max_score    std_score  \\\n",
       "6   RandomForestClassifier  0.905177   0.906368  0.907695   0.00103241   \n",
       "7   RandomForestClassifier   0.90525   0.906426  0.907657  0.000983157   \n",
       "4   RandomForestClassifier  0.905208   0.906388  0.907625  0.000987649   \n",
       "5   RandomForestClassifier  0.904877   0.906259  0.907618   0.00111915   \n",
       "17    KNeighborsClassifier  0.861235   0.862597  0.863598  0.000997874   \n",
       "14    KNeighborsClassifier  0.860577    0.86237  0.863489   0.00128108   \n",
       "11    KNeighborsClassifier  0.860202   0.861615  0.862417   0.00100178   \n",
       "8     KNeighborsClassifier  0.857954   0.859501  0.860535   0.00111451   \n",
       "15    KNeighborsClassifier  0.856838   0.858508  0.859671   0.00121073   \n",
       "12    KNeighborsClassifier  0.857246   0.858218  0.858809  0.000692676   \n",
       "18    KNeighborsClassifier  0.856752   0.858042   0.85871  0.000912138   \n",
       "16    KNeighborsClassifier  0.855838   0.857549  0.858521   0.00121378   \n",
       "13    KNeighborsClassifier  0.856366   0.857431  0.858098  0.000761035   \n",
       "19    KNeighborsClassifier  0.855842   0.857085  0.857761  0.000880037   \n",
       "9     KNeighborsClassifier  0.855109   0.856418  0.857113  0.000926278   \n",
       "10    KNeighborsClassifier  0.854336   0.855671  0.856475  0.000950405   \n",
       "1       LogisticRegression  0.834683    0.83538  0.836743  0.000963843   \n",
       "3       LogisticRegression  0.834683    0.83538  0.836743  0.000963843   \n",
       "2       LogisticRegression  0.834683    0.83538  0.836743  0.000963843   \n",
       "0       LogisticRegression  0.834683    0.83538  0.836743  0.000963843   \n",
       "\n",
       "   max_iter n_estimators     metric n_neighbors    p  \n",
       "6       NaN          225        NaN         NaN  NaN  \n",
       "7       NaN          250        NaN         NaN  NaN  \n",
       "4       NaN          175        NaN         NaN  NaN  \n",
       "5       NaN          200        NaN         NaN  NaN  \n",
       "17      NaN          NaN  minkowski           7    1  \n",
       "14      NaN          NaN  minkowski           6    1  \n",
       "11      NaN          NaN  minkowski           5    1  \n",
       "8       NaN          NaN  minkowski           4    1  \n",
       "15      NaN          NaN  minkowski           6    2  \n",
       "12      NaN          NaN  minkowski           5    2  \n",
       "18      NaN          NaN  minkowski           7    2  \n",
       "16      NaN          NaN  minkowski           6    3  \n",
       "13      NaN          NaN  minkowski           5    3  \n",
       "19      NaN          NaN  minkowski           7    3  \n",
       "9       NaN          NaN  minkowski           4    2  \n",
       "10      NaN          NaN  minkowski           4    3  \n",
       "1      5000          NaN        NaN         NaN  NaN  \n",
       "3     10000          NaN        NaN         NaN  NaN  \n",
       "2      8000          NaN        NaN         NaN  NaN  \n",
       "0      4000          NaN        NaN         NaN  NaN  "
      ]
     },
     "execution_count": 124,
     "metadata": {},
     "output_type": "execute_result"
    }
   ],
   "source": [
    "# Sumário da otimização\n",
    "otimizador_parametros.score_summary(sort_by = 'max_score')"
   ]
  },
  {
   "cell_type": "markdown",
   "metadata": {},
   "source": [
    "## Comparando os Modelos"
   ]
  },
  {
   "cell_type": "code",
   "execution_count": 126,
   "metadata": {},
   "outputs": [],
   "source": [
    "# Comparando o Score AUC dos modelos\n",
    "\n",
    "# Cria lista vazia\n",
    "lista_auc = []\n",
    "\n",
    "# Calcula o Score AUC para cada modelo\n",
    "auc_modelo_v1 = roc_auc_score(y_teste, previsoes_v1)\n",
    "auc_modelo_v2 = roc_auc_score(y_teste, previsoes_v2)\n",
    "auc_modelo_v4 = roc_auc_score(y_teste, previsoes_v4)\n",
    "\n",
    "# Junta os resultados em uma lista\n",
    "lista_auc = [auc_modelo_v1, auc_modelo_v2, auc_modelo_v4]"
   ]
  },
  {
   "cell_type": "code",
   "execution_count": 127,
   "metadata": {},
   "outputs": [],
   "source": [
    "# Comparando o Coeficiente de Correlação de Matthews dos modelos\n",
    "\n",
    "# Cria lista vazia\n",
    "lista_mcorr = []\n",
    "\n",
    "# Calcula o Coeficiente para cada modelo\n",
    "mcorr_v1 = matthews_corrcoef(y_teste, previsoes_v1)\n",
    "mcorr_v2 = matthews_corrcoef(y_teste, previsoes_v2)\n",
    "mcorr_v4 = matthews_corrcoef(y_teste, previsoes_v4)\n",
    "\n",
    "# Junta os resultados em uma lista\n",
    "lista_mcorr = [mcorr_v1, mcorr_v2, mcorr_v4]"
   ]
  },
  {
   "cell_type": "code",
   "execution_count": 128,
   "metadata": {},
   "outputs": [],
   "source": [
    "# Comparando a Acurácia dos modelos\n",
    "\n",
    "# Cria lista vazia\n",
    "lista_acc = []\n",
    "\n",
    "# Calcula a Acurácia para cada modelo\n",
    "acc_modelo_v1 = accuracy_score(y_teste, previsoes_v1)\n",
    "acc_modelo_v2 = accuracy_score(y_teste, previsoes_v2)\n",
    "acc_modelo_v4 = accuracy_score(y_teste, previsoes_v4)\n",
    "\n",
    "# Junta os resultados em uma lista\n",
    "lista_acc = [acc_modelo_v1, acc_modelo_v2, acc_modelo_v4]"
   ]
  },
  {
   "cell_type": "code",
   "execution_count": 129,
   "metadata": {},
   "outputs": [],
   "source": [
    "# Concatena as 3 listas de métricas em uma única tabela\n",
    "lista_metricas = pd.DataFrame(np.column_stack([lista_auc, lista_mcorr, lista_acc]), \n",
    "                              columns = ['AUC', 'Matthews', 'Acurácia'])\n",
    "\n",
    "# Adiciona uma coluna com os nomes dos modelos\n",
    "lista_metricas['Modelo'] = ['Regressão Logística', 'RandomForest', 'KNN']"
   ]
  },
  {
   "cell_type": "code",
   "execution_count": 130,
   "metadata": {},
   "outputs": [
    {
     "data": {
      "text/html": [
       "<div>\n",
       "<style scoped>\n",
       "    .dataframe tbody tr th:only-of-type {\n",
       "        vertical-align: middle;\n",
       "    }\n",
       "\n",
       "    .dataframe tbody tr th {\n",
       "        vertical-align: top;\n",
       "    }\n",
       "\n",
       "    .dataframe thead th {\n",
       "        text-align: right;\n",
       "    }\n",
       "</style>\n",
       "<table border=\"1\" class=\"dataframe\">\n",
       "  <thead>\n",
       "    <tr style=\"text-align: right;\">\n",
       "      <th></th>\n",
       "      <th>AUC</th>\n",
       "      <th>Matthews</th>\n",
       "      <th>Acurácia</th>\n",
       "      <th>Modelo</th>\n",
       "    </tr>\n",
       "  </thead>\n",
       "  <tbody>\n",
       "    <tr>\n",
       "      <th>1</th>\n",
       "      <td>0.839342</td>\n",
       "      <td>0.679553</td>\n",
       "      <td>0.839409</td>\n",
       "      <td>RandomForest</td>\n",
       "    </tr>\n",
       "    <tr>\n",
       "      <th>2</th>\n",
       "      <td>0.799596</td>\n",
       "      <td>0.599609</td>\n",
       "      <td>0.799542</td>\n",
       "      <td>KNN</td>\n",
       "    </tr>\n",
       "    <tr>\n",
       "      <th>0</th>\n",
       "      <td>0.771197</td>\n",
       "      <td>0.545641</td>\n",
       "      <td>0.771346</td>\n",
       "      <td>Regressão Logística</td>\n",
       "    </tr>\n",
       "  </tbody>\n",
       "</table>\n",
       "</div>"
      ],
      "text/plain": [
       "        AUC  Matthews  Acurácia               Modelo\n",
       "1  0.839342  0.679553  0.839409         RandomForest\n",
       "2  0.799596  0.599609  0.799542                  KNN\n",
       "0  0.771197  0.545641  0.771346  Regressão Logística"
      ]
     },
     "execution_count": 130,
     "metadata": {},
     "output_type": "execute_result"
    }
   ],
   "source": [
    "# Lista as métricas por ordem decrescente do Score AUC\n",
    "lista_metricas.sort_values(by ='AUC', ascending = False)"
   ]
  },
  {
   "cell_type": "markdown",
   "metadata": {},
   "source": [
    "## Preparando a Versão Final do Modelo"
   ]
  },
  {
   "cell_type": "code",
   "execution_count": 131,
   "metadata": {},
   "outputs": [
    {
     "data": {
      "text/plain": [
       "RandomForestClassifier(n_estimators=200)"
      ]
     },
     "execution_count": 131,
     "metadata": {},
     "output_type": "execute_result"
    }
   ],
   "source": [
    "# Cria e treina o modelo\n",
    "modelo_final_rf = RandomForestClassifier(n_estimators = 200)\n",
    "modelo_final_rf.fit(X_treino, y_treino)"
   ]
  },
  {
   "cell_type": "code",
   "execution_count": 132,
   "metadata": {},
   "outputs": [],
   "source": [
    "# Salvando o modelo\n",
    "import pickle\n",
    "filename = 'modelos/modelo_final.sav'\n",
    "pickle.dump(modelo_final_rf, open(filename, 'wb'))"
   ]
  },
  {
   "cell_type": "code",
   "execution_count": 133,
   "metadata": {},
   "outputs": [],
   "source": [
    "# Carregando o Modelo\n",
    "classificador_pacientes = pickle.load(open(filename, 'rb'))"
   ]
  },
  {
   "cell_type": "code",
   "execution_count": 134,
   "metadata": {},
   "outputs": [
    {
     "data": {
      "text/plain": [
       "RandomForestClassifier(n_estimators=200)"
      ]
     },
     "execution_count": 134,
     "metadata": {},
     "output_type": "execute_result"
    }
   ],
   "source": [
    "classificador_pacientes"
   ]
  },
  {
   "cell_type": "markdown",
   "metadata": {},
   "source": [
    "## Deploy do Modelo"
   ]
  },
  {
   "cell_type": "code",
   "execution_count": 135,
   "metadata": {},
   "outputs": [
    {
     "data": {
      "text/html": [
       "<div>\n",
       "<style scoped>\n",
       "    .dataframe tbody tr th:only-of-type {\n",
       "        vertical-align: middle;\n",
       "    }\n",
       "\n",
       "    .dataframe tbody tr th {\n",
       "        vertical-align: top;\n",
       "    }\n",
       "\n",
       "    .dataframe thead th {\n",
       "        text-align: right;\n",
       "    }\n",
       "</style>\n",
       "<table border=\"1\" class=\"dataframe\">\n",
       "  <thead>\n",
       "    <tr style=\"text-align: right;\">\n",
       "      <th></th>\n",
       "      <th>IDADE</th>\n",
       "      <th>SEXO_F</th>\n",
       "      <th>SEXO_M</th>\n",
       "      <th>ADM_CORRENTE_DIAS</th>\n",
       "      <th>RECEB_MEDICAMENTOS</th>\n",
       "      <th>FEZ_EXAMES</th>\n",
       "      <th>DEPEND_QUIMICO</th>\n",
       "      <th>FUMANTE</th>\n",
       "      <th>ALCOOLISMO</th>\n",
       "      <th>NUM_DIAS_INT_PREVIA</th>\n",
       "      <th>ADM_PREVIA_DIAS</th>\n",
       "      <th>NUM_DIAS_LIC_MEDICA</th>\n",
       "    </tr>\n",
       "  </thead>\n",
       "  <tbody>\n",
       "    <tr>\n",
       "      <th>185661</th>\n",
       "      <td>35.005033</td>\n",
       "      <td>1</td>\n",
       "      <td>0</td>\n",
       "      <td>3</td>\n",
       "      <td>0</td>\n",
       "      <td>0</td>\n",
       "      <td>1</td>\n",
       "      <td>0</td>\n",
       "      <td>0</td>\n",
       "      <td>0</td>\n",
       "      <td>0</td>\n",
       "      <td>0</td>\n",
       "    </tr>\n",
       "    <tr>\n",
       "      <th>61358</th>\n",
       "      <td>65.000000</td>\n",
       "      <td>0</td>\n",
       "      <td>1</td>\n",
       "      <td>1</td>\n",
       "      <td>0</td>\n",
       "      <td>0</td>\n",
       "      <td>1</td>\n",
       "      <td>0</td>\n",
       "      <td>0</td>\n",
       "      <td>0</td>\n",
       "      <td>0</td>\n",
       "      <td>0</td>\n",
       "    </tr>\n",
       "    <tr>\n",
       "      <th>96109</th>\n",
       "      <td>84.000000</td>\n",
       "      <td>0</td>\n",
       "      <td>1</td>\n",
       "      <td>1</td>\n",
       "      <td>0</td>\n",
       "      <td>0</td>\n",
       "      <td>1</td>\n",
       "      <td>0</td>\n",
       "      <td>0</td>\n",
       "      <td>27</td>\n",
       "      <td>43</td>\n",
       "      <td>0</td>\n",
       "    </tr>\n",
       "    <tr>\n",
       "      <th>180479</th>\n",
       "      <td>74.779830</td>\n",
       "      <td>0</td>\n",
       "      <td>1</td>\n",
       "      <td>1</td>\n",
       "      <td>0</td>\n",
       "      <td>0</td>\n",
       "      <td>0</td>\n",
       "      <td>0</td>\n",
       "      <td>0</td>\n",
       "      <td>74</td>\n",
       "      <td>89</td>\n",
       "      <td>0</td>\n",
       "    </tr>\n",
       "    <tr>\n",
       "      <th>148933</th>\n",
       "      <td>59.128061</td>\n",
       "      <td>0</td>\n",
       "      <td>0</td>\n",
       "      <td>1</td>\n",
       "      <td>0</td>\n",
       "      <td>1</td>\n",
       "      <td>0</td>\n",
       "      <td>0</td>\n",
       "      <td>0</td>\n",
       "      <td>16</td>\n",
       "      <td>38</td>\n",
       "      <td>0</td>\n",
       "    </tr>\n",
       "  </tbody>\n",
       "</table>\n",
       "</div>"
      ],
      "text/plain": [
       "            IDADE  SEXO_F  SEXO_M  ADM_CORRENTE_DIAS  RECEB_MEDICAMENTOS  \\\n",
       "185661  35.005033       1       0                  3                   0   \n",
       "61358   65.000000       0       1                  1                   0   \n",
       "96109   84.000000       0       1                  1                   0   \n",
       "180479  74.779830       0       1                  1                   0   \n",
       "148933  59.128061       0       0                  1                   0   \n",
       "\n",
       "        FEZ_EXAMES  DEPEND_QUIMICO  FUMANTE  ALCOOLISMO  NUM_DIAS_INT_PREVIA  \\\n",
       "185661           0               1        0           0                    0   \n",
       "61358            0               1        0           0                    0   \n",
       "96109            0               1        0           0                   27   \n",
       "180479           0               0        0           0                   74   \n",
       "148933           1               0        0           0                   16   \n",
       "\n",
       "        ADM_PREVIA_DIAS  NUM_DIAS_LIC_MEDICA  \n",
       "185661                0                    0  \n",
       "61358                 0                    0  \n",
       "96109                43                    0  \n",
       "180479               89                    0  \n",
       "148933               38                    0  "
      ]
     },
     "execution_count": 135,
     "metadata": {},
     "output_type": "execute_result"
    }
   ],
   "source": [
    "# Os novos dados devem estar no mesmo formato usado nos dados de teste\n",
    "X_teste.head()"
   ]
  },
  {
   "cell_type": "code",
   "execution_count": 136,
   "metadata": {},
   "outputs": [
    {
     "data": {
      "text/plain": [
       "(18762, 12)"
      ]
     },
     "execution_count": 136,
     "metadata": {},
     "output_type": "execute_result"
    }
   ],
   "source": [
    "X_teste.shape"
   ]
  },
  {
   "cell_type": "code",
   "execution_count": 137,
   "metadata": {},
   "outputs": [
    {
     "name": "stdout",
     "output_type": "stream",
     "text": [
      "(12,)\n",
      "[54  1  0  1  0  1  0  0  0  0  0  0]\n"
     ]
    }
   ],
   "source": [
    "# Dados de um novo paciente\n",
    "novo_paciente = np.array([54,1,0,1,0,1,0,0,0,0,0,0])\n",
    "print(novo_paciente.shape)\n",
    "print(novo_paciente)"
   ]
  },
  {
   "cell_type": "code",
   "execution_count": 138,
   "metadata": {},
   "outputs": [
    {
     "name": "stdout",
     "output_type": "stream",
     "text": [
      "(1, 12)\n",
      "[[54  1  0  1  0  1  0  0  0  0  0  0]]\n"
     ]
    }
   ],
   "source": [
    "# Ajustando o shape dos dados para o modelo\n",
    "novo_paciente_reshaped = novo_paciente.reshape(1, -1)\n",
    "print(novo_paciente_reshaped.shape)\n",
    "print(novo_paciente_reshaped)"
   ]
  },
  {
   "cell_type": "code",
   "execution_count": 139,
   "metadata": {},
   "outputs": [
    {
     "name": "stdout",
     "output_type": "stream",
     "text": [
      "\n",
      "O paciente será readmitido na clínica em até 30 dias após a alta?\n",
      "\n",
      "Sim, o paciente deve ser readmitido na clínica em até 30 dias após a alta.\n"
     ]
    }
   ],
   "source": [
    "# Fazendo a previsão\n",
    "print(\"\\nO paciente será readmitido na clínica em até 30 dias após a alta?\")\n",
    "previsao = classificador_pacientes.predict(novo_paciente_reshaped)\n",
    "if previsao == 0:\n",
    "      print(\"\\nNão, o paciente não deve ser readmitido na clínica em até 30 dias após a alta.\")\n",
    "else:\n",
    "      print(\"\\nSim, o paciente deve ser readmitido na clínica em até 30 dias após a alta.\")"
   ]
  },
  {
   "cell_type": "markdown",
   "metadata": {},
   "source": [
    "---"
   ]
  }
 ],
 "metadata": {
  "kernelspec": {
   "display_name": "Python 3",
   "language": "python",
   "name": "python3"
  },
  "language_info": {
   "codemirror_mode": {
    "name": "ipython",
    "version": 3
   },
   "file_extension": ".py",
   "mimetype": "text/x-python",
   "name": "python",
   "nbconvert_exporter": "python",
   "pygments_lexer": "ipython3",
   "version": "3.7.6"
  }
 },
 "nbformat": 4,
 "nbformat_minor": 4
}
